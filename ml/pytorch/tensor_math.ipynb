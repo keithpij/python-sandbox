{
 "cells": [
  {
   "cell_type": "markdown",
   "metadata": {},
   "source": [
    "### Contents<br>\n",
    "Using Operators<br>"
   ]
  },
  {
   "cell_type": "code",
   "execution_count": null,
   "metadata": {},
   "outputs": [],
   "source": [
    "import torch"
   ]
  },
  {
   "cell_type": "markdown",
   "metadata": {},
   "source": [
    "### Using Operators"
   ]
  },
  {
   "cell_type": "code",
   "execution_count": null,
   "metadata": {},
   "outputs": [],
   "source": [
    "ones_as_int32 = torch.ones(2, 3, dtype=torch.int32)\n",
    "ones_as_float32 = torch.ones(2, 3, dtype=torch.float32)\n",
    "sum_of_tensors = ones_as_int32 + ones_as_float32\n",
    "\n",
    "print('Sum:', sum_of_tensors)\n",
    "print('Data Type:', sum_of_tensors.dtype)\n",
    "print('Shape:', sum_of_tensors.shape)"
   ]
  },
  {
   "cell_type": "code",
   "execution_count": null,
   "metadata": {},
   "outputs": [],
   "source": [
    "o1 = [127, 127]\n",
    "o2 = [1, 1]\n",
    "operand_1 = torch.tensor(o1, dtype=torch.int8)\n",
    "operand_2 = torch.tensor(o2, dtype=torch.int8)\n",
    "sum_of_tensors = operand_1 + operand_2\n",
    "\n",
    "print('Sum:', sum_of_tensors)\n",
    "print('Data Type:', sum_of_tensors.dtype)\n",
    "print('Shape:', sum_of_tensors.shape)"
   ]
  },
  {
   "cell_type": "markdown",
   "metadata": {},
   "source": [
    "### Using Functions in the Torch Module"
   ]
  },
  {
   "cell_type": "code",
   "execution_count": null,
   "metadata": {},
   "outputs": [],
   "source": [
    "ones_as_int32 = torch.ones(2, 3, dtype=torch.int32)\n",
    "ones_as_float32 = torch.ones(2, 3, dtype=torch.float32)\n",
    "product_of_tensors = torch.mul(ones_as_int32, ones_as_float32)\n",
    "\n",
    "print('Product:\\n', product_of_tensors)\n",
    "print('Data Type:', product_of_tensors.dtype)\n",
    "print('Shape:', product_of_tensors.shape)"
   ]
  },
  {
   "cell_type": "markdown",
   "metadata": {},
   "source": [
    "### Broadcasting"
   ]
  },
  {
   "cell_type": "code",
   "execution_count": null,
   "metadata": {},
   "outputs": [],
   "source": [
    "multiplier = []\n",
    "for x in range(2):\n",
    "    sample = []\n",
    "    for y in range(5):\n",
    "        row = []\n",
    "        for z in range(5):\n",
    "            row.append(100)\n",
    "        sample.append(row)\n",
    "    multiplier.append(sample)\n",
    "\n",
    "multiplier_as_tensor = torch.tensor(multiplier, dtype=torch.int8)\n",
    "\n",
    "random_tensor = torch.rand((2,5,5), dtype=torch.float16)\n",
    "final_tensor = torch.mul(random_tensor, multiplier_as_tensor)\n",
    "\n",
    "print('Final Tensor:\\n', final_tensor)\n",
    "print('Data Type:', final_tensor.dtype)\n",
    "print('Shape:', final_tensor.shape)\n"
   ]
  },
  {
   "cell_type": "code",
   "execution_count": null,
   "metadata": {},
   "outputs": [],
   "source": [
    "size = (2, 5, 5)\n",
    "\n",
    "# Option #1 using three distinct list comprehensions\n",
    "row = [100 for _ in range(size[2])]\n",
    "matrix = [row for _ in range(size[1])]\n",
    "multiplier = [matrix for _ in range(size[0])]\n",
    "\n",
    "# Option #2 using a nested list comprehension.\n",
    "multiplier = [[[100 for _ in range(size[2])] for _ in range(size[1])] for _ in range(size[0])]\n"
   ]
  },
  {
   "cell_type": "code",
   "execution_count": null,
   "metadata": {},
   "outputs": [],
   "source": [
    "random_tensor = torch.rand((2,5,5), dtype=torch.float16)\n",
    "final_tensor = torch.mul(random_tensor, 100)\n",
    "\n",
    "print('Final Tensor:\\n', final_tensor)\n",
    "print('Data Type:', final_tensor.dtype)\n",
    "print('Shape:', final_tensor.shape)\n"
   ]
  },
  {
   "cell_type": "code",
   "execution_count": null,
   "metadata": {},
   "outputs": [],
   "source": [
    "o2 = [[1, 2, 3],[1, 2, 3],[1, 2, 3]]\n",
    "operand_1 = torch.ones(2, 3, 3, dtype=torch.float16)\n",
    "operand_2 = torch.tensor(o2, dtype=torch.int32)\n",
    "sum_of_tensors = operand_1 + operand_2\n",
    "\n",
    "print('Sum:', sum_of_tensors)\n",
    "print('Data Type:', sum_of_tensors.dtype)\n",
    "print('Shape:', sum_of_tensors.shape)"
   ]
  }
 ],
 "metadata": {
  "interpreter": {
   "hash": "bb30887f202a295f03f14bdc6c33a4c2546440b9bc6792bc5945ccf510842fff"
  },
  "kernelspec": {
   "display_name": "Python 3.8.5 ('.venv': venv)",
   "language": "python",
   "name": "python3"
  },
  "language_info": {
   "codemirror_mode": {
    "name": "ipython",
    "version": 3
   },
   "file_extension": ".py",
   "mimetype": "text/x-python",
   "name": "python",
   "nbconvert_exporter": "python",
   "pygments_lexer": "ipython3",
   "version": "3.8.5"
  },
  "orig_nbformat": 4
 },
 "nbformat": 4,
 "nbformat_minor": 2
}
