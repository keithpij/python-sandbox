{
 "cells": [
  {
   "cell_type": "markdown",
   "metadata": {},
   "source": [
    "### Contents<br>\n",
    "Using Operators<br>"
   ]
  },
  {
   "cell_type": "code",
   "execution_count": null,
   "metadata": {},
   "outputs": [],
   "source": [
    "import torch"
   ]
  },
  {
   "cell_type": "markdown",
   "metadata": {},
   "source": [
    "### Using Operators"
   ]
  },
  {
   "cell_type": "code",
   "execution_count": null,
   "metadata": {},
   "outputs": [],
   "source": [
    "ones_as_int32 = torch.ones(2, 3, dtype=torch.int32)\n",
    "ones_as_float32 = torch.ones(2, 3, dtype=torch.float32)\n",
    "sum_of_tensors = ones_as_int32 + ones_as_float32\n",
    "\n",
    "print('Sum:', sum_of_tensors)\n",
    "print('Data Type:', sum_of_tensors.dtype)\n",
    "print('Shape:', sum_of_tensors.shape)"
   ]
  },
  {
   "cell_type": "code",
   "execution_count": null,
   "metadata": {},
   "outputs": [],
   "source": [
    "ones_as_float16 = torch.ones(2, 3, dtype=torch.float16)\n",
    "sum_of_tensors = ones_as_float16 + 2.\n",
    "\n",
    "print('Sum:', sum_of_tensors)\n",
    "print('Data Type:', sum_of_tensors.dtype)\n",
    "print('Shape:', sum_of_tensors.shape)"
   ]
  },
  {
   "cell_type": "markdown",
   "metadata": {},
   "source": [
    "### Using Functions in the Torch Module"
   ]
  },
  {
   "cell_type": "code",
   "execution_count": null,
   "metadata": {},
   "outputs": [],
   "source": []
  }
 ],
 "metadata": {
  "interpreter": {
   "hash": "bb30887f202a295f03f14bdc6c33a4c2546440b9bc6792bc5945ccf510842fff"
  },
  "kernelspec": {
   "display_name": "Python 3.8.5 ('.venv': venv)",
   "language": "python",
   "name": "python3"
  },
  "language_info": {
   "codemirror_mode": {
    "name": "ipython",
    "version": 3
   },
   "file_extension": ".py",
   "mimetype": "text/x-python",
   "name": "python",
   "nbconvert_exporter": "python",
   "pygments_lexer": "ipython3",
   "version": "3.8.5"
  },
  "orig_nbformat": 4
 },
 "nbformat": 4,
 "nbformat_minor": 2
}
