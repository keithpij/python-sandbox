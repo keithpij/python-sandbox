{
 "cells": [
  {
   "cell_type": "code",
   "execution_count": 2,
   "metadata": {},
   "outputs": [],
   "source": [
    "import torch"
   ]
  },
  {
   "cell_type": "code",
   "execution_count": 17,
   "metadata": {},
   "outputs": [
    {
     "name": "stdout",
     "output_type": "stream",
     "text": [
      "tensor(99.3750, dtype=torch.float16)\n"
     ]
    }
   ],
   "source": [
    "n = 99.4\n",
    "x = torch.tensor(n, dtype=torch.float16)\n",
    "print(x)"
   ]
  },
  {
   "cell_type": "code",
   "execution_count": 18,
   "metadata": {},
   "outputs": [
    {
     "name": "stdout",
     "output_type": "stream",
     "text": [
      "65504.0\n",
      "3.4028234663852886e+38\n",
      "1.7976931348623157e+308\n",
      "127\n",
      "32767\n",
      "2147483647\n",
      "9223372036854775807\n"
     ]
    }
   ],
   "source": [
    "# For floating-point types:\n",
    "print(torch.finfo(torch.float16).max)\n",
    "print(torch.finfo(torch.float32).max)\n",
    "print(torch.finfo(torch.float64).max)\n",
    "\n",
    "# For integer types:\n",
    "print(torch.iinfo(torch.int8).max)\n",
    "print(torch.iinfo(torch.int16).max)\n",
    "print(torch.iinfo(torch.int32).max)\n",
    "print(torch.iinfo(torch.int64).max)"
   ]
  },
  {
   "cell_type": "code",
   "execution_count": 4,
   "metadata": {},
   "outputs": [
    {
     "name": "stdout",
     "output_type": "stream",
     "text": [
      "float16\n",
      "-65504.0\n",
      "65504.0\n",
      "16\n",
      "0.001\n",
      "0.0009765625\n",
      "6.103515625e-05\n",
      "6.103515625e-05\n"
     ]
    }
   ],
   "source": [
    "print(torch.finfo(torch.float16).dtype)\n",
    "print(torch.finfo(torch.float16).min)\n",
    "print(torch.finfo(torch.float16).max)\n",
    "print(torch.finfo(torch.float16).bits)\n",
    "print(torch.finfo(torch.float16).resolution)\n",
    "print(torch.finfo(torch.float16).eps)\n",
    "print(torch.finfo(torch.float16).smallest_normal)\n",
    "print(torch.finfo(torch.float16).tiny)"
   ]
  },
  {
   "cell_type": "code",
   "execution_count": 3,
   "metadata": {},
   "outputs": [
    {
     "name": "stdout",
     "output_type": "stream",
     "text": [
      "0111111111111111\n",
      "32767\n",
      "0x7fff\n"
     ]
    }
   ],
   "source": [
    "binary_string = '0111111111111111'\n",
    "# Convert binary string to integer\n",
    "integer_value = int(binary_string, 2)\n",
    "# Convert integer to hexadecimal string\n",
    "hexadecimal_value = hex(integer_value)\n",
    "print(binary_string)\n",
    "print(integer_value)\n",
    "print(hexadecimal_value)  # Output: '0x2a'"
   ]
  },
  {
   "cell_type": "code",
   "execution_count": null,
   "metadata": {},
   "outputs": [
    {
     "name": "stdout",
     "output_type": "stream",
     "text": [
      "32767\n",
      "0b111111111111111\n"
     ]
    }
   ],
   "source": [
    "integer_value = int(32767)\n",
    "# Convert integer to binary string\n",
    "binary_value = bin(integer_value)\n",
    "print(integer_value)\n",
    "print(binary_value)"
   ]
  },
  {
   "cell_type": "code",
   "execution_count": 8,
   "metadata": {},
   "outputs": [
    {
     "name": "stdout",
     "output_type": "stream",
     "text": [
      "Stored bytes (little-endian): fbffffff\n",
      "Big-endian interpretation: -67108865\n",
      "Little-endian interpretation: -5\n"
     ]
    }
   ],
   "source": [
    "import torch\n",
    "import struct\n",
    "\n",
    "# Create a tensor with -5 stored as int32\n",
    "tensor = torch.tensor([-5], dtype=torch.int32)\n",
    "\n",
    "# Convert to bytes (PyTorch uses little-endian format)\n",
    "byte_data = tensor.numpy().tobytes()\n",
    "\n",
    "# Print bytes in hex format\n",
    "print(\"Stored bytes (little-endian):\", byte_data.hex())\n",
    "\n",
    "# Interpret bytes in big-endian order (incorrect order)\n",
    "big_endian_value = struct.unpack(\">i\", byte_data)[0]  # \">i\" means big-endian int32\n",
    "print(\"Big-endian interpretation:\", big_endian_value)\n",
    "\n",
    "# Interpret bytes in little-endian order (correct)\n",
    "little_endian_value = struct.unpack(\"<i\", byte_data)[0]  # \"<i\" means little-endian int32\n",
    "print(\"Little-endian interpretation:\", little_endian_value)"
   ]
  }
 ],
 "metadata": {
  "kernelspec": {
   "display_name": ".venv",
   "language": "python",
   "name": "python3"
  },
  "language_info": {
   "codemirror_mode": {
    "name": "ipython",
    "version": 3
   },
   "file_extension": ".py",
   "mimetype": "text/x-python",
   "name": "python",
   "nbconvert_exporter": "python",
   "pygments_lexer": "ipython3",
   "version": "3.11.6"
  }
 },
 "nbformat": 4,
 "nbformat_minor": 2
}
