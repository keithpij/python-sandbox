{
 "cells": [
  {
   "cell_type": "code",
   "execution_count": 1,
   "metadata": {},
   "outputs": [],
   "source": [
    "import torch"
   ]
  },
  {
   "cell_type": "code",
   "execution_count": 17,
   "metadata": {},
   "outputs": [
    {
     "name": "stdout",
     "output_type": "stream",
     "text": [
      "tensor(99.3750, dtype=torch.float16)\n"
     ]
    }
   ],
   "source": [
    "n = 99.4\n",
    "x = torch.tensor(n, dtype=torch.float16)\n",
    "print(x)"
   ]
  },
  {
   "cell_type": "code",
   "execution_count": 18,
   "metadata": {},
   "outputs": [
    {
     "name": "stdout",
     "output_type": "stream",
     "text": [
      "65504.0\n",
      "3.4028234663852886e+38\n",
      "1.7976931348623157e+308\n",
      "127\n",
      "32767\n",
      "2147483647\n",
      "9223372036854775807\n"
     ]
    }
   ],
   "source": [
    "# For floating-point types:\n",
    "print(torch.finfo(torch.float16).max)\n",
    "print(torch.finfo(torch.float32).max)\n",
    "print(torch.finfo(torch.float64).max)\n",
    "\n",
    "# For integer types:\n",
    "print(torch.iinfo(torch.int8).max)\n",
    "print(torch.iinfo(torch.int16).max)\n",
    "print(torch.iinfo(torch.int32).max)\n",
    "print(torch.iinfo(torch.int64).max)"
   ]
  },
  {
   "cell_type": "code",
   "execution_count": 24,
   "metadata": {},
   "outputs": [
    {
     "name": "stdout",
     "output_type": "stream",
     "text": [
      "float16\n",
      "-65504.0\n",
      "65504.0\n",
      "16\n",
      "0.001\n",
      "0.0009765625\n",
      "6.103515625e-05\n",
      "6.103515625e-05\n"
     ]
    }
   ],
   "source": [
    "print(torch.finfo(torch.float16).dtype)\n",
    "print(torch.finfo(torch.float16).min)\n",
    "print(torch.finfo(torch.float16).max)\n",
    "print(torch.finfo(torch.float16).bits)\n",
    "print(torch.finfo(torch.float16).resolution)\n",
    "print(torch.finfo(torch.float16).eps)\n",
    "print(torch.finfo(torch.float16).smallest_normal)\n",
    "print(torch.finfo(torch.float16).tiny)\n",
    "\n",
    "\n",
    "\n"
   ]
  }
 ],
 "metadata": {
  "kernelspec": {
   "display_name": ".venv",
   "language": "python",
   "name": "python3"
  },
  "language_info": {
   "codemirror_mode": {
    "name": "ipython",
    "version": 3
   },
   "file_extension": ".py",
   "mimetype": "text/x-python",
   "name": "python",
   "nbconvert_exporter": "python",
   "pygments_lexer": "ipython3",
   "version": "3.10.14"
  }
 },
 "nbformat": 4,
 "nbformat_minor": 2
}
