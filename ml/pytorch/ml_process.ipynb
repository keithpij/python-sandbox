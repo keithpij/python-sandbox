{
 "cells": [
  {
   "cell_type": "markdown",
   "metadata": {},
   "source": [
    "### Contents\n",
    "Introduction<br>\n",
    "The ML Process<br>\n",
    "Collect the Data<br>\n",
    "Explore the Data<br>\n",
    "Understand the Problem<br>\n",
    "Design the Model<br>\n",
    "Initialize the Parameters<br>\n",
    "Make a Prediction<br>\n",
    "Calculate the Loss<br>\n",
    "Calculate a Step<br>\n",
    "Optimize the Parameters<br>\n",
    "Putting it All Together<br>\n",
    "A Quadratic Example<br>"
   ]
  },
  {
   "cell_type": "code",
   "execution_count": 20,
   "metadata": {},
   "outputs": [],
   "source": [
    "import torch\n",
    "from torch import Tensor\n",
    "import matplotlib.pyplot as plt\n",
    "import numpy as np\n",
    "import pandas as pd"
   ]
  },
  {
   "cell_type": "markdown",
   "metadata": {},
   "source": [
    "### Introduction"
   ]
  },
  {
   "cell_type": "code",
   "execution_count": 21,
   "metadata": {},
   "outputs": [
    {
     "name": "stdout",
     "output_type": "stream",
     "text": [
      "[-10.0, -9.0, -8.0, -7.0, -6.0, -5.0, -4.0, -3.0, -2.0, -1.0, 0.0, 1.0, 2.0, 3.0, 4.0, 5.0, 6.0, 7.0, 8.0, 9.0]\n",
      "[-41.0, -36.0, -31.0, -26.0, -21.0, -16.0, -11.0, -6.0, -1.0, 4.0, 9.0, 14.0, 19.0, 24.0, 29.0, 34.0, 39.0, 44.0, 49.0, 54.0]\n"
     ]
    }
   ],
   "source": [
    "def create_linear_data(file_name: str) -> tuple[list[int], list[int]]:\n",
    "    X = [float(x) for x in range(-10, 10)]\n",
    "    y = [5*x+9 for x in X]\n",
    "    df = pd.DataFrame(list(zip(X, y)), columns= ['input', 'output'])\n",
    "    df.to_csv(file_name)\n",
    "    return X, y\n",
    "\n",
    "X, y = create_linear_data('linear_data.csv')\n",
    "print(X)\n",
    "print(y)"
   ]
  },
  {
   "cell_type": "markdown",
   "metadata": {},
   "source": [
    "### Collecting the Data"
   ]
  },
  {
   "cell_type": "code",
   "execution_count": 22,
   "metadata": {},
   "outputs": [
    {
     "name": "stdout",
     "output_type": "stream",
     "text": [
      "[-10.  -9.  -8.  -7.  -6.  -5.  -4.  -3.  -2.  -1.   0.   1.   2.   3.\n",
      "   4.   5.   6.   7.   8.   9.]\n",
      "[-41. -36. -31. -26. -21. -16. -11.  -6.  -1.   4.   9.  14.  19.  24.\n",
      "  29.  34.  39.  44.  49.  54.]\n",
      "<class 'numpy.ndarray'>\n",
      "<class 'numpy.ndarray'>\n"
     ]
    }
   ],
   "source": [
    "def load_data(file_name: str) -> tuple:\n",
    "    df = pd.read_csv(file_name)\n",
    "    X = df['input'].to_numpy()\n",
    "    y = df['output'].to_numpy()\n",
    "    return X, y\n",
    "\n",
    "X, y = load_data('linear_data.csv')\n",
    "\n",
    "print(X)\n",
    "print(y)\n",
    "print(type(X))\n",
    "print(type(y))"
   ]
  },
  {
   "cell_type": "markdown",
   "metadata": {},
   "source": [
    "### Exploring the Data"
   ]
  },
  {
   "cell_type": "code",
   "execution_count": 23,
   "metadata": {},
   "outputs": [
    {
     "data": {
      "image/png": "[encoded data removed]",
      "text/plain": [
       "<Figure size 432x288 with 1 Axes>"
      ]
     },
     "metadata": {
      "needs_background": "light"
     },
     "output_type": "display_data"
    }
   ],
   "source": [
    "def plot_data(x: np.ndarray, y1: np.ndarray, y2: np.ndarray=None) -> None:\n",
    "    ax = plt.subplots()[1]\n",
    "    ax.set_xlim(x.min()-5, x.max()+5)\n",
    "    ax.set_ylim(y.min()-5, y.max()+5)\n",
    "    plt.scatter(x, y1, color='blue')\n",
    "    if not y2 is None:\n",
    "        ax.scatter(x, y2, color='red')\n",
    "    plt.grid(True)\n",
    "    plt.axhline(color='black')\n",
    "    plt.axvline(color='black')\n",
    "\n",
    "\n",
    "plot_data(X, y)"
   ]
  },
  {
   "cell_type": "markdown",
   "metadata": {},
   "source": [
    "### Design the Model"
   ]
  },
  {
   "cell_type": "code",
   "execution_count": 24,
   "metadata": {},
   "outputs": [],
   "source": [
    "def linear_equation(x: Tensor, params: Tensor) -> Tensor:\n",
    "    m, b = params\n",
    "    return m*x + b"
   ]
  },
  {
   "cell_type": "markdown",
   "metadata": {},
   "source": [
    "The next cell is a quick test of our linear equation function."
   ]
  },
  {
   "cell_type": "code",
   "execution_count": 25,
   "metadata": {},
   "outputs": [
    {
     "name": "stdout",
     "output_type": "stream",
     "text": [
      "tensor([-41., -36., -31., -26., -21., -16., -11.,  -6.,  -1.,   4.,   9.,  14.,\n",
      "         19.,  24.,  29.,  34.,  39.,  44.,  49.,  54.], dtype=torch.float64)\n",
      "<class 'torch.Tensor'>\n"
     ]
    }
   ],
   "source": [
    "y_sample = linear_equation(torch.tensor(X), torch.tensor((5, 9)))\n",
    "\n",
    "print(y_sample)\n",
    "print(type(y_sample))"
   ]
  },
  {
   "cell_type": "markdown",
   "metadata": {},
   "source": [
    "### Initialize parameters"
   ]
  },
  {
   "cell_type": "code",
   "execution_count": 26,
   "metadata": {},
   "outputs": [
    {
     "name": "stdout",
     "output_type": "stream",
     "text": [
      "tensor([1., 1.], requires_grad=True)\n"
     ]
    }
   ],
   "source": [
    "params = torch.ones(2).requires_grad_()\n",
    "\n",
    "print(params)"
   ]
  },
  {
   "cell_type": "markdown",
   "metadata": {},
   "source": [
    "### Create Tensors"
   ]
  },
  {
   "cell_type": "code",
   "execution_count": 27,
   "metadata": {},
   "outputs": [
    {
     "name": "stdout",
     "output_type": "stream",
     "text": [
      "tensor([-10.,  -9.,  -8.,  -7.,  -6.,  -5.,  -4.,  -3.,  -2.,  -1.,   0.,   1.,\n",
      "          2.,   3.,   4.,   5.,   6.,   7.,   8.,   9.], dtype=torch.float64,\n",
      "       requires_grad=True)\n",
      "tensor([-41., -36., -31., -26., -21., -16., -11.,  -6.,  -1.,   4.,   9.,  14.,\n",
      "         19.,  24.,  29.,  34.,  39.,  44.,  49.,  54.], dtype=torch.float64)\n"
     ]
    }
   ],
   "source": [
    "#X_train = torch.tensor(X, dtype=torch.float64, requires_grad=True)\n",
    "X_train = torch.from_numpy(X)\n",
    "X_train.requires_grad_(True)\n",
    "#y_train = torch.tensor(y, dtype=torch.float64)\n",
    "y_train = torch.from_numpy(y)\n",
    "\n",
    "print(X_train)\n",
    "print(y_train)"
   ]
  },
  {
   "cell_type": "markdown",
   "metadata": {},
   "source": [
    "### Making a Prediction"
   ]
  },
  {
   "cell_type": "code",
   "execution_count": 28,
   "metadata": {},
   "outputs": [
    {
     "data": {
      "text/plain": [
       "tensor([-9., -8., -7., -6., -5., -4., -3., -2., -1.,  0.,  1.,  2.,  3.,  4.,\n",
       "         5.,  6.,  7.,  8.,  9., 10.], dtype=torch.float64,\n",
       "       grad_fn=<AddBackward0>)"
      ]
     },
     "execution_count": 28,
     "metadata": {},
     "output_type": "execute_result"
    }
   ],
   "source": [
    "predictions = linear_equation(X_train, params)\n",
    "\n",
    "predictions"
   ]
  },
  {
   "cell_type": "markdown",
   "metadata": {},
   "source": [
    "### Calculate the Loss"
   ]
  },
  {
   "cell_type": "code",
   "execution_count": 29,
   "metadata": {},
   "outputs": [
    {
     "data": {
      "text/plain": [
       "tensor(23.8328, dtype=torch.float64, grad_fn=<SqrtBackward0>)"
      ]
     },
     "execution_count": 29,
     "metadata": {},
     "output_type": "execute_result"
    }
   ],
   "source": [
    "\n",
    "def mse(predictions: Tensor, labels: Tensor) -> Tensor:\n",
    "    return ((predictions-labels)**2).mean().sqrt()\n",
    "\n",
    "loss = mse(predictions, y_train)\n",
    "loss"
   ]
  },
  {
   "cell_type": "markdown",
   "metadata": {},
   "source": [
    "### Explore the loss function"
   ]
  },
  {
   "cell_type": "code",
   "execution_count": 32,
   "metadata": {},
   "outputs": [
    {
     "ename": "AttributeError",
     "evalue": "'list' object has no attribute 'to_numpy'",
     "output_type": "error",
     "traceback": [
      "\u001b[0;31m---------------------------------------------------------------------------\u001b[0m",
      "\u001b[0;31mAttributeError\u001b[0m                            Traceback (most recent call last)",
      "\u001b[1;32m/Users/keithpij/code/python-sandbox/ml/pytorch/ml_process.ipynb Cell 22'\u001b[0m in \u001b[0;36m<cell line: 1>\u001b[0;34m()\u001b[0m\n\u001b[0;32m----> <a href='vscode-notebook-cell:/Users/keithpij/code/python-sandbox/ml/pytorch/ml_process.ipynb#ch0000027?line=0'>1</a>\u001b[0m x \u001b[39m=\u001b[39m [x \u001b[39mfor\u001b[39;49;00m x \u001b[39min\u001b[39;49;00m \u001b[39mrange\u001b[39;49m(\u001b[39m-\u001b[39;49m\u001b[39m10\u001b[39;49m, \u001b[39m10\u001b[39;49m)]\u001b[39m.\u001b[39;49mto_numpy()\n\u001b[1;32m      <a href='vscode-notebook-cell:/Users/keithpij/code/python-sandbox/ml/pytorch/ml_process.ipynb#ch0000027?line=1'>2</a>\u001b[0m \u001b[39m#losses = [mse(torch.tensor(x, dtype=torch.float64), torch.tensor(0, dtype=torch.float64)) for x in range(-10, 10)]\u001b[39;00m\n\u001b[1;32m      <a href='vscode-notebook-cell:/Users/keithpij/code/python-sandbox/ml/pytorch/ml_process.ipynb#ch0000027?line=2'>3</a>\u001b[0m losses \u001b[39m=\u001b[39m mse(torch\u001b[39m.\u001b[39mfrom_numpy(np\u001b[39m.\u001b[39marray(x)), \u001b[39m0\u001b[39m)\n",
      "\u001b[0;31mAttributeError\u001b[0m: 'list' object has no attribute 'to_numpy'"
     ]
    }
   ],
   "source": [
    "x = [x for x in range(-10, 10)].to_numpy()\n",
    "#losses = [mse(torch.tensor(x, dtype=torch.float64), torch.tensor(0, dtype=torch.float64)) for x in range(-10, 10)]\n",
    "losses = mse(torch.from_numpy(np.array(x)), 0)\n",
    "\n",
    "plot_data(x, losses)"
   ]
  },
  {
   "cell_type": "markdown",
   "metadata": {},
   "source": [
    "### Calculate a Step"
   ]
  },
  {
   "cell_type": "code",
   "execution_count": null,
   "metadata": {},
   "outputs": [],
   "source": [
    "loss.backward()\n",
    "step = lr * params.grad.data\n",
    "\n",
    "step"
   ]
  },
  {
   "cell_type": "markdown",
   "metadata": {},
   "source": [
    "### Optimize the Parameters"
   ]
  },
  {
   "cell_type": "code",
   "execution_count": null,
   "metadata": {},
   "outputs": [],
   "source": [
    "params.data -= step\n",
    "params.grad = None\n",
    "\n",
    "params"
   ]
  },
  {
   "cell_type": "markdown",
   "metadata": {},
   "source": [
    "### Putting it all together"
   ]
  },
  {
   "cell_type": "code",
   "execution_count": null,
   "metadata": {},
   "outputs": [],
   "source": [
    "# Load the Data.\n",
    "X, y = load_data('linear_data.csv')\n",
    "\n",
    "# Create Tensors - X requires gradients\n",
    "X_train = torch.from_numpy(X)\n",
    "X_train.requires_grad_(True)\n",
    "y_train = torch.from_numpy(y)\n",
    "\n",
    "# Initialize parameters\n",
    "params = torch.ones(2).requires_grad_()\n",
    "\n",
    "# Epoch and Learning rate\n",
    "epochs = 200\n",
    "lr = 1e-1\n",
    "\n",
    "print(X_train)\n",
    "print(y_train)"
   ]
  },
  {
   "cell_type": "code",
   "execution_count": null,
   "metadata": {},
   "outputs": [],
   "source": [
    "def train(epochs: int, X_train: Tensor, y_train: Tensor, verbose: bool) -> tuple:\n",
    "    # Initialize parameters.\n",
    "    params = torch.ones(2).requires_grad_()\n",
    "\n",
    "    # Training loop\n",
    "    for epoch in range(epochs):\n",
    "        predictions = linear_equation(X_train, params)\n",
    "        loss = mse(predictions, y_train)\n",
    "        loss.backward()\n",
    "        step = lr * params.grad.data\n",
    "        params.data -= step\n",
    "        if verbose:\n",
    "            print(f'Epoch: {epoch+1}  Loss: {loss.item()} Grad: {params.grad.data} Step: {step} Parameters: {params.data}.')\n",
    "\n",
    "        params.grad = None\n",
    "\n",
    "    return predictions, loss, params\n",
    "\n",
    "\n",
    "predictions, loss, params = train(epochs, X_train, y_train, False)\n",
    "print(f'Loss: {loss.item()} Parameters: {params.data}')\n",
    "\n",
    "plot_data(X_train.detach().numpy(), y_train.detach().numpy(), predictions.detach().numpy())"
   ]
  },
  {
   "cell_type": "markdown",
   "metadata": {},
   "source": [
    "### A Quadratic Example"
   ]
  },
  {
   "cell_type": "code",
   "execution_count": null,
   "metadata": {},
   "outputs": [],
   "source": [
    "def create_quadratic_data(file_name: str) -> tuple[list[int], list[int]]:\n",
    "    X = [float(x) for x in range(-10, 11)]\n",
    "    y = [5*(x**2)+(2*x)+3 for x in X]\n",
    "    df = pd.DataFrame(list(zip(X, y)), columns= ['input', 'output'])\n",
    "    df.to_csv(file_name)\n",
    "    return X, y\n",
    "\n",
    "X, y = create_quadratic_data('quadratic_data.csv')\n",
    "print(X)\n",
    "print(y)"
   ]
  },
  {
   "cell_type": "code",
   "execution_count": null,
   "metadata": {},
   "outputs": [],
   "source": [
    "X, y = load_data('quadratic_data.csv')\n",
    "\n",
    "print(X)\n",
    "print(y)\n",
    "print(type(X))\n",
    "print(type(y))"
   ]
  },
  {
   "cell_type": "code",
   "execution_count": null,
   "metadata": {},
   "outputs": [],
   "source": [
    "plot_data(X, y)"
   ]
  },
  {
   "cell_type": "code",
   "execution_count": null,
   "metadata": {},
   "outputs": [],
   "source": [
    "def quadratic_equation(x: Tensor, abc: tuple[int]) -> Tensor:\n",
    "    a, b, c = abc\n",
    "    y = a*(x**2) + (b*x) + c\n",
    "    return y\n",
    "\n",
    "y = quadratic_equation(X, (5, 2, 3))\n",
    "\n",
    "y"
   ]
  },
  {
   "cell_type": "code",
   "execution_count": null,
   "metadata": {},
   "outputs": [],
   "source": [
    "X_train = torch.from_numpy(X)\n",
    "X_train.requires_grad_(True)\n",
    "y_train = torch.from_numpy(y)\n",
    "epochs = 200\n",
    "lr = 1e-1\n",
    "\n",
    "print(X_train)\n",
    "print(y_train)"
   ]
  },
  {
   "cell_type": "code",
   "execution_count": null,
   "metadata": {},
   "outputs": [],
   "source": [
    "def train(epochs: int, X_train: Tensor, y_train: Tensor, verbose: bool) -> tuple:\n",
    "    # Initialize parameters.\n",
    "    params = torch.ones(3).requires_grad_()\n",
    "\n",
    "    # Training Loop\n",
    "    for epoch in range(epochs):\n",
    "        predictions = quadratic_equation(X_train, params)\n",
    "        loss = mse(predictions, y_train)\n",
    "        loss.backward()\n",
    "        step = lr * params.grad.data\n",
    "        params.data -= step\n",
    "        if verbose:\n",
    "            print(f'Epoch: {epoch+1}  Loss: {loss.item()} Grad: {params.grad.data} Step: {step} Parameters: {params.data}.')\n",
    "\n",
    "        params.grad = None\n",
    "\n",
    "    return predictions, loss, params\n",
    "\n",
    "\n",
    "predictions, loss, params = train(epochs, X_train, y_train, False)\n",
    "print(f'Loss: {loss.item()} Parameters: {params.data}')\n",
    "\n",
    "plot_data(X_train.detach().numpy(), y_train.detach().numpy(), predictions.detach().numpy())"
   ]
  }
 ],
 "metadata": {
  "kernelspec": {
   "display_name": "Python 3.10.0 ('.venv': venv)",
   "language": "python",
   "name": "python3"
  },
  "language_info": {
   "codemirror_mode": {
    "name": "ipython",
    "version": 3
   },
   "file_extension": ".py",
   "mimetype": "text/x-python",
   "name": "python",
   "nbconvert_exporter": "python",
   "pygments_lexer": "ipython3",
   "version": "3.10.0"
  },
  "orig_nbformat": 4,
  "vscode": {
   "interpreter": {
    "hash": "bb30887f202a295f03f14bdc6c33a4c2546440b9bc6792bc5945ccf510842fff"
   }
  }
 },
 "nbformat": 4,
 "nbformat_minor": 2
}
