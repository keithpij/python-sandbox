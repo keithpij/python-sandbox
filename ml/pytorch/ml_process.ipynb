{
 "cells": [
  {
   "cell_type": "markdown",
   "metadata": {},
   "source": [
    "### Contents\n",
    "Introduction<br>\n",
    "The ML Process<br>\n",
    "Collect the Data<br>\n",
    "Explore the Data<br>\n",
    "Understand the Problem<br>\n",
    "Design the Model<br>\n",
    "Initialize the Parameters<br>\n",
    "Make a Prediction<br>\n",
    "Calculate the Loss<br>\n",
    "Calculate a Step<br>\n",
    "Optimize the Parameters<br>\n",
    "Putting it All Together<br>\n",
    "A Quadratic Example<br>"
   ]
  },
  {
   "cell_type": "code",
   "execution_count": 95,
   "metadata": {},
   "outputs": [],
   "source": [
    "import torch\n",
    "from torch import Tensor\n",
    "import matplotlib.pyplot as plt\n",
    "import numpy as np\n",
    "import pandas as pd"
   ]
  },
  {
   "cell_type": "markdown",
   "metadata": {},
   "source": [
    "### Introduction"
   ]
  },
  {
   "cell_type": "code",
   "execution_count": 96,
   "metadata": {},
   "outputs": [
    {
     "name": "stdout",
     "output_type": "stream",
     "text": [
      "[-10.0, -9.0, -8.0, -7.0, -6.0, -5.0, -4.0, -3.0, -2.0, -1.0, 0.0, 1.0, 2.0, 3.0, 4.0, 5.0, 6.0, 7.0, 8.0, 9.0]\n",
      "[-41.0, -36.0, -31.0, -26.0, -21.0, -16.0, -11.0, -6.0, -1.0, 4.0, 9.0, 14.0, 19.0, 24.0, 29.0, 34.0, 39.0, 44.0, 49.0, 54.0]\n"
     ]
    }
   ],
   "source": [
    "X = [float(x) for x in range(-10, 10)]\n",
    "y = [5*x+9 for x in X]\n",
    "df = pd.DataFrame(list(zip(X, y)), columns= ['input', 'output'])\n",
    "df.to_csv('data.csv')\n",
    "\n",
    "print(X)\n",
    "print(y)"
   ]
  },
  {
   "cell_type": "markdown",
   "metadata": {},
   "source": [
    "### Collecting the Data"
   ]
  },
  {
   "cell_type": "code",
   "execution_count": 97,
   "metadata": {},
   "outputs": [
    {
     "name": "stdout",
     "output_type": "stream",
     "text": [
      "[-10.  -9.  -8.  -7.  -6.  -5.  -4.  -3.  -2.  -1.   0.   1.   2.   3.\n",
      "   4.   5.   6.   7.   8.   9.]\n",
      "[-41. -36. -31. -26. -21. -16. -11.  -6.  -1.   4.   9.  14.  19.  24.\n",
      "  29.  34.  39.  44.  49.  54.]\n",
      "<class 'numpy.ndarray'>\n",
      "<class 'numpy.ndarray'>\n"
     ]
    }
   ],
   "source": [
    "def load_data():\n",
    "    df = pd.read_csv('data.csv')\n",
    "    X = df['input'].to_numpy()\n",
    "    y = df['output'].to_numpy()\n",
    "    return X, y\n",
    "\n",
    "X, y = load_data()\n",
    "\n",
    "print(X)\n",
    "print(y)\n",
    "print(type(X))\n",
    "print(type(y))"
   ]
  },
  {
   "cell_type": "markdown",
   "metadata": {},
   "source": [
    "### Exploring the Data"
   ]
  },
  {
   "cell_type": "code",
   "execution_count": 98,
   "metadata": {},
   "outputs": [
    {
     "data": {
      "image/png": "[encoded data removed]",
      "text/plain": [
       "<Figure size 432x288 with 1 Axes>"
      ]
     },
     "metadata": {
      "needs_background": "light"
     },
     "output_type": "display_data"
    }
   ],
   "source": [
    "def plot_features_labels(x: np.ndarray, y: np.ndarray, predictions: np.ndarray=None):\n",
    "    ax = plt.subplots()[1]\n",
    "    ax.set_ylim(-60, 60)\n",
    "    ax.set_xlim(-15, 15)\n",
    "    plt.scatter(x, y, color='blue')\n",
    "    if not predictions is None:\n",
    "        ax.scatter(x, predictions, color='red')\n",
    "    plt.grid(True)\n",
    "    plt.axhline(color='black')\n",
    "    plt.axvline(color='black')\n",
    "\n",
    "\n",
    "plot_features_labels(X, y)"
   ]
  },
  {
   "cell_type": "markdown",
   "metadata": {},
   "source": [
    "### Design the Model"
   ]
  },
  {
   "cell_type": "code",
   "execution_count": 99,
   "metadata": {},
   "outputs": [],
   "source": [
    "def linear_equation(x: Tensor, params: Tensor):\n",
    "    m, b = params\n",
    "    return m*x + b"
   ]
  },
  {
   "cell_type": "markdown",
   "metadata": {},
   "source": [
    "The next cell is a quick test of our linear equation function."
   ]
  },
  {
   "cell_type": "code",
   "execution_count": 100,
   "metadata": {},
   "outputs": [
    {
     "name": "stdout",
     "output_type": "stream",
     "text": [
      "tensor([-41., -36., -31., -26., -21., -16., -11.,  -6.,  -1.,   4.,   9.,  14.,\n",
      "         19.,  24.,  29.,  34.,  39.,  44.,  49.,  54.], dtype=torch.float64)\n",
      "<class 'torch.Tensor'>\n"
     ]
    }
   ],
   "source": [
    "y = linear_equation(torch.tensor(X), torch.tensor((5, 9)))\n",
    "\n",
    "print(y)\n",
    "print(type(y))"
   ]
  },
  {
   "cell_type": "markdown",
   "metadata": {},
   "source": [
    "### Initialize parameters"
   ]
  },
  {
   "cell_type": "code",
   "execution_count": 101,
   "metadata": {},
   "outputs": [
    {
     "name": "stdout",
     "output_type": "stream",
     "text": [
      "tensor([1., 1.], requires_grad=True)\n"
     ]
    },
    {
     "name": "stderr",
     "output_type": "stream",
     "text": [
      "/var/folders/s8/g3m9yhtj5j59fb7hg06hd6p80000gn/T/ipykernel_1947/4069347813.py:2: UserWarning: To copy construct from a tensor, it is recommended to use sourceTensor.clone().detach() or sourceTensor.clone().detach().requires_grad_(True), rather than torch.tensor(sourceTensor).\n",
      "  y_train = torch.tensor(y, dtype=torch.float64)\n"
     ]
    }
   ],
   "source": [
    "X_train = torch.tensor(X, dtype=torch.float64, requires_grad=True)\n",
    "y_train = torch.tensor(y, dtype=torch.float64)\n",
    "params = torch.ones(2).requires_grad_()\n",
    "epochs = 200\n",
    "lr = 1e-1\n",
    "\n",
    "print(params)"
   ]
  },
  {
   "cell_type": "markdown",
   "metadata": {},
   "source": [
    "### Making a Prediction"
   ]
  },
  {
   "cell_type": "code",
   "execution_count": 102,
   "metadata": {},
   "outputs": [],
   "source": [
    "predictions = linear_equation(X_train, params)"
   ]
  },
  {
   "cell_type": "markdown",
   "metadata": {},
   "source": [
    "### Calculate the Loss"
   ]
  },
  {
   "cell_type": "code",
   "execution_count": 103,
   "metadata": {},
   "outputs": [
    {
     "data": {
      "text/plain": [
       "tensor(23.8328, dtype=torch.float64, grad_fn=<SqrtBackward0>)"
      ]
     },
     "execution_count": 103,
     "metadata": {},
     "output_type": "execute_result"
    }
   ],
   "source": [
    "\n",
    "def mse(predictions: Tensor, labels: Tensor) -> Tensor:\n",
    "    return ((predictions-labels)**2).mean().sqrt()\n",
    "\n",
    "loss = mse(predictions, y_train)\n",
    "loss"
   ]
  },
  {
   "cell_type": "code",
   "execution_count": 111,
   "metadata": {},
   "outputs": [
    {
     "data": {
      "image/png": "[encoded data removed]",
      "text/plain": [
       "<Figure size 432x288 with 1 Axes>"
      ]
     },
     "metadata": {
      "needs_background": "light"
     },
     "output_type": "display_data"
    }
   ],
   "source": [
    "losses = [mse(torch.tensor(x, dtype=torch.float64), torch.tensor(0, dtype=torch.float64)) for x in range(-10, 10)]\n",
    "x = [x for x in range(-10, 10)]\n",
    "\n",
    "plot_features_labels(x, losses)"
   ]
  },
  {
   "cell_type": "markdown",
   "metadata": {},
   "source": [
    "### Calculate a Step"
   ]
  },
  {
   "cell_type": "code",
   "execution_count": 104,
   "metadata": {},
   "outputs": [
    {
     "data": {
      "text/plain": [
       "tensor([-0.5455, -0.0252])"
      ]
     },
     "execution_count": 104,
     "metadata": {},
     "output_type": "execute_result"
    }
   ],
   "source": [
    "loss.backward()\n",
    "step = lr * params.grad.data\n",
    "step"
   ]
  },
  {
   "cell_type": "markdown",
   "metadata": {},
   "source": [
    "### Optimize the Parameters"
   ]
  },
  {
   "cell_type": "code",
   "execution_count": 105,
   "metadata": {},
   "outputs": [
    {
     "data": {
      "text/plain": [
       "tensor([1.5455, 1.0252], requires_grad=True)"
      ]
     },
     "execution_count": 105,
     "metadata": {},
     "output_type": "execute_result"
    }
   ],
   "source": [
    "params.data -= step\n",
    "params.grad = None\n",
    "params"
   ]
  },
  {
   "cell_type": "markdown",
   "metadata": {},
   "source": [
    "### Putting it all together"
   ]
  },
  {
   "cell_type": "code",
   "execution_count": 106,
   "metadata": {},
   "outputs": [
    {
     "name": "stdout",
     "output_type": "stream",
     "text": [
      "Loss: 1.3104173252788445 Parameters: tensor([5.3524, 8.9945])\n"
     ]
    },
    {
     "data": {
      "image/png": "[encoded data removed]",
      "text/plain": [
       "<Figure size 432x288 with 1 Axes>"
      ]
     },
     "metadata": {
      "needs_background": "light"
     },
     "output_type": "display_data"
    }
   ],
   "source": [
    "def train(epochs: int, verbose: bool) -> Tensor:\n",
    "    for epoch in range(epochs):\n",
    "        predictions = linear_equation(X_train, params)\n",
    "        loss = mse(predictions, y_train)\n",
    "        loss.backward()\n",
    "        step = lr * params.grad.data\n",
    "        params.data -= step\n",
    "        if verbose:\n",
    "            print(f'Epoch: {epoch+1}  Loss: {loss.item()} Grad: {params.grad.data} Step: {step} Parameters: {params.data}.')\n",
    "\n",
    "        params.grad = None\n",
    "\n",
    "    return predictions, loss, params\n",
    "\n",
    "\n",
    "predictions, loss, params = train(epochs, False)\n",
    "print(f'Loss: {loss.item()} Parameters: {params.data}')\n",
    "\n",
    "plot_features_labels(X_train.detach().numpy(), y_train, predictions.detach().numpy())"
   ]
  },
  {
   "cell_type": "markdown",
   "metadata": {},
   "source": [
    "### A Quadratic Example"
   ]
  },
  {
   "cell_type": "code",
   "execution_count": 107,
   "metadata": {},
   "outputs": [
    {
     "data": {
      "text/plain": [
       "array([-510., -459., -406., -351., -294., -235., -174., -111.,  -46.,\n",
       "         21.,   90.,  161.,  234.,  309.,  386.,  465.,  546.,  629.,\n",
       "        714.,  801.])"
      ]
     },
     "execution_count": 107,
     "metadata": {},
     "output_type": "execute_result"
    }
   ],
   "source": [
    "def quadratic_equation(x: Tensor, abc: tuple[int]):\n",
    "    a = abc[0]\n",
    "    b = abc[1]\n",
    "    c = abc[2]\n",
    "    y = a*(x**2) + (b*x) + c\n",
    "    return y\n",
    "\n",
    "y = quadratic_equation(X, (1, 70, 90))\n",
    "\n",
    "y"
   ]
  },
  {
   "cell_type": "code",
   "execution_count": 108,
   "metadata": {},
   "outputs": [
    {
     "ename": "IndexError",
     "evalue": "index 2 is out of bounds for dimension 0 with size 2",
     "output_type": "error",
     "traceback": [
      "\u001b[0;31m---------------------------------------------------------------------------\u001b[0m",
      "\u001b[0;31mIndexError\u001b[0m                                Traceback (most recent call last)",
      "\u001b[1;32m/Users/keithpij/code/python-sandbox/ml/pytorch/ml_process.ipynb Cell 27'\u001b[0m in \u001b[0;36m<cell line: 14>\u001b[0;34m()\u001b[0m\n\u001b[1;32m     <a href='vscode-notebook-cell:/Users/keithpij/code/python-sandbox/ml/pytorch/ml_process.ipynb#ch0000026?line=9'>10</a>\u001b[0m             \u001b[39mprint\u001b[39m(\u001b[39mf\u001b[39m\u001b[39m'\u001b[39m\u001b[39mEpoch: \u001b[39m\u001b[39m{\u001b[39;00mepoch\u001b[39m+\u001b[39m\u001b[39m1\u001b[39m\u001b[39m}\u001b[39;00m\u001b[39m  Loss: \u001b[39m\u001b[39m{\u001b[39;00mloss\u001b[39m.\u001b[39mitem()\u001b[39m}\u001b[39;00m\u001b[39m Step: \u001b[39m\u001b[39m{\u001b[39;00mstep\u001b[39m}\u001b[39;00m\u001b[39m Parameters: \u001b[39m\u001b[39m{\u001b[39;00mparams\u001b[39m.\u001b[39mitem()\u001b[39m}\u001b[39;00m\u001b[39m.\u001b[39m\u001b[39m'\u001b[39m)\n\u001b[1;32m     <a href='vscode-notebook-cell:/Users/keithpij/code/python-sandbox/ml/pytorch/ml_process.ipynb#ch0000026?line=10'>11</a>\u001b[0m     \u001b[39mreturn\u001b[39;00m predictions, loss, params\n\u001b[0;32m---> <a href='vscode-notebook-cell:/Users/keithpij/code/python-sandbox/ml/pytorch/ml_process.ipynb#ch0000026?line=13'>14</a>\u001b[0m predictions, loss, params \u001b[39m=\u001b[39m train(epochs, \u001b[39mFalse\u001b[39;49;00m)\n\u001b[1;32m     <a href='vscode-notebook-cell:/Users/keithpij/code/python-sandbox/ml/pytorch/ml_process.ipynb#ch0000026?line=14'>15</a>\u001b[0m \u001b[39mprint\u001b[39m(\u001b[39mf\u001b[39m\u001b[39m'\u001b[39m\u001b[39mLoss: \u001b[39m\u001b[39m{\u001b[39;00mloss\u001b[39m.\u001b[39mitem()\u001b[39m}\u001b[39;00m\u001b[39m Parameters: \u001b[39m\u001b[39m{\u001b[39;00mparams\u001b[39m.\u001b[39mdata\u001b[39m}\u001b[39;00m\u001b[39m'\u001b[39m)\n\u001b[1;32m     <a href='vscode-notebook-cell:/Users/keithpij/code/python-sandbox/ml/pytorch/ml_process.ipynb#ch0000026?line=16'>17</a>\u001b[0m plot_features_labels_preds(X, y, predictions\u001b[39m.\u001b[39mdetach()\u001b[39m.\u001b[39mnumpy())\n",
      "\u001b[1;32m/Users/keithpij/code/python-sandbox/ml/pytorch/ml_process.ipynb Cell 27'\u001b[0m in \u001b[0;36mtrain\u001b[0;34m(epochs, verbose)\u001b[0m\n\u001b[1;32m      <a href='vscode-notebook-cell:/Users/keithpij/code/python-sandbox/ml/pytorch/ml_process.ipynb#ch0000026?line=0'>1</a>\u001b[0m \u001b[39mdef\u001b[39;00m \u001b[39mtrain\u001b[39m(epochs: \u001b[39mint\u001b[39m, verbose: \u001b[39mbool\u001b[39m) \u001b[39m-\u001b[39m\u001b[39m>\u001b[39m Tensor:\n\u001b[1;32m      <a href='vscode-notebook-cell:/Users/keithpij/code/python-sandbox/ml/pytorch/ml_process.ipynb#ch0000026?line=1'>2</a>\u001b[0m     \u001b[39mfor\u001b[39;00m epoch \u001b[39min\u001b[39;00m \u001b[39mrange\u001b[39m(epochs):\n\u001b[0;32m----> <a href='vscode-notebook-cell:/Users/keithpij/code/python-sandbox/ml/pytorch/ml_process.ipynb#ch0000026?line=2'>3</a>\u001b[0m         predictions \u001b[39m=\u001b[39m quadratic_equation(X, params)\n\u001b[1;32m      <a href='vscode-notebook-cell:/Users/keithpij/code/python-sandbox/ml/pytorch/ml_process.ipynb#ch0000026?line=3'>4</a>\u001b[0m         loss \u001b[39m=\u001b[39m mse(predictions, y)\n\u001b[1;32m      <a href='vscode-notebook-cell:/Users/keithpij/code/python-sandbox/ml/pytorch/ml_process.ipynb#ch0000026?line=4'>5</a>\u001b[0m         loss\u001b[39m.\u001b[39mbackward()\n",
      "\u001b[1;32m/Users/keithpij/code/python-sandbox/ml/pytorch/ml_process.ipynb Cell 26'\u001b[0m in \u001b[0;36mquadratic_equation\u001b[0;34m(x, abc)\u001b[0m\n\u001b[1;32m      <a href='vscode-notebook-cell:/Users/keithpij/code/python-sandbox/ml/pytorch/ml_process.ipynb#ch0000025?line=1'>2</a>\u001b[0m a \u001b[39m=\u001b[39m abc[\u001b[39m0\u001b[39m]\n\u001b[1;32m      <a href='vscode-notebook-cell:/Users/keithpij/code/python-sandbox/ml/pytorch/ml_process.ipynb#ch0000025?line=2'>3</a>\u001b[0m b \u001b[39m=\u001b[39m abc[\u001b[39m1\u001b[39m]\n\u001b[0;32m----> <a href='vscode-notebook-cell:/Users/keithpij/code/python-sandbox/ml/pytorch/ml_process.ipynb#ch0000025?line=3'>4</a>\u001b[0m c \u001b[39m=\u001b[39m abc[\u001b[39m2\u001b[39;49m]\n\u001b[1;32m      <a href='vscode-notebook-cell:/Users/keithpij/code/python-sandbox/ml/pytorch/ml_process.ipynb#ch0000025?line=4'>5</a>\u001b[0m y \u001b[39m=\u001b[39m a\u001b[39m*\u001b[39m(x\u001b[39m*\u001b[39m\u001b[39m*\u001b[39m\u001b[39m2\u001b[39m) \u001b[39m+\u001b[39m (b\u001b[39m*\u001b[39mx) \u001b[39m+\u001b[39m c\n\u001b[1;32m      <a href='vscode-notebook-cell:/Users/keithpij/code/python-sandbox/ml/pytorch/ml_process.ipynb#ch0000025?line=5'>6</a>\u001b[0m \u001b[39mreturn\u001b[39;00m y\n",
      "\u001b[0;31mIndexError\u001b[0m: index 2 is out of bounds for dimension 0 with size 2"
     ]
    }
   ],
   "source": [
    "def train(epochs: int, verbose: bool) -> Tensor:\n",
    "    for epoch in range(epochs):\n",
    "        predictions = quadratic_equation(X, params)\n",
    "        loss = mse(predictions, y)\n",
    "        loss.backward()\n",
    "        step = lr * params.grad.data\n",
    "        params.data -= step\n",
    "        params.grad = None\n",
    "        if verbose:\n",
    "            print(f'Epoch: {epoch+1}  Loss: {loss.item()} Step: {step} Parameters: {params.item()}.')\n",
    "    return predictions, loss, params\n",
    "\n",
    "\n",
    "predictions, loss, params = train(epochs, False)\n",
    "print(f'Loss: {loss.item()} Parameters: {params.data}')\n",
    "\n",
    "plot_features_labels_preds(X, y, predictions.detach().numpy())"
   ]
  }
 ],
 "metadata": {
  "kernelspec": {
   "display_name": "Python 3.10.0 ('.venv': venv)",
   "language": "python",
   "name": "python3"
  },
  "language_info": {
   "codemirror_mode": {
    "name": "ipython",
    "version": 3
   },
   "file_extension": ".py",
   "mimetype": "text/x-python",
   "name": "python",
   "nbconvert_exporter": "python",
   "pygments_lexer": "ipython3",
   "version": "3.10.0"
  },
  "orig_nbformat": 4,
  "vscode": {
   "interpreter": {
    "hash": "bb30887f202a295f03f14bdc6c33a4c2546440b9bc6792bc5945ccf510842fff"
   }
  }
 },
 "nbformat": 4,
 "nbformat_minor": 2
}
