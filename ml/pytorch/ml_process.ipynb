{
 "cells": [
  {
   "cell_type": "markdown",
   "metadata": {},
   "source": [
    "### Contents\n",
    "Introduction<br>\n",
    "The ML Process<br>\n",
    "Prepare for Training<br>\n",
    "&emsp;Collect the Data<br>\n",
    "&emsp;Explore the Data<br>\n",
    "&emsp;Understand the Problem<br>\n",
    "&emsp;Design the Model<br>\n",
    "Training the Model<br>\n",
    "&emsp;Initialize the Parameters<br>\n",
    "&emsp;Make a Prediction<br>\n",
    "&emsp;Calculate the Loss<br>\n",
    "&emsp;Calculate a Step<br>\n",
    "&emsp;Optimize the Parameters<br>\n",
    "Putting it All Together<br>\n",
    "A Quadratic Example<br>"
   ]
  },
  {
   "cell_type": "code",
   "execution_count": 181,
   "metadata": {},
   "outputs": [],
   "source": [
    "import torch\n",
    "from torch import Tensor\n",
    "import matplotlib.pyplot as plt\n",
    "import numpy as np\n",
    "import pandas as pd"
   ]
  },
  {
   "cell_type": "markdown",
   "metadata": {},
   "source": [
    "### Introduction"
   ]
  },
  {
   "cell_type": "code",
   "execution_count": 182,
   "metadata": {},
   "outputs": [
    {
     "name": "stdout",
     "output_type": "stream",
     "text": [
      "[-10.  -9.  -8.  -7.  -6.  -5.  -4.  -3.  -2.  -1.   0.   1.   2.   3.\n",
      "   4.   5.   6.   7.   8.   9.]\n",
      "[-41. -36. -31. -26. -21. -16. -11.  -6.  -1.   4.   9.  14.  19.  24.\n",
      "  29.  34.  39.  44.  49.  54.]\n"
     ]
    }
   ],
   "source": [
    "def create_linear_data(file_name: str) -> tuple[list[int], list[int]]:\n",
    "    X = [float(x) for x in range(-10, 10)]\n",
    "    y = [5*x+9 for x in X]\n",
    "    df = pd.DataFrame(list(zip(X, y)), columns= ['input', 'output'])\n",
    "    df.to_csv(file_name)\n",
    "    return np.array(X), np.array(y)\n",
    "\n",
    "X, y = create_linear_data('linear_data.csv')\n",
    "print(X)\n",
    "print(y)"
   ]
  },
  {
   "cell_type": "markdown",
   "metadata": {},
   "source": [
    "### Collecting the Data"
   ]
  },
  {
   "cell_type": "code",
   "execution_count": 183,
   "metadata": {},
   "outputs": [
    {
     "name": "stdout",
     "output_type": "stream",
     "text": [
      "X Dimenstions: 1\n",
      "X Shape: (20,)\n",
      "[-10.  -9.  -8.  -7.  -6.  -5.  -4.  -3.  -2.  -1.   0.   1.   2.   3.\n",
      "   4.   5.   6.   7.   8.   9.]\n",
      "y Dimenstions: 1\n",
      "y Shape: (20,)\n",
      "[-41. -36. -31. -26. -21. -16. -11.  -6.  -1.   4.   9.  14.  19.  24.\n",
      "  29.  34.  39.  44.  49.  54.]\n"
     ]
    }
   ],
   "source": [
    "def load_data(file_name: str) -> tuple:\n",
    "    df = pd.read_csv(file_name)\n",
    "    X = df['input'].to_numpy()\n",
    "    y = df['output'].to_numpy()\n",
    "    return X, y\n",
    "\n",
    "X, y = load_data('linear_data.csv')\n",
    "\n",
    "print('X Dimenstions:',X.ndim)\n",
    "print('X Shape:', X.shape)\n",
    "print(X)\n",
    "\n",
    "print('y Dimenstions:',y.ndim)\n",
    "print('y Shape:', y.shape)\n",
    "print(y)"
   ]
  },
  {
   "cell_type": "markdown",
   "metadata": {},
   "source": [
    "### Exploring the Data"
   ]
  },
  {
   "cell_type": "code",
   "execution_count": 184,
   "metadata": {},
   "outputs": [
    {
     "data": {
      "image/png": "[encoded data removed]",
      "text/plain": [
       "<Figure size 432x288 with 1 Axes>"
      ]
     },
     "metadata": {
      "needs_background": "light"
     },
     "output_type": "display_data"
    }
   ],
   "source": [
    "def plot_data(x: np.ndarray, y1: np.ndarray, y2: np.ndarray=None) -> None:\n",
    "    ax = plt.subplots()[1]\n",
    "    ax.set_xlim(x.min()-5, x.max()+5)\n",
    "    ax.set_ylim(y1.min()-5, y1.max()+5)\n",
    "    plt.scatter(x, y1, color='blue')\n",
    "    if not y2 is None:\n",
    "        ax.scatter(x, y2, color='red')\n",
    "    plt.grid(True)\n",
    "    plt.axhline(color='black')\n",
    "    plt.axvline(color='black')\n",
    "\n",
    "plot_data(X, y)"
   ]
  },
  {
   "cell_type": "markdown",
   "metadata": {},
   "source": [
    "### Design the Model"
   ]
  },
  {
   "cell_type": "code",
   "execution_count": 185,
   "metadata": {},
   "outputs": [],
   "source": [
    "def linear_equation(x: Tensor, params: Tensor) -> Tensor:\n",
    "    m, b = params\n",
    "    return m*x + b"
   ]
  },
  {
   "cell_type": "markdown",
   "metadata": {},
   "source": [
    "The next cell is a quick test of our linear equation function."
   ]
  },
  {
   "cell_type": "code",
   "execution_count": 186,
   "metadata": {},
   "outputs": [
    {
     "name": "stdout",
     "output_type": "stream",
     "text": [
      "y_sample Dimenstions: 1\n",
      "y_sample Shape: (20,)\n",
      "tensor([-41., -36., -31., -26., -21., -16., -11.,  -6.,  -1.,   4.,   9.,  14.,\n",
      "         19.,  24.,  29.,  34.,  39.,  44.,  49.,  54.], dtype=torch.float64)\n"
     ]
    }
   ],
   "source": [
    "y_sample = linear_equation(torch.tensor(X), torch.tensor((5, 9)))\n",
    "\n",
    "print('y_sample Dimenstions:',y.ndim)\n",
    "print('y_sample Shape:', y.shape)\n",
    "print(y_sample)\n"
   ]
  },
  {
   "cell_type": "markdown",
   "metadata": {},
   "source": [
    "### Initialize parameters"
   ]
  },
  {
   "cell_type": "code",
   "execution_count": 187,
   "metadata": {},
   "outputs": [
    {
     "name": "stdout",
     "output_type": "stream",
     "text": [
      "params Dimenstions: 1\n",
      "params Shape: torch.Size([2])\n",
      "tensor([1., 1.], requires_grad=True)\n"
     ]
    }
   ],
   "source": [
    "params = torch.ones(2).requires_grad_()\n",
    "\n",
    "print('params Dimenstions:',params.ndim)\n",
    "print('params Shape:', params.shape)\n",
    "print(params)\n"
   ]
  },
  {
   "cell_type": "markdown",
   "metadata": {},
   "source": [
    "### Create Tensors"
   ]
  },
  {
   "cell_type": "code",
   "execution_count": 188,
   "metadata": {},
   "outputs": [
    {
     "name": "stdout",
     "output_type": "stream",
     "text": [
      "X_train Dimensions: 1\n",
      "X_train Shape: torch.Size([20])\n",
      "tensor([-10.,  -9.,  -8.,  -7.,  -6.,  -5.,  -4.,  -3.,  -2.,  -1.,   0.,   1.,\n",
      "          2.,   3.,   4.,   5.,   6.,   7.,   8.,   9.], dtype=torch.float64)\n",
      "\n",
      "y_train Dimensions: 1\n",
      "y_train Shape: torch.Size([20])\n",
      "tensor([-41., -36., -31., -26., -21., -16., -11.,  -6.,  -1.,   4.,   9.,  14.,\n",
      "         19.,  24.,  29.,  34.,  39.,  44.,  49.,  54.], dtype=torch.float64)\n"
     ]
    }
   ],
   "source": [
    "X_train = torch.from_numpy(X)\n",
    "y_train = torch.from_numpy(y)\n",
    "\n",
    "# If you try to use the tensor function in the torch module you will get a UserWarning\n",
    "# because Pytorch wants you to use from_numpy for efficiency.\n",
    "#X_train = torch.tensor(X, dtype=torch.float64, requires_grad=True)\n",
    "#y_train = torch.tensor(y, dtype=torch.float64)\n",
    "\n",
    "print('X_train Dimensions:', X_train.ndim)\n",
    "print('X_train Shape:', X_train.shape)\n",
    "print(X_train)\n",
    "\n",
    "print('\\ny_train Dimensions:', y_train.ndim)\n",
    "print('y_train Shape:', y_train.shape)\n",
    "print(y_train)"
   ]
  },
  {
   "cell_type": "markdown",
   "metadata": {},
   "source": [
    "### Making a Prediction"
   ]
  },
  {
   "cell_type": "code",
   "execution_count": 189,
   "metadata": {},
   "outputs": [
    {
     "name": "stdout",
     "output_type": "stream",
     "text": [
      "predictions Dimensions: 1\n",
      "predictions Shape: torch.Size([20])\n",
      "tensor([-9., -8., -7., -6., -5., -4., -3., -2., -1.,  0.,  1.,  2.,  3.,  4.,\n",
      "         5.,  6.,  7.,  8.,  9., 10.], dtype=torch.float64,\n",
      "       grad_fn=<AddBackward0>)\n"
     ]
    },
    {
     "data": {
      "image/png": "[encoded data removed]",
      "text/plain": [
       "<Figure size 432x288 with 1 Axes>"
      ]
     },
     "metadata": {
      "needs_background": "light"
     },
     "output_type": "display_data"
    }
   ],
   "source": [
    "predictions = linear_equation(X_train, params)\n",
    "\n",
    "print('predictions Dimensions:', predictions.ndim)\n",
    "print('predictions Shape:', predictions.shape)\n",
    "print(predictions)\n",
    "\n",
    "plot_data(X_train.numpy(), y_train.numpy(), predictions.detach().numpy())"
   ]
  },
  {
   "cell_type": "markdown",
   "metadata": {},
   "source": [
    "### Calculate the Loss"
   ]
  },
  {
   "cell_type": "code",
   "execution_count": 190,
   "metadata": {},
   "outputs": [
    {
     "name": "stdout",
     "output_type": "stream",
     "text": [
      "loss Dimensions: 0\n",
      "loss Shape: torch.Size([])\n",
      "tensor(23.8328, dtype=torch.float64, grad_fn=<SqrtBackward0>)\n"
     ]
    }
   ],
   "source": [
    "\n",
    "def mse(predictions: Tensor, labels: Tensor) -> Tensor:\n",
    "    return ((predictions-labels)**2).mean().sqrt()\n",
    "\n",
    "loss = mse(predictions, y_train)\n",
    "\n",
    "print('loss Dimensions:', loss.ndim)\n",
    "print('loss Shape:', loss.shape)\n",
    "print(loss)"
   ]
  },
  {
   "cell_type": "markdown",
   "metadata": {},
   "source": [
    "### Exploring the loss function"
   ]
  },
  {
   "cell_type": "code",
   "execution_count": 191,
   "metadata": {},
   "outputs": [
    {
     "data": {
      "image/png": "[encoded data removed]",
      "text/plain": [
       "<Figure size 432x288 with 1 Axes>"
      ]
     },
     "metadata": {
      "needs_background": "light"
     },
     "output_type": "display_data"
    }
   ],
   "source": [
    "x = np.array([x for x in range(-10, 11)])\n",
    "losses = [mse(torch.tensor(x, dtype=torch.float64), torch.tensor(0, dtype=torch.float64)) for x in range(-10, 11)]\n",
    "\n",
    "# This will not work because at least one of the values needs to be a tensor so that the mean method of \n",
    "# the tensor object can be found within the mse function.\n",
    "#losses = [mse(x, 0) for x in range(-10, 11)]\n",
    "\n",
    "# We cannot do this because we want a loss for every value in x. \n",
    "# We do not want a single scalar value.\n",
    "#losses = mse(torch.from_numpy(x), torch.zeros(21))\n",
    "\n",
    "plot_data(np.array(x), np.array(losses))"
   ]
  },
  {
   "cell_type": "code",
   "execution_count": 192,
   "metadata": {},
   "outputs": [
    {
     "data": {
      "text/plain": [
       "array([-41., -36., -31., -26., -21., -16., -11.,  -6.,  -1.,   4.,   9.,\n",
       "        14.,  19.,  24.,  29.,  34.,  39.,  44.,  49.,  54.])"
      ]
     },
     "execution_count": 192,
     "metadata": {},
     "output_type": "execute_result"
    }
   ],
   "source": [
    "y"
   ]
  },
  {
   "cell_type": "markdown",
   "metadata": {},
   "source": [
    "### Calculate a Step"
   ]
  },
  {
   "cell_type": "code",
   "execution_count": 193,
   "metadata": {},
   "outputs": [
    {
     "name": "stdout",
     "output_type": "stream",
     "text": [
      "Gradient Dimenstions: 1\n",
      "Gradient Shape: torch.Size([2])\n",
      "tensor([-5.4547, -0.2518])\n",
      "\n",
      "Step Dimenstions: 1\n",
      "Step Shape: torch.Size([2])\n",
      "tensor([-0.5455, -0.0252])\n"
     ]
    }
   ],
   "source": [
    "loss.backward()\n",
    "lr = 1e-1   # This is 0.1\n",
    "step = lr * params.grad.data\n",
    "\n",
    "print('Gradient Dimensions:', params.grad.ndim)\n",
    "print('Gradient Shape:', params.grad.shape)\n",
    "print(params.grad)\n",
    "\n",
    "print('\\nStep Dimensions:', step.ndim)\n",
    "print('Step Shape:', step.shape)\n",
    "print(step)"
   ]
  },
  {
   "cell_type": "markdown",
   "metadata": {},
   "source": [
    "### Optimize the Parameters"
   ]
  },
  {
   "cell_type": "code",
   "execution_count": 194,
   "metadata": {},
   "outputs": [
    {
     "name": "stdout",
     "output_type": "stream",
     "text": [
      "params Dimenstions: 1\n",
      "params Shape: torch.Size([2])\n",
      "tensor([1.5455, 1.0252], requires_grad=True)\n"
     ]
    }
   ],
   "source": [
    "params.data -= step\n",
    "params.grad = None\n",
    "\n",
    "print('params Dimensions:', params.ndim)\n",
    "print('params Shape:', params.shape)\n",
    "print(params)"
   ]
  },
  {
   "cell_type": "markdown",
   "metadata": {},
   "source": [
    "### Putting it all together"
   ]
  },
  {
   "cell_type": "code",
   "execution_count": 195,
   "metadata": {},
   "outputs": [
    {
     "name": "stdout",
     "output_type": "stream",
     "text": [
      "tensor([-10.,  -9.,  -8.,  -7.,  -6.,  -5.,  -4.,  -3.,  -2.,  -1.,   0.,   1.,\n",
      "          2.,   3.,   4.,   5.,   6.,   7.,   8.,   9.], dtype=torch.float64)\n",
      "tensor([-41., -36., -31., -26., -21., -16., -11.,  -6.,  -1.,   4.,   9.,  14.,\n",
      "         19.,  24.,  29.,  34.,  39.,  44.,  49.,  54.], dtype=torch.float64)\n"
     ]
    }
   ],
   "source": [
    "# Load the Data.\n",
    "X, y = load_data('linear_data.csv')\n",
    "\n",
    "# Create Tensors - X requires gradients\n",
    "X_train = torch.from_numpy(X)\n",
    "y_train = torch.from_numpy(y)\n",
    "\n",
    "# Initialize parameters\n",
    "params = torch.ones(2).requires_grad_()\n",
    "\n",
    "# Epoch and Learning rate\n",
    "epochs = 5\n",
    "lr = 1e-1\n",
    "\n",
    "print(X_train)\n",
    "print(y_train)"
   ]
  },
  {
   "cell_type": "code",
   "execution_count": 196,
   "metadata": {},
   "outputs": [
    {
     "name": "stdout",
     "output_type": "stream",
     "text": [
      "Epoch: 1  Loss: 23.83275057562597 Grad: tensor([-5.4547, -0.2518]) Step: tensor([-0.5455, -0.0252]) Parameters: tensor([1.5455, 1.0252]).\n",
      "Epoch: 2  Loss: 20.87655581171541 Grad: tensor([-5.3524, -0.2993]) Step: tensor([-0.5352, -0.0299]) Parameters: tensor([2.0807, 1.0551]).\n",
      "Epoch: 3  Loss: 18.039514929090718 Grad: tensor([-5.2010, -0.3595]) Step: tensor([-0.5201, -0.0360]) Parameters: tensor([2.6008, 1.0911]).\n",
      "Epoch: 4  Loss: 15.375512192975222 Grad: tensor([-4.9701, -0.4364]) Step: tensor([-0.4970, -0.0436]) Parameters: tensor([3.0978, 1.1347]).\n",
      "Epoch: 5  Loss: 12.965887597591209 Grad: tensor([-4.6114, -0.5333]) Step: tensor([-0.4611, -0.0533]) Parameters: tensor([3.5590, 1.1880]).\n",
      "Loss: 12.965887597591209 Parameters: tensor([3.5590, 1.1880])\n"
     ]
    },
    {
     "data": {
      "image/png": "[encoded data removed]",
      "text/plain": [
       "<Figure size 432x288 with 1 Axes>"
      ]
     },
     "metadata": {
      "needs_background": "light"
     },
     "output_type": "display_data"
    }
   ],
   "source": [
    "def train(epochs: int, X_train: Tensor, y_train: Tensor, verbose: bool) -> tuple:\n",
    "    # Initialize parameters.\n",
    "    params = torch.ones(2).requires_grad_()\n",
    "\n",
    "    # Training loop\n",
    "    for epoch in range(epochs):\n",
    "        predictions = linear_equation(X_train, params)\n",
    "        loss = mse(predictions, y_train)\n",
    "        loss.backward()\n",
    "        step = lr * params.grad.data\n",
    "        params.data -= step\n",
    "        if verbose:\n",
    "            print(f'Epoch: {epoch+1}  Loss: {loss.item()} Grad: {params.grad.data} Step: {step} Parameters: {params.data}.')\n",
    "\n",
    "        params.grad = None\n",
    "\n",
    "    return predictions, loss, params\n",
    "\n",
    "\n",
    "predictions, loss, params = train(epochs, X_train, y_train, True)\n",
    "print(f'Loss: {loss.item()} Parameters: {params.data}')\n",
    "\n",
    "plot_data(X_train.numpy(), y_train.numpy(), predictions.detach().numpy())"
   ]
  },
  {
   "cell_type": "markdown",
   "metadata": {},
   "source": [
    "### A Quadratic Example"
   ]
  },
  {
   "cell_type": "code",
   "execution_count": 197,
   "metadata": {},
   "outputs": [
    {
     "name": "stdout",
     "output_type": "stream",
     "text": [
      "[-10.0, -9.0, -8.0, -7.0, -6.0, -5.0, -4.0, -3.0, -2.0, -1.0, 0.0, 1.0, 2.0, 3.0, 4.0, 5.0, 6.0, 7.0, 8.0, 9.0, 10.0]\n",
      "[483.0, 390.0, 307.0, 234.0, 171.0, 118.0, 75.0, 42.0, 19.0, 6.0, 3.0, 10.0, 27.0, 54.0, 91.0, 138.0, 195.0, 262.0, 339.0, 426.0, 523.0]\n"
     ]
    }
   ],
   "source": [
    "def create_quadratic_data(file_name: str) -> tuple[list[int], list[int]]:\n",
    "    X = [float(x) for x in range(-10, 11)]\n",
    "    y = [5*(x**2)+(2*x)+3 for x in X]\n",
    "    df = pd.DataFrame(list(zip(X, y)), columns= ['input', 'output'])\n",
    "    df.to_csv(file_name)\n",
    "    return X, y\n",
    "\n",
    "X, y = create_quadratic_data('quadratic_data.csv')\n",
    "print(X)\n",
    "print(y)"
   ]
  },
  {
   "cell_type": "code",
   "execution_count": 198,
   "metadata": {},
   "outputs": [
    {
     "name": "stdout",
     "output_type": "stream",
     "text": [
      "[-10.  -9.  -8.  -7.  -6.  -5.  -4.  -3.  -2.  -1.   0.   1.   2.   3.\n",
      "   4.   5.   6.   7.   8.   9.  10.]\n",
      "[483. 390. 307. 234. 171. 118.  75.  42.  19.   6.   3.  10.  27.  54.\n",
      "  91. 138. 195. 262. 339. 426. 523.]\n",
      "<class 'numpy.ndarray'>\n",
      "<class 'numpy.ndarray'>\n"
     ]
    }
   ],
   "source": [
    "X, y = load_data('quadratic_data.csv')\n",
    "\n",
    "print(X)\n",
    "print(y)\n",
    "print(type(X))\n",
    "print(type(y))"
   ]
  },
  {
   "cell_type": "code",
   "execution_count": 199,
   "metadata": {},
   "outputs": [
    {
     "data": {
      "image/png": "[encoded data removed]",
      "text/plain": [
       "<Figure size 432x288 with 1 Axes>"
      ]
     },
     "metadata": {
      "needs_background": "light"
     },
     "output_type": "display_data"
    }
   ],
   "source": [
    "plot_data(X, y)"
   ]
  },
  {
   "cell_type": "code",
   "execution_count": 200,
   "metadata": {},
   "outputs": [
    {
     "data": {
      "text/plain": [
       "array([483., 390., 307., 234., 171., 118.,  75.,  42.,  19.,   6.,   3.,\n",
       "        10.,  27.,  54.,  91., 138., 195., 262., 339., 426., 523.])"
      ]
     },
     "execution_count": 200,
     "metadata": {},
     "output_type": "execute_result"
    }
   ],
   "source": [
    "def quadratic_equation(x: Tensor, abc: tuple[int]) -> Tensor:\n",
    "    a, b, c = abc\n",
    "    y = a*(x**2) + (b*x) + c\n",
    "    return y\n",
    "\n",
    "y = quadratic_equation(X, (5, 2, 3))\n",
    "\n",
    "y"
   ]
  },
  {
   "cell_type": "code",
   "execution_count": 201,
   "metadata": {},
   "outputs": [
    {
     "name": "stdout",
     "output_type": "stream",
     "text": [
      "tensor([-10.,  -9.,  -8.,  -7.,  -6.,  -5.,  -4.,  -3.,  -2.,  -1.,   0.,   1.,\n",
      "          2.,   3.,   4.,   5.,   6.,   7.,   8.,   9.,  10.],\n",
      "       dtype=torch.float64, requires_grad=True)\n",
      "tensor([483., 390., 307., 234., 171., 118.,  75.,  42.,  19.,   6.,   3.,  10.,\n",
      "         27.,  54.,  91., 138., 195., 262., 339., 426., 523.],\n",
      "       dtype=torch.float64)\n"
     ]
    }
   ],
   "source": [
    "X_train = torch.from_numpy(X)\n",
    "X_train.requires_grad_(True)\n",
    "y_train = torch.from_numpy(y)\n",
    "epochs = 200\n",
    "lr = 1e-1\n",
    "\n",
    "print(X_train)\n",
    "print(y_train)"
   ]
  },
  {
   "cell_type": "code",
   "execution_count": 202,
   "metadata": {},
   "outputs": [
    {
     "name": "stdout",
     "output_type": "stream",
     "text": [
      "Loss: 58.38729323288551 Parameters: tensor([1.3038, 1.9999, 1.1959])\n"
     ]
    },
    {
     "data": {
      "image/png": "[encoded data removed]",
      "text/plain": [
       "<Figure size 432x288 with 1 Axes>"
      ]
     },
     "metadata": {
      "needs_background": "light"
     },
     "output_type": "display_data"
    }
   ],
   "source": [
    "def train(epochs: int, X_train: Tensor, y_train: Tensor, verbose: bool) -> tuple:\n",
    "    # Initialize parameters.\n",
    "    params = torch.ones(3).requires_grad_()\n",
    "\n",
    "    # Training Loop\n",
    "    for epoch in range(epochs):\n",
    "        predictions = quadratic_equation(X_train, params)\n",
    "        loss = mse(predictions, y_train)\n",
    "        loss.backward()\n",
    "        step = lr * params.grad.data\n",
    "        params.data -= step\n",
    "        if verbose:\n",
    "            print(f'Epoch: {epoch+1}  Loss: {loss.item()} Grad: {params.grad.data} Step: {step} Parameters: {params.data}.')\n",
    "\n",
    "        params.grad = None\n",
    "\n",
    "    return predictions, loss, params\n",
    "\n",
    "\n",
    "predictions, loss, params = train(epochs, X_train, y_train, False)\n",
    "print(f'Loss: {loss.item()} Parameters: {params.data}')\n",
    "\n",
    "plot_data(X_train.detach().numpy(), y_train.detach().numpy(), predictions.detach().numpy())"
   ]
  }
 ],
 "metadata": {
  "kernelspec": {
   "display_name": "Python 3.10.0 ('.venv': venv)",
   "language": "python",
   "name": "python3"
  },
  "language_info": {
   "codemirror_mode": {
    "name": "ipython",
    "version": 3
   },
   "file_extension": ".py",
   "mimetype": "text/x-python",
   "name": "python",
   "nbconvert_exporter": "python",
   "pygments_lexer": "ipython3",
   "version": "3.10.0 (default, Jun  8 2022, 08:49:18) [Clang 10.0.1 (clang-1001.0.46.4)]"
  },
  "orig_nbformat": 4,
  "vscode": {
   "interpreter": {
    "hash": "bb30887f202a295f03f14bdc6c33a4c2546440b9bc6792bc5945ccf510842fff"
   }
  }
 },
 "nbformat": 4,
 "nbformat_minor": 2
}
