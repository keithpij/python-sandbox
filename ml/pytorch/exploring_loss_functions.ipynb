{
 "cells": [
  {
   "cell_type": "markdown",
   "metadata": {},
   "source": [
    "### Contents\n",
    "Introduction<br>\n",
    "Visualizing Loss Functions<br>\n",
    "The Guessing Game<br>"
   ]
  },
  {
   "cell_type": "code",
   "execution_count": 8,
   "metadata": {},
   "outputs": [],
   "source": [
    "import torch\n",
    "from torch import Tensor\n",
    "import matplotlib.pyplot as plt\n",
    "import numpy as np\n",
    "import pandas as pd"
   ]
  },
  {
   "cell_type": "markdown",
   "metadata": {},
   "source": [
    "### Introduction"
   ]
  },
  {
   "cell_type": "code",
   "execution_count": 9,
   "metadata": {},
   "outputs": [],
   "source": [
    "def plot_data(x: np.ndarray, y1: np.ndarray, y2: np.ndarray=None) -> None:\n",
    "    ax = plt.subplots()[1]\n",
    "    ax.set_xlim(x.min()-5, x.max()+5)\n",
    "    ax.set_ylim(y1.min()-5, y1.max()+5)\n",
    "    plt.scatter(x, y1, color='blue')\n",
    "    if not y2 is None:\n",
    "        ax.scatter(x, y2, color='red')\n",
    "    plt.grid(True)\n",
    "    plt.axhline(color='black')\n",
    "    plt.axvline(color='black')"
   ]
  },
  {
   "cell_type": "code",
   "execution_count": 16,
   "metadata": {},
   "outputs": [
    {
     "name": "stdout",
     "output_type": "stream",
     "text": [
      "loss Dimensions: 0\n",
      "loss Shape: torch.Size([])\n",
      "tensor(39.6400, dtype=torch.float64, grad_fn=<SqrtBackward0>)\n",
      "\n",
      "Gradient Dimenstions: 1\n",
      "Gradient Shape: torch.Size([3])\n",
      "tensor([ 0.4036, -0.2270, -0.3448], dtype=torch.float64)\n",
      "\n",
      "Step Dimenstions: 1\n",
      "Step Shape: torch.Size([3])\n",
      "tensor([ 0.0404, -0.0227, -0.0345], dtype=torch.float64)\n"
     ]
    }
   ],
   "source": [
    "def mse(guess: Tensor, answer: Tensor) -> Tensor:\n",
    "    return ((guess-answer)**2).mean().sqrt()\n",
    "\n",
    "guess = torch.tensor([50, 50, 50], dtype=torch.float64)\n",
    "guess.requires_grad_()\n",
    "answer = torch.tensor([2, 77, 91], dtype=torch.float64)\n",
    "loss = mse(guess, answer)\n",
    "\n",
    "loss.backward()\n",
    "lr = 1e-1   # This is 0.1\n",
    "step = lr * guess.grad.data\n",
    "\n",
    "print('loss Dimensions:', loss.ndim)\n",
    "print('loss Shape:', loss.shape)\n",
    "print(loss)\n",
    "\n",
    "print('\\nGradient Dimenstions:', guess.grad.ndim)\n",
    "print('Gradient Shape:', guess.grad.shape)\n",
    "print(guess.grad)\n",
    "\n",
    "print('\\nStep Dimenstions:', step.ndim)\n",
    "print('Step Shape:', step.shape)\n",
    "print(step)\n"
   ]
  },
  {
   "cell_type": "code",
   "execution_count": 25,
   "metadata": {},
   "outputs": [
    {
     "name": "stdout",
     "output_type": "stream",
     "text": [
      "1 tensor([49.1927, 50.4541, 50.6895], dtype=torch.float64) tensor(39.6400, dtype=torch.float64) tensor([ 0.8073, -0.4541, -0.6895], dtype=torch.float64)\n",
      "2 tensor([48.3855, 50.9082, 51.3791], dtype=torch.float64) tensor(38.9734, dtype=torch.float64) tensor([ 0.8073, -0.4541, -0.6895], dtype=torch.float64)\n",
      "3 tensor([47.5782, 51.3623, 52.0686], dtype=torch.float64) tensor(38.3067, dtype=torch.float64) tensor([ 0.8073, -0.4541, -0.6895], dtype=torch.float64)\n",
      "4 tensor([46.7709, 51.8163, 52.7582], dtype=torch.float64) tensor(37.6400, dtype=torch.float64) tensor([ 0.8073, -0.4541, -0.6895], dtype=torch.float64)\n",
      "5 tensor([45.9637, 52.2704, 53.4477], dtype=torch.float64) tensor(36.9734, dtype=torch.float64) tensor([ 0.8073, -0.4541, -0.6895], dtype=torch.float64)\n",
      "6 tensor([45.1564, 52.7245, 54.1372], dtype=torch.float64) tensor(36.3067, dtype=torch.float64) tensor([ 0.8073, -0.4541, -0.6895], dtype=torch.float64)\n",
      "7 tensor([44.3491, 53.1786, 54.8268], dtype=torch.float64) tensor(35.6400, dtype=torch.float64) tensor([ 0.8073, -0.4541, -0.6895], dtype=torch.float64)\n",
      "8 tensor([43.5419, 53.6327, 55.5163], dtype=torch.float64) tensor(34.9734, dtype=torch.float64) tensor([ 0.8073, -0.4541, -0.6895], dtype=torch.float64)\n",
      "9 tensor([42.7346, 54.0868, 56.2058], dtype=torch.float64) tensor(34.3067, dtype=torch.float64) tensor([ 0.8073, -0.4541, -0.6895], dtype=torch.float64)\n",
      "10 tensor([41.9274, 54.5409, 56.8954], dtype=torch.float64) tensor(33.6400, dtype=torch.float64) tensor([ 0.8073, -0.4541, -0.6895], dtype=torch.float64)\n",
      "11 tensor([41.1201, 54.9949, 57.5849], dtype=torch.float64) tensor(32.9734, dtype=torch.float64) tensor([ 0.8073, -0.4541, -0.6895], dtype=torch.float64)\n",
      "12 tensor([40.3128, 55.4490, 58.2745], dtype=torch.float64) tensor(32.3067, dtype=torch.float64) tensor([ 0.8073, -0.4541, -0.6895], dtype=torch.float64)\n",
      "13 tensor([39.5056, 55.9031, 58.9640], dtype=torch.float64) tensor(31.6400, dtype=torch.float64) tensor([ 0.8073, -0.4541, -0.6895], dtype=torch.float64)\n",
      "14 tensor([38.6983, 56.3572, 59.6535], dtype=torch.float64) tensor(30.9734, dtype=torch.float64) tensor([ 0.8073, -0.4541, -0.6895], dtype=torch.float64)\n",
      "15 tensor([37.8910, 56.8113, 60.3431], dtype=torch.float64) tensor(30.3067, dtype=torch.float64) tensor([ 0.8073, -0.4541, -0.6895], dtype=torch.float64)\n",
      "16 tensor([37.0838, 57.2654, 61.0326], dtype=torch.float64) tensor(29.6400, dtype=torch.float64) tensor([ 0.8073, -0.4541, -0.6895], dtype=torch.float64)\n",
      "17 tensor([36.2765, 57.7195, 61.7222], dtype=torch.float64) tensor(28.9734, dtype=torch.float64) tensor([ 0.8073, -0.4541, -0.6895], dtype=torch.float64)\n",
      "18 tensor([35.4692, 58.1736, 62.4117], dtype=torch.float64) tensor(28.3067, dtype=torch.float64) tensor([ 0.8073, -0.4541, -0.6895], dtype=torch.float64)\n",
      "19 tensor([34.6620, 58.6276, 63.1012], dtype=torch.float64) tensor(27.6400, dtype=torch.float64) tensor([ 0.8073, -0.4541, -0.6895], dtype=torch.float64)\n",
      "20 tensor([33.8547, 59.0817, 63.7908], dtype=torch.float64) tensor(26.9734, dtype=torch.float64) tensor([ 0.8073, -0.4541, -0.6895], dtype=torch.float64)\n"
     ]
    }
   ],
   "source": [
    "attempts = 20\n",
    "answer = torch.tensor([2, 77, 91], dtype=torch.float64)\n",
    "guess = torch.tensor([50, 50, 50], dtype=torch.float64)\n",
    "guess.requires_grad_()\n",
    "\n",
    "for attempt in range(attempts):\n",
    "    loss = mse(guess, answer)\n",
    "\n",
    "    loss.backward()\n",
    "    lr = 2\n",
    "    step = lr * guess.grad.data\n",
    "    guess.data -= step\n",
    "    guess.grad = None\n",
    "\n",
    "    print(attempt+1, guess.data, loss.data, step.data)"
   ]
  },
  {
   "cell_type": "markdown",
   "metadata": {},
   "source": [
    "### Visualizing Loss Functions"
   ]
  },
  {
   "cell_type": "code",
   "execution_count": 11,
   "metadata": {},
   "outputs": [
    {
     "data": {
      "image/png": "[encoded data removed]",
      "text/plain": [
       "<Figure size 432x288 with 1 Axes>"
      ]
     },
     "metadata": {
      "needs_background": "light"
     },
     "output_type": "display_data"
    }
   ],
   "source": [
    "x = np.array([x for x in range(-10, 11)])\n",
    "losses = [mse(torch.tensor(x, dtype=torch.float64), torch.tensor(0, dtype=torch.float64)) for x in range(-10, 11)]\n",
    "\n",
    "# This will not work because at least one of the values needs to be a tensor so that the mean method of \n",
    "# the tensor object can be found within the mse function.\n",
    "#losses = [mse(x, 0) for x in range(-10, 11)]\n",
    "\n",
    "# We cannot do this because we want a loss for every value in x. \n",
    "# We do not want a single scalar value.\n",
    "#losses = mse(torch.from_numpy(x), torch.zeros(21))\n",
    "\n",
    "plot_data(np.array(x), np.array(losses))"
   ]
  },
  {
   "cell_type": "markdown",
   "metadata": {},
   "source": [
    "#### The Guessing Game"
   ]
  }
 ],
 "metadata": {
  "kernelspec": {
   "display_name": "Python 3.10.0 ('.venv': venv)",
   "language": "python",
   "name": "python3"
  },
  "language_info": {
   "codemirror_mode": {
    "name": "ipython",
    "version": 3
   },
   "file_extension": ".py",
   "mimetype": "text/x-python",
   "name": "python",
   "nbconvert_exporter": "python",
   "pygments_lexer": "ipython3",
   "version": "3.10.0"
  },
  "orig_nbformat": 4,
  "vscode": {
   "interpreter": {
    "hash": "bb30887f202a295f03f14bdc6c33a4c2546440b9bc6792bc5945ccf510842fff"
   }
  }
 },
 "nbformat": 4,
 "nbformat_minor": 2
}
