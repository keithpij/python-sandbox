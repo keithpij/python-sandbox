{
 "cells": [
  {
   "attachments": {},
   "cell_type": "markdown",
   "metadata": {},
   "source": [
    "### Contents\n",
    "Teaching a Model AND and OR<br>\n",
    "&emsp;Create Boolean Data<br>\n",
    "&emsp;Design a Model<br>\n",
    "&emsp;Train the Model<br>\n",
    "&emsp;Test the Model<br>\n",
    "Teaching a Model XOR<br>\n",
    "&emsp;Create Boolean Data<br>\n",
    "&emsp;Design a Model<br>\n",
    "&emsp;Train the Model<br>\n",
    "&emsp;Test the Model<br>"
   ]
  },
  {
   "cell_type": "code",
   "execution_count": 1,
   "metadata": {},
   "outputs": [],
   "source": [
    "import random as rnd\n",
    "from typing import List, Tuple\n",
    "\n",
    "import numpy as np\n",
    "from sklearn.model_selection import train_test_split\n",
    "import torch\n",
    "import torch.nn as nn\n",
    "import torch.nn.functional as F\n",
    "import torch.optim as optim\n",
    "from torch import Tensor\n",
    "\n",
    "import utilities as util\n"
   ]
  },
  {
   "attachments": {},
   "cell_type": "markdown",
   "metadata": {},
   "source": [
    "Create Boolean Data"
   ]
  },
  {
   "cell_type": "code",
   "execution_count": 8,
   "metadata": {},
   "outputs": [
    {
     "name": "stdout",
     "output_type": "stream",
     "text": [
      "X Dimenstions: 2\n",
      "X Shape: (10, 2)\n",
      "[[1 1]\n",
      " [1 1]\n",
      " [1 0]\n",
      " [1 0]\n",
      " [1 0]]\n",
      "y Dimenstions: 1\n",
      "y Shape: (10,)\n",
      "[1 1 0 1 0]\n"
     ]
    }
   ],
   "source": [
    "class BooleanDataset(torch.utils.data.Dataset):\n",
    "    '''\n",
    "    This class will emulate the function: y = m * x + b\n",
    "    In machine learning terms m becomes our weight and b becomes the bias.\n",
    "    '''\n",
    "\n",
    "    def __init__(self, size: int=1000):\n",
    "        X = []\n",
    "        y = []\n",
    "        count = int(size/2)\n",
    "        for _ in range(count):\n",
    "            feature_1 = rnd.randint(0, 1)\n",
    "            feature_2 = rnd.randint(0, 1)\n",
    "            label_and = feature_1 and feature_2\n",
    "            label_or = feature_1 or feature_2\n",
    "            # Append the and data.\n",
    "            sample = [feature_1, feature_2]\n",
    "            X.append(sample)\n",
    "            y.append(label_and)\n",
    "            # Append the or data.\n",
    "            X.append(sample)\n",
    "            y.append(label_or)\n",
    "\n",
    "        self.X = np.array(X)   #torch.from_numpy(X)\n",
    "        self.y = np.array(y)   #torch.from_numpy(y)\n",
    "        #X_train, X_valid, y_train, y_valid = train_test_split(X, y, train_size=0.8, shuffle=True, stratify=y, random_state=42)\n",
    "\n",
    "    def __getitem__(self, index):\n",
    "        return self.X[index, None], self.y[index, None]\n",
    "\n",
    "    def __len__(self):\n",
    "        return len(self.X)\n",
    "\n",
    "\n",
    "#X, y = create_and_or_data(10)\n",
    "data = BooleanDataset(10)\n",
    "\n",
    "print('X Dimenstions:', data.X.ndim)\n",
    "print('X Shape:', data.X.shape)\n",
    "print(data.X[:5])\n",
    "\n",
    "print('y Dimenstions:', data.y.ndim)\n",
    "print('y Shape:', data.y.shape)\n",
    "print(data.y[:5])"
   ]
  },
  {
   "attachments": {},
   "cell_type": "markdown",
   "metadata": {},
   "source": [
    "Design a Model"
   ]
  },
  {
   "cell_type": "code",
   "execution_count": null,
   "metadata": {},
   "outputs": [],
   "source": [
    "class AndOrModel(nn.Module):\n",
    "\n",
    "    def __init__(self):\n",
    "        super(AndOrModel, self).__init__()\n",
    "\n",
    "        self.linear1 = nn.Linear(2, 1, bias=True)\n",
    "\n",
    "    def forward(self, input):\n",
    "        l1 = self.linear1(input)\n",
    "        return l1"
   ]
  },
  {
   "attachments": {},
   "cell_type": "markdown",
   "metadata": {},
   "source": [
    "Create the Model and Print the Initial Parameters"
   ]
  },
  {
   "cell_type": "code",
   "execution_count": null,
   "metadata": {},
   "outputs": [],
   "source": [
    "model = AndOrModel()\n",
    "util.print_parameters(model)"
   ]
  },
  {
   "attachments": {},
   "cell_type": "markdown",
   "metadata": {},
   "source": [
    "Train the Model and Print the Results"
   ]
  },
  {
   "cell_type": "code",
   "execution_count": null,
   "metadata": {},
   "outputs": [],
   "source": [
    "config = {\n",
    "    'epochs': 100,\n",
    "    'lr': 0.01,\n",
    "    'loss_function': nn.MSELoss()\n",
    "}\n",
    "\n",
    "model, losses = util.train_model(model, config, X, y)\n",
    "\n",
    "# The loss should decrease with every iteration (epoch) over the training data.\n",
    "util.print_results(model, losses)"
   ]
  },
  {
   "cell_type": "code",
   "execution_count": null,
   "metadata": {},
   "outputs": [],
   "source": [
    "predictions = [model(torch.from_numpy(X)).detach().item() for X in X_train]\n",
    "util.plot_data(np.array(X_train), np.array(y_train), np.array(predictions))"
   ]
  },
  {
   "cell_type": "markdown",
   "metadata": {},
   "source": [
    "### A Quadratic Example"
   ]
  },
  {
   "cell_type": "code",
   "execution_count": null,
   "metadata": {},
   "outputs": [],
   "source": [
    "def create_quadratic_data(a:float, b: float, c:float) -> Tuple[List[float], List[float]]:\n",
    "    X = [float(x) for x in range(-10, 11)]\n",
    "    y = [a*(x**2)+(b*x)+c for x in X]\n",
    "    X, y = np.array(X, dtype=np.float32), np.array(y, np.float32)\n",
    "    X = np.reshape(X, (len(X), 1))\n",
    "    y = np.reshape(y, (len(y), 1))\n",
    "    return X, y\n",
    "\n",
    "X_train, y_train = create_quadratic_data(5, 2, 3)\n",
    "\n",
    "print('X_train Dimenstions:',X_train.ndim)\n",
    "print('X_train Shape:', X_train.shape)\n",
    "print(X_train[:2])\n",
    "\n",
    "print('y_train Dimenstions:',y_train.ndim)\n",
    "print('y_train Shape:', y_train.shape)\n",
    "print(y_train[:2])"
   ]
  },
  {
   "cell_type": "code",
   "execution_count": null,
   "metadata": {},
   "outputs": [],
   "source": [
    "plot_data(X_train, y_train)"
   ]
  },
  {
   "cell_type": "code",
   "execution_count": null,
   "metadata": {},
   "outputs": [],
   "source": [
    "model = LinearRegressionModel()\n",
    "model, losses = train_model(model, X_train, y_train)\n",
    "\n",
    "# The loss should decrease with every iteration (epoch) over the training data.\n",
    "print_results(model, losses)"
   ]
  },
  {
   "cell_type": "code",
   "execution_count": null,
   "metadata": {},
   "outputs": [],
   "source": [
    "predictions = [model(torch.from_numpy(X)).detach().item() for X in X_train]\n",
    "plot_data(np.array(X_train), np.array(y_train), np.array(predictions))"
   ]
  },
  {
   "cell_type": "code",
   "execution_count": null,
   "metadata": {},
   "outputs": [],
   "source": [
    "class QuadraticRegressionModel(nn.Module):\n",
    "\n",
    "    def __init__(self):\n",
    "        super(QuadraticRegressionModel, self).__init__()\n",
    "\n",
    "        self.linear1 = nn.Linear(1, 6, bias=True)\n",
    "        self.linear2 = nn.Linear(6, 6, bias=True)\n",
    "        self.linear3 = nn.Linear(6, 1, bias=True)\n",
    "\n",
    "    def forward(self, x, log=False):\n",
    "        x = F.dropout(F.relu(self.linear1(x)), p=0.5)\n",
    "        x = F.relu(self.linear2(x))\n",
    "        x = self.linear3(x)\n",
    "        #out = self.linear1(input)\n",
    "        #out = F.relu(out)\n",
    "        #out = F.dropout(out, p=0.5)\n",
    "        #out = self.linear2(out)\n",
    "        #out = F.relu(out)\n",
    "        #out = self.linear3(out)\n",
    "        return x"
   ]
  },
  {
   "cell_type": "markdown",
   "metadata": {},
   "source": [
    "Test the Untrained Model with a Single Prediction"
   ]
  },
  {
   "cell_type": "code",
   "execution_count": null,
   "metadata": {},
   "outputs": [],
   "source": [
    "model = QuadraticRegressionModel()\n",
    "X = torch.tensor([1], dtype=torch.float32)\n",
    "prediction = model(X, log=True)\n",
    "print(X)\n",
    "print(prediction)"
   ]
  },
  {
   "cell_type": "code",
   "execution_count": null,
   "metadata": {},
   "outputs": [],
   "source": [
    "model = QuadraticRegressionModel()\n",
    "model, losses = train_model(model, X_train, y_train)\n",
    "\n",
    "# The loss should decrease with every iteration (epoch) over the training data.\n",
    "print_results(model, losses)"
   ]
  },
  {
   "cell_type": "markdown",
   "metadata": {},
   "source": [
    "Plot labels and predictions"
   ]
  },
  {
   "cell_type": "code",
   "execution_count": null,
   "metadata": {},
   "outputs": [],
   "source": [
    "#model.eval() # Tell the model we are evaluating it so that it does not learn or dropout.\n",
    "predictions = [model(torch.from_numpy(X)).detach().item() for X in X_train]\n",
    "\n",
    "plot_data(np.array(X_train), np.array(y_train), np.array(predictions))"
   ]
  }
 ],
 "metadata": {
  "kernelspec": {
   "display_name": "Python 3.10.0 ('.venv': venv)",
   "language": "python",
   "name": "python3"
  },
  "language_info": {
   "codemirror_mode": {
    "name": "ipython",
    "version": 3
   },
   "file_extension": ".py",
   "mimetype": "text/x-python",
   "name": "python",
   "nbconvert_exporter": "python",
   "pygments_lexer": "ipython3",
   "version": "3.10.0"
  },
  "orig_nbformat": 4,
  "vscode": {
   "interpreter": {
    "hash": "bb30887f202a295f03f14bdc6c33a4c2546440b9bc6792bc5945ccf510842fff"
   }
  }
 },
 "nbformat": 4,
 "nbformat_minor": 2
}
