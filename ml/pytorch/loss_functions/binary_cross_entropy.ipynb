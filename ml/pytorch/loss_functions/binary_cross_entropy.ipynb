{
 "cells": [
  {
   "cell_type": "markdown",
   "metadata": {},
   "source": [
    "### Contents\n",
    "Introducing the BCE Loss Function<br>\n",
    "The BCE Loss Function with a Scalar<br>\n",
    "Visualizing the BCE Loss Function<br>\n",
    "The BCE Loss Function with a Vector<br>\n",
    "Breaking the BCE Loss Function<br>"
   ]
  },
  {
   "cell_type": "code",
   "execution_count": 1,
   "metadata": {},
   "outputs": [],
   "source": [
    "import math\n",
    "\n",
    "import torch\n",
    "from torch import nn\n",
    "import torch.nn.functional as F\n",
    "from torch import Tensor\n",
    "import matplotlib.pyplot as plt\n",
    "import numpy as np"
   ]
  },
  {
   "cell_type": "code",
   "execution_count": 2,
   "metadata": {},
   "outputs": [],
   "source": [
    "def plot_data(x: np.ndarray, y1: np.ndarray, y2: np.ndarray=None) -> None:\n",
    "    ax = plt.subplots()[1]\n",
    "    ax.set_xlim(x.min(), x.max())\n",
    "    ax.set_ylim(y1.min(), y1.max())\n",
    "    plt.scatter(x, y1, color='blue')\n",
    "    if not y2 is None:\n",
    "        ax.scatter(x, y2, color='red')\n",
    "    plt.grid(True)\n",
    "    plt.axhline(color='black')\n",
    "    plt.axvline(color='black')"
   ]
  },
  {
   "cell_type": "markdown",
   "metadata": {},
   "source": [
    "The log of some number x is the exponent by which some other number known as the base must be raised to get the number x"
   ]
  },
  {
   "cell_type": "code",
   "execution_count": 3,
   "metadata": {},
   "outputs": [
    {
     "name": "stdout",
     "output_type": "stream",
     "text": [
      "2.0\n"
     ]
    }
   ],
   "source": [
    "\n",
    "x = 100\n",
    "base = 10\n",
    "print(math.log(x, base))"
   ]
  },
  {
   "cell_type": "code",
   "execution_count": 4,
   "metadata": {},
   "outputs": [
    {
     "name": "stdout",
     "output_type": "stream",
     "text": [
      "Euler's number: 2.718281828459045\n",
      "4.605170185988092\n",
      "4.605170185988092\n"
     ]
    }
   ],
   "source": [
    "print(\"Euler's number:\", math.e)\n",
    "print(math.log(x))\n",
    "print(math.log(x, math.e))"
   ]
  },
  {
   "cell_type": "code",
   "execution_count": 5,
   "metadata": {},
   "outputs": [
    {
     "name": "stdout",
     "output_type": "stream",
     "text": [
      "tensor(4.6052)\n"
     ]
    }
   ],
   "source": [
    "x = torch.tensor(100)\n",
    "print(torch.log(x))"
   ]
  },
  {
   "cell_type": "markdown",
   "metadata": {},
   "source": [
    "### Introducing the BCE Loss Function"
   ]
  },
  {
   "cell_type": "code",
   "execution_count": 6,
   "metadata": {},
   "outputs": [
    {
     "name": "stdout",
     "output_type": "stream",
     "text": [
      "tensor(0.0100)\n",
      "tensor(1.)\n",
      "tensor(4.6052)\n",
      "tensor(4.6052)\n",
      "tensor(4.6052)\n"
     ]
    }
   ],
   "source": [
    "# Sample implementation for descriptive purposes.\n",
    "def my_bce_loss(prediction: Tensor, target: Tensor) -> Tensor:\n",
    "    a = target * torch.log(prediction)\n",
    "    b = (1 - target) * (torch.log(1 - prediction))\n",
    "    return -(a+b).mean()\n",
    "\n",
    "prediction = torch.tensor(.01, dtype=torch.float32)\n",
    "target = torch.tensor(1, dtype=torch.float32)\n",
    "print(prediction)\n",
    "print(target)\n",
    "\n",
    "# My loss function\n",
    "loss = my_bce_loss(prediction, target)\n",
    "print(loss)\n",
    "\n",
    "# This is the loss class that Pytorch provides.\n",
    "bce_loss = nn.BCELoss()\n",
    "loss = bce_loss(prediction, target)\n",
    "print(loss)\n",
    "\n",
    "# This is the loss function Pytorch provides.\n",
    "loss = F.binary_cross_entropy(prediction, target)\n",
    "print(loss)"
   ]
  },
  {
   "cell_type": "markdown",
   "metadata": {},
   "source": [
    "### Visualizing the BCE Loss Function"
   ]
  },
  {
   "cell_type": "code",
   "execution_count": 7,
   "metadata": {},
   "outputs": [
    {
     "name": "stdout",
     "output_type": "stream",
     "text": [
      "[0.0, 0.009999999776482582, 0.019999999552965164, 0.029999999329447746, 0.03999999910593033, 0.05000000074505806, 0.05999999865889549, 0.07000000029802322, 0.07999999821186066, 0.09000000357627869, 0.10000000149011612, 0.10999999940395355, 0.11999999731779099, 0.12999999523162842, 0.14000000059604645, 0.15000000596046448, 0.1599999964237213, 0.17000000178813934, 0.18000000715255737, 0.1899999976158142, 0.20000000298023224, 0.20999999344348907, 0.2199999988079071, 0.23000000417232513, 0.23999999463558197, 0.25, 0.25999999046325684, 0.27000001072883606, 0.2800000011920929, 0.28999999165534973, 0.30000001192092896, 0.3100000023841858, 0.3199999928474426, 0.33000001311302185, 0.3400000035762787, 0.3499999940395355, 0.36000001430511475, 0.3700000047683716, 0.3799999952316284, 0.38999998569488525, 0.4000000059604645, 0.4099999964237213, 0.41999998688697815, 0.4300000071525574, 0.4399999976158142, 0.44999998807907104, 0.46000000834465027, 0.4699999988079071, 0.47999998927116394, 0.49000000953674316, 0.5, 0.5099999904632568, 0.5199999809265137, 0.5299999713897705, 0.5400000214576721, 0.550000011920929, 0.5600000023841858, 0.5699999928474426, 0.5799999833106995, 0.5899999737739563, 0.6000000238418579, 0.6100000143051147, 0.6200000047683716, 0.6299999952316284, 0.6399999856948853, 0.6499999761581421, 0.6600000262260437, 0.6700000166893005, 0.6800000071525574, 0.6899999976158142, 0.699999988079071, 0.7099999785423279, 0.7200000286102295, 0.7300000190734863, 0.7400000095367432, 0.75, 0.7599999904632568, 0.7699999809265137, 0.7799999713897705, 0.7900000214576721, 0.800000011920929, 0.8100000023841858, 0.8199999928474426, 0.8299999833106995, 0.8399999737739563, 0.8500000238418579, 0.8600000143051147, 0.8700000047683716, 0.8799999952316284, 0.8899999856948853, 0.8999999761581421, 0.9100000262260437, 0.9200000166893005, 0.9300000071525574, 0.9399999976158142, 0.949999988079071, 0.9599999785423279, 0.9700000286102295, 0.9800000190734863, 0.9900000095367432]\n"
     ]
    }
   ],
   "source": [
    "# If you use float16 you get a weird error from the loss function because the BCE function has\n",
    "# not implemented the float16 data type.\n",
    "#predictions = [torch.tensor(p/100, dtype=torch.float32) for p in range(1, 101)]\n",
    "#target = torch.tensor(1, dtype=torch.float32)\n",
    "\n",
    "predictions = [torch.tensor(p/100, dtype=torch.float32) for p in range(0, 100)]\n",
    "target = torch.tensor(0, dtype=torch.float32)\n",
    "\n",
    "weight = torch.tensor(1, dtype=torch.int32)\n",
    "\n",
    "display_predictions = [p.item() for p in predictions]\n",
    "print(display_predictions)"
   ]
  },
  {
   "cell_type": "code",
   "execution_count": 8,
   "metadata": {},
   "outputs": [
    {
     "name": "stdout",
     "output_type": "stream",
     "text": [
      "[0.0, 0.010050326585769653, 0.02020268701016903, 0.030459178611636162, 0.040822017937898636, 0.051293306052684784, 0.06187540665268898, 0.07257068157196045, 0.08338159322738647, 0.0943107157945633, 0.10536054521799088, 0.11653383076190948, 0.12783338129520416, 0.13926206529140472, 0.15082287788391113, 0.16251890361309052, 0.17435334622859955, 0.18632960319519043, 0.1984509527683258, 0.21072103083133698, 0.2231435328722, 0.23572230339050293, 0.24846139550209045, 0.26136478781700134, 0.2744368612766266, 0.28768208622932434, 0.3011050820350647, 0.31471070647239685, 0.3285040259361267, 0.3424902558326721, 0.3566749691963196, 0.3710636794567108, 0.3856624662876129, 0.4004776179790497, 0.4155154824256897, 0.4307829439640045, 0.4462871253490448, 0.46203547716140747, 0.4780358076095581, 0.4942963123321533, 0.5108255743980408, 0.5276327133178711, 0.544727087020874, 0.5621189475059509, 0.5798184871673584, 0.597836971282959, 0.6161862015724182, 0.6348783373832703, 0.6539264917373657, 0.6733445525169373, 0.6931471824645996, 0.7133498787879944, 0.7339691519737244, 0.7550225257873535, 0.7765288352966309, 0.7985077500343323, 0.8209805488586426, 0.8439700603485107, 0.8675005435943604, 0.8915980458259583, 0.916290819644928, 0.9416085481643677, 0.9675840139389038, 0.9942522644996643, 1.0216511487960815, 1.0498220920562744, 1.0788097381591797, 1.108662724494934, 1.1394343376159668, 1.1711829900741577, 1.2039728164672852, 1.2378742694854736, 1.2729657888412476, 1.3093334436416626, 1.3470736742019653, 1.3862943649291992, 1.4271162748336792, 1.469675898551941, 1.5141276121139526, 1.5606478452682495, 1.6094379425048828, 1.6607311964035034, 1.7147983312606812, 1.7719568014144897, 1.8325812816619873, 1.8971201181411743, 1.9661129713058472, 2.0402209758758545, 2.1202635765075684, 2.2072746753692627, 2.3025848865509033, 2.4079458713531494, 2.525728940963745, 2.6592600345611572, 2.813410758972168, 2.995732069015503, 3.2188751697540283, 3.506558895111084, 3.9120240211486816, 4.605171203613281]\n"
     ]
    }
   ],
   "source": [
    "losses = [F.binary_cross_entropy(p, target, weight) for p in predictions]\n",
    "\n",
    "display_losses = [l.item() for l in losses]\n",
    "print(display_losses)"
   ]
  },
  {
   "cell_type": "code",
   "execution_count": 9,
   "metadata": {},
   "outputs": [
    {
     "data": {
      "image/png": "[encoded data removed]",
      "text/plain": [
       "<Figure size 432x288 with 1 Axes>"
      ]
     },
     "metadata": {
      "needs_background": "light"
     },
     "output_type": "display_data"
    }
   ],
   "source": [
    "plot_data(np.array(predictions), np.array(losses))"
   ]
  }
 ],
 "metadata": {
  "kernelspec": {
   "display_name": "Python 3.10.0 ('.venv': venv)",
   "language": "python",
   "name": "python3"
  },
  "language_info": {
   "codemirror_mode": {
    "name": "ipython",
    "version": 3
   },
   "file_extension": ".py",
   "mimetype": "text/x-python",
   "name": "python",
   "nbconvert_exporter": "python",
   "pygments_lexer": "ipython3",
   "version": "3.10.0"
  },
  "orig_nbformat": 4,
  "vscode": {
   "interpreter": {
    "hash": "bb30887f202a295f03f14bdc6c33a4c2546440b9bc6792bc5945ccf510842fff"
   }
  }
 },
 "nbformat": 4,
 "nbformat_minor": 2
}
