{
 "cells": [
  {
   "cell_type": "markdown",
   "metadata": {},
   "source": [
    "## The Theory behind Gradients"
   ]
  },
  {
   "cell_type": "markdown",
   "metadata": {},
   "source": [
    "https://www.youtube.com/watch?v=DbeIqrwb_dE<br>\n",
    "\n",
    "requires_grad is False by default.<br>\n",
    "When it is set to True PyTorch will calculate a computational graph for the tensor."
   ]
  },
  {
   "cell_type": "code",
   "execution_count": 1,
   "metadata": {},
   "outputs": [],
   "source": [
    "# %matplotlib inline\n",
    "\n",
    "import torch\n",
    "\n",
    "import matplotlib.pyplot as plt\n",
    "import matplotlib.ticker as ticker\n",
    "import math\n",
    "import seaborn as sns"
   ]
  },
  {
   "cell_type": "code",
   "execution_count": null,
   "metadata": {},
   "outputs": [],
   "source": [
    "data = [1, 2, 3]\n",
    "x = torch.tensor(data, dtype=torch.float16, requires_grad=True)\n",
    "print(x)"
   ]
  },
  {
   "cell_type": "markdown",
   "metadata": {},
   "source": [
    "The default data type for a tensor is int64.<br> \n",
    "The code below will throw an error because gradients can only be created using floats and complex numbers."
   ]
  },
  {
   "cell_type": "code",
   "execution_count": null,
   "metadata": {},
   "outputs": [],
   "source": [
    "# The default data type of a tensor is int64.\n",
    "x = torch.tensor(data)\n",
    "print(x)\n",
    "print(x.dtype)\n",
    "\n",
    "# You get an error when you try to create a tensor with gradients using an intenger.\n",
    "x = torch.tensor(data, requires_grad=True)"
   ]
  },
  {
   "cell_type": "markdown",
   "metadata": {},
   "source": [
    "### Simple example<br>\n",
    "Mention forward pass, back propagation. Also mention the AddBackward0 function in the grad_fn attribute."
   ]
  },
  {
   "cell_type": "code",
   "execution_count": 2,
   "metadata": {},
   "outputs": [
    {
     "name": "stdout",
     "output_type": "stream",
     "text": [
      "Original tensor: tensor([0., 3., 6., 9.], dtype=torch.float16, requires_grad=True)\n",
      "x times 2: tensor([ 0.,  6., 12., 18.], dtype=torch.float16, grad_fn=<MulBackward0>)\n",
      "Input: tensor([0., 3., 6., 9.], dtype=torch.float16)\n",
      "Output: tensor([ 0.,  6., 12., 18.], dtype=torch.float16, grad_fn=<MulBackward0>)\n",
      "dx/dy: tensor([ 0.,  6., 12., 18.], dtype=torch.float16)\n"
     ]
    },
    {
     "data": {
      "image/png": "[encoded data removed]",
      "text/plain": [
       "<Figure size 640x480 with 1 Axes>"
      ]
     },
     "metadata": {},
     "output_type": "display_data"
    }
   ],
   "source": [
    "# Setup a tensor with gradients enabled.\n",
    "data = [0, 3, 6, 9]\n",
    "#data = [0]\n",
    "x = torch.tensor(data, dtype=torch.float16, requires_grad=True)\n",
    "print('Original tensor:', x)\n",
    "\n",
    "# Add 5x to the computational graph.\n",
    "a = 2*x\n",
    "print('x times 2:', a)\n",
    "\n",
    "# For some reason you have to do this.\n",
    "out = a * 1 #a.mean() #a.sum()\n",
    "\n",
    "# What we have is y = f(x) = 2\n",
    "# dx/dy = 2*x\n",
    "#out.backward()\n",
    "g = torch.tensor(data, dtype=torch.float16)\n",
    "out.backward(g)\n",
    "\n",
    "print('Input:', x.detach())\n",
    "print('Output:', out)\n",
    "print('dx/dy:', x.grad.detach())\n",
    "\n",
    "#plt.plot(x.detach(), x.grad.detach())\n",
    "sns.scatterplot(x=x.detach(), y=x.grad.detach())\n",
    "\n",
    "# If you want to rerun this cell then you must zero out the gradients in the original tensor.\n",
    "_ = x.grad.zero_()"
   ]
  },
  {
   "cell_type": "markdown",
   "metadata": {},
   "source": [
    "### More complex example"
   ]
  },
  {
   "cell_type": "code",
   "execution_count": null,
   "metadata": {},
   "outputs": [],
   "source": [
    "# Setup a tensor with gradients enabled.\n",
    "#data = [0, 3, 6, 9]\n",
    "data = [0]\n",
    "x = torch.tensor(data, dtype=torch.float16, requires_grad=True)\n",
    "print('Original tensor:', x)\n",
    "\n",
    "# Use the exponential operator to create tensor from our original tensor.\n",
    "a = x**2\n",
    "print('x to the power of 2:', a)\n",
    "\n",
    "# Add 5x to the computational graph.\n",
    "b = a + 5*x\n",
    "\n",
    "# Add a constant to the graph.\n",
    "c = b + 9\n",
    "\n",
    "# For some reason you have to do this.\n",
    "out = c #c.mean()\n",
    "\n",
    "# What we have is y = f(x) = x**2 + 5*x + 9\n",
    "# dx/dy = 2*x + 5\n",
    "#out.backward()\n",
    "\n",
    "g = torch.tensor(data, dtype=torch.float16)\n",
    "out.backward(g)\n",
    "\n",
    "print(x.detach())\n",
    "print(x.grad.detach())\n",
    "\n",
    "#plt.plot(x.detach(), x.grad.detach())\n",
    "sns.scatterplot(x=x.detach(), y=x.grad.detach())\n",
    "\n",
    "#v = torch.tensor([4], dtype=torch.float16)\n",
    "#a.backward(v)\n",
    "#print('Value for backward pass:', v)\n",
    "#print('The gradient of x: ', x.grad)\n",
    "#print(y.grad) # This will produce a warning.\n",
    "\n",
    "# If you want to rerun this cell then you must zero out the gradients in the original tensor.\n",
    "_ = x.grad.zero_()"
   ]
  },
  {
   "cell_type": "markdown",
   "metadata": {},
   "source": [
    "#### A scalar example"
   ]
  },
  {
   "cell_type": "code",
   "execution_count": null,
   "metadata": {},
   "outputs": [],
   "source": [
    "plt.plot([3,6,9], [11,17,23])"
   ]
  },
  {
   "cell_type": "code",
   "execution_count": null,
   "metadata": {},
   "outputs": [],
   "source": [
    "x = torch.tensor([1, 3, 5], dtype=torch.float16, requires_grad=True)\n",
    "y = 2*x+5\n",
    "z = x.mean()\n",
    "print(z)\n",
    "z.backward()\n",
    "print(x.grad)\n",
    "x.grad.zero_()"
   ]
  },
  {
   "cell_type": "code",
   "execution_count": null,
   "metadata": {},
   "outputs": [],
   "source": [
    "z = y*y*2\n",
    "z"
   ]
  },
  {
   "cell_type": "code",
   "execution_count": null,
   "metadata": {},
   "outputs": [],
   "source": [
    "a = z.mean()\n",
    "a"
   ]
  },
  {
   "cell_type": "markdown",
   "metadata": {},
   "source": [
    "\n",
    "To calcualte the gradients call backward() to calcualte the gradient of z with respect to x often written as dz/dx.<br>\n",
    "Show the error that occurs when requires_grad is set to False and you try to do a backward pass."
   ]
  },
  {
   "cell_type": "code",
   "execution_count": null,
   "metadata": {},
   "outputs": [],
   "source": [
    "a.backward()\n",
    "print(x.grad)"
   ]
  },
  {
   "cell_type": "code",
   "execution_count": null,
   "metadata": {},
   "outputs": [],
   "source": [
    "v = torch.tensor([0.1, 0.2, 0.3], dtype=torch.float32)\n",
    "z.backward(v)\n",
    "x.grad"
   ]
  },
  {
   "cell_type": "code",
   "execution_count": null,
   "metadata": {},
   "outputs": [],
   "source": [
    "test = torch.randn(3, requires_grad=True)\n",
    "print(test)\n",
    "\n",
    "#test.requires_grad_(False) # Trailing underscore means that the variable will be modified in place.\n",
    "#print(test)\n",
    "\n",
    "#new = test.detach() # Creates a new tensor.\n",
    "#print(new)\n",
    "\n",
    "new1  = test + 2\n",
    "print(test)\n",
    "print(new1)\n",
    "\n",
    "with torch.no_grad():\n",
    "    new2  = test + 2\n",
    "    print(test)\n",
    "    print(new2)\n",
    "\n"
   ]
  },
  {
   "cell_type": "code",
   "execution_count": null,
   "metadata": {},
   "outputs": [],
   "source": [
    "weights = torch.ones(4, requires_grad=True)\n",
    "\n",
    "for epoch in range(3):\n",
    "    model_output = (weights*3).sum()\n",
    "    model_output.backward()\n",
    "    print(weights.grad)\n",
    "    #weights.grad.zero_()"
   ]
  },
  {
   "cell_type": "code",
   "execution_count": null,
   "metadata": {},
   "outputs": [],
   "source": [
    "weights = torch.ones(4, requires_grad=True)\n",
    "\n",
    "optimizer = torch.optim.SGD(weights, lr=0.01)\n",
    "optimizer.step()\n",
    "optimizer.zero_grad()"
   ]
  }
 ],
 "metadata": {
  "kernelspec": {
   "display_name": ".venv",
   "language": "python",
   "name": "python3"
  },
  "language_info": {
   "codemirror_mode": {
    "name": "ipython",
    "version": 3
   },
   "file_extension": ".py",
   "mimetype": "text/x-python",
   "name": "python",
   "nbconvert_exporter": "python",
   "pygments_lexer": "ipython3",
   "version": "3.11.6"
  }
 },
 "nbformat": 4,
 "nbformat_minor": 2
}
