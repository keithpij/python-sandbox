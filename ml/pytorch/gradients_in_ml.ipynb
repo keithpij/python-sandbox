{
 "cells": [
  {
   "cell_type": "code",
   "execution_count": 41,
   "metadata": {},
   "outputs": [],
   "source": [
    "import torch\n",
    "from torch import Tensor\n",
    "import matplotlib.pyplot as plt\n",
    "\n",
    "\n",
    "def plot_data(x: list[float], y: list[float]):\n",
    "    ax = plt.subplots()[1]\n",
    "    #plt.plot(x, y)\n",
    "    #plt.show()\n",
    "    ax.scatter(x, y, color='red')\n",
    "\n",
    "\n",
    "def plot_labels_pred(X: Tensor, y: Tensor, predictions: Tensor, ax=None):\n",
    "    if ax is None: ax=plt.subplots()[1]\n",
    "    ax.scatter(X, y)\n",
    "    ax.scatter(X, predictions, color='red')\n",
    "    #ax.set_ylim(-300,100)\n",
    "\n",
    "\n",
    "def mse(predictions: Tensor, labels: Tensor) -> Tensor:\n",
    "    return ((predictions-labels)**2).mean().sqrt()"
   ]
  },
  {
   "cell_type": "code",
   "execution_count": 42,
   "metadata": {},
   "outputs": [
    {
     "data": {
      "text/plain": [
       "tensor([ 0.,  1.,  2.,  3.,  4.,  5.,  6.,  7.,  8.,  9., 10., 11., 12., 13.,\n",
       "        14., 15., 16., 17., 18., 19.])"
      ]
     },
     "execution_count": 42,
     "metadata": {},
     "output_type": "execute_result"
    }
   ],
   "source": [
    "X = torch.arange(0, 20).float()\n",
    "\n",
    "X"
   ]
  },
  {
   "cell_type": "code",
   "execution_count": 43,
   "metadata": {},
   "outputs": [],
   "source": [
    "def quadratic_equation(x: Tensor, abc: tuple[int]):\n",
    "    a = abc[0]\n",
    "    b = abc[1]\n",
    "    c = abc[2]\n",
    "    y = a*(x**2) + (b*x) + c\n",
    "    return y\n",
    "\n",
    "def linear_equation(x: Tensor, mb: tuple[int]):\n",
    "    m = mb[0]\n",
    "    b = mb[1]\n",
    "    return m*x + b"
   ]
  },
  {
   "cell_type": "code",
   "execution_count": 44,
   "metadata": {},
   "outputs": [
    {
     "data": {
      "text/plain": [
       "tensor([ 10.,  19.,  28.,  37.,  46.,  55.,  64.,  73.,  82.,  91., 100., 109.,\n",
       "        118., 127., 136., 145., 154., 163., 172., 181.])"
      ]
     },
     "execution_count": 44,
     "metadata": {},
     "output_type": "execute_result"
    }
   ],
   "source": [
    "#y = quadratic_equation(X, (1, 70, 90))\n",
    "y = linear_equation(X, (9, 10))\n",
    "\n",
    "y"
   ]
  },
  {
   "cell_type": "markdown",
   "metadata": {},
   "source": [
    "#### Initialize parameters"
   ]
  },
  {
   "cell_type": "code",
   "execution_count": 48,
   "metadata": {},
   "outputs": [],
   "source": [
    "params = torch.rand(2).requires_grad_()\n",
    "epochs = 10\n",
    "lr = 1e-3"
   ]
  },
  {
   "cell_type": "markdown",
   "metadata": {},
   "source": [
    "#### Calculate Predictions"
   ]
  },
  {
   "cell_type": "code",
   "execution_count": 49,
   "metadata": {},
   "outputs": [
    {
     "name": "stdout",
     "output_type": "stream",
     "text": [
      "Loss: 103.97662353515625 Parameters: tensor([0.4324, 0.0427])\n"
     ]
    }
   ],
   "source": [
    "def train(epochs: int, verbose: bool) -> Tensor:\n",
    "    for epoch in range(epochs):\n",
    "        predictions = linear_equation(X, params)\n",
    "        loss = mse(predictions, y)\n",
    "        loss.backward()\n",
    "        params.data -= lr * params.grad.data\n",
    "        params.grad = None\n",
    "        if verbose:\n",
    "            print(f'Epoch: {epoch+1}  Loss: {loss.item()}.')\n",
    "    return predictions, loss, params\n",
    "\n",
    "\n",
    "predictions, loss, params = train(epochs, False)\n",
    "print(f'Loss: {loss.item()} Parameters: {params.data}')"
   ]
  },
  {
   "cell_type": "code",
   "execution_count": 50,
   "metadata": {},
   "outputs": [
    {
     "data": {
      "image/png": "[encoded data removed]",
      "text/plain": [
       "<Figure size 432x288 with 1 Axes>"
      ]
     },
     "metadata": {
      "needs_background": "light"
     },
     "output_type": "display_data"
    }
   ],
   "source": [
    "plot_labels_pred(X, y, predictions.detach().numpy())"
   ]
  }
 ],
 "metadata": {
  "kernelspec": {
   "display_name": "Python 3.10.0 ('.venv': venv)",
   "language": "python",
   "name": "python3"
  },
  "language_info": {
   "codemirror_mode": {
    "name": "ipython",
    "version": 3
   },
   "file_extension": ".py",
   "mimetype": "text/x-python",
   "name": "python",
   "nbconvert_exporter": "python",
   "pygments_lexer": "ipython3",
   "version": "3.10.0"
  },
  "orig_nbformat": 4,
  "vscode": {
   "interpreter": {
    "hash": "bb30887f202a295f03f14bdc6c33a4c2546440b9bc6792bc5945ccf510842fff"
   }
  }
 },
 "nbformat": 4,
 "nbformat_minor": 2
}
