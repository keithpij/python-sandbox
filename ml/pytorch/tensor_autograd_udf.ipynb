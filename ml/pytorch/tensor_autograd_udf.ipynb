{
 "cells": [
  {
   "cell_type": "markdown",
   "metadata": {},
   "source": [
    "## Gradients using a user defined function"
   ]
  },
  {
   "cell_type": "code",
   "execution_count": null,
   "metadata": {},
   "outputs": [],
   "source": [
    "# %matplotlib inline\n",
    "\n",
    "import torch\n",
    "\n",
    "import matplotlib.pyplot as plt\n",
    "import seaborn as sns"
   ]
  },
  {
   "cell_type": "code",
   "execution_count": 10,
   "metadata": {},
   "outputs": [
    {
     "name": "stdout",
     "output_type": "stream",
     "text": [
      "y = f(x) = x**2 + 5x + 9\n",
      "dx/dy = 2x**1 + 5\n",
      "Original tensor: tensor([ 1.,  2.,  3.,  4.,  5.,  6.,  7.,  8.,  9., 10.], dtype=torch.float16)\n",
      "Output tensor: tensor([ 15.,  23.,  33.,  45.,  59.,  75.,  93., 113., 135., 159.],\n",
      "       dtype=torch.float16)\n",
      "Value for backward pass: tensor([ 1.,  2.,  3.,  4.,  5.,  6.,  7.,  8.,  9., 10.], dtype=torch.float16)\n",
      "Gradient: tensor([  7.,  18.,  33.,  52.,  75., 102., 133., 168., 207., 250.],\n",
      "       dtype=torch.float16)\n",
      "dx/dy: tensor([ 7.,  9., 11., 13., 15., 17., 19., 21., 23., 25.], dtype=torch.float16)\n"
     ]
    },
    {
     "data": {
      "image/png": "[encoded data removed]",
      "text/plain": [
       "<Figure size 640x480 with 1 Axes>"
      ]
     },
     "metadata": {},
     "output_type": "display_data"
    }
   ],
   "source": [
    "POWER = 2\n",
    "MULTIPLIER = 5\n",
    "CONSTANT = 9\n",
    "\n",
    "# Setup a tensor with gradients enabled.\n",
    "data_as_list = [1, 2, 3, 4, 5, 6, 7, 8, 9, 10]\n",
    "x = torch.tensor(data_as_list, dtype=torch.float16, requires_grad=True)\n",
    "\n",
    "# Raise x to some power using the exponential operator.\n",
    "a = x**POWER\n",
    "\n",
    "# Add a multiple of x.\n",
    "b = a + MULTIPLIER*x\n",
    "\n",
    "# Add a constant.\n",
    "out = b + CONSTANT\n",
    "#out = c.sum()\n",
    "\n",
    "v = torch.tensor(data_as_list, dtype=torch.float16)\n",
    "out.backward(v, retain_graph=True)\n",
    "#out.backward()\n",
    "\n",
    "# What we have is y = f(x) = x**POWER + MULTIPLIER*x + CONSTANT\n",
    "print(f'y = f(x) = x**{POWER} + {MULTIPLIER}x + {CONSTANT}')\n",
    "print(f'dx/dy = {POWER}x**{POWER-1} + {MULTIPLIER}')\n",
    "dx_dy = POWER*x.detach()**(POWER-1) + MULTIPLIER\n",
    "\n",
    "# Output\n",
    "print('Original tensor:', x.detach())\n",
    "print('Output tensor:', out.detach())\n",
    "\n",
    "print('Value for backward pass:', v.detach())\n",
    "print('Gradient:', x.grad.detach())\n",
    "print('dx/dy:', dx_dy)\n",
    "\n",
    "# Graph the original tensor and the gradient.\n",
    "sns.scatterplot(x=x.detach(), y=x.grad.detach())\n",
    "\n",
    "# Clear the gradients for x.\n",
    "_ = x.grad.zero_()"
   ]
  },
  {
   "cell_type": "code",
   "execution_count": 6,
   "metadata": {},
   "outputs": [
    {
     "name": "stdout",
     "output_type": "stream",
     "text": [
      "out:\n",
      "<SumBackward0 object at 0x12bb4ac20>\n",
      "((<AddBackward0 object at 0x12bb4ad40>, 0),)\n",
      "((<AddBackward0 object at 0x12bb4ac20>, 0), (None, 0))\n",
      "((<PowBackward0 object at 0x12bb4bfd0>, 0), (<MulBackward0 object at 0x12bb4bfa0>, 0))\n",
      "((<AccumulateGrad object at 0x12bb4ad40>, 0),)\n",
      "\n",
      "b:\n",
      "<AddBackward0 object at 0x12bb4ad40>\n",
      "\n",
      "a:\n",
      "<PowBackward0 object at 0x12bb4ad40>\n",
      "\n",
      "x:\n",
      "None\n"
     ]
    }
   ],
   "source": [
    "print('out:')\n",
    "print(out.grad_fn)\n",
    "print(out.grad_fn.next_functions)\n",
    "print(out.grad_fn.next_functions[0][0].next_functions)\n",
    "print(out.grad_fn.next_functions[0][0].next_functions[0][0].next_functions)\n",
    "print(out.grad_fn.next_functions[0][0].next_functions[0][0].next_functions[0][0].next_functions)\n",
    "\n",
    "print('\\nb:')\n",
    "print(b.grad_fn)\n",
    "\n",
    "print('\\na:')\n",
    "print(a.grad_fn)\n",
    "\n",
    "print('\\nx:')\n",
    "print(x.grad_fn)"
   ]
  },
  {
   "cell_type": "code",
   "execution_count": null,
   "metadata": {},
   "outputs": [],
   "source": [
    "POWER = 2\n",
    "MULTIPLIER = 5\n",
    "CONSTANT = 9\n",
    "\n",
    "# Setup a tensor with gradients enabled.\n",
    "data_as_list = [3, 6, 9]\n",
    "x = torch.tensor(data_as_list, dtype=torch.float16, requires_grad=True)\n",
    "\n",
    "# Raise x to some power using the exponential operator.\n",
    "a = x**POWER\n",
    "print('x to the power of 2 plus 10:', a)\n",
    "\n",
    "# Add a multiple of x.\n",
    "b = a + MULTIPLIER*x\n",
    "\n",
    "# Add a constant.\n",
    "c = b + CONSTANT\n",
    "\n",
    "# For some reason you have to do this.\n",
    "out = c.sum()\n",
    "\n",
    "# What we have is y = f(x) = x**POWER + MULTIPLIER*x + CONSTANT\n",
    "# dx/dy = POWER*x**(POWER-1) + MULTIPLIER\n",
    "out.backward()\n",
    "\n",
    "# Output\n",
    "print('Original tensor:', x.detach())\n",
    "print('Output tensor:', out.detach())\n",
    "print('Gradient:', x.grad.detach())\n",
    "sns.scatterplot(x=x.detach(), y=x.grad.detach())\n",
    "\n",
    "# Clear the gradients for x.\n",
    "_ = x.grad.zero_()"
   ]
  },
  {
   "cell_type": "markdown",
   "metadata": {},
   "source": [
    "#### Seaborn Test"
   ]
  },
  {
   "cell_type": "code",
   "execution_count": null,
   "metadata": {},
   "outputs": [],
   "source": [
    "plt.plot([3,6,9], [12,23,23])"
   ]
  }
 ],
 "metadata": {
  "kernelspec": {
   "display_name": ".venv",
   "language": "python",
   "name": "python3"
  },
  "language_info": {
   "codemirror_mode": {
    "name": "ipython",
    "version": 3
   },
   "file_extension": ".py",
   "mimetype": "text/x-python",
   "name": "python",
   "nbconvert_exporter": "python",
   "pygments_lexer": "ipython3",
   "version": "3.11.6"
  }
 },
 "nbformat": 4,
 "nbformat_minor": 2
}
