{
 "cells": [
  {
   "cell_type": "markdown",
   "metadata": {},
   "source": [
    "### Contents\n",
    "Creating a Tensor with Gradients<br>"
   ]
  },
  {
   "cell_type": "code",
   "execution_count": 14,
   "metadata": {},
   "outputs": [],
   "source": [
    "import torch\n",
    "from torch import Tensor\n",
    "import matplotlib.pyplot as plt\n",
    "\n",
    "\n",
    "def plot_data(x: list[float], y: list[float]):\n",
    "    plt.plot(x, y)\n",
    "    plt.show()\n",
    "\n",
    "\n",
    "def show_preds(preds, ax=None):\n",
    "    if ax is None: ax=plt.subplots()[1]\n",
    "    ax.scatter(time, speed)\n",
    "    ax.scatter(time, to_np(preds), color='red')\n",
    "    ax.set_ylim(-300,100)"
   ]
  },
  {
   "cell_type": "code",
   "execution_count": 2,
   "metadata": {},
   "outputs": [],
   "source": [
    "def get_total_height(step: Tensor) -> Tensor:\n",
    "    return 8*step"
   ]
  },
  {
   "cell_type": "markdown",
   "metadata": {},
   "source": [
    "### Gradients on the Crazy Stairs"
   ]
  },
  {
   "cell_type": "code",
   "execution_count": 11,
   "metadata": {},
   "outputs": [
    {
     "name": "stdout",
     "output_type": "stream",
     "text": [
      "Step: 4\tStep height: 8\tTotal Height: 8.0\n",
      "Step: 3\tStep height: 6\tTotal Height: 14.0\n",
      "Step: 2\tStep height: 4\tTotal Height: 18.0\n",
      "Step: 1\tStep height: 2\tTotal Height: 20.0\n",
      "Total height at step 4: tensor(20., dtype=torch.float16, grad_fn=<AddBackward0>)\n"
     ]
    }
   ],
   "source": [
    "def get_total_height_crazy(step: Tensor, verbose: bool=False) -> Tensor:\n",
    "    step_int = int(step.item())\n",
    "    total_height = torch.tensor(0, dtype=torch.float16, requires_grad=True)\n",
    "    for previous in range(step_int):\n",
    "        step_height = (step-previous)*2\n",
    "        total_height = total_height + step_height\n",
    "        if verbose:\n",
    "            print(f'Step: {step-previous}\\tStep height: {step_height}\\tTotal Height: {total_height}')\n",
    "    return total_height\n",
    "\n",
    "step = 4\n",
    "total_height = get_total_height_crazy(torch.tensor(step), verbose=True)\n",
    "print(f'Total height at step {step}:', total_height)"
   ]
  },
  {
   "cell_type": "code",
   "execution_count": 4,
   "metadata": {},
   "outputs": [
    {
     "name": "stdout",
     "output_type": "stream",
     "text": [
      "tensor(4., dtype=torch.float16, requires_grad=True)\n"
     ]
    }
   ],
   "source": [
    "step = 4\n",
    "step_tensor = torch.tensor(step, dtype=torch.float16)\n",
    "step_tensor.requires_grad_()\n",
    "\n",
    "print(step_tensor)"
   ]
  },
  {
   "cell_type": "code",
   "execution_count": 12,
   "metadata": {},
   "outputs": [
    {
     "name": "stdout",
     "output_type": "stream",
     "text": [
      "height_tensor: tensor(20., dtype=torch.float16, grad_fn=<AddBackward0>)\n",
      "requires_grad: True\n"
     ]
    }
   ],
   "source": [
    "height_tensor = get_total_height_crazy(step_tensor)\n",
    "\n",
    "print('height_tensor:', height_tensor)\n",
    "print('requires_grad:', height_tensor.requires_grad)"
   ]
  },
  {
   "cell_type": "code",
   "execution_count": 6,
   "metadata": {},
   "outputs": [
    {
     "name": "stdout",
     "output_type": "stream",
     "text": [
      "step_tensor: tensor(4., dtype=torch.float16, requires_grad=True)\n",
      "height_tensor: tensor(20., dtype=torch.float16, grad_fn=<AddBackward0>)\n",
      "step_tensor.grad: tensor(8., dtype=torch.float16)\n"
     ]
    }
   ],
   "source": [
    "height_tensor.backward()\n",
    "\n",
    "print('step_tensor:', step_tensor)\n",
    "print('height_tensor:', height_tensor)\n",
    "print('step_tensor.grad:', step_tensor.grad)"
   ]
  },
  {
   "cell_type": "code",
   "execution_count": 6,
   "metadata": {},
   "outputs": [
    {
     "data": {
      "text/plain": [
       "tensor(11)"
      ]
     },
     "execution_count": 6,
     "metadata": {},
     "output_type": "execute_result"
    }
   ],
   "source": [
    "def f(x):\n",
    "    #return 5 * x**3 + 2 * x**2 + 10\n",
    "    return 2*x+5\n",
    "f(torch.tensor(3))"
   ]
  },
  {
   "cell_type": "markdown",
   "metadata": {},
   "source": [
    "Notes:<br>\n",
    "There is a difference between torch.tensor() and torch.Tensor()<br>\n",
    "All data in a tensor with gradients has to be a float."
   ]
  },
  {
   "cell_type": "code",
   "execution_count": 7,
   "metadata": {},
   "outputs": [
    {
     "name": "stdout",
     "output_type": "stream",
     "text": [
      "tensor(4., requires_grad=True)\n",
      "tensor(13., grad_fn=<AddBackward0>)\n",
      "tensor(2.)\n"
     ]
    }
   ],
   "source": [
    "weights = 4\n",
    "x = torch.tensor(weights, dtype=torch.float32)\n",
    "x.requires_grad_()\n",
    "y = f(x)\n",
    "y.backward()\n",
    "\n",
    "print(x)\n",
    "print(y)\n",
    "print(x.grad)\n"
   ]
  }
 ],
 "metadata": {
  "kernelspec": {
   "display_name": "Python 3.10.0 ('.venv': venv)",
   "language": "python",
   "name": "python3"
  },
  "language_info": {
   "codemirror_mode": {
    "name": "ipython",
    "version": 3
   },
   "file_extension": ".py",
   "mimetype": "text/x-python",
   "name": "python",
   "nbconvert_exporter": "python",
   "pygments_lexer": "ipython3",
   "version": "3.10.0"
  },
  "orig_nbformat": 4,
  "vscode": {
   "interpreter": {
    "hash": "bb30887f202a295f03f14bdc6c33a4c2546440b9bc6792bc5945ccf510842fff"
   }
  }
 },
 "nbformat": 4,
 "nbformat_minor": 2
}
