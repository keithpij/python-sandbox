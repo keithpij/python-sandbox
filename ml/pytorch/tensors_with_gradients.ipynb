{
 "cells": [
  {
   "cell_type": "markdown",
   "metadata": {},
   "source": [
    "### Contents\n",
    "Creating a Tensor with Gradients<br>"
   ]
  },
  {
   "cell_type": "code",
   "execution_count": null,
   "metadata": {},
   "outputs": [],
   "source": [
    "import torch"
   ]
  },
  {
   "cell_type": "code",
   "execution_count": 15,
   "metadata": {},
   "outputs": [
    {
     "data": {
      "text/plain": [
       "tensor(11)"
      ]
     },
     "execution_count": 15,
     "metadata": {},
     "output_type": "execute_result"
    }
   ],
   "source": [
    "def f(x):\n",
    "    #return 5 * x**3 + 2 * x**2 + 10\n",
    "    return 2*x+5\n",
    "f(torch.tensor(3))"
   ]
  },
  {
   "cell_type": "markdown",
   "metadata": {},
   "source": [
    "Notes:<br>\n",
    "There is a difference between torch.tensor() and torch.Tensor()<br>\n",
    "All data in a tensor with gradients has to be a float."
   ]
  },
  {
   "cell_type": "code",
   "execution_count": 17,
   "metadata": {},
   "outputs": [
    {
     "name": "stdout",
     "output_type": "stream",
     "text": [
      "tensor(4., requires_grad=True)\n",
      "tensor(13., grad_fn=<AddBackward0>)\n",
      "tensor(2.)\n"
     ]
    }
   ],
   "source": [
    "weights = 4\n",
    "x = torch.tensor(weights, dtype=torch.float32)\n",
    "x.requires_grad_()\n",
    "y = f(x)\n",
    "y.backward()\n",
    "\n",
    "print(x)\n",
    "print(y)\n",
    "print(x.grad)\n"
   ]
  }
 ],
 "metadata": {
  "kernelspec": {
   "display_name": "Python 3.10.0 ('.venv': venv)",
   "language": "python",
   "name": "python3"
  },
  "language_info": {
   "codemirror_mode": {
    "name": "ipython",
    "version": 3
   },
   "file_extension": ".py",
   "mimetype": "text/x-python",
   "name": "python",
   "nbconvert_exporter": "python",
   "pygments_lexer": "ipython3",
   "version": "3.10.0"
  },
  "orig_nbformat": 4,
  "vscode": {
   "interpreter": {
    "hash": "bb30887f202a295f03f14bdc6c33a4c2546440b9bc6792bc5945ccf510842fff"
   }
  }
 },
 "nbformat": 4,
 "nbformat_minor": 2
}
