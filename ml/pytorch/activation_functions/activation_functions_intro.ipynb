{
 "cells": [
  {
   "cell_type": "markdown",
   "metadata": {},
   "source": [
    "### Contents\n",
    "A Model Without an Activation Function<br>\n",
    "&emsp;Linear Example<br>\n",
    "&emsp;Quadratic Example<br>\n"
   ]
  },
  {
   "cell_type": "code",
   "execution_count": 1,
   "metadata": {},
   "outputs": [],
   "source": [
    "from typing import List\n",
    "\n",
    "import matplotlib.pyplot as plt\n",
    "import numpy as np\n",
    "import torch\n",
    "import torch.nn as nn\n",
    "import torch.nn.functional as F\n",
    "import torch.optim as optim\n",
    "from torch import Tensor\n"
   ]
  },
  {
   "cell_type": "markdown",
   "metadata": {},
   "source": [
    "### A Model without an Activation Function"
   ]
  },
  {
   "cell_type": "code",
   "execution_count": null,
   "metadata": {},
   "outputs": [],
   "source": [
    "def create_linear_data(weight:float, bias: float) -> tuple[List[float], List[float]]:\n",
    "    X = [float(x) for x in range(-10, 10)]\n",
    "    y = [weight*x+bias for x in X]\n",
    "    X, y = np.array(X, dtype=np.float32), np.array(y, np.float32)\n",
    "    X = np.reshape(X, (len(X), 1))\n",
    "    y = np.reshape(y, (len(y), 1))\n",
    "    return X, y\n",
    "\n",
    "# We need to reshape X and y so that each row is a single feature/label.\n",
    "# This is needed for training.\n",
    "X_train, y_train = create_linear_data(5, 9)\n",
    "\n",
    "print('X_train Dimenstions:',X_train.ndim)\n",
    "print('X_train Shape:', X_train.shape)\n",
    "print(X_train[:2])\n",
    "\n",
    "print('y_train Dimenstions:',y_train.ndim)\n",
    "print('y_train Shape:', y_train.shape)\n",
    "print(y_train[:2])"
   ]
  },
  {
   "cell_type": "code",
   "execution_count": 4,
   "metadata": {},
   "outputs": [
    {
     "data": {
      "image/png": "[encoded data removed]",
      "text/plain": [
       "<Figure size 432x288 with 1 Axes>"
      ]
     },
     "metadata": {
      "needs_background": "light"
     },
     "output_type": "display_data"
    }
   ],
   "source": [
    "def plot_data(x: np.ndarray, y1: np.ndarray, y2: np.ndarray=None) -> None:\n",
    "    ax = plt.subplots()[1]\n",
    "    ax.set_xlim(x.min()-5, x.max()+5)\n",
    "    ax.set_ylim(y1.min()-5, y1.max()+5)\n",
    "    plt.scatter(x, y1, color='blue')\n",
    "    if not y2 is None:\n",
    "        ax.scatter(x, y2, color='red')\n",
    "    plt.grid(True)\n",
    "    plt.axhline(color='black')\n",
    "    plt.axvline(color='black')\n",
    "\n",
    "plot_data(X_train, y_train)"
   ]
  },
  {
   "cell_type": "markdown",
   "metadata": {},
   "source": [
    "Design the Model"
   ]
  },
  {
   "cell_type": "code",
   "execution_count": null,
   "metadata": {},
   "outputs": [],
   "source": [
    "class LinearRegressionModel(nn.Module):\n",
    "\n",
    "    def __init__(self):\n",
    "        super(LinearRegressionModel, self).__init__()\n",
    "\n",
    "        self.linear1 = nn.Linear(1, 1, bias=True)\n",
    "\n",
    "    def forward(self, input, log=False):\n",
    "        l1 = self.linear1(input)\n",
    "        if log:\n",
    "            print('\\nLinear 1:', l1, l1.shape)\n",
    "        return l1\n"
   ]
  },
  {
   "cell_type": "markdown",
   "metadata": {},
   "source": [
    "Test the Untrained Model with a Single Prediction"
   ]
  },
  {
   "cell_type": "code",
   "execution_count": null,
   "metadata": {},
   "outputs": [],
   "source": [
    "model = LinearRegressionModel()\n",
    "X = torch.tensor([1], dtype=torch.float32)\n",
    "prediction = model(X, log=True)\n",
    "print(X)\n",
    "print(prediction)"
   ]
  },
  {
   "cell_type": "markdown",
   "metadata": {},
   "source": [
    "Create a Training Function"
   ]
  },
  {
   "cell_type": "code",
   "execution_count": 11,
   "metadata": {},
   "outputs": [],
   "source": [
    "\n",
    "# When you have a large number of iterations over a small training set you are basically\n",
    "# memorizing your training set.\n",
    "\n",
    "EPOCHS = 100\n",
    "LR = 0.01\n",
    "\n",
    "def train_model(model: nn.Module, X_train, y_train) -> tuple[nn.Module, List]:\n",
    "    torch.manual_seed(42)\n",
    "    losses = []\n",
    "    loss_function = nn.MSELoss()\n",
    "    optimizer = optim.SGD(model.parameters(), lr=LR)\n",
    "\n",
    "    for epoch in range(EPOCHS):\n",
    "        total_loss = 0\n",
    "        for X, y in zip(X_train, y_train):\n",
    "\n",
    "            # Wrap in tensors\n",
    "            X_tensor = torch.from_numpy(X)\n",
    "            y_tensor = torch.from_numpy(y)\n",
    "            \n",
    "            # Pytorch accumulates gradients so before passing in a new\n",
    "            # context (features) you need to zero out the gradients from the \n",
    "            # previous context.\n",
    "            model.zero_grad()\n",
    "            optimizer.zero_grad()\n",
    "\n",
    "            # Forward pass - this will get log probabilities for every word \n",
    "            # in our vocabulary which is now represented as embeddings.\n",
    "            prediction = model(X_tensor)\n",
    "\n",
    "            # Compute the loss.\n",
    "            # target has to be a list for some reason.\n",
    "            loss = loss_function(prediction, y_tensor)\n",
    "\n",
    "            # Backward pass to update the gradients.\n",
    "            loss.backward()\n",
    "\n",
    "            # Optimize the parameters\n",
    "            optimizer.step()\n",
    "\n",
    "            # Get the loss for this context.\n",
    "            total_loss += loss.item()\n",
    "            \n",
    "        # Save the total loss for this epoch.\n",
    "        losses.append(total_loss)\n",
    "\n",
    "    return model, losses"
   ]
  },
  {
   "cell_type": "code",
   "execution_count": 5,
   "metadata": {},
   "outputs": [],
   "source": [
    "def print_results(model: nn.Module, losses: list) -> None:\n",
    "    # Print the losses of every 10th epoch.\n",
    "    for epoch in range(0, EPOCHS, 10):\n",
    "        print(epoch, ':', losses[epoch])\n",
    "    # This will print the very last epoch so we can see the\n",
    "    # final loss value.\n",
    "    print(EPOCHS-1, ':', losses[EPOCHS-1])\n",
    "\n",
    "    for name, parameter in model.named_parameters():\n",
    "        print(name, parameter.data)"
   ]
  },
  {
   "cell_type": "code",
   "execution_count": null,
   "metadata": {},
   "outputs": [],
   "source": [
    "\n",
    "model = LinearRegressionModel()\n",
    "model, losses = train_model(model, X_train, y_train)\n",
    "\n",
    "# The loss should decrease with every iteration (epoch) over the training data.\n",
    "print_results(model, losses)"
   ]
  },
  {
   "cell_type": "code",
   "execution_count": null,
   "metadata": {},
   "outputs": [],
   "source": [
    "predictions = [model(torch.from_numpy(X)).detach().item() for X in X_train]\n",
    "\n",
    "plot_data(np.array(X_train), np.array(y_train), np.array(predictions))"
   ]
  },
  {
   "cell_type": "code",
   "execution_count": null,
   "metadata": {},
   "outputs": [],
   "source": [
    "print(y_train)\n",
    "print(predictions)"
   ]
  },
  {
   "cell_type": "markdown",
   "metadata": {},
   "source": [
    "### A Quadratic Example"
   ]
  },
  {
   "cell_type": "code",
   "execution_count": 3,
   "metadata": {},
   "outputs": [
    {
     "name": "stdout",
     "output_type": "stream",
     "text": [
      "X_train Dimenstions: 2\n",
      "X_train Shape: (21, 1)\n",
      "[[-10.]\n",
      " [ -9.]]\n",
      "y_train Dimenstions: 2\n",
      "y_train Shape: (21, 1)\n",
      "[[483.]\n",
      " [390.]]\n"
     ]
    }
   ],
   "source": [
    "def create_quadratic_data(a:float, b: float, c:float) -> tuple[List[float], List[float]]:\n",
    "    X = [float(x) for x in range(-10, 11)]\n",
    "    y = [a*(x**2)+(b*x)+c for x in X]\n",
    "    X, y = np.array(X, dtype=np.float32), np.array(y, np.float32)\n",
    "    X = np.reshape(X, (len(X), 1))\n",
    "    y = np.reshape(y, (len(y), 1))\n",
    "    return X, y\n",
    "\n",
    "X_train, y_train = create_quadratic_data(5, 2, 3)\n",
    "\n",
    "print('X_train Dimenstions:',X_train.ndim)\n",
    "print('X_train Shape:', X_train.shape)\n",
    "print(X_train[:2])\n",
    "\n",
    "print('y_train Dimenstions:',y_train.ndim)\n",
    "print('y_train Shape:', y_train.shape)\n",
    "print(y_train[:2])"
   ]
  },
  {
   "cell_type": "code",
   "execution_count": 12,
   "metadata": {},
   "outputs": [
    {
     "data": {
      "image/png": "[encoded data removed]",
      "text/plain": [
       "<Figure size 432x288 with 1 Axes>"
      ]
     },
     "metadata": {
      "needs_background": "light"
     },
     "output_type": "display_data"
    }
   ],
   "source": [
    "plot_data(X_train, y_train)"
   ]
  },
  {
   "cell_type": "code",
   "execution_count": 7,
   "metadata": {},
   "outputs": [],
   "source": [
    "class QuadraticRegressionModel(nn.Module):\n",
    "\n",
    "    def __init__(self):\n",
    "        super(QuadraticRegressionModel, self).__init__()\n",
    "\n",
    "        self.linear1 = nn.Linear(1, 6, bias=True)\n",
    "        self.linear2 = nn.Linear(6, 6, bias=True)\n",
    "        self.linear3 = nn.Linear(6, 1, bias=True)\n",
    "\n",
    "    def forward(self, x, log=False):\n",
    "        x = F.dropout(F.relu(self.linear1(x)), p=0.5)\n",
    "        x = F.relu(self.linear2(x))\n",
    "        x = self.linear3(x)\n",
    "        #out = self.linear1(input)\n",
    "        #out = F.relu(out)\n",
    "        #out = F.dropout(out, p=0.5)\n",
    "        #out = self.linear2(out)\n",
    "        #out = F.relu(out)\n",
    "        #out = self.linear3(out)\n",
    "        return x"
   ]
  },
  {
   "cell_type": "markdown",
   "metadata": {},
   "source": [
    "Test the Untrained Model with a Single Prediction"
   ]
  },
  {
   "cell_type": "code",
   "execution_count": null,
   "metadata": {},
   "outputs": [],
   "source": [
    "model = QuadraticRegressionModel()\n",
    "X = torch.tensor([1], dtype=torch.float32)\n",
    "prediction = model(X, log=True)\n",
    "print(X)\n",
    "print(prediction)"
   ]
  },
  {
   "cell_type": "code",
   "execution_count": 13,
   "metadata": {},
   "outputs": [
    {
     "name": "stdout",
     "output_type": "stream",
     "text": [
      "0 : 3974096458502.623\n",
      "10 : nan\n",
      "20 : nan\n",
      "30 : nan\n",
      "40 : nan\n",
      "50 : nan\n",
      "60 : nan\n",
      "70 : nan\n",
      "80 : nan\n",
      "90 : nan\n",
      "99 : nan\n",
      "linear1.weight tensor([[nan],\n",
      "        [nan],\n",
      "        [nan],\n",
      "        [nan],\n",
      "        [nan],\n",
      "        [nan]])\n",
      "linear1.bias tensor([nan, nan, nan, nan, nan, nan])\n",
      "linear2.weight tensor([[nan, nan, nan, nan, nan, nan],\n",
      "        [nan, nan, nan, nan, nan, nan],\n",
      "        [nan, nan, nan, nan, nan, nan],\n",
      "        [nan, nan, nan, nan, nan, nan],\n",
      "        [nan, nan, nan, nan, nan, nan],\n",
      "        [nan, nan, nan, nan, nan, nan]])\n",
      "linear2.bias tensor([nan, nan, nan, nan, nan, nan])\n",
      "linear3.weight tensor([[nan, nan, nan, nan, nan, nan]])\n",
      "linear3.bias tensor([nan])\n"
     ]
    }
   ],
   "source": [
    "model = QuadraticRegressionModel()\n",
    "model, losses = train_model(model, X_train, y_train)\n",
    "\n",
    "# The loss should decrease with every iteration (epoch) over the training data.\n",
    "print_results(model, losses)"
   ]
  },
  {
   "cell_type": "markdown",
   "metadata": {},
   "source": [
    "Plot labels and predictions"
   ]
  },
  {
   "cell_type": "code",
   "execution_count": 9,
   "metadata": {},
   "outputs": [
    {
     "data": {
      "image/png": "[encoded data removed]",
      "text/plain": [
       "<Figure size 432x288 with 1 Axes>"
      ]
     },
     "metadata": {
      "needs_background": "light"
     },
     "output_type": "display_data"
    }
   ],
   "source": [
    "#model.eval() # Tell the model we are evaluating it so that it does not learn or dropout.\n",
    "predictions = [model(torch.from_numpy(X)).detach().item() for X in X_train]\n",
    "\n",
    "plot_data(np.array(X_train), np.array(y_train), np.array(predictions))"
   ]
  },
  {
   "cell_type": "code",
   "execution_count": null,
   "metadata": {},
   "outputs": [],
   "source": [
    "activation_functions = {\n",
    "    'ELU': nn.ELU(),\n",
    "    'Hardshrink': nn.Hardshrink(),\n",
    "    'Hardsigmoin': nn.Hardsigmoid(),\n",
    "    'Hardswish': nn.Hardswish(),\n",
    "    'Hardtanh': nn.Hardtanh(),\n",
    "    'LeadkyReLU': nn.LeakyReLU(),\n",
    "    'LogSigmoid': nn.LogSigmoid(),\n",
    "    #'MultiheadAttention': nn.MultiheadAttention(embed_dim, num_heads),\n",
    "    'PReLU': nn.PReLU(),\n",
    "    'ReLU': nn.ReLU(),\n",
    "    'ReLU6': nn.ReLU6(),\n",
    "    'RReLU': nn.RReLU(),\n",
    "    'SELU': nn.SELU(),\n",
    "    'CELU': nn.CELU(),\n",
    "    'GELU': nn.GELU(),\n",
    "    'Sigmoid': nn.Sigmoid(),\n",
    "    'SiLU': nn.SiLU(),\n",
    "    'Mish': nn.Mish(),\n",
    "    'Softplus': nn.Softplus(),\n",
    "    'Softshrink': nn.Softshrink(),\n",
    "    'Softsign': nn.Softsign(),\n",
    "    'Tanh': nn.Tanh(),\n",
    "    'Tanhshrink': nn.Tanhshrink(),\n",
    "    'Threshold': nn.Threshold(),\n",
    "    #'GLU': nn.GLU(),\n",
    "    #'Softmin': nn.Softmin(),\n",
    "    #'Softmax': nn.Softmax(),\n",
    "    #'Softmax2d': nn.Softmax2d(),\n",
    "    #'LogSoftmax': nn.LogSoftmax(),\n",
    "    #'AdaptiveLogSoftmaxWithLoss': nn.AdaptiveLogSoftmaxWithLoss()\n",
    "}"
   ]
  }
 ],
 "metadata": {
  "kernelspec": {
   "display_name": "Python 3.10.0 ('.venv': venv)",
   "language": "python",
   "name": "python3"
  },
  "language_info": {
   "codemirror_mode": {
    "name": "ipython",
    "version": 3
   },
   "file_extension": ".py",
   "mimetype": "text/x-python",
   "name": "python",
   "nbconvert_exporter": "python",
   "pygments_lexer": "ipython3",
   "version": "3.10.0"
  },
  "orig_nbformat": 4,
  "vscode": {
   "interpreter": {
    "hash": "bb30887f202a295f03f14bdc6c33a4c2546440b9bc6792bc5945ccf510842fff"
   }
  }
 },
 "nbformat": 4,
 "nbformat_minor": 2
}
