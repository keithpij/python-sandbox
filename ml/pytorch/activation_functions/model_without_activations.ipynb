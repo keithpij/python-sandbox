{
 "cells": [
  {
   "attachments": {},
   "cell_type": "markdown",
   "metadata": {},
   "source": [
    "### Contents\n",
    "A Linear Relationship<br>\n",
    "&emsp;Create Linear Data<br>\n",
    "&emsp;Plot Linear Data<br>\n",
    "&emsp;Design a Model (No Layers and No Activations)<br>\n",
    "&emsp;Create the Model and Print the Initial Parameters<br>\n",
    "&emsp;Train the Model and Print the Results<br>\n",
    "&emsp;Plot Labels and Predictions<br>"
   ]
  },
  {
   "cell_type": "code",
   "execution_count": 6,
   "metadata": {},
   "outputs": [],
   "source": [
    "from typing import List, Tuple\n",
    "\n",
    "import matplotlib.pyplot as plt\n",
    "import numpy as np\n",
    "import torch\n",
    "import torch.nn as nn\n",
    "import torch.nn.functional as F\n",
    "import torch.optim as optim\n",
    "from torch import Tensor\n",
    "\n",
    "import utilities as util"
   ]
  },
  {
   "attachments": {},
   "cell_type": "markdown",
   "metadata": {},
   "source": [
    "Create Linear Data"
   ]
  },
  {
   "cell_type": "code",
   "execution_count": 7,
   "metadata": {},
   "outputs": [
    {
     "name": "stdout",
     "output_type": "stream",
     "text": [
      "X_train Dimenstions: 2\n",
      "X_train Shape: (20, 1)\n",
      "[[-10.]\n",
      " [ -9.]]\n",
      "y_train Dimenstions: 2\n",
      "y_train Shape: (20, 1)\n",
      "[[-41.]\n",
      " [-36.]]\n"
     ]
    }
   ],
   "source": [
    "def create_linear_data(weight:float, bias: float) -> Tuple[List[float], List[float]]:\n",
    "    X = [float(x) for x in range(-10, 10)]\n",
    "    y = [weight*x+bias for x in X]\n",
    "    X, y = np.array(X, dtype=np.float32), np.array(y, np.float32)\n",
    "    # We need to reshape X and y so that each row is a single feature/label.\n",
    "    # This is needed for training.\n",
    "    X = np.reshape(X, (len(X), 1))\n",
    "    y = np.reshape(y, (len(y), 1))\n",
    "    return X, y\n",
    "\n",
    "X_train, y_train = create_linear_data(5, 9)\n",
    "\n",
    "print('X_train Dimenstions:',X_train.ndim)\n",
    "print('X_train Shape:', X_train.shape)\n",
    "print(X_train[:2])\n",
    "\n",
    "print('y_train Dimenstions:',y_train.ndim)\n",
    "print('y_train Shape:', y_train.shape)\n",
    "print(y_train[:2])"
   ]
  },
  {
   "attachments": {},
   "cell_type": "markdown",
   "metadata": {},
   "source": [
    "Plot Linear Data"
   ]
  },
  {
   "cell_type": "code",
   "execution_count": 8,
   "metadata": {},
   "outputs": [
    {
     "data": {
      "image/png": "[encoded data removed]",
      "text/plain": [
       "<Figure size 432x288 with 1 Axes>"
      ]
     },
     "metadata": {
      "needs_background": "light"
     },
     "output_type": "display_data"
    }
   ],
   "source": [
    "util.plot_data(X_train, y_train)"
   ]
  },
  {
   "attachments": {},
   "cell_type": "markdown",
   "metadata": {},
   "source": [
    "Design a Model (No Layers and No Activations)"
   ]
  },
  {
   "cell_type": "code",
   "execution_count": 9,
   "metadata": {},
   "outputs": [],
   "source": [
    "class LinearRegressionModel(nn.Module):\n",
    "\n",
    "    def __init__(self):\n",
    "        super(LinearRegressionModel, self).__init__()\n",
    "\n",
    "        self.linear1 = nn.Linear(1, 1, bias=True)\n",
    "\n",
    "    def forward(self, input):\n",
    "        l1 = self.linear1(input)\n",
    "        return l1\n"
   ]
  },
  {
   "attachments": {},
   "cell_type": "markdown",
   "metadata": {},
   "source": [
    "Create the Model and Print the Initial Parameters"
   ]
  },
  {
   "cell_type": "code",
   "execution_count": 11,
   "metadata": {},
   "outputs": [
    {
     "name": "stdout",
     "output_type": "stream",
     "text": [
      "linear1.weight tensor([[-0.9306]])\n",
      "linear1.bias tensor([-0.8874])\n"
     ]
    }
   ],
   "source": [
    "model = LinearRegressionModel()\n",
    "util.print_parameters(model)"
   ]
  },
  {
   "attachments": {},
   "cell_type": "markdown",
   "metadata": {},
   "source": [
    "Train the Model and Print the Results"
   ]
  },
  {
   "cell_type": "code",
   "execution_count": 12,
   "metadata": {},
   "outputs": [
    {
     "name": "stdout",
     "output_type": "stream",
     "text": [
      "0 : 6331.22146576643\n",
      "10 : 19.43146638618782\n",
      "20 : 0.18873785928008147\n",
      "30 : 0.0018326312438148307\n",
      "40 : 1.775154578353977e-05\n",
      "50 : 1.6679337022651453e-07\n",
      "60 : 4.9367372412234545e-09\n",
      "70 : 4.9367372412234545e-09\n",
      "80 : 4.9367372412234545e-09\n",
      "90 : 4.9367372412234545e-09\n",
      "99 : 4.9367372412234545e-09\n"
     ]
    }
   ],
   "source": [
    "# When you have a large number of iterations over a small training set you are basically\n",
    "# memorizing your training set.\n",
    "config = {\n",
    "    'epochs': 100,\n",
    "    'lr': 0.01,\n",
    "    'loss_function': nn.MSELoss()\n",
    "}\n",
    "\n",
    "model, losses = util.train_model(model, config, X_train, y_train)\n",
    "\n",
    "# The loss should decrease with every iteration (epoch) over the training data.\n",
    "util.print_results(model, losses)"
   ]
  },
  {
   "cell_type": "code",
   "execution_count": 13,
   "metadata": {},
   "outputs": [
    {
     "data": {
      "image/png": "[encoded data removed]",
      "text/plain": [
       "<Figure size 432x288 with 1 Axes>"
      ]
     },
     "metadata": {
      "needs_background": "light"
     },
     "output_type": "display_data"
    }
   ],
   "source": [
    "predictions = [model(torch.from_numpy(X)).detach().item() for X in X_train]\n",
    "util.plot_data(np.array(X_train), np.array(y_train), np.array(predictions))"
   ]
  },
  {
   "cell_type": "markdown",
   "metadata": {},
   "source": [
    "### A Quadratic Example"
   ]
  },
  {
   "cell_type": "code",
   "execution_count": null,
   "metadata": {},
   "outputs": [],
   "source": [
    "def create_quadratic_data(a:float, b: float, c:float) -> Tuple[List[float], List[float]]:\n",
    "    X = [float(x) for x in range(-10, 11)]\n",
    "    y = [a*(x**2)+(b*x)+c for x in X]\n",
    "    X, y = np.array(X, dtype=np.float32), np.array(y, np.float32)\n",
    "    X = np.reshape(X, (len(X), 1))\n",
    "    y = np.reshape(y, (len(y), 1))\n",
    "    return X, y\n",
    "\n",
    "X_train, y_train = create_quadratic_data(5, 2, 3)\n",
    "\n",
    "print('X_train Dimenstions:',X_train.ndim)\n",
    "print('X_train Shape:', X_train.shape)\n",
    "print(X_train[:2])\n",
    "\n",
    "print('y_train Dimenstions:',y_train.ndim)\n",
    "print('y_train Shape:', y_train.shape)\n",
    "print(y_train[:2])"
   ]
  },
  {
   "cell_type": "code",
   "execution_count": null,
   "metadata": {},
   "outputs": [],
   "source": [
    "plot_data(X_train, y_train)"
   ]
  },
  {
   "cell_type": "code",
   "execution_count": null,
   "metadata": {},
   "outputs": [],
   "source": [
    "model = LinearRegressionModel()\n",
    "model, losses = train_model(model, X_train, y_train)\n",
    "\n",
    "# The loss should decrease with every iteration (epoch) over the training data.\n",
    "print_results(model, losses)"
   ]
  },
  {
   "cell_type": "code",
   "execution_count": null,
   "metadata": {},
   "outputs": [],
   "source": [
    "predictions = [model(torch.from_numpy(X)).detach().item() for X in X_train]\n",
    "plot_data(np.array(X_train), np.array(y_train), np.array(predictions))"
   ]
  },
  {
   "cell_type": "code",
   "execution_count": null,
   "metadata": {},
   "outputs": [],
   "source": [
    "class QuadraticRegressionModel(nn.Module):\n",
    "\n",
    "    def __init__(self):\n",
    "        super(QuadraticRegressionModel, self).__init__()\n",
    "\n",
    "        self.linear1 = nn.Linear(1, 6, bias=True)\n",
    "        self.linear2 = nn.Linear(6, 6, bias=True)\n",
    "        self.linear3 = nn.Linear(6, 1, bias=True)\n",
    "\n",
    "    def forward(self, x, log=False):\n",
    "        x = F.dropout(F.relu(self.linear1(x)), p=0.5)\n",
    "        x = F.relu(self.linear2(x))\n",
    "        x = self.linear3(x)\n",
    "        #out = self.linear1(input)\n",
    "        #out = F.relu(out)\n",
    "        #out = F.dropout(out, p=0.5)\n",
    "        #out = self.linear2(out)\n",
    "        #out = F.relu(out)\n",
    "        #out = self.linear3(out)\n",
    "        return x"
   ]
  },
  {
   "cell_type": "markdown",
   "metadata": {},
   "source": [
    "Test the Untrained Model with a Single Prediction"
   ]
  },
  {
   "cell_type": "code",
   "execution_count": null,
   "metadata": {},
   "outputs": [],
   "source": [
    "model = QuadraticRegressionModel()\n",
    "X = torch.tensor([1], dtype=torch.float32)\n",
    "prediction = model(X, log=True)\n",
    "print(X)\n",
    "print(prediction)"
   ]
  },
  {
   "cell_type": "code",
   "execution_count": null,
   "metadata": {},
   "outputs": [],
   "source": [
    "model = QuadraticRegressionModel()\n",
    "model, losses = train_model(model, X_train, y_train)\n",
    "\n",
    "# The loss should decrease with every iteration (epoch) over the training data.\n",
    "print_results(model, losses)"
   ]
  },
  {
   "cell_type": "markdown",
   "metadata": {},
   "source": [
    "Plot labels and predictions"
   ]
  },
  {
   "cell_type": "code",
   "execution_count": null,
   "metadata": {},
   "outputs": [],
   "source": [
    "#model.eval() # Tell the model we are evaluating it so that it does not learn or dropout.\n",
    "predictions = [model(torch.from_numpy(X)).detach().item() for X in X_train]\n",
    "\n",
    "plot_data(np.array(X_train), np.array(y_train), np.array(predictions))"
   ]
  }
 ],
 "metadata": {
  "kernelspec": {
   "display_name": "Python 3.10.0 ('.venv': venv)",
   "language": "python",
   "name": "python3"
  },
  "language_info": {
   "codemirror_mode": {
    "name": "ipython",
    "version": 3
   },
   "file_extension": ".py",
   "mimetype": "text/x-python",
   "name": "python",
   "nbconvert_exporter": "python",
   "pygments_lexer": "ipython3",
   "version": "3.10.0 (default, Jun  8 2022, 08:49:18) [Clang 10.0.1 (clang-1001.0.46.4)]"
  },
  "orig_nbformat": 4,
  "vscode": {
   "interpreter": {
    "hash": "bb30887f202a295f03f14bdc6c33a4c2546440b9bc6792bc5945ccf510842fff"
   }
  }
 },
 "nbformat": 4,
 "nbformat_minor": 2
}
