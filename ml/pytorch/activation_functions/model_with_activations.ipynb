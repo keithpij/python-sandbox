{
 "cells": [
  {
   "attachments": {},
   "cell_type": "markdown",
   "metadata": {},
   "source": [
    "### Contents\n",
    "A Quadratic Relationship<br>\n",
    "&emsp;Create Quadratic Data<br>\n",
    "&emsp;Plot Quadratic Data<br>\n",
    "&emsp;Design a Model (Linear Layers Only - No Activation)<br>\n",
    "&emsp;Train the Model<br>\n",
    "&emsp;Plot Labels and Predictions<br>\n",
    "&emsp;Re-design the Model (Add Activations)<br>\n",
    "&emsp;Train the Model Again<br>\n",
    "&emsp;Plot Labels and Predictions<br>"
   ]
  },
  {
   "cell_type": "code",
   "execution_count": 2,
   "metadata": {},
   "outputs": [],
   "source": [
    "from typing import List, Tuple\n",
    "\n",
    "import numpy as np\n",
    "import torch\n",
    "import torch.nn as nn\n",
    "import torch.nn.functional as F\n",
    "import torch.optim as optim\n",
    "from torch import Tensor\n",
    "\n",
    "import utilities as util"
   ]
  },
  {
   "cell_type": "markdown",
   "metadata": {},
   "source": [
    "Create Quadratic Data"
   ]
  },
  {
   "cell_type": "code",
   "execution_count": 3,
   "metadata": {},
   "outputs": [
    {
     "name": "stdout",
     "output_type": "stream",
     "text": [
      "X_train Dimenstions: 2\n",
      "X_train Shape: (21, 1)\n",
      "[[-1. ]\n",
      " [-0.9]]\n",
      "y_train Dimenstions: 2\n",
      "y_train Shape: (21, 1)\n",
      "[[6.  ]\n",
      " [5.25]]\n"
     ]
    }
   ],
   "source": [
    "def create_quadratic_data(a:float, b: float, c:float) -> Tuple[List[float], List[float]]:\n",
    "    X = [float(x*.1) for x in range(-10, 11)]\n",
    "    y = [a*(x**2)+(b*x)+c for x in X]\n",
    "    X, y = np.array(X, dtype=np.float32), np.array(y, np.float32)\n",
    "    X = np.reshape(X, (len(X), 1))\n",
    "    y = np.reshape(y, (len(y), 1))\n",
    "    return X, y\n",
    "\n",
    "X_train, y_train = create_quadratic_data(5, 2, 3)\n",
    "\n",
    "print('X_train Dimenstions:',X_train.ndim)\n",
    "print('X_train Shape:', X_train.shape)\n",
    "print(X_train[:2])\n",
    "\n",
    "print('y_train Dimenstions:',y_train.ndim)\n",
    "print('y_train Shape:', y_train.shape)\n",
    "print(y_train[:2])"
   ]
  },
  {
   "attachments": {},
   "cell_type": "markdown",
   "metadata": {},
   "source": [
    "Plot Quadratic Data"
   ]
  },
  {
   "cell_type": "code",
   "execution_count": 4,
   "metadata": {},
   "outputs": [
    {
     "data": {
      "image/png": "[encoded data removed]",
      "text/plain": [
       "<Figure size 432x288 with 1 Axes>"
      ]
     },
     "metadata": {
      "needs_background": "light"
     },
     "output_type": "display_data"
    }
   ],
   "source": [
    "util.plot_data(X_train, y_train)"
   ]
  },
  {
   "attachments": {},
   "cell_type": "markdown",
   "metadata": {},
   "source": [
    "Design a Model (Linear Layers Only - No Activation)"
   ]
  },
  {
   "cell_type": "code",
   "execution_count": 5,
   "metadata": {},
   "outputs": [],
   "source": [
    "class MultiLayerModel(nn.Module):\n",
    "\n",
    "    def __init__(self):\n",
    "        super(MultiLayerModel, self).__init__()\n",
    "\n",
    "        self.linear1 = nn.Linear(1, 20, bias=True)\n",
    "        self.linear2 = nn.Linear(20, 20, bias=True)\n",
    "        self.linear3 = nn.Linear(20, 1, bias=True)\n",
    "\n",
    "    def forward(self, x, log=False):\n",
    "        out = self.linear1(x)\n",
    "        out = self.linear2(out)\n",
    "        out = self.linear3(out)\n",
    "        return out"
   ]
  },
  {
   "cell_type": "markdown",
   "metadata": {},
   "source": [
    "Train the Model"
   ]
  },
  {
   "cell_type": "code",
   "execution_count": 6,
   "metadata": {},
   "outputs": [
    {
     "name": "stdout",
     "output_type": "stream",
     "text": [
      "0 : 77.50245755456854\n",
      "10 : 29.615415192442015\n",
      "20 : 28.043536255136132\n",
      "30 : 27.760135722812265\n",
      "40 : 28.037089253775775\n",
      "50 : 28.573911742772907\n",
      "60 : 29.200073747895658\n",
      "70 : 29.800236904178746\n",
      "80 : 30.30101412156364\n",
      "90 : 30.67076532218198\n",
      "99 : 30.894115877501463\n"
     ]
    }
   ],
   "source": [
    "# Configuration needed for training the model.\n",
    "config = {\n",
    "    'epochs': 100,\n",
    "    'lr': 0.01,\n",
    "    'loss_function': nn.MSELoss()\n",
    "}\n",
    "\n",
    "model = MultiLayerModel()\n",
    "model, losses = util.train_model(model, config, X_train, y_train)\n",
    "\n",
    "# The loss should decrease with every iteration (epoch) over the training data.\n",
    "util.print_results(model, losses)"
   ]
  },
  {
   "attachments": {},
   "cell_type": "markdown",
   "metadata": {},
   "source": [
    "Plot Labels and Predictions"
   ]
  },
  {
   "cell_type": "code",
   "execution_count": 7,
   "metadata": {},
   "outputs": [
    {
     "data": {
      "image/png": "[encoded data removed]",
      "text/plain": [
       "<Figure size 432x288 with 1 Axes>"
      ]
     },
     "metadata": {
      "needs_background": "light"
     },
     "output_type": "display_data"
    }
   ],
   "source": [
    "#model.eval() # Tell the model we are evaluating it so that it does not learn or dropout.\n",
    "predictions = [model(torch.from_numpy(X)).detach().item() for X in X_train]\n",
    "util.plot_data(np.array(X_train), np.array(y_train), np.array(predictions))"
   ]
  },
  {
   "attachments": {},
   "cell_type": "markdown",
   "metadata": {},
   "source": [
    "Re-design the Model (Add Activations)"
   ]
  },
  {
   "cell_type": "code",
   "execution_count": 8,
   "metadata": {},
   "outputs": [],
   "source": [
    "class QuadraticRegressionModel(nn.Module):\n",
    "\n",
    "    def __init__(self):\n",
    "        super(QuadraticRegressionModel, self).__init__()\n",
    "\n",
    "        self.linear1 = nn.Linear(1, 20, bias=True)\n",
    "        self.linear2 = nn.Linear(20, 20, bias=True)\n",
    "        self.linear3 = nn.Linear(20, 1, bias=True)\n",
    "        self.prelu = nn.PReLU(1, 0.25)\n",
    "\n",
    "    def forward(self, x, log=False):\n",
    "        #x = F.dropout(self.prelu(self.linear1(x)), p=0.5)\n",
    "        #x = F.relu(self.linear2(x))\n",
    "        #x = self.linear3(x)\n",
    "        \n",
    "        out = self.linear1(x)\n",
    "        out = F.relu(out)\n",
    "        #out = self.prelu(out)\n",
    "        #out = F.dropout(out, p=0.5)\n",
    "        out = self.linear2(out)\n",
    "        out = F.relu(out)\n",
    "        out = self.linear3(out)\n",
    "        return out"
   ]
  },
  {
   "attachments": {},
   "cell_type": "markdown",
   "metadata": {},
   "source": [
    "Train the Model Again"
   ]
  },
  {
   "cell_type": "code",
   "execution_count": 9,
   "metadata": {},
   "outputs": [
    {
     "name": "stdout",
     "output_type": "stream",
     "text": [
      "0 : 154.0883406996727\n",
      "10 : 9.226368439711223\n",
      "20 : 3.367950015490351\n",
      "30 : 2.650531740160659\n",
      "40 : 1.9259174339495075\n",
      "50 : 1.355936607975309\n",
      "60 : 0.9333313365095819\n",
      "70 : 0.6639281938605563\n",
      "80 : 0.4897018525734893\n",
      "90 : 0.4035242002646555\n",
      "99 : 0.35524103925217787\n"
     ]
    }
   ],
   "source": [
    "# Using the same config as before.\n",
    "\n",
    "model = QuadraticRegressionModel()\n",
    "model, losses = util.train_model(model, config, X_train, y_train)\n",
    "\n",
    "# The loss should decrease with every iteration (epoch) over the training data.\n",
    "util.print_results(model, losses)"
   ]
  },
  {
   "attachments": {},
   "cell_type": "markdown",
   "metadata": {},
   "source": [
    "Plot Labels and Predictions"
   ]
  },
  {
   "cell_type": "code",
   "execution_count": 10,
   "metadata": {},
   "outputs": [
    {
     "data": {
      "image/png": "[encoded data removed]",
      "text/plain": [
       "<Figure size 432x288 with 1 Axes>"
      ]
     },
     "metadata": {
      "needs_background": "light"
     },
     "output_type": "display_data"
    }
   ],
   "source": [
    "#model.eval() # Tell the model we are evaluating it so that it does not learn or dropout.\n",
    "predictions = [model(torch.from_numpy(X)).detach().item() for X in X_train]\n",
    "util.plot_data(np.array(X_train), np.array(y_train), np.array(predictions))"
   ]
  }
 ],
 "metadata": {
  "kernelspec": {
   "display_name": "Python 3.10.0 ('.venv': venv)",
   "language": "python",
   "name": "python3"
  },
  "language_info": {
   "codemirror_mode": {
    "name": "ipython",
    "version": 3
   },
   "file_extension": ".py",
   "mimetype": "text/x-python",
   "name": "python",
   "nbconvert_exporter": "python",
   "pygments_lexer": "ipython3",
   "version": "3.10.0"
  },
  "orig_nbformat": 4,
  "vscode": {
   "interpreter": {
    "hash": "bb30887f202a295f03f14bdc6c33a4c2546440b9bc6792bc5945ccf510842fff"
   }
  }
 },
 "nbformat": 4,
 "nbformat_minor": 2
}
