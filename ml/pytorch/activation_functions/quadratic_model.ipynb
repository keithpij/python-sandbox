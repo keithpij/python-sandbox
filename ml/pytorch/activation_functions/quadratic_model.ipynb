{
 "cells": [
  {
   "cell_type": "markdown",
   "metadata": {},
   "source": [
    "### Contents\n",
    "A Model Without an Activation Function<br>\n",
    "&emsp;Linear Example<br>\n",
    "&emsp;Quadratic Example<br>\n"
   ]
  },
  {
   "cell_type": "code",
   "execution_count": 25,
   "metadata": {},
   "outputs": [],
   "source": [
    "from typing import List\n",
    "\n",
    "import matplotlib.pyplot as plt\n",
    "import numpy as np\n",
    "import torch\n",
    "import torch.nn as nn\n",
    "import torch.nn.functional as F\n",
    "import torch.optim as optim\n",
    "from torch import Tensor\n"
   ]
  },
  {
   "cell_type": "markdown",
   "metadata": {},
   "source": [
    "Create a function for Plotting X, y, and predictions."
   ]
  },
  {
   "cell_type": "code",
   "execution_count": 26,
   "metadata": {},
   "outputs": [],
   "source": [
    "def plot_data(x: np.ndarray, y1: np.ndarray, y2: np.ndarray=None) -> None:\n",
    "    ax = plt.subplots()[1]\n",
    "    ax.set_xlim(x.min()-5, x.max()+5)\n",
    "    ax.set_ylim(y1.min()-5, y1.max()+5)\n",
    "    plt.scatter(x, y1, color='blue')\n",
    "    if not y2 is None:\n",
    "        ax.scatter(x, y2, color='red')\n",
    "    plt.grid(True)\n",
    "    plt.axhline(color='black')\n",
    "    plt.axvline(color='black')"
   ]
  },
  {
   "cell_type": "markdown",
   "metadata": {},
   "source": [
    "Create a Training Function"
   ]
  },
  {
   "cell_type": "code",
   "execution_count": 27,
   "metadata": {},
   "outputs": [],
   "source": [
    "\n",
    "# When you have a large number of iterations over a small training set you are basically\n",
    "# memorizing your training set.\n",
    "\n",
    "EPOCHS = 500\n",
    "LR = 0.01\n",
    "\n",
    "def train_model(model: nn.Module, X_train, y_train) -> tuple[nn.Module, List]:\n",
    "    torch.manual_seed(42)\n",
    "    losses = []\n",
    "    loss_function = nn.MSELoss()\n",
    "    optimizer = optim.SGD(model.parameters(), lr=LR)\n",
    "\n",
    "    for epoch in range(EPOCHS):\n",
    "        total_loss = 0\n",
    "        for X, y in zip(X_train, y_train):\n",
    "\n",
    "            # Wrap in tensors\n",
    "            X_tensor = torch.from_numpy(X)\n",
    "            y_tensor = torch.from_numpy(y)\n",
    "            \n",
    "            # Pytorch accumulates gradients so before passing in a new\n",
    "            # context (features) you need to zero out the gradients from the \n",
    "            # previous context.\n",
    "            model.zero_grad()\n",
    "            optimizer.zero_grad()\n",
    "\n",
    "            # Forward pass - this will get log probabilities for every word \n",
    "            # in our vocabulary which is now represented as embeddings.\n",
    "            prediction = model(X_tensor)\n",
    "\n",
    "            # Compute the loss.\n",
    "            # target has to be a list for some reason.\n",
    "            loss = loss_function(prediction, y_tensor)\n",
    "\n",
    "            # Backward pass to update the gradients.\n",
    "            loss.backward()\n",
    "\n",
    "            # Optimize the parameters\n",
    "            optimizer.step()\n",
    "\n",
    "            # Get the loss for this context.\n",
    "            total_loss += loss.item()\n",
    "            \n",
    "        # Save the total loss for this epoch.\n",
    "        losses.append(total_loss)\n",
    "\n",
    "    return model, losses"
   ]
  },
  {
   "cell_type": "markdown",
   "metadata": {},
   "source": [
    "Create a function for printing training results"
   ]
  },
  {
   "cell_type": "code",
   "execution_count": 28,
   "metadata": {},
   "outputs": [],
   "source": [
    "def print_results(model: nn.Module, losses: list) -> None:\n",
    "    # Print the losses of every 10th epoch.\n",
    "    for epoch in range(0, EPOCHS, 10):\n",
    "        print(epoch, ':', losses[epoch])\n",
    "    # This will print the very last epoch so we can see the\n",
    "    # final loss value.\n",
    "    print(EPOCHS-1, ':', losses[EPOCHS-1])\n",
    "\n",
    "    for name, parameter in model.named_parameters():\n",
    "        print(name, parameter.data)"
   ]
  },
  {
   "cell_type": "markdown",
   "metadata": {},
   "source": [
    "Create Quadratic Data"
   ]
  },
  {
   "cell_type": "code",
   "execution_count": 29,
   "metadata": {},
   "outputs": [
    {
     "name": "stdout",
     "output_type": "stream",
     "text": [
      "X_train Dimenstions: 2\n",
      "X_train Shape: (21, 1)\n",
      "[[-1. ]\n",
      " [-0.9]]\n",
      "y_train Dimenstions: 2\n",
      "y_train Shape: (21, 1)\n",
      "[[6.  ]\n",
      " [5.25]]\n"
     ]
    }
   ],
   "source": [
    "def create_quadratic_data(a:float, b: float, c:float) -> tuple[List[float], List[float]]:\n",
    "    X = [float(x*.1) for x in range(-10, 11)]\n",
    "    y = [a*(x**2)+(b*x)+c for x in X]\n",
    "    X, y = np.array(X, dtype=np.float32), np.array(y, np.float32)\n",
    "    X = np.reshape(X, (len(X), 1))\n",
    "    y = np.reshape(y, (len(y), 1))\n",
    "    return X, y\n",
    "\n",
    "X_train, y_train = create_quadratic_data(5, 2, 3)\n",
    "\n",
    "print('X_train Dimenstions:',X_train.ndim)\n",
    "print('X_train Shape:', X_train.shape)\n",
    "print(X_train[:2])\n",
    "\n",
    "print('y_train Dimenstions:',y_train.ndim)\n",
    "print('y_train Shape:', y_train.shape)\n",
    "print(y_train[:2])"
   ]
  },
  {
   "cell_type": "code",
   "execution_count": 30,
   "metadata": {},
   "outputs": [
    {
     "data": {
      "image/png": "[encoded data removed]",
      "text/plain": [
       "<Figure size 432x288 with 1 Axes>"
      ]
     },
     "metadata": {
      "needs_background": "light"
     },
     "output_type": "display_data"
    }
   ],
   "source": [
    "plot_data(X_train, y_train)"
   ]
  },
  {
   "cell_type": "markdown",
   "metadata": {},
   "source": [
    "Design a model that can learn quadratic relationships"
   ]
  },
  {
   "cell_type": "code",
   "execution_count": 31,
   "metadata": {},
   "outputs": [],
   "source": [
    "class QuadraticRegressionModel(nn.Module):\n",
    "\n",
    "    def __init__(self):\n",
    "        super(QuadraticRegressionModel, self).__init__()\n",
    "\n",
    "        self.linear1 = nn.Linear(1, 20, bias=True)\n",
    "        self.linear2 = nn.Linear(20, 20, bias=True)\n",
    "        self.linear3 = nn.Linear(20, 1, bias=True)\n",
    "        self.prelu = nn.PReLU(1, 0.25)\n",
    "\n",
    "    def forward(self, x, log=False):\n",
    "        #x = F.dropout(self.prelu(self.linear1(x)), p=0.5)\n",
    "        #x = F.relu(self.linear2(x))\n",
    "        #x = self.linear3(x)\n",
    "        \n",
    "        out = self.linear1(x)\n",
    "        #out = self.prelu(out)\n",
    "        #out = F.dropout(out, p=0.5)\n",
    "        out = self.linear2(out)\n",
    "        #out = F.relu(out)\n",
    "        out = self.linear3(out)\n",
    "        return out"
   ]
  },
  {
   "cell_type": "markdown",
   "metadata": {},
   "source": [
    "Test the Untrained Model with a Single Prediction"
   ]
  },
  {
   "cell_type": "code",
   "execution_count": 32,
   "metadata": {},
   "outputs": [],
   "source": [
    "#model = QuadraticRegressionModel()\n",
    "#X = torch.tensor([1], dtype=torch.float32)\n",
    "#prediction = model(X, log=True)\n",
    "#print(X)\n",
    "#print(prediction)"
   ]
  },
  {
   "cell_type": "markdown",
   "metadata": {},
   "source": [
    "Train the Model"
   ]
  },
  {
   "cell_type": "code",
   "execution_count": 33,
   "metadata": {},
   "outputs": [
    {
     "name": "stdout",
     "output_type": "stream",
     "text": [
      "0 : 81.06487090140581\n",
      "10 : 10.677955786784878\n",
      "20 : 5.085084210428477\n",
      "30 : 4.139170162728988\n",
      "40 : 2.833682532684179\n",
      "50 : 2.395523050015072\n",
      "60 : 2.043854186421413\n",
      "70 : 1.897320269363263\n",
      "80 : 1.7765952847039443\n",
      "90 : 1.6708694753833697\n",
      "100 : 1.580594192710123\n",
      "110 : 1.5021702151952923\n",
      "120 : 1.418687042194506\n",
      "130 : 1.3021037682592578\n",
      "140 : 1.1489599281558185\n",
      "150 : 1.0222436538615511\n",
      "160 : 0.9228035150008509\n",
      "170 : 0.8508869721699739\n",
      "180 : 0.7950351047693403\n",
      "190 : 0.7491365688365477\n",
      "200 : 0.6956964008941213\n",
      "210 : 0.6496448856059942\n",
      "220 : 0.6174653840243991\n",
      "230 : 0.5925699727486062\n",
      "240 : 0.5750461091702164\n",
      "250 : 0.5615402006815202\n",
      "260 : 0.5499815115956608\n",
      "270 : 0.5396036015399659\n",
      "280 : 0.5239953984018939\n",
      "290 : 0.5091074464444318\n",
      "300 : 0.5032351270765503\n",
      "310 : 0.4851528045910527\n",
      "320 : 0.4793147223172127\n",
      "330 : 0.4686699125159066\n",
      "340 : 0.4514148833478089\n",
      "350 : 0.4172722119985792\n",
      "360 : 0.3964158902745112\n",
      "370 : 0.35829729479155503\n",
      "380 : 0.3389348500795677\n",
      "390 : 0.34219580230274005\n",
      "400 : 0.3302428321339903\n",
      "410 : 0.28317270335537614\n",
      "420 : 0.25706401601200923\n",
      "430 : 0.2635614152341077\n",
      "440 : 0.2685051161388401\n",
      "450 : 0.28499923966978713\n",
      "460 : 0.26233651465651064\n",
      "470 : 0.20703193282679422\n",
      "480 : 0.19565040202678574\n",
      "490 : 0.20080601446534274\n",
      "499 : 0.27676944832455774\n",
      "linear1.weight tensor([[-0.7893],\n",
      "        [-0.5499],\n",
      "        [ 1.0449],\n",
      "        [ 0.3519],\n",
      "        [ 1.1599],\n",
      "        [-0.8365],\n",
      "        [-1.1180],\n",
      "        [-0.9417],\n",
      "        [-0.7118],\n",
      "        [ 0.3631],\n",
      "        [ 0.3200],\n",
      "        [ 0.8100],\n",
      "        [-0.6412],\n",
      "        [-0.7845],\n",
      "        [ 0.4875],\n",
      "        [-0.4313],\n",
      "        [ 0.5213],\n",
      "        [-0.3387],\n",
      "        [ 0.5990],\n",
      "        [-1.0660]])\n",
      "linear1.bias tensor([-0.4910,  0.2913,  0.1257, -0.2295,  0.6508,  0.6864, -0.7407, -0.5091,\n",
      "         0.8162, -0.2820, -0.3128, -0.8702, -0.5687,  0.2428, -0.0919, -0.5877,\n",
      "         0.1826, -0.5778, -0.8378, -0.5247])\n",
      "linear2.weight tensor([[-2.4535e-01, -3.0717e-01,  3.7601e-01,  1.3820e-01,  1.7502e-01,\n",
      "         -4.6470e-01, -2.2984e-01, -1.5516e-01, -2.2878e-01, -7.0777e-02,\n",
      "          2.7502e-02,  1.6243e-01, -2.3213e-02, -2.5736e-01,  1.0961e-01,\n",
      "         -1.2944e-01, -5.1353e-02, -8.6180e-02,  1.5089e-01, -2.5846e-01],\n",
      "        [ 1.8749e-01, -4.4378e-02,  1.9239e-01,  6.9672e-02, -1.8935e-01,\n",
      "          1.5474e-01, -6.1524e-02, -8.5714e-02, -1.8561e-01, -2.2230e-01,\n",
      "          6.3976e-02, -4.8846e-02,  8.7055e-02, -1.8351e-01,  1.6601e-01,\n",
      "         -1.6414e-01, -3.8611e-02,  4.6705e-02,  1.1544e-01,  1.8052e-01],\n",
      "        [ 3.7926e-01, -6.8908e-02, -1.5774e-01, -1.5243e-01, -2.8782e-01,\n",
      "         -4.2581e-02,  4.5913e-01,  4.8531e-02,  2.1607e-01,  1.4452e-02,\n",
      "          3.2005e-02, -2.1875e-01,  3.5259e-01,  1.9028e-01, -6.6149e-02,\n",
      "         -7.4341e-02, -3.9298e-02,  7.4513e-02, -1.5209e-01,  4.1997e-01],\n",
      "        [ 6.2852e-02, -1.2147e-01, -1.2526e-01, -1.1032e-02,  1.0662e-01,\n",
      "         -5.7981e-02, -1.0791e-01, -6.1498e-02, -1.7174e-01,  8.0047e-02,\n",
      "          1.7490e-01, -2.0544e-01,  6.4626e-02,  1.1943e-01,  3.7112e-02,\n",
      "         -6.6310e-02,  1.0944e-01,  1.2962e-01,  8.9909e-02, -2.3774e-02],\n",
      "        [-1.2694e-01, -9.8583e-02,  9.6302e-02,  2.8621e-03,  2.6516e-01,\n",
      "          1.0600e-02, -1.3065e-01, -1.4475e-01, -1.7606e-01,  7.7412e-02,\n",
      "          1.4144e-01,  2.6749e-01, -2.5191e-01, -2.1703e-01,  2.8741e-01,\n",
      "          7.4815e-02,  8.2113e-02, -1.2688e-01,  1.3687e-02, -2.9754e-01],\n",
      "        [-7.2887e-02,  7.5513e-02,  1.4258e-01,  1.0324e-01, -1.9766e-01,\n",
      "         -1.3447e-01, -3.5289e-02,  2.1631e-01,  3.2346e-02, -5.7908e-02,\n",
      "          9.2510e-02, -8.5168e-02, -1.4473e-01,  1.6321e-01, -1.0167e-01,\n",
      "         -4.4826e-02, -2.2244e-01,  1.4965e-01,  1.6941e-01,  8.1493e-02],\n",
      "        [-6.5508e-02, -9.6060e-02, -3.3445e-01,  9.5790e-02, -4.4623e-02,\n",
      "          3.3802e-01,  2.4638e-01,  1.6983e-01,  1.5794e-01, -2.5312e-01,\n",
      "         -2.4193e-01, -3.5274e-01,  1.5154e-01,  2.5390e-02, -1.3229e-01,\n",
      "         -9.6136e-02, -1.5704e-01, -1.1600e-01, -2.3265e-01,  1.9448e-01],\n",
      "        [-6.5555e-02,  1.3781e-01, -7.2278e-02, -1.6380e-01, -4.0645e-02,\n",
      "         -1.0920e-01, -6.7017e-02, -2.1190e-01,  1.2399e-01, -1.5531e-01,\n",
      "          1.1287e-01,  1.0270e-01,  1.6073e-01, -1.7169e-01,  1.6082e-01,\n",
      "         -1.0456e-01,  8.2592e-02,  2.1112e-01, -3.0327e-02, -7.5243e-04],\n",
      "        [-2.7902e-02, -2.2950e-01,  1.1733e-01, -1.9224e-01,  1.1795e-01,\n",
      "          8.6003e-02,  2.4189e-01, -3.2968e-02, -2.7840e-01,  9.0255e-02,\n",
      "          1.6573e-01, -1.1637e-01, -1.9985e-02, -1.7497e-01,  7.8218e-03,\n",
      "         -6.3566e-02, -7.8091e-02, -2.0786e-02, -1.2339e-01,  2.0505e-01],\n",
      "        [ 1.8746e-01, -3.5077e-02, -2.5465e-02, -9.1258e-02, -2.0193e-01,\n",
      "         -2.1760e-01,  8.3105e-02, -1.2277e-01, -1.4375e-01, -1.7447e-02,\n",
      "         -7.4464e-02, -7.2341e-02,  7.1848e-03, -4.7430e-02, -7.6991e-02,\n",
      "         -1.0706e-01, -1.8198e-01,  1.8750e-01, -8.9485e-02,  5.9251e-02],\n",
      "        [-5.6361e-02, -1.1124e-02,  2.1121e-01,  1.2381e-01, -2.1495e-01,\n",
      "          3.1281e-02,  2.4072e-01,  7.8110e-02,  8.1652e-02,  2.4866e-01,\n",
      "         -4.0458e-03,  1.2276e-01, -1.2918e-01, -7.3475e-02,  1.8354e-01,\n",
      "          1.5210e-01, -1.3470e-01, -1.3974e-01, -8.7994e-02, -2.0000e-01],\n",
      "        [-1.9182e-01, -2.5272e-01,  3.1012e-01,  1.6070e-01, -1.0646e-01,\n",
      "         -5.1644e-01,  8.9281e-02, -2.1454e-01, -3.8751e-01,  2.6134e-01,\n",
      "          5.1531e-02,  3.6658e-01,  2.1619e-03, -2.6760e-01,  2.1926e-02,\n",
      "         -1.2005e-01, -1.0128e-01, -2.7563e-02,  5.3640e-01, -1.6951e-01],\n",
      "        [-1.8703e-01,  2.3369e-02,  1.1268e-01,  1.3808e-01,  2.2884e-01,\n",
      "          8.3729e-02, -2.7958e-01, -2.8427e-02,  1.0278e-01, -2.0932e-04,\n",
      "         -1.1433e-01,  2.5156e-01, -1.1606e-01, -1.6393e-01, -1.7392e-01,\n",
      "         -1.5750e-02,  1.3225e-01,  3.1686e-02,  6.9288e-02, -2.1882e-01],\n",
      "        [-2.7360e-01, -4.1998e-02,  2.8793e-01,  1.5153e-01, -2.9874e-02,\n",
      "         -8.5373e-02, -2.6540e-01, -1.8997e-01, -8.1222e-04,  1.4997e-01,\n",
      "          2.0777e-01, -1.5641e-01,  9.1408e-02, -2.1337e-01,  1.2627e-01,\n",
      "          1.3988e-01,  5.6423e-02,  1.6599e-01, -1.6187e-01, -1.6958e-01],\n",
      "        [ 4.0061e-03, -1.1045e-01,  9.6171e-02, -6.6745e-02,  3.4397e-01,\n",
      "          4.7938e-02, -1.2595e-01, -2.8079e-01, -2.0998e-01,  5.6552e-02,\n",
      "          9.0338e-02, -6.1046e-02, -1.8237e-01,  7.2279e-02,  8.4106e-02,\n",
      "         -9.8220e-02,  3.8120e-02, -2.8821e-01, -1.9935e-01, -2.6485e-01],\n",
      "        [-3.0420e-01, -2.8926e-02,  1.5470e-01, -4.6250e-02,  5.0053e-01,\n",
      "         -2.3587e-02, -1.3748e-01, -3.4464e-01, -1.4184e-01,  1.3466e-01,\n",
      "         -1.0928e-01, -7.5728e-02, -1.9091e-01, -2.0547e-01, -6.4901e-02,\n",
      "         -3.1738e-02,  3.1977e-01, -9.3431e-02, -1.6081e-02, -4.4764e-01],\n",
      "        [ 3.8352e-03,  1.8811e-01, -4.8245e-02, -1.0379e-01, -2.3511e-01,\n",
      "          2.8828e-01, -5.5001e-02,  2.5030e-01,  8.8378e-02, -8.6057e-02,\n",
      "         -1.0187e-01, -1.3442e-01, -1.3520e-02,  3.0381e-01, -9.7337e-02,\n",
      "          1.9939e-01,  9.7585e-02, -7.6925e-02, -2.6549e-01,  2.9473e-01],\n",
      "        [ 2.7353e-01, -1.1395e-01, -1.3410e-01, -2.4965e-01, -3.2963e-01,\n",
      "          1.0588e-01,  2.0227e-01,  1.6561e-01, -1.3981e-02,  1.7357e-01,\n",
      "          1.2739e-02, -1.7833e-01,  7.1581e-02,  1.2858e-01,  2.7957e-02,\n",
      "         -8.7869e-02,  1.0578e-02, -5.1370e-02, -2.0644e-01,  4.5625e-03],\n",
      "        [ 1.9715e-01,  5.1609e-02,  3.1626e-01,  2.1780e-01,  2.2103e-01,\n",
      "         -2.6608e-01, -1.4690e-01,  7.1851e-02, -3.6647e-01, -4.2386e-02,\n",
      "          3.7492e-02,  3.2016e-01,  1.2496e-01, -2.3876e-01, -3.4722e-02,\n",
      "          8.0572e-02, -7.2054e-02, -8.4758e-02,  3.3922e-01, -8.6308e-02],\n",
      "        [ 2.6030e-01,  3.1059e-01, -3.8533e-02,  2.2925e-02, -4.6770e-02,\n",
      "          1.2251e-01,  6.5057e-02,  7.5680e-02,  2.1139e-01,  1.4326e-01,\n",
      "         -1.0140e-01, -2.1459e-01, -1.9963e-02, -8.1697e-03, -2.6923e-02,\n",
      "          1.7943e-01,  9.3529e-02,  1.1945e-01, -2.4271e-01, -4.3196e-02]])\n",
      "linear2.bias tensor([-0.2098, -0.0412, -0.0305, -0.2173, -0.0127, -0.1706, -0.0704, -0.1874,\n",
      "         0.1149, -0.2117,  0.1081, -0.2674, -0.0230,  0.1552,  0.0528,  0.2427,\n",
      "         0.2464, -0.2263, -0.0904,  0.1070])\n",
      "linear3.weight tensor([[ 0.6965,  0.0326,  0.6924, -0.1056,  0.5313,  0.2125,  0.6346,  0.0230,\n",
      "         -0.0669,  0.0098, -0.0664,  1.0013,  0.3529,  0.3632,  0.5241,  0.7880,\n",
      "          0.6070,  0.3941,  0.6612,  0.3923]])\n",
      "linear3.bias tensor([0.1003])\n",
      "prelu.weight tensor([0.2500])\n"
     ]
    }
   ],
   "source": [
    "model = QuadraticRegressionModel()\n",
    "model, losses = train_model(model, X_train, y_train)\n",
    "\n",
    "# The loss should decrease with every iteration (epoch) over the training data.\n",
    "print_results(model, losses)"
   ]
  },
  {
   "cell_type": "markdown",
   "metadata": {},
   "source": [
    "Plot labels and predictions"
   ]
  },
  {
   "cell_type": "code",
   "execution_count": 34,
   "metadata": {},
   "outputs": [
    {
     "data": {
      "image/png": "[encoded data removed]",
      "text/plain": [
       "<Figure size 432x288 with 1 Axes>"
      ]
     },
     "metadata": {
      "needs_background": "light"
     },
     "output_type": "display_data"
    }
   ],
   "source": [
    "#model.eval() # Tell the model we are evaluating it so that it does not learn or dropout.\n",
    "predictions = [model(torch.from_numpy(X)).detach().item() for X in X_train]\n",
    "\n",
    "plot_data(np.array(X_train), np.array(y_train), np.array(predictions))"
   ]
  },
  {
   "cell_type": "markdown",
   "metadata": {},
   "source": [
    "Print labels and predictions"
   ]
  },
  {
   "cell_type": "code",
   "execution_count": 35,
   "metadata": {},
   "outputs": [
    {
     "name": "stdout",
     "output_type": "stream",
     "text": [
      "[[ 6.  ]\n",
      " [ 5.25]\n",
      " [ 4.6 ]\n",
      " [ 4.05]\n",
      " [ 3.6 ]\n",
      " [ 3.25]\n",
      " [ 3.  ]\n",
      " [ 2.85]\n",
      " [ 2.8 ]\n",
      " [ 2.85]\n",
      " [ 3.  ]\n",
      " [ 3.25]\n",
      " [ 3.6 ]\n",
      " [ 4.05]\n",
      " [ 4.6 ]\n",
      " [ 5.25]\n",
      " [ 6.  ]\n",
      " [ 6.85]\n",
      " [ 7.8 ]\n",
      " [ 8.85]\n",
      " [10.  ]]\n",
      "[5.660322189331055, 5.128299713134766, 4.596277713775635, 4.064255237579346, 3.6077451705932617, 3.2777462005615234, 3.017118453979492, 2.816610813140869, 2.8104872703552246, 2.884998321533203, 3.062192916870117, 3.2484545707702637, 3.563331127166748, 4.016719818115234, 4.60990571975708, 5.28105354309082, 5.9522013664245605, 6.696944713592529, 7.72796106338501, 8.759110450744629, 9.790261268615723]\n"
     ]
    }
   ],
   "source": [
    "print(y_train)\n",
    "print(predictions)"
   ]
  },
  {
   "cell_type": "code",
   "execution_count": 36,
   "metadata": {},
   "outputs": [],
   "source": [
    "threshold = 1\n",
    "threshold_value = 20\n",
    "\n",
    "in_features = 10\n",
    "n_classes = 10\n",
    "cutoffs = [1, 5, 9] # Each value must be between 1 and n_classes-1.\n",
    "\n",
    "activation_functions = {\n",
    "    'ELU': nn.ELU(),\n",
    "    'Hardshrink': nn.Hardshrink(),\n",
    "    'Hardsigmoin': nn.Hardsigmoid(),\n",
    "    'Hardswish': nn.Hardswish(),\n",
    "    'Hardtanh': nn.Hardtanh(),\n",
    "    'LeadkyReLU': nn.LeakyReLU(),\n",
    "    'LogSigmoid': nn.LogSigmoid(),\n",
    "    #'MultiheadAttention': nn.MultiheadAttention(embed_dim, num_heads),\n",
    "    'PReLU': nn.PReLU(),\n",
    "    'ReLU': nn.ReLU(),\n",
    "    'ReLU6': nn.ReLU6(),\n",
    "    'RReLU': nn.RReLU(),\n",
    "    'SELU': nn.SELU(),\n",
    "    'CELU': nn.CELU(),\n",
    "    'GELU': nn.GELU(),\n",
    "    'Sigmoid': nn.Sigmoid(),\n",
    "    'SiLU': nn.SiLU(),\n",
    "    'Mish': nn.Mish(),\n",
    "    'Softplus': nn.Softplus(),\n",
    "    'Softshrink': nn.Softshrink(),\n",
    "    'Softsign': nn.Softsign(),\n",
    "    'Tanh': nn.Tanh(),\n",
    "    'Tanhshrink': nn.Tanhshrink(),\n",
    "    'Threshold': nn.Threshold(threshold, threshold_value),\n",
    "    'GLU': nn.GLU(),\n",
    "    'Softmin': nn.Softmin(),\n",
    "    'Softmax': nn.Softmax(),\n",
    "    'Softmax2d': nn.Softmax2d(),\n",
    "    'LogSoftmax': nn.LogSoftmax(),\n",
    "    'AdaptiveLogSoftmaxWithLoss': nn.AdaptiveLogSoftmaxWithLoss(in_features, n_classes, cutoffs)\n",
    "}"
   ]
  }
 ],
 "metadata": {
  "kernelspec": {
   "display_name": "Python 3.10.0 ('.venv': venv)",
   "language": "python",
   "name": "python3"
  },
  "language_info": {
   "codemirror_mode": {
    "name": "ipython",
    "version": 3
   },
   "file_extension": ".py",
   "mimetype": "text/x-python",
   "name": "python",
   "nbconvert_exporter": "python",
   "pygments_lexer": "ipython3",
   "version": "3.10.0"
  },
  "orig_nbformat": 4,
  "vscode": {
   "interpreter": {
    "hash": "bb30887f202a295f03f14bdc6c33a4c2546440b9bc6792bc5945ccf510842fff"
   }
  }
 },
 "nbformat": 4,
 "nbformat_minor": 2
}
