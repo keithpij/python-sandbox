{
 "cells": [
  {
   "cell_type": "code",
   "execution_count": 38,
   "metadata": {},
   "outputs": [],
   "source": [
    "import numpy as np\n",
    "import torch"
   ]
  },
  {
   "cell_type": "markdown",
   "metadata": {},
   "source": [
    "### Creating and Initializing"
   ]
  },
  {
   "cell_type": "markdown",
   "metadata": {},
   "source": [
    "### Dimensions"
   ]
  },
  {
   "cell_type": "code",
   "execution_count": 22,
   "metadata": {},
   "outputs": [
    {
     "name": "stdout",
     "output_type": "stream",
     "text": [
      "tensor([0., 0.])\n",
      "tensor([[7.0065e-45, 0.0000e+00],\n",
      "        [0.0000e+00, 0.0000e+00]])\n",
      "tensor([[[0.0000e+00, 0.0000e+00],\n",
      "         [1.0802e-05, 1.6968e-07]],\n",
      "\n",
      "        [[3.3795e+21, 6.7948e-07],\n",
      "         [1.3592e+22, 2.0314e+20]]])\n",
      "tensor([[[[-2.5364e+20,  4.5912e-41],\n",
      "          [ 8.9683e-44,  0.0000e+00]],\n",
      "\n",
      "         [[ 0.0000e+00,  0.0000e+00],\n",
      "          [ 0.0000e+00,  0.0000e+00]]],\n",
      "\n",
      "\n",
      "        [[[ 0.0000e+00,  2.0000e+00],\n",
      "          [ 1.3000e+22,  5.3927e-05]],\n",
      "\n",
      "         [[ 6.6762e-07,  4.1956e-08],\n",
      "          [ 1.0315e-08,  3.4152e-06]]]])\n"
     ]
    }
   ],
   "source": [
    "one_dimension = torch.empty(2)\n",
    "two_dimensions = torch.empty(2, 2)\n",
    "three_dimensions = torch.empty(2, 2, 2)\n",
    "four_dimensions = torch.empty(2, 2, 2, 2)\n",
    "\n",
    "print(one_dimension)\n",
    "print(two_dimensions)\n",
    "print(three_dimensions)\n",
    "print(four_dimensions)"
   ]
  },
  {
   "cell_type": "markdown",
   "metadata": {},
   "source": [
    "### A Real World ML Example"
   ]
  },
  {
   "cell_type": "code",
   "execution_count": null,
   "metadata": {},
   "outputs": [],
   "source": [
    "batchs = 2\n",
    "samples = 3\n",
    "features = 15\n",
    "x = torch.rand(batchs, samples, features)\n",
    "x"
   ]
  },
  {
   "cell_type": "code",
   "execution_count": null,
   "metadata": {},
   "outputs": [],
   "source": [
    "batchs = 2\n",
    "samples = 3\n",
    "features = 15\n",
    "x = torch.zeros(batchs, samples, features)\n",
    "x"
   ]
  },
  {
   "cell_type": "code",
   "execution_count": 2,
   "metadata": {},
   "outputs": [
    {
     "data": {
      "text/plain": [
       "tensor([[[1., 1., 1., 1., 1., 1., 1., 1., 1., 1., 1., 1., 1., 1., 1.],\n",
       "         [1., 1., 1., 1., 1., 1., 1., 1., 1., 1., 1., 1., 1., 1., 1.],\n",
       "         [1., 1., 1., 1., 1., 1., 1., 1., 1., 1., 1., 1., 1., 1., 1.]],\n",
       "\n",
       "        [[1., 1., 1., 1., 1., 1., 1., 1., 1., 1., 1., 1., 1., 1., 1.],\n",
       "         [1., 1., 1., 1., 1., 1., 1., 1., 1., 1., 1., 1., 1., 1., 1.],\n",
       "         [1., 1., 1., 1., 1., 1., 1., 1., 1., 1., 1., 1., 1., 1., 1.]]])"
      ]
     },
     "execution_count": 2,
     "metadata": {},
     "output_type": "execute_result"
    }
   ],
   "source": [
    "batchs = 2\n",
    "samples = 3\n",
    "features = 15\n",
    "x = torch.ones(batchs, samples, features)\n",
    "x"
   ]
  },
  {
   "cell_type": "markdown",
   "metadata": {},
   "source": [
    "TODO: Get a list of all available datatypes."
   ]
  },
  {
   "cell_type": "markdown",
   "metadata": {},
   "source": [
    "### Datatypes"
   ]
  },
  {
   "cell_type": "code",
   "execution_count": 4,
   "metadata": {},
   "outputs": [
    {
     "name": "stdout",
     "output_type": "stream",
     "text": [
      "torch.int64\n",
      "tensor([[[1, 1, 1, 1, 1, 1, 1, 1, 1, 1, 1, 1, 1, 1, 1],\n",
      "         [1, 1, 1, 1, 1, 1, 1, 1, 1, 1, 1, 1, 1, 1, 1],\n",
      "         [1, 1, 1, 1, 1, 1, 1, 1, 1, 1, 1, 1, 1, 1, 1]],\n",
      "\n",
      "        [[1, 1, 1, 1, 1, 1, 1, 1, 1, 1, 1, 1, 1, 1, 1],\n",
      "         [1, 1, 1, 1, 1, 1, 1, 1, 1, 1, 1, 1, 1, 1, 1],\n",
      "         [1, 1, 1, 1, 1, 1, 1, 1, 1, 1, 1, 1, 1, 1, 1]]])\n"
     ]
    }
   ],
   "source": [
    "batchs = 2\n",
    "samples = 3\n",
    "features = 15\n",
    "x = torch.ones(batchs, samples, features, dtype=int)\n",
    "\n",
    "print(x.dtype)\n",
    "print(x)"
   ]
  },
  {
   "cell_type": "code",
   "execution_count": 23,
   "metadata": {},
   "outputs": [
    {
     "data": {
      "text/plain": [
       "torch.Size([2, 2])"
      ]
     },
     "execution_count": 23,
     "metadata": {},
     "output_type": "execute_result"
    }
   ],
   "source": [
    "x.size()"
   ]
  },
  {
   "cell_type": "code",
   "execution_count": 13,
   "metadata": {},
   "outputs": [
    {
     "name": "stdout",
     "output_type": "stream",
     "text": [
      "torch.int64\n",
      "torch.Size([3])\n",
      "tensor([1, 1, 1])\n"
     ]
    }
   ],
   "source": [
    "x = torch.tensor([1, 1, 1])\n",
    "print(x.dtype)\n",
    "print(x.size())\n",
    "print(x)"
   ]
  },
  {
   "cell_type": "markdown",
   "metadata": {},
   "source": [
    "### Arithmatic Operations"
   ]
  },
  {
   "cell_type": "code",
   "execution_count": 9,
   "metadata": {},
   "outputs": [
    {
     "name": "stdout",
     "output_type": "stream",
     "text": [
      "tensor([1, 1, 1])\n",
      "tensor([2, 2, 2])\n",
      "tensor([3, 3, 3])\n"
     ]
    }
   ],
   "source": [
    "y = torch.tensor([2, 2, 2])\n",
    "z = x + y\n",
    "\n",
    "print(x)\n",
    "print(y)\n",
    "print(z)"
   ]
  },
  {
   "cell_type": "code",
   "execution_count": 14,
   "metadata": {},
   "outputs": [
    {
     "name": "stdout",
     "output_type": "stream",
     "text": [
      "tensor([5, 5, 5])\n"
     ]
    }
   ],
   "source": [
    "z = x.add(y)\n",
    "\n",
    "print(z)"
   ]
  },
  {
   "cell_type": "markdown",
   "metadata": {},
   "source": [
    "The underscore methods in Pytorch represent in place modifications. The method below still returns a value which is x itself however you only need to use it in this fashion if you want to modify x and set it into another variable.\n"
   ]
  },
  {
   "cell_type": "code",
   "execution_count": 17,
   "metadata": {},
   "outputs": [
    {
     "name": "stdout",
     "output_type": "stream",
     "text": [
      "tensor([4, 4, 4])\n",
      "tensor([8, 8, 8])\n",
      "True\n"
     ]
    }
   ],
   "source": [
    "print(x)\n",
    "\n",
    "x.add_(y)\n",
    "\n",
    "print(x)\n",
    "\n",
    "b = x.add_(y)\n",
    "\n",
    "print(b is x)"
   ]
  },
  {
   "cell_type": "markdown",
   "metadata": {},
   "source": [
    "TODO: Get a list of all the basic arithmatic operations."
   ]
  },
  {
   "cell_type": "markdown",
   "metadata": {},
   "source": [
    "### Slicing"
   ]
  },
  {
   "cell_type": "code",
   "execution_count": 20,
   "metadata": {},
   "outputs": [
    {
     "name": "stdout",
     "output_type": "stream",
     "text": [
      "tensor([[0.7837, 0.2942],\n",
      "        [0.0705, 0.5885]])\n",
      "tensor([0.0705, 0.5885])\n"
     ]
    }
   ],
   "source": [
    "# Slicing - second row all columns\n",
    "x = torch.rand(2,2)\n",
    "print(x)\n",
    "print(x[1, :])"
   ]
  },
  {
   "cell_type": "code",
   "execution_count": 21,
   "metadata": {},
   "outputs": [
    {
     "name": "stdout",
     "output_type": "stream",
     "text": [
      "tensor([[0.7873, 0.4953],\n",
      "        [0.7367, 0.2333]])\n",
      "tensor([0.7873, 0.7367])\n"
     ]
    }
   ],
   "source": [
    "# Slicing - all rows first column\n",
    "x = torch.rand(2,2)\n",
    "print(x)\n",
    "print(x[:, 0])"
   ]
  },
  {
   "cell_type": "code",
   "execution_count": 25,
   "metadata": {},
   "outputs": [
    {
     "name": "stdout",
     "output_type": "stream",
     "text": [
      "tensor([[0.7873, 0.4953],\n",
      "        [0.7367, 0.2333]])\n",
      "0.23329925537109375\n"
     ]
    }
   ],
   "source": [
    "# Using the item() method to return a scalar. Notice from the output that z is no longer a tensor.\n",
    "z = x[1, 1]\n",
    "\n",
    "print(x)\n",
    "print(z.item())"
   ]
  },
  {
   "cell_type": "markdown",
   "metadata": {},
   "source": [
    "### Reshaping\n",
    "\n",
    "You can reshape a tensor as long as you account for every element in the original tensor. The example below transforms a two dimension 2 by 5 tensor into a one dimensional tensor containing 10 elements. \n",
    "\n",
    "You an also have Pytorch determine a dimension for you.\n",
    "\n",
    "Try using an incorrect values for view that do not account for every element in the original tensor and see what happens."
   ]
  },
  {
   "cell_type": "code",
   "execution_count": 31,
   "metadata": {},
   "outputs": [
    {
     "name": "stdout",
     "output_type": "stream",
     "text": [
      "tensor([[0.5232, 0.7968, 0.9853, 0.7489, 0.4842],\n",
      "        [0.0138, 0.0899, 0.8297, 0.3014, 0.6698]])\n",
      "torch.Size([2, 5])\n",
      "tensor([0.5232, 0.7968, 0.9853, 0.7489, 0.4842, 0.0138, 0.0899, 0.8297, 0.3014,\n",
      "        0.6698])\n",
      "torch.Size([10])\n",
      "tensor([[0.5232, 0.7968],\n",
      "        [0.9853, 0.7489],\n",
      "        [0.4842, 0.0138],\n",
      "        [0.0899, 0.8297],\n",
      "        [0.3014, 0.6698]])\n",
      "torch.Size([5, 2])\n"
     ]
    }
   ],
   "source": [
    "x = torch.rand(2, 5)\n",
    "y = x.view(10)\n",
    "z = x.view(-1,2)\n",
    "\n",
    "print(x)\n",
    "print(x.size())\n",
    "print(y)\n",
    "print(y.size())\n",
    "print(z)\n",
    "print(z.size())"
   ]
  },
  {
   "cell_type": "markdown",
   "metadata": {},
   "source": [
    "### Converting between tensors and Numpy arrays.\n",
    "\n",
    "You can convert from a tensor to a numpy array using a tensor's numpy method however the two variables share the same memory location. In other words changing one will change the other."
   ]
  },
  {
   "cell_type": "code",
   "execution_count": 35,
   "metadata": {},
   "outputs": [
    {
     "name": "stdout",
     "output_type": "stream",
     "text": [
      "tensor([[0., 0., 0., 0.],\n",
      "        [0., 0., 0., 0.],\n",
      "        [0., 0., 0., 0.]])\n",
      "[[0. 0. 0. 0.]\n",
      " [0. 0. 0. 0.]\n",
      " [0. 0. 0. 0.]]\n",
      "<class 'numpy.ndarray'>\n"
     ]
    }
   ],
   "source": [
    "x = torch.zeros(3, 4)\n",
    "z = x.numpy()\n",
    "\n",
    "print(x)\n",
    "print(z)\n",
    "print(type(z))"
   ]
  },
  {
   "cell_type": "code",
   "execution_count": 36,
   "metadata": {},
   "outputs": [
    {
     "name": "stdout",
     "output_type": "stream",
     "text": [
      "tensor([[0., 0., 0., 0.],\n",
      "        [0., 1., 0., 0.],\n",
      "        [0., 0., 0., 0.]])\n",
      "[[0. 0. 0. 0.]\n",
      " [0. 1. 0. 0.]\n",
      " [0. 0. 0. 0.]]\n",
      "<class 'numpy.ndarray'>\n"
     ]
    }
   ],
   "source": [
    "x[1,1] = 1\n",
    "\n",
    "print(x)\n",
    "print(z)\n",
    "print(type(z))"
   ]
  },
  {
   "cell_type": "code",
   "execution_count": 45,
   "metadata": {},
   "outputs": [
    {
     "name": "stdout",
     "output_type": "stream",
     "text": [
      "[[1 1 1 1 1]\n",
      " [1 1 1 1 1]\n",
      " [1 1 1 1 1]\n",
      " [1 1 1 1 1]\n",
      " [1 1 1 1 1]]\n",
      "<class 'numpy.ndarray'>\n",
      "tensor([[1, 1, 1, 1, 1],\n",
      "        [1, 1, 1, 1, 1],\n",
      "        [1, 1, 1, 1, 1],\n",
      "        [1, 1, 1, 1, 1],\n",
      "        [1, 1, 1, 1, 1]])\n",
      "<class 'torch.Tensor'>\n"
     ]
    }
   ],
   "source": [
    "x = np.ones((5, 5), dtype=int)\n",
    "y = torch.from_numpy(x)\n",
    "\n",
    "print(x)\n",
    "print(type(x))\n",
    "print(y)\n",
    "print(type(y))"
   ]
  },
  {
   "cell_type": "code",
   "execution_count": 46,
   "metadata": {},
   "outputs": [
    {
     "name": "stdout",
     "output_type": "stream",
     "text": [
      "[[2 2 2 2 2]\n",
      " [2 2 2 2 2]\n",
      " [2 2 2 2 2]\n",
      " [2 2 2 2 2]\n",
      " [2 2 2 2 2]]\n",
      "tensor([[2, 2, 2, 2, 2],\n",
      "        [2, 2, 2, 2, 2],\n",
      "        [2, 2, 2, 2, 2],\n",
      "        [2, 2, 2, 2, 2],\n",
      "        [2, 2, 2, 2, 2]])\n"
     ]
    }
   ],
   "source": [
    "# Be careful when modifying one because you will modify the other.\n",
    "x += 1\n",
    "\n",
    "print(x)\n",
    "print(y)"
   ]
  }
 ],
 "metadata": {
  "interpreter": {
   "hash": "0be0938be6b90188cfcadaee5cfa136cbf4cd1f17e2ba8c4c1b600aef81eccfe"
  },
  "kernelspec": {
   "display_name": "Python 3.5.2 64-bit",
   "language": "python",
   "name": "python3"
  },
  "language_info": {
   "codemirror_mode": {
    "name": "ipython",
    "version": 3
   },
   "file_extension": ".py",
   "mimetype": "text/x-python",
   "name": "python",
   "nbconvert_exporter": "python",
   "pygments_lexer": "ipython3",
   "version": "3.8.5"
  },
  "orig_nbformat": 4
 },
 "nbformat": 4,
 "nbformat_minor": 2
}
