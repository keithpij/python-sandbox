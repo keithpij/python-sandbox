{
 "cells": [
  {
   "cell_type": "code",
   "execution_count": null,
   "metadata": {},
   "outputs": [],
   "source": [
    "import torch\n",
    "from torch import nn"
   ]
  },
  {
   "cell_type": "code",
   "execution_count": null,
   "metadata": {},
   "outputs": [],
   "source": [
    "torch.manual_seed(42)\n",
    "embedding = nn.Embedding(10, 1)\n",
    "input = torch.tensor([0, 1, 2, 3])\n",
    "print(input)\n",
    "embedding(input)"
   ]
  },
  {
   "cell_type": "code",
   "execution_count": null,
   "metadata": {},
   "outputs": [],
   "source": [
    "import torch\n",
    "import torch.nn as nn\n",
    "import torch.nn.functional as F\n",
    "import torch.optim as opt\n",
    "\n",
    "torch.manual_seed(42)\n",
    "word_conversion = {'hello': 0, 'world': 1}\n",
    "embeddings = nn.Embedding(2, 25)\n",
    "print(embeddings)\n",
    "\n",
    "lookup = torch.tensor(word_conversion['world'], dtype=torch.long)\n",
    "world_embeddings = embeddings(lookup)\n",
    "print(world_embeddings)"
   ]
  },
  {
   "cell_type": "code",
   "execution_count": null,
   "metadata": {},
   "outputs": [],
   "source": [
    "n, d, m = 2, 4, 6\n",
    "embeddings = nn.Embedding(n, d, max_norm=True)\n",
    "Weight = torch.randn((m, d), requires_grad=True)\n",
    "index = torch.tensor([1, 3])\n",
    "x = embedding.weight.clone() @ Weight.t()\n",
    "y = embedding(index) @ Weight.t()\n",
    "output = (x.unsqueeze(1) + y.unsqueeze(2))\n",
    "loss_factor = output.sigmoid().prod()\n",
    "loss_factor.backward()"
   ]
  },
  {
   "cell_type": "code",
   "execution_count": null,
   "metadata": {},
   "outputs": [],
   "source": [
    "class NewModel(nn.Module):\n",
    "    def __init__(self, embed_size, embed_dimension):\n",
    "        super(NewModel, self).__init__()\n",
    "        self.embed_size = embed_size\n",
    "        self.embed_dimension = embed_dimension\n",
    "        self.u_embeddings = nn.Embedding(embed_size, embed_dimension, sparse=True)\n",
    "        self.v_embeddings = nn.Embedding(embed_size, embed_dimension, sparse = True)\n",
    "        self.init_embed()\n",
    "    \n",
    "    def init_embed(self):\n",
    "        initrange = 0.75 / self.embed_dimension\n",
    "        self.u_embeddings.weight.data.uniform_(-initrange, initrange)\n",
    "        self.v_embeddings.weight.data.uniform_(-0, 0)\n",
    "    \n",
    "    def forward(self, pos_u, pos_v, neg_v):\n",
    "        embed_u = self.u_embeddings(pos_u)\n",
    "        embed_v = self.v_embeddings(pos_v)\n",
    "        score = torch.mul(embed_u, embed_v).squeeze()\n",
    "        score = torch.sum(score, dim = 1)\n",
    "        score = F.logsigmoid(score)\n",
    "        neg_embed_v = self.v_embeddings(neg_v)\n",
    "        negtv_score = torch.bmm(neg_embed_v, embed_u.unsqueeze(2)).squeeze()\n",
    "        negtv_score = F.logsigmoid(-1 * negtv_score)\n",
    "        return -1 * (torch.sum(score)+torch.sum(negtv_score))"
   ]
  }
 ],
 "metadata": {
  "kernelspec": {
   "display_name": "Python 3.7.4 ('.venv': venv)",
   "language": "python",
   "name": "python3"
  },
  "language_info": {
   "codemirror_mode": {
    "name": "ipython",
    "version": 3
   },
   "file_extension": ".py",
   "mimetype": "text/x-python",
   "name": "python",
   "nbconvert_exporter": "python",
   "pygments_lexer": "ipython3",
   "version": "3.7.4"
  },
  "orig_nbformat": 4,
  "vscode": {
   "interpreter": {
    "hash": "dc919a8c9f3b0b92e1d085faab71fe86a296093fb313f99140bffe2c1d0fe07d"
   }
  }
 },
 "nbformat": 4,
 "nbformat_minor": 2
}
