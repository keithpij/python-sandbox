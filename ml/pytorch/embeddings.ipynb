{
 "cells": [
  {
   "cell_type": "markdown",
   "metadata": {},
   "source": [
    "# Linguistic Meaning and Embeddings\n",
    "### Contents\n",
    "Creating the Vocabulary<br>\n",
    "Creating the N-Grams<br>\n",
    "Tokenizing the N-Grams<br>\n",
    "From Tokens to Embeddings<br>\n",
    "Creating the Model<br>\n",
    "Train for Meaning<br>\n"
   ]
  },
  {
   "cell_type": "code",
   "execution_count": 1,
   "metadata": {},
   "outputs": [],
   "source": [
    "from string import punctuation\n",
    "\n",
    "import torch\n",
    "import torch.nn as nn\n",
    "import torch.nn.functional as F\n",
    "import torch.optim as optim"
   ]
  },
  {
   "cell_type": "markdown",
   "metadata": {},
   "source": [
    "### Creating the Vocabulary"
   ]
  },
  {
   "cell_type": "code",
   "execution_count": 2,
   "metadata": {},
   "outputs": [],
   "source": [
    "def clean_text(raw_text: str) -> list:\n",
    "    remove_breaks = raw_text.replace('<br />', ' ')\n",
    "    lower = remove_breaks.lower()\n",
    "    valid_characters = [c for c in lower if c not in punctuation]\n",
    "    cleaned = ''.join(valid_characters)\n",
    "    return cleaned"
   ]
  },
  {
   "cell_type": "code",
   "execution_count": 3,
   "metadata": {},
   "outputs": [],
   "source": [
    "training_paragraph = \"\"\"Football players are fast runners.\n",
    "Baseball players are fast runners.\n",
    "Soccer players are fast runners.\n",
    "A football player is an athlete.\n",
    "A baseball player is an athlete.\n",
    "\"\"\"\n",
    "\n",
    "training_paragraph = clean_text(training_paragraph)\n",
    "training_words = training_paragraph.split()\n",
    "\n",
    "# Turning our list of words into a set has the effect of eliminating duplicates.\n",
    "# This is a useful technique for getting a distinct list of words.\n",
    "vocab = set(training_words)"
   ]
  },
  {
   "cell_type": "code",
   "execution_count": 4,
   "metadata": {},
   "outputs": [
    {
     "name": "stdout",
     "output_type": "stream",
     "text": [
      "Clean sentence: football players are fast runners\n",
      "baseball players are fast runners\n",
      "soccer players are fast runners\n",
      "a football player is an athlete\n",
      "a baseball player is an athlete\n",
      " \n",
      "\n",
      "Word List: ['football', 'players', 'are', 'fast', 'runners', 'baseball', 'players', 'are', 'fast', 'runners', 'soccer', 'players', 'are', 'fast', 'runners', 'a', 'football', 'player', 'is', 'an', 'athlete', 'a', 'baseball', 'player', 'is', 'an', 'athlete'] \n",
      "\n",
      "Vocabulary: {'is', 'fast', 'football', 'are', 'players', 'soccer', 'baseball', 'a', 'player', 'an', 'athlete', 'runners'} \n",
      "\n"
     ]
    }
   ],
   "source": [
    "print('Clean sentence:', training_paragraph, '\\n')\n",
    "print('Word List:', training_words, '\\n')\n",
    "print('Vocabulary:', vocab, '\\n')"
   ]
  },
  {
   "cell_type": "markdown",
   "metadata": {},
   "source": [
    "### Creating the N-Grams"
   ]
  },
  {
   "cell_type": "code",
   "execution_count": 5,
   "metadata": {},
   "outputs": [],
   "source": [
    "def create_n_grams(word_list: list, context_size: int) -> list:\n",
    "    n_grams = [\n",
    "        (\n",
    "            [word_list[i - j] for j in range(context_size, 0, -1)],\n",
    "            word_list[i]\n",
    "        )\n",
    "        for i in range(context_size, len(word_list))\n",
    "    ]\n",
    "    return n_grams\n",
    "\n",
    "\n",
    "def get_word_from_token(token: int, words_to_tokens: dict) -> str:\n",
    "    word = [w for w in words_to_tokens if words_to_tokens[w] == token]\n",
    "    return word[0]\n"
   ]
  },
  {
   "cell_type": "code",
   "execution_count": 6,
   "metadata": {},
   "outputs": [],
   "source": [
    "CONTEXT_SIZE = 3\n",
    "\n",
    "# Create the n_grams and target using the context size.\n",
    "n_grams = create_n_grams(training_words, CONTEXT_SIZE)"
   ]
  },
  {
   "cell_type": "code",
   "execution_count": 7,
   "metadata": {},
   "outputs": [
    {
     "name": "stdout",
     "output_type": "stream",
     "text": [
      "n_grams: [(['football', 'players', 'are'], 'fast'), (['players', 'are', 'fast'], 'runners'), (['are', 'fast', 'runners'], 'baseball')] \n",
      "\n"
     ]
    }
   ],
   "source": [
    "# Print the first 3 n-grams to get a feel for their shape.\n",
    "print('n_grams:', n_grams[:3], '\\n')"
   ]
  },
  {
   "cell_type": "markdown",
   "metadata": {},
   "source": [
    "### Tokenizing the N-Grams"
   ]
  },
  {
   "cell_type": "code",
   "execution_count": 8,
   "metadata": {},
   "outputs": [
    {
     "name": "stdout",
     "output_type": "stream",
     "text": [
      "Tokens: {'is': 0, 'fast': 1, 'football': 2, 'are': 3, 'players': 4, 'soccer': 5, 'baseball': 6, 'a': 7, 'player': 8, 'an': 9, 'athlete': 10, 'runners': 11}\n"
     ]
    }
   ],
   "source": [
    "# Enumerate over the vocabulary and create a word to token mapping.\n",
    "# The index for each word within th set will become the token for that word.\n",
    "words_to_tokens = {word: i for i, word in enumerate(vocab)}\n",
    "print('Tokens:', words_to_tokens)"
   ]
  },
  {
   "cell_type": "code",
   "execution_count": 9,
   "metadata": {},
   "outputs": [],
   "source": [
    "def tokenize_n_grams(n_grams: list, words_to_tokens: dict) -> list:\n",
    "    n_grams_tokenized = [\n",
    "        (\n",
    "            [words_to_tokens[w] for w in context], \n",
    "            words_to_tokens[target]\n",
    "        )\n",
    "        for context, target in n_grams\n",
    "    ]\n",
    "    return n_grams_tokenized"
   ]
  },
  {
   "cell_type": "code",
   "execution_count": 10,
   "metadata": {},
   "outputs": [
    {
     "name": "stdout",
     "output_type": "stream",
     "text": [
      "n_grams_tokenized: [([2, 4, 3], 1), ([4, 3, 1], 11), ([3, 1, 11], 6)]\n"
     ]
    }
   ],
   "source": [
    "# Tokenize the context and targets in the n_grams.\n",
    "n_grams_tokenized = tokenize_n_grams(n_grams, words_to_tokens)\n",
    "print('n_grams_tokenized:', n_grams_tokenized[:3])"
   ]
  },
  {
   "cell_type": "markdown",
   "metadata": {},
   "source": [
    "### From Tokens to Embeddings"
   ]
  },
  {
   "cell_type": "code",
   "execution_count": 11,
   "metadata": {},
   "outputs": [
    {
     "name": "stdout",
     "output_type": "stream",
     "text": [
      "Embeddings object: Embedding(12, 10)\n",
      "Embedding for the word athlete: tensor([ 0.6408,  0.5832,  1.0669, -0.4502,  1.0311, -0.7048,  1.0131, -0.3308,\n",
      "         0.5177,  0.3878], grad_fn=<EmbeddingBackward0>)\n"
     ]
    }
   ],
   "source": [
    "# If you want to get the same result each time you create an embedding then set\n",
    "# the manual seed to the same value every time.\n",
    "torch.manual_seed(42)\n",
    "\n",
    "embeddings = nn.Embedding(len(vocab), 10)\n",
    "print('Embeddings object:', embeddings)\n",
    "\n",
    "lookup = torch.tensor(words_to_tokens['athlete'], dtype=torch.int64)\n",
    "sample_embedding = embeddings(lookup)\n",
    "print('Embedding for the word athlete:', sample_embedding)"
   ]
  },
  {
   "cell_type": "markdown",
   "metadata": {},
   "source": [
    "### Creating the Model"
   ]
  },
  {
   "cell_type": "code",
   "execution_count": 35,
   "metadata": {},
   "outputs": [],
   "source": [
    "class NextWordModel(nn.Module):\n",
    "\n",
    "    def __init__(self, vocab_size, embedding_dim, hidden_dim, context_size):\n",
    "        super(NextWordModel, self).__init__()\n",
    "\n",
    "        self.embeddings = nn.Embedding(vocab_size, embedding_dim)\n",
    "        self.linear1 = nn.Linear(context_size * embedding_dim, hidden_dim)\n",
    "        self.relu = nn.ReLU()  # Rectified Linear Unit Function\n",
    "        self.linear2 = nn.Linear(hidden_dim, vocab_size)\n",
    "        self.log_softmax = nn.LogSoftmax(dim=1)\n",
    "\n",
    "    def forward(self, inputs, log=False):\n",
    "        embeds = self.embeddings(inputs)\n",
    "        #out = F.relu(self.linear1(embeds))\n",
    "        #out = self.linear2(out)\n",
    "        #log_probs = F.log_softmax(out, dim=1)\n",
    "        #return log_probs\n",
    "\n",
    "        l1 = self.linear1(embeds.view((1, -1)))\n",
    "        rect = self.relu(l1)\n",
    "        l2 = self.linear2(rect)\n",
    "        log_probs = self.log_softmax(l2) # F.log_softmax(out, dim=1)\n",
    "        if log:\n",
    "            print('Embeddings:', embeds)\n",
    "            print('\\nLinear 1:', l1)\n",
    "            print('\\nReLU:', rect)\n",
    "            print('\\nLinear 2:', l2)\n",
    "            print('\\nLog Probs:', log_probs)\n",
    "        return log_probs\n"
   ]
  },
  {
   "cell_type": "code",
   "execution_count": 37,
   "metadata": {},
   "outputs": [
    {
     "name": "stdout",
     "output_type": "stream",
     "text": [
      "Embeddings: tensor([[ 1.5502, -1.0978, -0.8919],\n",
      "        [-0.5756, -1.4387, -0.1491],\n",
      "        [ 1.3085,  2.1217,  0.0478]], grad_fn=<EmbeddingBackward0>)\n",
      "\n",
      "Linear 1: tensor([[ 0.2590, -1.4024, -0.3151, -0.1871,  0.5986,  0.4474,  0.7647,  0.2096,\n",
      "         -0.5723, -0.3835,  0.4502,  0.6856, -0.2956, -0.2554, -0.3235,  0.8177,\n",
      "          0.1214, -1.1402, -0.0268,  1.2861,  0.2946,  0.1654,  0.3595,  0.5408,\n",
      "          1.4968]], grad_fn=<AddmmBackward0>)\n",
      "\n",
      "ReLU: tensor([[0.2590, 0.0000, 0.0000, 0.0000, 0.5986, 0.4474, 0.7647, 0.2096, 0.0000,\n",
      "         0.0000, 0.4502, 0.6856, 0.0000, 0.0000, 0.0000, 0.8177, 0.1214, 0.0000,\n",
      "         0.0000, 1.2861, 0.2946, 0.1654, 0.3595, 0.5408, 1.4968]],\n",
      "       grad_fn=<ReluBackward0>)\n",
      "\n",
      "Linear 2: tensor([[-0.0700,  0.1695,  0.1949, -0.7051,  0.1194, -0.2859, -0.1849, -0.1043,\n",
      "         -0.1327, -0.6623, -0.0593,  0.2066]], grad_fn=<AddmmBackward0>)\n",
      "\n",
      "Log Probs: tensor([[-2.4679, -2.2284, -2.2030, -3.1030, -2.2785, -2.6838, -2.5828, -2.5022,\n",
      "         -2.5305, -3.0602, -2.4572, -2.1912]], grad_fn=<LogSoftmaxBackward0>)\n"
     ]
    }
   ],
   "source": [
    "model = NextWordModel(len(vocab), 3, 25, CONTEXT_SIZE)\n",
    "context = [(['player', 'is', 'an'], 'athlete')] \n",
    "context_tokens = tokenize_n_grams(context, words_to_tokens)\n",
    "context_tokens = torch.tensor(context_tokens[0][0], dtype=torch.int64)\n",
    "prediction = model(context_tokens, log=True)"
   ]
  },
  {
   "cell_type": "markdown",
   "metadata": {},
   "source": [
    "### Training for Meaning"
   ]
  },
  {
   "cell_type": "code",
   "execution_count": 12,
   "metadata": {},
   "outputs": [],
   "source": [
    "EMBEDDING_DIM = 10\n",
    "EPOCHS = 1000\n",
    "HIDDEN_DIM = 128\n",
    "LR = 0.001"
   ]
  },
  {
   "cell_type": "code",
   "execution_count": 14,
   "metadata": {},
   "outputs": [
    {
     "name": "stdout",
     "output_type": "stream",
     "text": [
      "0 : 59.95197677612305\n",
      "100 : 19.475807011127472\n",
      "200 : 8.627903487533331\n",
      "300 : 5.792961858212948\n",
      "400 : 4.8123498018831015\n",
      "500 : 4.362085836939514\n",
      "600 : 4.114962687715888\n",
      "700 : 3.9621226326562464\n",
      "800 : 3.8599168458022177\n",
      "900 : 3.787520877085626\n",
      "999 : 3.7343910494819283\n"
     ]
    }
   ],
   "source": [
    "torch.manual_seed(42)\n",
    "losses = []\n",
    "loss_function = nn.NLLLoss()\n",
    "model = NextWordModel(len(vocab), EMBEDDING_DIM, HIDDEN_DIM, CONTEXT_SIZE)\n",
    "optimizer = optim.SGD(model.parameters(), lr=LR)\n",
    "\n",
    "for epoch in range(EPOCHS):\n",
    "    total_loss = 0\n",
    "    for context, target in n_grams_tokenized:\n",
    "\n",
    "        # Wrap the context in a tensor)\n",
    "        context_tokens = torch.tensor(context, dtype=torch.int64)\n",
    "\n",
    "        # Pytorch accumulates gradients so before passing in a new\n",
    "        # context (features) you need to zero out the gradients from the \n",
    "        # previous context.\n",
    "        model.zero_grad()\n",
    "\n",
    "        # Forward pass - this will get log probabilities for every word \n",
    "        # in our vocabulary which is now represented as embeddings.\n",
    "        log_probs = model(context_tokens)\n",
    "\n",
    "        # Compute the loss.\n",
    "        # target has to be a list for some reason.\n",
    "        loss = loss_function(log_probs, torch.tensor([target], dtype=torch.int64))\n",
    "\n",
    "        # Backward pass to update the gradients.\n",
    "        loss.backward()\n",
    "\n",
    "        # What does this do?\n",
    "        optimizer.step()\n",
    "\n",
    "        # Get the loss for this context.\n",
    "        total_loss += loss.item()\n",
    "\n",
    "    # Save the total loss for this epoch.\n",
    "    losses.append(total_loss)\n",
    "\n",
    "# The loss should decrease with every iteration (epoch) over the training data.\n",
    "# When you have a large number of iterations over a small training set you are basically\n",
    "# memorizing your training set.\n",
    "# Print the losses of every 100th epoch.\n",
    "for epoch in range(0, EPOCHS, 100):\n",
    "    print(epoch, ':', losses[epoch])\n",
    "# This will print the very last epoch so we can see the\n",
    "# final loss value.\n",
    "print(EPOCHS-1, ':', losses[EPOCHS-1])"
   ]
  },
  {
   "cell_type": "markdown",
   "metadata": {},
   "source": [
    "### Testing the Model"
   ]
  },
  {
   "cell_type": "code",
   "execution_count": 15,
   "metadata": {},
   "outputs": [
    {
     "name": "stdout",
     "output_type": "stream",
     "text": [
      "tensor([-0.6405, -0.1944, -0.6511,  0.5523, -0.5914, -0.5250,  0.2237, -0.6562,\n",
      "         0.7460,  0.4346], grad_fn=<SelectBackward0>)\n"
     ]
    }
   ],
   "source": [
    "# This is how to get the embedding of a word in our vocabulary \n",
    "# after a model has been trained.\n",
    "print(model.embeddings.weight[words_to_tokens['player']])"
   ]
  },
  {
   "cell_type": "code",
   "execution_count": 16,
   "metadata": {},
   "outputs": [],
   "source": [
    "# The tag for this context is 'athlete'.\n",
    "# Make sure all text here is lower case since the original\n",
    "# text was converted to lower case.\n",
    "context = ['player', 'is', 'an'] \n",
    "\n",
    "context_indecies = torch.tensor([words_to_tokens[w] for w in context], dtype=torch.int64)\n",
    "log_probs = model(context_indecies)"
   ]
  },
  {
   "cell_type": "code",
   "execution_count": 17,
   "metadata": {},
   "outputs": [
    {
     "name": "stdout",
     "output_type": "stream",
     "text": [
      "tensor([[-7.9228, -6.6111, -6.7434, -0.0103, -7.9844, -7.0675, -7.5933, -7.8334,\n",
      "         -5.7246, -8.1556, -6.8679, -7.2781]], grad_fn=<LogSoftmaxBackward0>)\n",
      "torch.Size([1, 12])\n",
      "tensor([3])\n",
      "tensor([-0.0103], grad_fn=<IndexBackward0>)\n",
      "Predicted word: athlete\n",
      "tensor([ 3,  8,  1,  2, 10])\n",
      "1 athlete\n",
      "2 is\n",
      "3 baseball\n",
      "4 an\n",
      "5 players\n"
     ]
    }
   ],
   "source": [
    "print(log_probs)\n",
    "print(log_probs.shape)\n",
    "\n",
    "# The tensor of log probabilities is a two dimensional tensor (matrix)\n",
    "# because the model is expecting a batch of contextes.\n",
    "max_prob_index = torch.argmax(log_probs, dim=1)\n",
    "print(max_prob_index)\n",
    "\n",
    "print(log_probs[0, max_prob_index])\n",
    "predicted_word = get_word_from_token(max_prob_index, words_to_tokens)\n",
    "print('Predicted word:', predicted_word)\n",
    "\n",
    "top_predictions = torch.topk(log_probs, 5, dim=1, largest=True, sorted=True)\n",
    "print(top_predictions.indices[0])\n",
    "\n",
    "i = 0\n",
    "for index in top_predictions.indices[0]:\n",
    "    i += 1\n",
    "    predicted_word = get_word_from_token(index, words_to_tokens)\n",
    "    print(i, predicted_word)"
   ]
  },
  {
   "cell_type": "code",
   "execution_count": 18,
   "metadata": {},
   "outputs": [
    {
     "name": "stdout",
     "output_type": "stream",
     "text": [
      "tensor([-0.6405, -0.1944, -0.6511,  0.5523, -0.5914, -0.5250,  0.2237, -0.6562,\n",
      "         0.7460,  0.4346], grad_fn=<SelectBackward0>)\n",
      "tensor([ 0.6887,  0.5703,  1.1483, -0.5263,  1.0720, -0.7966,  1.0411, -0.3138,\n",
      "         0.5755,  0.3967], grad_fn=<SelectBackward0>)\n",
      "tensor([-0.2747,  0.9012, -1.4918, -0.9536, -0.1928,  1.7755,  0.2302, -0.4631,\n",
      "         0.3223, -0.8082], grad_fn=<SelectBackward0>)\n"
     ]
    }
   ],
   "source": [
    "print(model.embeddings.weight[words_to_tokens['player']])\n",
    "print(model.embeddings.weight[words_to_tokens['players']])\n",
    "print(model.embeddings.weight[words_to_tokens['athlete']])"
   ]
  },
  {
   "cell_type": "markdown",
   "metadata": {},
   "source": [
    "tensor([ 0.7278,  0.6263,  1.2314, -0.5148,  1.1015, -0.7679,  1.0683, -0.3027,\n",
    "         0.5859,  0.3694], grad_fn=<SelectBackward0>)\n",
    "<br/>\n",
    "tensor([-1.1315,  1.3011, -0.1857,  0.5292,  0.0905,  0.4474,  0.6157, -0.7282,\n",
    "        -2.4235, -0.7869], grad_fn=<SelectBackward0>)\n",
    "<br/>\n",
    "tensor([-0.0883,  1.8781, -1.2263,  1.4076,  1.4836,  0.8571,  2.2892,  0.5454,\n",
    "         0.3926, -0.1998], grad_fn=<SelectBackward0>)\n"
   ]
  }
 ],
 "metadata": {
  "kernelspec": {
   "display_name": "Python 3.10.0 ('.venv': venv)",
   "language": "python",
   "name": "python3"
  },
  "language_info": {
   "codemirror_mode": {
    "name": "ipython",
    "version": 3
   },
   "file_extension": ".py",
   "mimetype": "text/x-python",
   "name": "python",
   "nbconvert_exporter": "python",
   "pygments_lexer": "ipython3",
   "version": "3.10.0"
  },
  "orig_nbformat": 4,
  "vscode": {
   "interpreter": {
    "hash": "bb30887f202a295f03f14bdc6c33a4c2546440b9bc6792bc5945ccf510842fff"
   }
  }
 },
 "nbformat": 4,
 "nbformat_minor": 2
}
