{
 "cells": [
  {
   "cell_type": "markdown",
   "metadata": {},
   "source": [
    "# Linguistic Meaning and Embeddings\n",
    "### Contents\n",
    "Creating the Vocabulary<br>\n",
    "Creating the N-Grams<br>\n",
    "Tokenizing the N-Grams<br>\n",
    "From Tokens to Embeddings<br>\n",
    "Creating the Model<br>\n",
    "Train for Meaning<br>\n"
   ]
  },
  {
   "cell_type": "code",
   "execution_count": 1,
   "metadata": {},
   "outputs": [],
   "source": [
    "from string import punctuation\n",
    "\n",
    "import torch\n",
    "import torch.nn as nn\n",
    "import torch.nn.functional as F\n",
    "import torch.optim as optim"
   ]
  },
  {
   "cell_type": "markdown",
   "metadata": {},
   "source": [
    "### Creating the Vocabulary"
   ]
  },
  {
   "cell_type": "code",
   "execution_count": 2,
   "metadata": {},
   "outputs": [],
   "source": [
    "def clean_text(raw_text: str) -> list:\n",
    "    remove_breaks = raw_text.replace('<br />', ' ')\n",
    "    lower = remove_breaks.lower()\n",
    "    valid_characters = [c for c in lower if c not in punctuation]\n",
    "    cleaned = ''.join(valid_characters)\n",
    "    return cleaned"
   ]
  },
  {
   "cell_type": "code",
   "execution_count": 3,
   "metadata": {},
   "outputs": [],
   "source": [
    "training_paragraph = \"\"\"Football players are fast runners.\n",
    "Baseball players are fast runners.\n",
    "Soccer players are fast runners.\n",
    "A football player is an athlete.\n",
    "A baseball player is an athlete.\n",
    "\"\"\"\n",
    "\n",
    "training_paragraph = clean_text(training_paragraph)\n",
    "training_words = training_paragraph.split()\n",
    "\n",
    "# Turning our list of words into a set has the effect of eliminating duplicates.\n",
    "# This is a useful technique for getting a distinct list of words.\n",
    "vocab = set(training_words)"
   ]
  },
  {
   "cell_type": "code",
   "execution_count": 4,
   "metadata": {},
   "outputs": [
    {
     "name": "stdout",
     "output_type": "stream",
     "text": [
      "Clean sentence: football players are fast runners\n",
      "baseball players are fast runners\n",
      "soccer players are fast runners\n",
      "a football player is an athlete\n",
      "a baseball player is an athlete\n",
      " \n",
      "\n",
      "Word List: ['football', 'players', 'are', 'fast', 'runners', 'baseball', 'players', 'are', 'fast', 'runners', 'soccer', 'players', 'are', 'fast', 'runners', 'a', 'football', 'player', 'is', 'an', 'athlete', 'a', 'baseball', 'player', 'is', 'an', 'athlete'] \n",
      "\n",
      "Vocabulary: {'a', 'soccer', 'baseball', 'fast', 'player', 'athlete', 'an', 'are', 'runners', 'is', 'football', 'players'} \n",
      "\n"
     ]
    }
   ],
   "source": [
    "print('Clean sentence:', training_paragraph, '\\n')\n",
    "print('Word List:', training_words, '\\n')\n",
    "print('Vocabulary:', vocab, '\\n')"
   ]
  },
  {
   "cell_type": "markdown",
   "metadata": {},
   "source": [
    "### Creating the N-Grams"
   ]
  },
  {
   "cell_type": "code",
   "execution_count": 5,
   "metadata": {},
   "outputs": [],
   "source": [
    "def create_n_grams(word_list: list, context_size: int) -> list:\n",
    "    n_grams = [\n",
    "        (\n",
    "            [word_list[i - j] for j in range(context_size, 0, -1)],\n",
    "            word_list[i]\n",
    "        )\n",
    "        for i in range(context_size, len(word_list))\n",
    "    ]\n",
    "    return n_grams\n",
    "\n",
    "\n",
    "def get_word_from_token(token: int, words_to_tokens: dict) -> str:\n",
    "    word = [w for w in words_to_tokens if words_to_tokens[w] == token]\n",
    "    return word[0]\n"
   ]
  },
  {
   "cell_type": "code",
   "execution_count": 6,
   "metadata": {},
   "outputs": [],
   "source": [
    "CONTEXT_SIZE = 3\n",
    "\n",
    "# Create the n_grams and target using the context size.\n",
    "n_grams = create_n_grams(training_words, CONTEXT_SIZE)"
   ]
  },
  {
   "cell_type": "code",
   "execution_count": 7,
   "metadata": {},
   "outputs": [
    {
     "name": "stdout",
     "output_type": "stream",
     "text": [
      "n_grams: [(['football', 'players', 'are'], 'fast'), (['players', 'are', 'fast'], 'runners'), (['are', 'fast', 'runners'], 'baseball')] \n",
      "\n"
     ]
    }
   ],
   "source": [
    "# Print the first 3 n-grams to get a feel for their shape.\n",
    "print('n_grams:', n_grams[:3], '\\n')"
   ]
  },
  {
   "cell_type": "markdown",
   "metadata": {},
   "source": [
    "### Tokenizing the N-Grams"
   ]
  },
  {
   "cell_type": "code",
   "execution_count": 8,
   "metadata": {},
   "outputs": [
    {
     "name": "stdout",
     "output_type": "stream",
     "text": [
      "Tokens: {'a': 0, 'soccer': 1, 'baseball': 2, 'fast': 3, 'player': 4, 'athlete': 5, 'an': 6, 'are': 7, 'runners': 8, 'is': 9, 'football': 10, 'players': 11}\n"
     ]
    }
   ],
   "source": [
    "# Enumerate over the vocabulary and create a word to token mapping.\n",
    "# The index for each word within th set will become the token for that word.\n",
    "words_to_tokens = {word: i for i, word in enumerate(vocab)}\n",
    "print('Tokens:', words_to_tokens)"
   ]
  },
  {
   "cell_type": "code",
   "execution_count": 9,
   "metadata": {},
   "outputs": [],
   "source": [
    "def tokenize_n_grams(n_grams: list, words_to_tokens: dict) -> list:\n",
    "    n_grams_tokenized = [\n",
    "        (\n",
    "            [words_to_tokens[w] for w in context], \n",
    "            words_to_tokens[target]\n",
    "        )\n",
    "        for context, target in n_grams\n",
    "    ]\n",
    "    return n_grams_tokenized"
   ]
  },
  {
   "cell_type": "code",
   "execution_count": 10,
   "metadata": {},
   "outputs": [
    {
     "name": "stdout",
     "output_type": "stream",
     "text": [
      "n_grams_tokenized: [([10, 11, 7], 3), ([11, 7, 3], 8), ([7, 3, 8], 2)]\n"
     ]
    }
   ],
   "source": [
    "# Tokenize the context and targets in the n_grams.\n",
    "n_grams_tokenized = tokenize_n_grams(n_grams, words_to_tokens)\n",
    "print('n_grams_tokenized:', n_grams_tokenized[:3])"
   ]
  },
  {
   "cell_type": "markdown",
   "metadata": {},
   "source": [
    "### From Tokens to Embeddings"
   ]
  },
  {
   "cell_type": "code",
   "execution_count": 11,
   "metadata": {},
   "outputs": [
    {
     "name": "stdout",
     "output_type": "stream",
     "text": [
      "Embeddings object: Embedding(12, 10)\n",
      "Embedding for the word athlete: tensor([ 0.0780,  0.5258, -0.4880,  1.1914, -0.8140, -0.7360, -1.4032,  0.0360,\n",
      "        -0.0635,  0.6756], grad_fn=<EmbeddingBackward0>)\n"
     ]
    }
   ],
   "source": [
    "# If you want to get the same result each time you create an embedding then set\n",
    "# the manual seed to the same value every time.\n",
    "torch.manual_seed(42)\n",
    "\n",
    "embeddings = nn.Embedding(len(vocab), 10)\n",
    "print('Embeddings object:', embeddings)\n",
    "\n",
    "lookup = torch.tensor(words_to_tokens['athlete'], dtype=torch.int64)\n",
    "sample_embedding = embeddings(lookup)\n",
    "print('Embedding for the word athlete:', sample_embedding)"
   ]
  },
  {
   "cell_type": "markdown",
   "metadata": {},
   "source": [
    "### Creating the Model"
   ]
  },
  {
   "cell_type": "code",
   "execution_count": 12,
   "metadata": {},
   "outputs": [],
   "source": [
    "class NextWordModel(nn.Module):\n",
    "\n",
    "    def __init__(self, vocab_size, embedding_dim, hidden_dim, context_size):\n",
    "        super(NextWordModel, self).__init__()\n",
    "\n",
    "        self.embeddings = nn.Embedding(vocab_size, embedding_dim)\n",
    "        self.linear1 = nn.Linear(context_size * embedding_dim, hidden_dim)\n",
    "        self.relu = nn.ReLU()  # Rectified Linear Unit Function\n",
    "        self.linear2 = nn.Linear(hidden_dim, vocab_size)\n",
    "        self.log_softmax = nn.LogSoftmax(dim=1)\n",
    "\n",
    "    def forward(self, inputs, log=False):\n",
    "        embeds = self.embeddings(inputs)\n",
    "        #out = F.relu(self.linear1(embeds))\n",
    "        #out = self.linear2(out)\n",
    "        #log_probs = F.log_softmax(out, dim=1)\n",
    "        #return log_probs\n",
    "\n",
    "        l1 = self.linear1(embeds.view((1, -1)))\n",
    "        rect = self.relu(l1)\n",
    "        l2 = self.linear2(rect)\n",
    "        log_probs = self.log_softmax(l2) # F.log_softmax(out, dim=1)\n",
    "        if log:\n",
    "            print('Embeddings:', embeds, embeds.shape)\n",
    "            print('\\nLinear 1:', l1, l1.shape)\n",
    "            print('\\nReLU:', rect, rect.shape)\n",
    "            print('\\nLinear 2:', l2, l2.shape)\n",
    "            print('\\nLog Probs:', log_probs, log_probs.shape)\n",
    "        return log_probs\n"
   ]
  },
  {
   "cell_type": "code",
   "execution_count": 13,
   "metadata": {},
   "outputs": [
    {
     "name": "stdout",
     "output_type": "stream",
     "text": [
      "Embeddings: tensor([[-0.4253,  0.2625, -1.4391],\n",
      "        [-0.2076, -1.1586, -0.9637],\n",
      "        [-2.2933,  0.4976, -1.2956]], grad_fn=<EmbeddingBackward0>) torch.Size([3, 3])\n",
      "\n",
      "Linear 1: tensor([[-0.2223,  0.0219,  0.2296, -0.3568,  1.0570,  1.1476,  0.5103,  0.9337,\n",
      "         -0.8416, -0.3021,  1.0448,  1.7986,  0.9115, -1.3132, -0.6403,  1.0402,\n",
      "          0.2021,  0.6796, -0.3059,  0.0673,  0.5142, -0.7614, -0.3377, -0.4474,\n",
      "          0.2870]], grad_fn=<AddmmBackward0>) torch.Size([1, 25])\n",
      "\n",
      "ReLU: tensor([[0.0000, 0.0219, 0.2296, 0.0000, 1.0570, 1.1476, 0.5103, 0.9337, 0.0000,\n",
      "         0.0000, 1.0448, 1.7986, 0.9115, 0.0000, 0.0000, 1.0402, 0.2021, 0.6796,\n",
      "         0.0000, 0.0673, 0.5142, 0.0000, 0.0000, 0.0000, 0.2870]],\n",
      "       grad_fn=<ReluBackward0>) torch.Size([1, 25])\n",
      "\n",
      "Linear 2: tensor([[ 0.2720,  0.3860,  0.1721,  0.3574,  0.2004,  0.0144, -0.5396, -0.7439,\n",
      "          0.2958, -0.2228,  0.2883, -0.1979]], grad_fn=<AddmmBackward0>) torch.Size([1, 12])\n",
      "\n",
      "Log Probs: tensor([[-2.2925, -2.1786, -2.3925, -2.2072, -2.3642, -2.5501, -3.1042, -3.3084,\n",
      "         -2.2687, -2.7874, -2.2762, -2.7625]], grad_fn=<LogSoftmaxBackward0>) torch.Size([1, 12])\n"
     ]
    }
   ],
   "source": [
    "model = NextWordModel(len(vocab), 3, 25, CONTEXT_SIZE)\n",
    "context = [(['player', 'is', 'an'], 'athlete')] \n",
    "context_tokens = tokenize_n_grams(context, words_to_tokens)\n",
    "context_tokens = torch.tensor(context_tokens[0][0], dtype=torch.int64)\n",
    "prediction = model(context_tokens, log=True)"
   ]
  },
  {
   "cell_type": "markdown",
   "metadata": {},
   "source": [
    "### Training for Meaning"
   ]
  },
  {
   "cell_type": "code",
   "execution_count": 14,
   "metadata": {},
   "outputs": [],
   "source": [
    "EMBEDDING_DIM = 10\n",
    "EPOCHS = 1000\n",
    "HIDDEN_DIM = 128\n",
    "LR = 0.001"
   ]
  },
  {
   "cell_type": "code",
   "execution_count": 15,
   "metadata": {},
   "outputs": [
    {
     "name": "stdout",
     "output_type": "stream",
     "text": [
      "0 : 61.27088236808777\n",
      "100 : 18.320321902632713\n",
      "200 : 7.726442538201809\n",
      "300 : 5.318262588232756\n",
      "400 : 4.52228725515306\n",
      "500 : 4.159920261241496\n",
      "600 : 3.960211994126439\n",
      "700 : 3.8365809861570597\n",
      "800 : 3.7534883515909314\n",
      "900 : 3.6943230908364058\n",
      "999 : 3.650792679283768\n"
     ]
    }
   ],
   "source": [
    "torch.manual_seed(42)\n",
    "losses = []\n",
    "loss_function = nn.NLLLoss()\n",
    "model = NextWordModel(len(vocab), EMBEDDING_DIM, HIDDEN_DIM, CONTEXT_SIZE)\n",
    "optimizer = optim.SGD(model.parameters(), lr=LR)\n",
    "\n",
    "for epoch in range(EPOCHS):\n",
    "    total_loss = 0\n",
    "    for context, target in n_grams_tokenized:\n",
    "\n",
    "        # Wrap the context in a tensor)\n",
    "        context_tokens = torch.tensor(context, dtype=torch.int64)\n",
    "\n",
    "        # Pytorch accumulates gradients so before passing in a new\n",
    "        # context (features) you need to zero out the gradients from the \n",
    "        # previous context.\n",
    "        model.zero_grad()\n",
    "\n",
    "        # Forward pass - this will get log probabilities for every word \n",
    "        # in our vocabulary which is now represented as embeddings.\n",
    "        log_probs = model(context_tokens)\n",
    "\n",
    "        # Compute the loss.\n",
    "        # target has to be a list for some reason.\n",
    "        loss = loss_function(log_probs, torch.tensor([target], dtype=torch.int64))\n",
    "\n",
    "        # Backward pass to update the gradients.\n",
    "        loss.backward()\n",
    "\n",
    "        # What does this do?\n",
    "        optimizer.step()\n",
    "\n",
    "        # Get the loss for this context.\n",
    "        total_loss += loss.item()\n",
    "\n",
    "    # Save the total loss for this epoch.\n",
    "    losses.append(total_loss)\n",
    "\n",
    "# The loss should decrease with every iteration (epoch) over the training data.\n",
    "# When you have a large number of iterations over a small training set you are basically\n",
    "# memorizing your training set.\n",
    "# Print the losses of every 100th epoch.\n",
    "for epoch in range(0, EPOCHS, 100):\n",
    "    print(epoch, ':', losses[epoch])\n",
    "# This will print the very last epoch so we can see the\n",
    "# final loss value.\n",
    "print(EPOCHS-1, ':', losses[EPOCHS-1])"
   ]
  },
  {
   "cell_type": "markdown",
   "metadata": {},
   "source": [
    "### Testing the Model"
   ]
  },
  {
   "cell_type": "code",
   "execution_count": 16,
   "metadata": {},
   "outputs": [
    {
     "name": "stdout",
     "output_type": "stream",
     "text": [
      "tensor([-1.6316,  1.0098, -0.8707, -0.6497, -1.3264,  2.1738, -1.3129, -0.5343,\n",
      "        -0.9512, -0.6675], grad_fn=<SelectBackward0>)\n"
     ]
    }
   ],
   "source": [
    "# This is how to get the embedding of a word in our vocabulary \n",
    "# after a model has been trained.\n",
    "print(model.embeddings.weight[words_to_tokens['player']])"
   ]
  },
  {
   "cell_type": "code",
   "execution_count": 17,
   "metadata": {},
   "outputs": [
    {
     "name": "stdout",
     "output_type": "stream",
     "text": [
      "tensor([[-3.5737, -3.7320, -0.7212, -4.7295, -2.4370, -2.6533, -3.5015, -5.9721,\n",
      "         -5.0122, -4.7887, -1.4039, -6.2874]], grad_fn=<LogSoftmaxBackward0>)\n",
      "torch.Size([1, 12])\n",
      "tensor([2])\n",
      "tensor([-0.7212], grad_fn=<IndexBackward0>)\n",
      "Predicted word: baseball\n",
      "tensor([ 2, 10,  4,  5,  6])\n",
      "1 baseball\n",
      "2 football\n",
      "3 player\n",
      "4 athlete\n",
      "5 an\n"
     ]
    }
   ],
   "source": [
    "# The tag for this context is 'athlete'.\n",
    "# Make sure all text here is lower case since the original\n",
    "# text was converted to lower case.\n",
    "#context = ['player', 'is', 'an'] \n",
    "context = ['athlete', 'is', 'a']\n",
    "\n",
    "context_tokens = torch.tensor([words_to_tokens[w] for w in context], dtype=torch.int64)\n",
    "log_probs = model(context_tokens)\n",
    "\n",
    "print(log_probs)\n",
    "print(log_probs.shape)\n",
    "\n",
    "# The tensor of log probabilities is a two dimensional tensor (matrix)\n",
    "# because the model is expecting a batch of contextes.\n",
    "max_prob_index = torch.argmax(log_probs, dim=1)\n",
    "print(max_prob_index)\n",
    "\n",
    "print(log_probs[0, max_prob_index])\n",
    "predicted_word = get_word_from_token(max_prob_index, words_to_tokens)\n",
    "print('Predicted word:', predicted_word)\n",
    "\n",
    "top_predictions = torch.topk(log_probs, 5, dim=1, largest=True, sorted=True)\n",
    "print(top_predictions.indices[0])\n",
    "\n",
    "i = 0\n",
    "for index in top_predictions.indices[0]:\n",
    "    i += 1\n",
    "    predicted_word = get_word_from_token(index, words_to_tokens)\n",
    "    print(i, predicted_word)"
   ]
  },
  {
   "cell_type": "code",
   "execution_count": 18,
   "metadata": {},
   "outputs": [
    {
     "name": "stdout",
     "output_type": "stream",
     "text": [
      "tensor([-1.6316,  1.0098, -0.8707, -0.6497, -1.3264,  2.1738, -1.3129, -0.5343,\n",
      "        -0.9512, -0.6675], grad_fn=<SelectBackward0>)\n",
      "tensor([-0.6358, -0.2375, -0.7234,  0.5403, -0.5226, -0.6257,  0.3453, -0.6121,\n",
      "         0.8003,  0.4612], grad_fn=<SelectBackward0>)\n",
      "tensor([ 0.0708,  0.5251, -0.4969,  1.2200, -0.8312, -0.7442, -1.4389,  0.0616,\n",
      "        -0.0735,  0.6839], grad_fn=<SelectBackward0>)\n"
     ]
    }
   ],
   "source": [
    "print(model.embeddings.weight[words_to_tokens['player']])\n",
    "print(model.embeddings.weight[words_to_tokens['players']])\n",
    "print(model.embeddings.weight[words_to_tokens['athlete']])"
   ]
  },
  {
   "cell_type": "markdown",
   "metadata": {},
   "source": [
    "tensor([ 0.7278,  0.6263,  1.2314, -0.5148,  1.1015, -0.7679,  1.0683, -0.3027,\n",
    "         0.5859,  0.3694], grad_fn=<SelectBackward0>)\n",
    "<br/>\n",
    "tensor([-1.1315,  1.3011, -0.1857,  0.5292,  0.0905,  0.4474,  0.6157, -0.7282,\n",
    "        -2.4235, -0.7869], grad_fn=<SelectBackward0>)\n",
    "<br/>\n",
    "tensor([-0.0883,  1.8781, -1.2263,  1.4076,  1.4836,  0.8571,  2.2892,  0.5454,\n",
    "         0.3926, -0.1998], grad_fn=<SelectBackward0>)\n"
   ]
  }
 ],
 "metadata": {
  "kernelspec": {
   "display_name": "Python 3",
   "language": "python",
   "name": "python3"
  },
  "language_info": {
   "codemirror_mode": {
    "name": "ipython",
    "version": 3
   },
   "file_extension": ".py",
   "mimetype": "text/x-python",
   "name": "python",
   "nbconvert_exporter": "python",
   "pygments_lexer": "ipython3",
   "version": "3.7.4"
  },
  "orig_nbformat": 4,
  "vscode": {
   "interpreter": {
    "hash": "dc919a8c9f3b0b92e1d085faab71fe86a296093fb313f99140bffe2c1d0fe07d"
   }
  }
 },
 "nbformat": 4,
 "nbformat_minor": 2
}
