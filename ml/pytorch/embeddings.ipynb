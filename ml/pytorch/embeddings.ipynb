{
 "cells": [
  {
   "cell_type": "markdown",
   "metadata": {},
   "source": [
    "# Word Embeddings: Encoding Linguistic (Lexical) Meaning (Semantics)\n",
    "### Contents\n",
    "Word Embeddings<br>\n",
    "Understanding the Samples<br>\n",
    "Exploring the Training Set<br>\n",
    "From Images to Numpy Arrays<br>\n",
    "From Numpy Arrays to Tensors<br>\n"
   ]
  },
  {
   "cell_type": "code",
   "execution_count": 1,
   "metadata": {},
   "outputs": [],
   "source": [
    "from string import punctuation\n",
    "\n",
    "import torch\n",
    "import torch.nn as nn\n",
    "import torch.nn.functional as F\n",
    "import torch.optim as optim"
   ]
  },
  {
   "cell_type": "code",
   "execution_count": 2,
   "metadata": {},
   "outputs": [
    {
     "name": "stdout",
     "output_type": "stream",
     "text": [
      "Embedding(2, 5)\n",
      "tensor([-0.1863,  2.2082, -0.6380,  0.4617,  0.2674],\n",
      "       grad_fn=<EmbeddingBackward0>)\n"
     ]
    }
   ],
   "source": [
    "# If you want to get the same result each time you create an embedding then set\n",
    "# the manual seed to the same value every time.\n",
    "torch.manual_seed(42)\n",
    "\n",
    "word_to_token = {'hello': 0, 'world': 1}\n",
    "embeddings = nn.Embedding(2, 5)\n",
    "print(embeddings)\n",
    "\n",
    "lookup = torch.tensor(word_to_token['world'], dtype=torch.int64)\n",
    "world_embeddings = embeddings(lookup)\n",
    "print(world_embeddings)"
   ]
  },
  {
   "cell_type": "markdown",
   "metadata": {},
   "source": [
    "### N-Gram Language Modeling"
   ]
  },
  {
   "cell_type": "code",
   "execution_count": 3,
   "metadata": {},
   "outputs": [],
   "source": [
    "CONTEXT_SIZE = 2\n",
    "EMBEDDING_DIM = 10\n",
    "EPOCHS = 1000\n",
    "LR = 0.001"
   ]
  },
  {
   "cell_type": "code",
   "execution_count": 4,
   "metadata": {},
   "outputs": [],
   "source": [
    "def clean_text(raw_text: str) -> list:\n",
    "    remove_breaks = raw_text.replace('<br />', ' ')\n",
    "    lower = remove_breaks.lower()\n",
    "    valid_characters = [c for c in lower if c not in punctuation]\n",
    "    cleaned = ''.join(valid_characters)\n",
    "    return cleaned\n",
    "\n",
    "\n",
    "def create_n_grams(word_list: list) -> list:\n",
    "    # we should tokenize the input, but we will ignore that for now\n",
    "    # build a list of tuples.\n",
    "    # Each tuple is ([ word_i-CONTEXT_SIZE, ..., word_i-1 ], target word)\n",
    "    n_grams = [\n",
    "        (\n",
    "            [word_list[i - j - 1] for j in range(CONTEXT_SIZE)],\n",
    "            word_list[i]\n",
    "        )\n",
    "        for i in range(CONTEXT_SIZE, len(word_list))\n",
    "    ]\n",
    "    return n_grams\n"
   ]
  },
  {
   "cell_type": "code",
   "execution_count": 5,
   "metadata": {},
   "outputs": [],
   "source": [
    "# We will use Shakespeare Sonnet 2\n",
    "training_sentence = \"\"\"When forty winters shall besiege thy brow,\n",
    "And dig deep trenches in thy beauty's field,\n",
    "Thy youth's proud livery so gazed on now,\n",
    "Will be a totter'd weed of small worth held:\n",
    "Then being asked, where all thy beauty lies,\n",
    "Where all the treasure of thy lusty days;\n",
    "To say, within thine own deep sunken eyes,\n",
    "Were an all-eating shame, and thriftless praise.\n",
    "How much more praise deserv'd thy beauty's use,\n",
    "If thou couldst answer 'This fair child of mine\n",
    "Shall sum my count, and make my old excuse,'\n",
    "Proving his beauty by succession thine!\n",
    "This were to be new made when thou art old,\n",
    "And see thy blood warm when thou feel'st it cold.\"\"\"\n",
    "\n",
    "training_sentence = clean_text(training_sentence)\n",
    "training_words = training_sentence.split()\n",
    "n_grams = create_n_grams(training_words)\n",
    "\n",
    "# Turning our list of words into a set has the effect of eliminating duplicates.\n",
    "# This is a useful technique for getting a distinct list of words.\n",
    "vocab = set(training_words)\n",
    "\n",
    "# Now we can enumerate over the set and create a word to index mapping.\n",
    "words_to_tokens = {word: i for i, word in enumerate(vocab)}\n",
    "\n",
    "def get_word_from_token(token):\n",
    "    word = [w for w in words_to_tokens if words_to_tokens[w] == token]\n",
    "    return word[0]\n"
   ]
  },
  {
   "cell_type": "code",
   "execution_count": 6,
   "metadata": {},
   "outputs": [
    {
     "name": "stdout",
     "output_type": "stream",
     "text": [
      "Clean sentence: when forty winters shall besiege thy brow\n",
      "and dig deep trenches in thy beautys field\n",
      "thy youths proud livery so gazed on now\n",
      "will be a totterd weed of small worth held\n",
      "then being asked where all thy beauty lies\n",
      "where all the treasure of thy lusty days\n",
      "to say within thine own deep sunken eyes\n",
      "were an alleating shame and thriftless praise\n",
      "how much more praise deservd thy beautys use\n",
      "if thou couldst answer this fair child of mine\n",
      "shall sum my count and make my old excuse\n",
      "proving his beauty by succession thine\n",
      "this were to be new made when thou art old\n",
      "and see thy blood warm when thou feelst it cold \n",
      "\n",
      "n_grams: [(['forty', 'when'], 'winters'), (['winters', 'forty'], 'shall'), (['shall', 'winters'], 'besiege')] \n",
      "\n",
      "Vocabulary: {'child', 'made', 'thou', 'old', 'when', 'by', 'shall', 'so', 'lies', 'asked', 'it', 'then', 'brow', 'beautys', 'proud', 'use', 'sum', 'answer', 'on', 'held', 'new', 'proving', 'thy', 'being', 'field', 'say', 'beauty', 'how', 'much', 'couldst', 'thriftless', 'mine', 'sunken', 'more', 'the', 'in', 'count', 'my', 'and', 'if', 'now', 'forty', 'deservd', 'see', 'art', 'thine', 'within', 'of', 'an', 'dig', 'a', 'treasure', 'alleating', 'totterd', 'to', 'his', 'where', 'gazed', 'succession', 'were', 'trenches', 'livery', 'own', 'days', 'this', 'praise', 'besiege', 'small', 'warm', 'all', 'make', 'feelst', 'weed', 'will', 'deep', 'be', 'cold', 'shame', 'youths', 'eyes', 'worth', 'fair', 'winters', 'excuse', 'lusty', 'blood'} \n",
      "\n",
      "Tokens: {'child': 0, 'made': 1, 'thou': 2, 'old': 3, 'when': 4, 'by': 5, 'shall': 6, 'so': 7, 'lies': 8, 'asked': 9, 'it': 10, 'then': 11, 'brow': 12, 'beautys': 13, 'proud': 14, 'use': 15, 'sum': 16, 'answer': 17, 'on': 18, 'held': 19, 'new': 20, 'proving': 21, 'thy': 22, 'being': 23, 'field': 24, 'say': 25, 'beauty': 26, 'how': 27, 'much': 28, 'couldst': 29, 'thriftless': 30, 'mine': 31, 'sunken': 32, 'more': 33, 'the': 34, 'in': 35, 'count': 36, 'my': 37, 'and': 38, 'if': 39, 'now': 40, 'forty': 41, 'deservd': 42, 'see': 43, 'art': 44, 'thine': 45, 'within': 46, 'of': 47, 'an': 48, 'dig': 49, 'a': 50, 'treasure': 51, 'alleating': 52, 'totterd': 53, 'to': 54, 'his': 55, 'where': 56, 'gazed': 57, 'succession': 58, 'were': 59, 'trenches': 60, 'livery': 61, 'own': 62, 'days': 63, 'this': 64, 'praise': 65, 'besiege': 66, 'small': 67, 'warm': 68, 'all': 69, 'make': 70, 'feelst': 71, 'weed': 72, 'will': 73, 'deep': 74, 'be': 75, 'cold': 76, 'shame': 77, 'youths': 78, 'eyes': 79, 'worth': 80, 'fair': 81, 'winters': 82, 'excuse': 83, 'lusty': 84, 'blood': 85}\n"
     ]
    }
   ],
   "source": [
    "# Print the first 3, just so you can see what they look like.\n",
    "print('Clean sentence:', training_sentence, '\\n')\n",
    "print('n_grams:', n_grams[:3], '\\n')\n",
    "print('Vocabulary:', vocab, '\\n')\n",
    "print('Tokens:', words_to_tokens)"
   ]
  },
  {
   "cell_type": "code",
   "execution_count": 7,
   "metadata": {},
   "outputs": [],
   "source": [
    "class NGramLanguageModeler(nn.Module):\n",
    "\n",
    "    def __init__(self, vocab_size, embedding_dim, context_size):\n",
    "        super(NGramLanguageModeler, self).__init__()\n",
    "\n",
    "        torch.manual_seed(42)\n",
    "        self.embeddings = nn.Embedding(vocab_size, embedding_dim)\n",
    "        self.linear1 = nn.Linear(context_size * embedding_dim, 128)\n",
    "        self.linear2 = nn.Linear(128, vocab_size)\n",
    "\n",
    "    def forward(self, inputs):\n",
    "        embeds = self.embeddings(inputs).view((1, -1))\n",
    "        out = F.relu(self.linear1(embeds))\n",
    "        out = self.linear2(out)\n",
    "        log_probs = F.log_softmax(out, dim=1)\n",
    "        return log_probs"
   ]
  },
  {
   "cell_type": "code",
   "execution_count": 8,
   "metadata": {},
   "outputs": [
    {
     "name": "stdout",
     "output_type": "stream",
     "text": [
      "0 : 502.12924790382385\n",
      "100 : 264.70236775279045\n",
      "200 : 75.19377852231264\n",
      "300 : 27.632991425693035\n",
      "400 : 16.336002435535192\n",
      "500 : 12.04359271377325\n",
      "600 : 9.90938277123496\n",
      "700 : 8.667444862425327\n",
      "800 : 7.868045814335346\n",
      "900 : 7.315754613606259\n",
      "999 : 6.9177902459632605\n"
     ]
    }
   ],
   "source": [
    "losses = []\n",
    "loss_function = nn.NLLLoss()\n",
    "model = NGramLanguageModeler(len(vocab), EMBEDDING_DIM, CONTEXT_SIZE)\n",
    "optimizer = optim.SGD(model.parameters(), lr=LR)\n",
    "\n",
    "for epoch in range(EPOCHS):\n",
    "    total_loss = 0\n",
    "    for context, target in n_grams:\n",
    "\n",
    "        # Step 1. Prepare the inputs to be passed to the model (i.e, turn the words\n",
    "        # into integer indices and wrap them in tensors)\n",
    "        context_idxs = torch.tensor([words_to_tokens[w] for w in context], dtype=torch.int64)\n",
    "\n",
    "        # Step 2. Recall that torch *accumulates* gradients. Before passing in a\n",
    "        # new instance, you need to zero out the gradients from the old\n",
    "        # instance\n",
    "        model.zero_grad()\n",
    "\n",
    "        # Step 3. Run the forward pass, getting log probabilities over next\n",
    "        # words\n",
    "        log_probs = model(context_idxs)\n",
    "\n",
    "        # Step 4. Compute your loss function. (Again, Torch wants the target\n",
    "        # word wrapped in a tensor)\n",
    "        loss = loss_function(log_probs, torch.tensor([words_to_tokens[target]], dtype=torch.int64))\n",
    "\n",
    "        # Step 5. Do the backward pass and update the gradient\n",
    "        loss.backward()\n",
    "        optimizer.step()\n",
    "\n",
    "        # Get the Python number from a 1-element Tensor by calling tensor.item()\n",
    "        total_loss += loss.item()\n",
    "\n",
    "    losses.append(total_loss)\n",
    "\n",
    "# The loss should decrease with every iteration (epoch) over the training data.\n",
    "# When you have a large number of iterations over a small training set you are basically\n",
    "# memorizing your training set.\n",
    "# Print the first, last and every 100 in between.\n",
    "for epoch in range(0, EPOCHS, 100):\n",
    "    print(epoch, ':', losses[epoch])\n",
    "print(EPOCHS-1, ':', losses[EPOCHS-1])"
   ]
  },
  {
   "cell_type": "code",
   "execution_count": 9,
   "metadata": {},
   "outputs": [
    {
     "name": "stdout",
     "output_type": "stream",
     "text": [
      "tensor([-1.5965,  0.5401, -0.1546,  0.8099, -1.8845, -0.1641,  0.7404,  0.0434,\n",
      "         1.4659,  0.1944], grad_fn=<SelectBackward0>)\n"
     ]
    }
   ],
   "source": [
    "# To get the embedding of a particular word, e.g. \"beauty\"\n",
    "print(model.embeddings.weight[words_to_tokens['beauty']])"
   ]
  },
  {
   "cell_type": "code",
   "execution_count": 10,
   "metadata": {},
   "outputs": [],
   "source": [
    "# The tag for this context is 'winters'.\n",
    "# Make sure all text here is lower case since the original\n",
    "# text was converted to lower case.\n",
    "context = ['forty', 'when'] \n",
    "\n",
    "context_indexes = torch.tensor([words_to_tokens[w] for w in context], dtype=torch.int64)\n",
    "log_probs = model(context_idxs)"
   ]
  },
  {
   "cell_type": "code",
   "execution_count": 11,
   "metadata": {},
   "outputs": [
    {
     "name": "stdout",
     "output_type": "stream",
     "text": [
      "tensor([[ -9.8200,  -6.7775, -10.3853, -10.1752, -10.5929, -12.4177,  -9.9557,\n",
      "          -9.9247, -13.1367,  -7.9381, -12.0332,  -7.0013,  -9.7796,  -6.3950,\n",
      "         -12.7589, -12.0230,  -8.0474, -11.0113, -10.7316,  -8.6280, -10.3440,\n",
      "         -11.2762,  -7.6896,  -9.5560, -11.6197,  -7.9628,  -8.5421, -10.6977,\n",
      "         -12.1094,  -8.4204,  -8.4596, -10.6391, -11.2010,  -7.0185,  -9.0738,\n",
      "          -8.9613,  -7.1692,  -8.7874, -11.0737, -10.4557, -12.5097, -11.1001,\n",
      "         -10.6614, -10.6350, -10.4490, -12.7536, -11.6180,  -6.9300, -11.5422,\n",
      "          -8.5230,  -7.3443, -12.0330,  -9.1452,  -8.7909, -11.1094, -10.8565,\n",
      "          -9.2764,  -9.1708,  -7.5166,  -8.5492,  -8.6800, -10.8657,  -6.8645,\n",
      "         -12.3441,  -7.2509, -10.0973,  -8.1541, -12.3961, -11.4086,  -5.5982,\n",
      "         -11.4124, -10.7880,  -6.9215,  -8.1470,  -7.9986,  -8.7243,  -0.0227,\n",
      "         -11.5981,  -8.5974,  -7.1635,  -7.1275,  -9.6583,  -8.7424, -12.2647,\n",
      "          -7.7008,  -7.9010]], grad_fn=<LogSoftmaxBackward0>)\n",
      "torch.Size([1, 86])\n",
      "tensor([76])\n",
      "tensor([-0.0227], grad_fn=<IndexBackward0>)\n",
      "Predicted word: cold\n",
      "tensor([76, 69, 13,  1, 62])\n",
      "1 cold\n",
      "2 all\n",
      "3 beautys\n",
      "4 made\n",
      "5 own\n"
     ]
    }
   ],
   "source": [
    "\n",
    "print(log_probs)\n",
    "print(log_probs.shape)\n",
    "\n",
    "# The tensor of log probabilities is a two dimensional tensor (matrix)\n",
    "# because the model is expecting a batch of contextes.\n",
    "max_prob_index = torch.argmax(log_probs, dim=1)\n",
    "print(max_prob_index)\n",
    "\n",
    "print(log_probs[0, max_prob_index])\n",
    "predicted_word = get_word_from_token(max_prob_index)\n",
    "print('Predicted word:', predicted_word)\n",
    "\n",
    "top_predictions = torch.topk(log_probs, 5, dim=1, largest=True, sorted=True)\n",
    "print(top_predictions.indices[0])\n",
    "\n",
    "i = 0\n",
    "for index in top_predictions.indices[0]:\n",
    "    i += 1\n",
    "    predicted_word = get_word_from_token(index)\n",
    "    print(i, predicted_word)"
   ]
  },
  {
   "cell_type": "code",
   "execution_count": 12,
   "metadata": {},
   "outputs": [
    {
     "name": "stdout",
     "output_type": "stream",
     "text": [
      "tensor([ 0.8244,  0.7983,  1.8890,  0.5935,  0.0697, -1.6034, -0.4298,  0.5762,\n",
      "         0.3444, -3.1016], grad_fn=<SelectBackward0>)\n",
      "tensor([-0.0782, -1.1051,  0.2376, -0.8343,  1.4269, -0.3624, -1.0107,  2.0188,\n",
      "        -1.7139,  2.2302], grad_fn=<SelectBackward0>)\n"
     ]
    }
   ],
   "source": [
    "print(model.embeddings.weight[words_to_tokens['cold']])\n",
    "print(model.embeddings.weight[words_to_tokens['winters']])"
   ]
  },
  {
   "cell_type": "markdown",
   "metadata": {},
   "source": [
    "tensor([ 0.5634, -0.5786, -1.0838, -0.3889,  0.8126,  1.4981,  0.0439,  1.4443,\n",
    "         0.2320,  0.5065], grad_fn=<SelectBackward0>)\n",
    "         <br>\n",
    "tensor([ 0.3349, -0.4794,  1.1488,  1.8238, -0.0490,  1.8349,  0.1909, -1.1668,\n",
    "        -0.5927,  0.0974], grad_fn=<SelectBackward0>)"
   ]
  }
 ],
 "metadata": {
  "kernelspec": {
   "display_name": "Python 3.10.0 ('.venv': venv)",
   "language": "python",
   "name": "python3"
  },
  "language_info": {
   "codemirror_mode": {
    "name": "ipython",
    "version": 3
   },
   "file_extension": ".py",
   "mimetype": "text/x-python",
   "name": "python",
   "nbconvert_exporter": "python",
   "pygments_lexer": "ipython3",
   "version": "3.10.0"
  },
  "orig_nbformat": 4,
  "vscode": {
   "interpreter": {
    "hash": "bb30887f202a295f03f14bdc6c33a4c2546440b9bc6792bc5945ccf510842fff"
   }
  }
 },
 "nbformat": 4,
 "nbformat_minor": 2
}
