{
 "cells": [
  {
   "cell_type": "markdown",
   "metadata": {},
   "source": [
    "### Contents\n",
    "Introduction<br>\n",
    "Creating Tensors<br>\n",
    "Data types<br>\n",
    "Initializing Tensors<br>\n",
    "Dimensions, Rank and Shapes<br>\n",
    "Converting Between Tensors and Numpy Arrays<br>\n",
    "Summary<br>\n",
    "Next Steps<br>\n",
    "\n",
    "Basic Arithmatic operations<br>\n",
    "Slicing<br>\n",
    "Reshaping<br>\n"
   ]
  },
  {
   "cell_type": "code",
   "execution_count": null,
   "metadata": {},
   "outputs": [],
   "source": [
    "import numpy as np\n",
    "import torch"
   ]
  },
  {
   "cell_type": "markdown",
   "metadata": {},
   "source": [
    "### Creating Tensors"
   ]
  },
  {
   "cell_type": "code",
   "execution_count": null,
   "metadata": {},
   "outputs": [],
   "source": [
    "data_as_list = [1, 2, 3]\n",
    "\n",
    "data_as_tensor = torch.tensor(data_as_list)\n",
    "\n",
    "print(data_as_list)\n",
    "print(data_as_tensor)\n",
    "print(data_as_tensor.ndim)"
   ]
  },
  {
   "cell_type": "code",
   "execution_count": null,
   "metadata": {},
   "outputs": [],
   "source": [
    "data_as_numpy_array = np.array([1, 2, 3])\n",
    "\n",
    "data_as_tensor = torch.tensor(data_as_list)\n",
    "\n",
    "print(data_as_numpy_array)\n",
    "print(data_as_tensor)"
   ]
  },
  {
   "cell_type": "markdown",
   "metadata": {},
   "source": [
    "### Initializing Tensors"
   ]
  },
  {
   "cell_type": "code",
   "execution_count": null,
   "metadata": {},
   "outputs": [],
   "source": [
    "tensor_of_zeros = torch.zeros((2, 2), dtype=torch.float64)\n",
    "\n",
    "print('Tensor made up of all zeros:\\n\\t', tensor_of_zeros)\n",
    "print('Number of dimensions:', tensor_of_zeros.ndim)\n",
    "print('Tensor shape:', tensor_of_zeros.shape)"
   ]
  },
  {
   "cell_type": "code",
   "execution_count": null,
   "metadata": {},
   "outputs": [],
   "source": [
    "tensor_of_ones = torch.ones((2, 2), dtype=torch.int64)\n",
    "\n",
    "print('Tensor made up of all ones:\\n\\t', tensor_of_ones)\n",
    "print('Number of dimensions:', tensor_of_ones.ndim)\n",
    "print('Tensor shape:', tensor_of_ones.shape)"
   ]
  },
  {
   "cell_type": "code",
   "execution_count": null,
   "metadata": {},
   "outputs": [],
   "source": [
    "tensor_of_random_values = torch.rand((2, 2), dtype=torch.float64)\n",
    "\n",
    "print('Tensor made up of random values:\\n\\t', tensor_of_random_values)\n",
    "print('Number of dimensions:', tensor_of_random_values.ndim)\n",
    "print('Tensor shape:', tensor_of_random_values.shape)"
   ]
  },
  {
   "cell_type": "code",
   "execution_count": null,
   "metadata": {},
   "outputs": [],
   "source": [
    "tensor_of_random_values = torch.rand((2, 2), dtype=torch.complex64)\n",
    "\n",
    "print('Tensor made up of random values:\\n\\t', tensor_of_random_values)\n",
    "print('Number of dimensions:', tensor_of_random_values.ndim)\n",
    "print('Tensor shape:', tensor_of_random_values.shape)"
   ]
  },
  {
   "cell_type": "code",
   "execution_count": null,
   "metadata": {},
   "outputs": [],
   "source": [
    "tensor_of_empty_values = torch.empty((2, 2), dtype=torch.uint8)\n",
    "\n",
    "print('Tensor made up of empty values:\\n\\t', tensor_of_empty_values)\n",
    "print('Number of dimensions:', tensor_of_empty_values.ndim)\n",
    "print('Tensor shape:', tensor_of_empty_values.shape)"
   ]
  },
  {
   "cell_type": "markdown",
   "metadata": {},
   "source": [
    "### Tensors and Numpy arrays"
   ]
  },
  {
   "cell_type": "code",
   "execution_count": null,
   "metadata": {},
   "outputs": [],
   "source": [
    "numpy_array = np.array([1, 2, 3])\n",
    "tensor_from_numpy_array = torch.tensor(numpy_array)\n",
    "\n",
    "numpy_array += 1\n",
    "print('Numpy array after adding 1:', numpy_array)\n",
    "print('Tensor created from numpy array:', tensor_from_numpy_array)"
   ]
  },
  {
   "cell_type": "code",
   "execution_count": null,
   "metadata": {},
   "outputs": [],
   "source": [
    "numpy_array = np.array([1, 2, 3])\n",
    "tensor_from_numpy_array = torch.from_numpy(numpy_array)\n",
    "\n",
    "numpy_array += 1\n",
    "print('Numpy array after adding 1:', numpy_array)\n",
    "print('Tensor created from numpy array:', tensor_from_numpy_array)"
   ]
  },
  {
   "cell_type": "markdown",
   "metadata": {},
   "source": [
    "### Data Types"
   ]
  },
  {
   "cell_type": "code",
   "execution_count": null,
   "metadata": {},
   "outputs": [],
   "source": [
    "data_as_list = [1, 2, 3]\n",
    "data_as_tensor = torch.tensor(data_as_list, dtype=torch.int32)\n",
    "\n",
    "print('Data from the list:', data_as_list)\n",
    "print('Data in an int32 tensor:', data_as_tensor)"
   ]
  },
  {
   "cell_type": "code",
   "execution_count": null,
   "metadata": {},
   "outputs": [],
   "source": [
    "data_as_list = [1, 2, 3]\n",
    "data_as_tensor = torch.tensor(data_as_list, dtype=torch.float32)\n",
    "\n",
    "print('Data from the list:', data_as_list)\n",
    "print('Data in a float32 tensor:', data_as_tensor)"
   ]
  },
  {
   "cell_type": "markdown",
   "metadata": {},
   "source": [
    "### Dimensions, Rank and Shape"
   ]
  },
  {
   "cell_type": "code",
   "execution_count": null,
   "metadata": {},
   "outputs": [],
   "source": [
    "data = 3.14\n",
    "scaler = torch.tensor(data, dtype=torch.float32)\n",
    "\n",
    "print('Zero dimensional tensor:', scaler)\n",
    "print('ndim (or Rank):', scaler.ndim)\n",
    "print('Shape:', scaler.shape)"
   ]
  },
  {
   "cell_type": "code",
   "execution_count": null,
   "metadata": {},
   "outputs": [],
   "source": [
    "print('Zero Dimensional tensor value:', scaler[0])\n",
    "print('Type:', type(scaler))"
   ]
  },
  {
   "cell_type": "code",
   "execution_count": null,
   "metadata": {},
   "outputs": [],
   "source": [
    "data = [1, 2, 3, 4]\n",
    "vector = torch.tensor(data, dtype=torch.float32)\n",
    "\n",
    "print('One dimensional tensor:', vector)\n",
    "print('ndim (or Rank):', vector.ndim)\n",
    "print('Shape:', vector.shape)"
   ]
  },
  {
   "cell_type": "code",
   "execution_count": null,
   "metadata": {},
   "outputs": [],
   "source": [
    "print('4th value in the vector:', vector[3])\n",
    "print('Type:', type(vector[3]))"
   ]
  },
  {
   "cell_type": "code",
   "execution_count": null,
   "metadata": {},
   "outputs": [],
   "source": [
    "data = [[1, 2, 3, 4],[5, 6, 7, 8]]\n",
    "matrix = torch.tensor(data, dtype=torch.float32)\n",
    "\n",
    "print('Two dimensional tensor:\\n', matrix)\n",
    "print('ndim (or Rank):', matrix.ndim)\n",
    "print('Shape:', matrix.shape)"
   ]
  },
  {
   "cell_type": "code",
   "execution_count": null,
   "metadata": {},
   "outputs": [],
   "source": [
    "sample1 = [[1, 2, 3, 4],[5, 6, 7, 8]]\n",
    "sample2 = [[9, 10, 11, 12],[13, 14, 15, 16]]\n",
    "data = [sample1, sample2]\n",
    "cuboid = torch.tensor(data, dtype=torch.float32)\n",
    "\n",
    "print('Three dimensional tensor:\\n', cuboid)\n",
    "print('ndim (or Rank):', cuboid.ndim)\n",
    "print('Shape:', cuboid.shape)"
   ]
  },
  {
   "cell_type": "markdown",
   "metadata": {},
   "source": [
    "### A Real World ML Example"
   ]
  },
  {
   "cell_type": "code",
   "execution_count": null,
   "metadata": {},
   "outputs": [],
   "source": [
    "batchs = 2\n",
    "samples = 3\n",
    "features = 15\n",
    "x = torch.rand(batchs, samples, features)\n",
    "x"
   ]
  },
  {
   "cell_type": "code",
   "execution_count": null,
   "metadata": {},
   "outputs": [],
   "source": [
    "batchs = 2\n",
    "samples = 3\n",
    "features = 15\n",
    "x = torch.zeros(batchs, samples, features)\n",
    "x"
   ]
  },
  {
   "cell_type": "code",
   "execution_count": null,
   "metadata": {},
   "outputs": [],
   "source": [
    "batchs = 2\n",
    "samples = 3\n",
    "features = 15\n",
    "x = torch.ones(batchs, samples, features)\n",
    "x"
   ]
  },
  {
   "cell_type": "markdown",
   "metadata": {},
   "source": [
    "TODO: Get a list of all available datatypes."
   ]
  },
  {
   "cell_type": "markdown",
   "metadata": {},
   "source": [
    "### Datatypes"
   ]
  },
  {
   "cell_type": "code",
   "execution_count": null,
   "metadata": {},
   "outputs": [],
   "source": [
    "batchs = 2\n",
    "samples = 3\n",
    "features = 15\n",
    "x = torch.ones(batchs, samples, features, dtype=int)\n",
    "\n",
    "print(x.dtype)\n",
    "print(x)"
   ]
  },
  {
   "cell_type": "code",
   "execution_count": null,
   "metadata": {},
   "outputs": [],
   "source": [
    "x.size()"
   ]
  },
  {
   "cell_type": "code",
   "execution_count": null,
   "metadata": {},
   "outputs": [],
   "source": [
    "x = torch.tensor([1, 1, 1])\n",
    "print(x.dtype)\n",
    "print(x.size())\n",
    "print(x)"
   ]
  },
  {
   "cell_type": "markdown",
   "metadata": {},
   "source": [
    "### Arithmatic Operations"
   ]
  },
  {
   "cell_type": "code",
   "execution_count": null,
   "metadata": {},
   "outputs": [],
   "source": [
    "y = torch.tensor([2, 2, 2])\n",
    "z = x + y\n",
    "\n",
    "print(x)\n",
    "print(y)\n",
    "print(z)"
   ]
  },
  {
   "cell_type": "code",
   "execution_count": null,
   "metadata": {},
   "outputs": [],
   "source": [
    "z = x.add(y)\n",
    "\n",
    "print(z)"
   ]
  },
  {
   "cell_type": "markdown",
   "metadata": {},
   "source": [
    "The underscore methods in Pytorch represent in place modifications. The method below still returns a value which is x itself however you only need to use it in this fashion if you want to modify x and set it into another variable.\n"
   ]
  },
  {
   "cell_type": "code",
   "execution_count": null,
   "metadata": {},
   "outputs": [],
   "source": [
    "print(x)\n",
    "\n",
    "x.add_(y)\n",
    "\n",
    "print(x)\n",
    "\n",
    "b = x.add_(y)\n",
    "\n",
    "print(b is x)"
   ]
  },
  {
   "cell_type": "markdown",
   "metadata": {},
   "source": [
    "TODO: Get a list of all the basic arithmatic operations."
   ]
  },
  {
   "cell_type": "markdown",
   "metadata": {},
   "source": [
    "### Slicing"
   ]
  },
  {
   "cell_type": "code",
   "execution_count": null,
   "metadata": {},
   "outputs": [],
   "source": [
    "# Slicing - second row all columns\n",
    "x = torch.rand(2,2)\n",
    "print(x)\n",
    "print(x[1, :])"
   ]
  },
  {
   "cell_type": "code",
   "execution_count": null,
   "metadata": {},
   "outputs": [],
   "source": [
    "# Slicing - all rows first column\n",
    "x = torch.rand(2,2)\n",
    "print(x)\n",
    "print(x[:, 0])"
   ]
  },
  {
   "cell_type": "code",
   "execution_count": null,
   "metadata": {},
   "outputs": [],
   "source": [
    "# Using the item() method to return a scalar. Notice from the output that z is no longer a tensor.\n",
    "z = x[1, 1]\n",
    "\n",
    "print(x)\n",
    "print(z.item())"
   ]
  },
  {
   "cell_type": "markdown",
   "metadata": {},
   "source": [
    "### Reshaping\n",
    "\n",
    "You can reshape a tensor as long as you account for every element in the original tensor. The example below transforms a two dimension 2 by 5 tensor into a one dimensional tensor containing 10 elements. \n",
    "\n",
    "You an also have Pytorch determine a dimension for you.\n",
    "\n",
    "Try using an incorrect values for view that do not account for every element in the original tensor and see what happens."
   ]
  },
  {
   "cell_type": "code",
   "execution_count": null,
   "metadata": {},
   "outputs": [],
   "source": [
    "x = torch.rand(2, 5)\n",
    "y = x.view(10)\n",
    "z = x.view(-1,2)\n",
    "\n",
    "print(x)\n",
    "print(x.size())\n",
    "print(y)\n",
    "print(y.size())\n",
    "print(z)\n",
    "print(z.size())"
   ]
  },
  {
   "cell_type": "markdown",
   "metadata": {},
   "source": [
    "### Converting between tensors and Numpy arrays.\n",
    "\n",
    "You can convert from a tensor to a numpy array using a tensor's numpy method however the two variables share the same memory location. In other words changing one will change the other."
   ]
  },
  {
   "cell_type": "code",
   "execution_count": null,
   "metadata": {},
   "outputs": [],
   "source": [
    "x = torch.zeros(3, 4)\n",
    "z = x.numpy()\n",
    "\n",
    "print(x)\n",
    "print(z)\n",
    "print(type(z))"
   ]
  },
  {
   "cell_type": "code",
   "execution_count": null,
   "metadata": {},
   "outputs": [],
   "source": [
    "x[1,1] = 1\n",
    "\n",
    "print(x)\n",
    "print(z)\n",
    "print(type(z))"
   ]
  },
  {
   "cell_type": "code",
   "execution_count": null,
   "metadata": {},
   "outputs": [],
   "source": [
    "x = np.ones((5, 5), dtype=int)\n",
    "y = torch.from_numpy(x)\n",
    "\n",
    "print(x)\n",
    "print(type(x))\n",
    "print(y)\n",
    "print(type(y))"
   ]
  },
  {
   "cell_type": "code",
   "execution_count": null,
   "metadata": {},
   "outputs": [],
   "source": [
    "# Be careful when modifying one because you will modify the other.\n",
    "x += 1\n",
    "\n",
    "print(x)\n",
    "print(y)"
   ]
  }
 ],
 "metadata": {
  "interpreter": {
   "hash": "0be0938be6b90188cfcadaee5cfa136cbf4cd1f17e2ba8c4c1b600aef81eccfe"
  },
  "kernelspec": {
   "display_name": "Python 3.5.2 64-bit",
   "language": "python",
   "name": "python3"
  },
  "language_info": {
   "codemirror_mode": {
    "name": "ipython",
    "version": 3
   },
   "file_extension": ".py",
   "mimetype": "text/x-python",
   "name": "python",
   "nbconvert_exporter": "python",
   "pygments_lexer": "ipython3",
   "version": "3.8.5"
  },
  "orig_nbformat": 4
 },
 "nbformat": 4,
 "nbformat_minor": 2
}
