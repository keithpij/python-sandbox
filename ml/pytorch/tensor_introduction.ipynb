{
 "cells": [
  {
   "cell_type": "markdown",
   "metadata": {},
   "source": [
    "### Contents\n",
    "Creating and Initializing<br>\n",
    "Dimensions<br>\n",
    "Data types<br>\n",
    "Converting Between Tensors and Numpy Arrays<br>\n",
    "Basic Arithmatic operations<br>\n",
    "Slicing<br>\n",
    "Reshaping<br>\n",
    "Next Steps<br>\n",
    "Conclusion<br>"
   ]
  },
  {
   "cell_type": "code",
   "execution_count": 2,
   "metadata": {},
   "outputs": [],
   "source": [
    "import numpy as np\n",
    "import torch"
   ]
  },
  {
   "cell_type": "markdown",
   "metadata": {},
   "source": [
    "### Dimensions"
   ]
  },
  {
   "cell_type": "code",
   "execution_count": 3,
   "metadata": {},
   "outputs": [
    {
     "name": "stdout",
     "output_type": "stream",
     "text": [
      "tensor([9.1837e-41, 0.0000e+00])\n",
      "tensor([[2.7299e-06, 2.1272e+23],\n",
      "        [1.6535e-04, 1.0539e-11]])\n",
      "tensor([[[ 0.0000e+00,  3.6893e+19],\n",
      "         [-2.4654e+31, -4.6577e-10]],\n",
      "\n",
      "        [[-2.4561e+31,  1.5849e+29],\n",
      "         [-2.4669e+31,  2.0005e+00]]])\n",
      "tensor([[[[0.0000e+00, 3.6893e+19],\n",
      "          [0.0000e+00, 3.6893e+19]],\n",
      "\n",
      "         [[2.5223e-44, 0.0000e+00],\n",
      "          [0.0000e+00, 0.0000e+00]]],\n",
      "\n",
      "\n",
      "        [[[0.0000e+00, 0.0000e+00],\n",
      "          [0.0000e+00, 0.0000e+00]],\n",
      "\n",
      "         [[0.0000e+00, 0.0000e+00],\n",
      "          [2.4761e-04, 4.5804e-41]]]])\n"
     ]
    }
   ],
   "source": [
    "one_dimension = torch.empty(2)\n",
    "two_dimensions = torch.empty(2, 2)\n",
    "three_dimensions = torch.empty(2, 2, 2)\n",
    "four_dimensions = torch.empty(2, 2, 2, 2)\n",
    "\n",
    "print(one_dimension)\n",
    "print(two_dimensions)\n",
    "print(three_dimensions)\n",
    "print(four_dimensions)"
   ]
  },
  {
   "cell_type": "markdown",
   "metadata": {},
   "source": [
    "### A Real World ML Example"
   ]
  },
  {
   "cell_type": "code",
   "execution_count": null,
   "metadata": {},
   "outputs": [],
   "source": [
    "batchs = 2\n",
    "samples = 3\n",
    "features = 15\n",
    "x = torch.rand(batchs, samples, features)\n",
    "x"
   ]
  },
  {
   "cell_type": "code",
   "execution_count": null,
   "metadata": {},
   "outputs": [],
   "source": [
    "batchs = 2\n",
    "samples = 3\n",
    "features = 15\n",
    "x = torch.zeros(batchs, samples, features)\n",
    "x"
   ]
  },
  {
   "cell_type": "code",
   "execution_count": null,
   "metadata": {},
   "outputs": [],
   "source": [
    "batchs = 2\n",
    "samples = 3\n",
    "features = 15\n",
    "x = torch.ones(batchs, samples, features)\n",
    "x"
   ]
  },
  {
   "cell_type": "markdown",
   "metadata": {},
   "source": [
    "TODO: Get a list of all available datatypes."
   ]
  },
  {
   "cell_type": "markdown",
   "metadata": {},
   "source": [
    "### Datatypes"
   ]
  },
  {
   "cell_type": "code",
   "execution_count": null,
   "metadata": {},
   "outputs": [],
   "source": [
    "batchs = 2\n",
    "samples = 3\n",
    "features = 15\n",
    "x = torch.ones(batchs, samples, features, dtype=int)\n",
    "\n",
    "print(x.dtype)\n",
    "print(x)"
   ]
  },
  {
   "cell_type": "code",
   "execution_count": null,
   "metadata": {},
   "outputs": [],
   "source": [
    "x.size()"
   ]
  },
  {
   "cell_type": "code",
   "execution_count": null,
   "metadata": {},
   "outputs": [],
   "source": [
    "x = torch.tensor([1, 1, 1])\n",
    "print(x.dtype)\n",
    "print(x.size())\n",
    "print(x)"
   ]
  },
  {
   "cell_type": "markdown",
   "metadata": {},
   "source": [
    "### Arithmatic Operations"
   ]
  },
  {
   "cell_type": "code",
   "execution_count": null,
   "metadata": {},
   "outputs": [],
   "source": [
    "y = torch.tensor([2, 2, 2])\n",
    "z = x + y\n",
    "\n",
    "print(x)\n",
    "print(y)\n",
    "print(z)"
   ]
  },
  {
   "cell_type": "code",
   "execution_count": null,
   "metadata": {},
   "outputs": [],
   "source": [
    "z = x.add(y)\n",
    "\n",
    "print(z)"
   ]
  },
  {
   "cell_type": "markdown",
   "metadata": {},
   "source": [
    "The underscore methods in Pytorch represent in place modifications. The method below still returns a value which is x itself however you only need to use it in this fashion if you want to modify x and set it into another variable.\n"
   ]
  },
  {
   "cell_type": "code",
   "execution_count": null,
   "metadata": {},
   "outputs": [],
   "source": [
    "print(x)\n",
    "\n",
    "x.add_(y)\n",
    "\n",
    "print(x)\n",
    "\n",
    "b = x.add_(y)\n",
    "\n",
    "print(b is x)"
   ]
  },
  {
   "cell_type": "markdown",
   "metadata": {},
   "source": [
    "TODO: Get a list of all the basic arithmatic operations."
   ]
  },
  {
   "cell_type": "markdown",
   "metadata": {},
   "source": [
    "### Slicing"
   ]
  },
  {
   "cell_type": "code",
   "execution_count": null,
   "metadata": {},
   "outputs": [],
   "source": [
    "# Slicing - second row all columns\n",
    "x = torch.rand(2,2)\n",
    "print(x)\n",
    "print(x[1, :])"
   ]
  },
  {
   "cell_type": "code",
   "execution_count": null,
   "metadata": {},
   "outputs": [],
   "source": [
    "# Slicing - all rows first column\n",
    "x = torch.rand(2,2)\n",
    "print(x)\n",
    "print(x[:, 0])"
   ]
  },
  {
   "cell_type": "code",
   "execution_count": null,
   "metadata": {},
   "outputs": [],
   "source": [
    "# Using the item() method to return a scalar. Notice from the output that z is no longer a tensor.\n",
    "z = x[1, 1]\n",
    "\n",
    "print(x)\n",
    "print(z.item())"
   ]
  },
  {
   "cell_type": "markdown",
   "metadata": {},
   "source": [
    "### Reshaping\n",
    "\n",
    "You can reshape a tensor as long as you account for every element in the original tensor. The example below transforms a two dimension 2 by 5 tensor into a one dimensional tensor containing 10 elements. \n",
    "\n",
    "You an also have Pytorch determine a dimension for you.\n",
    "\n",
    "Try using an incorrect values for view that do not account for every element in the original tensor and see what happens."
   ]
  },
  {
   "cell_type": "code",
   "execution_count": null,
   "metadata": {},
   "outputs": [],
   "source": [
    "x = torch.rand(2, 5)\n",
    "y = x.view(10)\n",
    "z = x.view(-1,2)\n",
    "\n",
    "print(x)\n",
    "print(x.size())\n",
    "print(y)\n",
    "print(y.size())\n",
    "print(z)\n",
    "print(z.size())"
   ]
  },
  {
   "cell_type": "markdown",
   "metadata": {},
   "source": [
    "### Converting between tensors and Numpy arrays.\n",
    "\n",
    "You can convert from a tensor to a numpy array using a tensor's numpy method however the two variables share the same memory location. In other words changing one will change the other."
   ]
  },
  {
   "cell_type": "code",
   "execution_count": null,
   "metadata": {},
   "outputs": [],
   "source": [
    "x = torch.zeros(3, 4)\n",
    "z = x.numpy()\n",
    "\n",
    "print(x)\n",
    "print(z)\n",
    "print(type(z))"
   ]
  },
  {
   "cell_type": "code",
   "execution_count": null,
   "metadata": {},
   "outputs": [],
   "source": [
    "x[1,1] = 1\n",
    "\n",
    "print(x)\n",
    "print(z)\n",
    "print(type(z))"
   ]
  },
  {
   "cell_type": "code",
   "execution_count": null,
   "metadata": {},
   "outputs": [],
   "source": [
    "x = np.ones((5, 5), dtype=int)\n",
    "y = torch.from_numpy(x)\n",
    "\n",
    "print(x)\n",
    "print(type(x))\n",
    "print(y)\n",
    "print(type(y))"
   ]
  },
  {
   "cell_type": "code",
   "execution_count": null,
   "metadata": {},
   "outputs": [],
   "source": [
    "# Be careful when modifying one because you will modify the other.\n",
    "x += 1\n",
    "\n",
    "print(x)\n",
    "print(y)"
   ]
  }
 ],
 "metadata": {
  "interpreter": {
   "hash": "0be0938be6b90188cfcadaee5cfa136cbf4cd1f17e2ba8c4c1b600aef81eccfe"
  },
  "kernelspec": {
   "display_name": "Python 3.5.2 64-bit",
   "language": "python",
   "name": "python3"
  },
  "language_info": {
   "codemirror_mode": {
    "name": "ipython",
    "version": 3
   },
   "file_extension": ".py",
   "mimetype": "text/x-python",
   "name": "python",
   "nbconvert_exporter": "python",
   "pygments_lexer": "ipython3",
   "version": "3.8.5"
  },
  "orig_nbformat": 4
 },
 "nbformat": 4,
 "nbformat_minor": 2
}
