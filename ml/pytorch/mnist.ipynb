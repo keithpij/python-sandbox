{
 "cells": [
  {
   "cell_type": "code",
   "execution_count": null,
   "metadata": {},
   "outputs": [],
   "source": [
    "import matplotlib\n",
    "import numpy as np\n",
    "import pandas as pd\n",
    "from PIL import Image\n",
    "import torch\n",
    "from torch import tensor\n",
    "from torchvision import datasets, transforms\n",
    "\n",
    "matplotlib.rc('image', cmap='Greys')"
   ]
  },
  {
   "cell_type": "code",
   "execution_count": null,
   "metadata": {},
   "outputs": [],
   "source": [
    "# configure pandas to print full data sets\n",
    "pd.options.display.float_format = '{:,.2f}'.format\n",
    "\n",
    "pd.set_option('display.max_columns', 999)\n",
    "pd.set_option('display.max_rows', 1000)\n",
    "np.set_printoptions(linewidth=200)\n",
    "torch.set_printoptions(linewidth=200)\n"
   ]
  },
  {
   "cell_type": "code",
   "execution_count": null,
   "metadata": {},
   "outputs": [],
   "source": [
    "# Define a transform to normalize the data\n",
    "transform = transforms.Compose([transforms.ToTensor(),\n",
    "                                transforms.Normalize((0.5,), (0.5,))])\n",
    "\n",
    "# Download and load the training data\n",
    "train = datasets.MNIST('./mnist_data/', download=True, train=True)\n",
    "test = datasets.MNIST('./mnist_data/', download=True, train=False)\n",
    "\n",
    "print(type(train))\n",
    "print(len(train))\n",
    "print(len(test))"
   ]
  },
  {
   "cell_type": "code",
   "execution_count": null,
   "metadata": {},
   "outputs": [],
   "source": [
    "# Get a single sample.\n",
    "sample = train[0]\n",
    "print(type(sample[0]))\n",
    "print(type(sample[1]))\n",
    "\n",
    "print(sample[1])\n",
    "sample[0]\n"
   ]
  },
  {
   "cell_type": "code",
   "execution_count": null,
   "metadata": {},
   "outputs": [],
   "source": [
    "image_array = np.array(sample[0])\n",
    "\n",
    "print(type(image_array))\n",
    "print(image_array[4:10,4:10])\n",
    "print(image_array)"
   ]
  },
  {
   "cell_type": "code",
   "execution_count": null,
   "metadata": {},
   "outputs": [],
   "source": [
    "# List comprehension to load all images into an array of tensors.\n",
    "train_tensors = [tensor(np.array(sample[0])) for sample in train]\n",
    "test_tensors = [tensor(np.array(sample[0])) for sample in test]\n",
    "\n",
    "print(type(train_tensors))\n",
    "print(len(train_tensors))\n",
    "print(len(test_tensors))"
   ]
  },
  {
   "cell_type": "code",
   "execution_count": null,
   "metadata": {},
   "outputs": [],
   "source": [
    "# Create a Pandas dataframe from the tensor so that we can use the DataFrame's style object to \n",
    "# make a nice display.\n",
    "#from fastbook import *\n",
    "from fastai.vision.all import *\n",
    "train_tensor = train_tensors[0]\n",
    "#print(train_tensor)\n",
    "image_df = pd.DataFrame(train_tensor)\n",
    "image_df.style.set_properties(**{'font-size':'6pt'}).background_gradient('Greys')\n"
   ]
  },
  {
   "cell_type": "code",
   "execution_count": null,
   "metadata": {},
   "outputs": [],
   "source": [
    "image_df.style"
   ]
  },
  {
   "cell_type": "code",
   "execution_count": null,
   "metadata": {},
   "outputs": [],
   "source": [
    "# Turn our tensors into loaders.\n",
    "train_loader = torch.utils.data.DataLoader(train, batch_size=64, shuffle=False)\n",
    "test_loader = torch.utils.data.DataLoader(test, batch_size=64, shuffle=False)"
   ]
  }
 ],
 "metadata": {
  "interpreter": {
   "hash": "dc919a8c9f3b0b92e1d085faab71fe86a296093fb313f99140bffe2c1d0fe07d"
  },
  "kernelspec": {
   "display_name": "Python 3.7.4 ('.venv': venv)",
   "language": "python",
   "name": "python3"
  },
  "language_info": {
   "codemirror_mode": {
    "name": "ipython",
    "version": 3
   },
   "file_extension": ".py",
   "mimetype": "text/x-python",
   "name": "python",
   "nbconvert_exporter": "python",
   "pygments_lexer": "ipython3",
   "version": "3.7.4"
  },
  "orig_nbformat": 4
 },
 "nbformat": 4,
 "nbformat_minor": 2
}
