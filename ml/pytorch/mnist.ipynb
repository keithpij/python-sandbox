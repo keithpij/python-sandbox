{
 "cells": [
  {
   "cell_type": "markdown",
   "metadata": {},
   "source": [
    "# The MNIST Dataset\n",
    "### Contents\n",
    "Loading the Images<br>\n",
    "Understanding the Samples<br>\n",
    "Exploring the Training Set<br>\n",
    "From Images to Numpy Arrays<br>\n",
    "From Numpy Arrays to Tensors<br>\n"
   ]
  },
  {
   "cell_type": "code",
   "execution_count": 1,
   "metadata": {},
   "outputs": [],
   "source": [
    "import matplotlib\n",
    "import numpy as np\n",
    "import pandas as pd\n",
    "from PIL.Image import Image\n",
    "import torch\n",
    "from torch import tensor\n",
    "from torchvision import transforms\n",
    "from torchvision.datasets import MNIST"
   ]
  },
  {
   "cell_type": "code",
   "execution_count": null,
   "metadata": {},
   "outputs": [],
   "source": [
    "matplotlib.rc('image', cmap='Greys')\n",
    "\n",
    "# configure pandas to print full data sets\n",
    "pd.options.display.float_format = '{:,.2f}'.format\n",
    "pd.set_option('display.max_columns', 999)\n",
    "pd.set_option('display.max_rows', 1000)\n",
    "np.set_printoptions(linewidth=200)\n",
    "torch.set_printoptions(linewidth=200)\n"
   ]
  },
  {
   "cell_type": "markdown",
   "metadata": {},
   "source": [
    "### Loading the Images"
   ]
  },
  {
   "cell_type": "code",
   "execution_count": 2,
   "metadata": {},
   "outputs": [
    {
     "name": "stdout",
     "output_type": "stream",
     "text": [
      "<class 'torchvision.datasets.mnist.MNIST'>\n",
      "Number of samples in the training set 60000\n",
      "Number of samples in the test set 10000\n"
     ]
    }
   ],
   "source": [
    "# Define a transform to normalize the data\n",
    "transform = transforms.Compose([transforms.ToTensor(),\n",
    "                                transforms.Normalize((0.5,), (0.5,))])\n",
    "\n",
    "# Download and load the training and test samples.\n",
    "train = MNIST('./mnist_data/', download=True, train=True)\n",
    "test = MNIST('./mnist_data/', download=True, train=False)\n",
    "\n",
    "print(type(train))\n",
    "print('Number of samples in the training set', len(train))\n",
    "print('Number of samples in the test set', len(test))"
   ]
  },
  {
   "cell_type": "markdown",
   "metadata": {},
   "source": [
    "### Understanding the Samples"
   ]
  },
  {
   "cell_type": "code",
   "execution_count": null,
   "metadata": {},
   "outputs": [],
   "source": [
    "\n",
    "# Get a single sample.\n",
    "sample = train[0]\n",
    "\n",
    "print('Sample type:', type(sample))\n",
    "print('Sample length:', len(sample))\n",
    "print('Image type:', type(sample[0]))\n",
    "print('Label type:', type(sample[1]))"
   ]
  },
  {
   "cell_type": "code",
   "execution_count": null,
   "metadata": {},
   "outputs": [],
   "source": [
    "print('The image below is a:', sample[1])\n",
    "sample[0]"
   ]
  },
  {
   "cell_type": "code",
   "execution_count": null,
   "metadata": {},
   "outputs": [],
   "source": [
    "import sys\n",
    "\n",
    "# TODO: This produces odd results. Need to understand this better.\n",
    "print(sys.getsizeof(train))\n",
    "print(sys.getsizeof(test))"
   ]
  },
  {
   "cell_type": "markdown",
   "metadata": {},
   "source": [
    "### Exploring the Training Set"
   ]
  },
  {
   "cell_type": "code",
   "execution_count": null,
   "metadata": {},
   "outputs": [],
   "source": [
    "def filter_samples_by_label(samples: MNIST, label: int) -> list:\n",
    "    '''\n",
    "    The samples parameter will usually be either the training set or the test set.\n",
    "    label must be an integer between 0 and 9.\n",
    "    '''\n",
    "    matches = []\n",
    "    for sample in samples:\n",
    "        if sample[1] == label:\n",
    "            matches.append(sample)\n",
    "    return matches"
   ]
  },
  {
   "cell_type": "code",
   "execution_count": null,
   "metadata": {},
   "outputs": [],
   "source": [
    "fives = filter_samples_by_label(train, 5)\n",
    "\n",
    "print('Type:', type(fives))\n",
    "print('Number of fives:', len(fives))"
   ]
  },
  {
   "cell_type": "code",
   "execution_count": null,
   "metadata": {},
   "outputs": [],
   "source": [
    "def create_banner_image(samples: list) -> Image:\n",
    "    '''\n",
    "    Creates a banner image from a list of MNIST samples.\n",
    "    '''\n",
    "    banner = None\n",
    "    for sample in samples:\n",
    "        \n",
    "        # We need to get the image from the MNIST sample.\n",
    "        sample_image = sample[0]\n",
    "\n",
    "        if banner is None:  # First sample.\n",
    "            banner = sample_image\n",
    "        else:\n",
    "            # Existing banner width plus the width of the new sample image.\n",
    "            new_width = banner.size[0] + sample_image.size[0]\n",
    "\n",
    "            # Height should always be equal.\n",
    "            new_height = max(banner.size[1], sample_image.size[1])\n",
    "\n",
    "            # Initialize the new banner.\n",
    "            new_banner = Image.new('RGBA', (new_width, new_height)) \n",
    "            \n",
    "            #Paste in the existing banner.\n",
    "            new_banner.paste(banner)\n",
    "\n",
    "            # Paste the current sample image to the end of the new banner.\n",
    "            new_banner.paste(sample_image, (banner.size[0], 0))  \n",
    "\n",
    "            banner = new_banner\n",
    "\n",
    "    return banner"
   ]
  },
  {
   "cell_type": "code",
   "execution_count": null,
   "metadata": {},
   "outputs": [],
   "source": [
    "banner = create_banner_image(fives[0:10])\n",
    "banner"
   ]
  },
  {
   "cell_type": "markdown",
   "metadata": {},
   "source": [
    "### From Images to a Numpy arrays"
   ]
  },
  {
   "cell_type": "code",
   "execution_count": null,
   "metadata": {},
   "outputs": [],
   "source": [
    "# Get a single sample from the training set and then get its image.\n",
    "# The first item in the tuple is the image.\n",
    "sample = train[0]\n",
    "image = sample[0]\n",
    "\n",
    "image_array = np.array(image)\n",
    "\n",
    "print('Image type:', type(image))\n",
    "print('Array type:', type(image_array))\n",
    "print(image_array[0:6,0:20])\n",
    "#print(image_array)"
   ]
  },
  {
   "cell_type": "code",
   "execution_count": null,
   "metadata": {},
   "outputs": [],
   "source": [
    "# List comprehension to load all images into an array of tensors.\n",
    "train_list = [np.array(sample[0]) for sample in train]\n",
    "test_list = [np.array(sample[0]) for sample in test]\n",
    "\n",
    "print('Type of training list:', type(train_list))\n",
    "print('Each item is a:', type(train_list[0]))\n",
    "print('Length of training list:', len(train_list))\n",
    "print('Length of test list:', len(test_list))"
   ]
  },
  {
   "cell_type": "code",
   "execution_count": null,
   "metadata": {},
   "outputs": [],
   "source": [
    "# This is slow. Pytorch will actually throw a warning if you pass it a large Python list.\n",
    "train_tensor = torch.tensor(train_list)\n",
    "test_tensor = torch.tensor(test_list)\n",
    "\n",
    "print('Type of training tensor:', type(train_tensor))\n",
    "print('ndim (or Rank):', train_tensor.ndim)\n",
    "print('Shape:', train_tensor.shape)"
   ]
  },
  {
   "cell_type": "code",
   "execution_count": null,
   "metadata": {},
   "outputs": [],
   "source": [
    "# Converting to a Numpy array is faster but it creates a new copy in memory.\n",
    "train_tensors = torch.tensor(np.array(train_list))\n",
    "test_tensors = torch.tensor(np.array(test_list))\n",
    "\n",
    "print('Type of training tensor:', type(train_tensor))\n",
    "print('ndim (or Rank):', train_tensor.ndim)\n",
    "print('Shape:', train_tensor.shape)"
   ]
  },
  {
   "cell_type": "code",
   "execution_count": 4,
   "metadata": {},
   "outputs": [
    {
     "name": "stdout",
     "output_type": "stream",
     "text": [
      "Type of training list: <class 'list'>\n",
      "Each item is a: <class 'torch.Tensor'>\n",
      "Length of training list: 60000\n",
      "Length of test list: 10000\n"
     ]
    }
   ],
   "source": [
    "# List comprehension to load all images into an array of tensors.\n",
    "train_list = [torch.tensor(np.array(sample[0])) for sample in train]\n",
    "test_list = [torch.tensor(np.array(sample[0])) for sample in test]\n",
    "\n",
    "print('Type of training list:', type(train_list))\n",
    "print('Each item is a:', type(train_list[0]))\n",
    "print('Length of training list:', len(train_list))\n",
    "print('Length of test list:', len(test_list))"
   ]
  },
  {
   "cell_type": "code",
   "execution_count": 6,
   "metadata": {},
   "outputs": [
    {
     "name": "stdout",
     "output_type": "stream",
     "text": [
      "Type of training tensor: <class 'torch.Tensor'>\n",
      "ndim (or Rank): 3\n",
      "Shape: torch.Size([60000, 28, 28])\n"
     ]
    }
   ],
   "source": [
    "# Using torch.stack()\n",
    "train_tensor = torch.stack(train_list)\n",
    "test_tensor = torch.stack(test_list)\n",
    "\n",
    "print('Type of training tensor:', type(train_tensor))\n",
    "print('ndim (or Rank):', train_tensor.ndim)\n",
    "print('Shape:', train_tensor.shape)"
   ]
  },
  {
   "cell_type": "code",
   "execution_count": null,
   "metadata": {},
   "outputs": [],
   "source": [
    "import numpy as np\n",
    "\n",
    "data_list = np.array([0, 1, 2, 3, 4, 5])\n",
    "\n",
    "# Using np.array() creates another copy.\n",
    "data_copy = np.array(data_list)\n",
    "\n",
    "# Using np.asarray() creates a variable that shares memory\n",
    "data_pointer = np.asarray(data_list)\n",
    "\n",
    "print(data_copy)\n",
    "print(data_pointer)\n",
    "\n",
    "data_list[0] = 9\n",
    "print(data_copy)\n",
    "print(data_pointer)\n"
   ]
  },
  {
   "cell_type": "code",
   "execution_count": null,
   "metadata": {},
   "outputs": [],
   "source": [
    "# Create a Pandas dataframe from the tensor so that we can use the DataFrame's style object to \n",
    "# make a nice display.\n",
    "#from fastbook import *\n",
    "from fastai.vision.all import *\n",
    "train_tensor = train_tensors[0]\n",
    "#print(train_tensor)\n",
    "image_df = pd.DataFrame(train_tensor)\n",
    "image_df.style.set_properties(**{'font-size':'6pt'}).background_gradient('Greys')\n"
   ]
  },
  {
   "cell_type": "code",
   "execution_count": null,
   "metadata": {},
   "outputs": [],
   "source": [
    "image_df.style"
   ]
  },
  {
   "cell_type": "code",
   "execution_count": null,
   "metadata": {},
   "outputs": [],
   "source": [
    "# Turn our tensors into loaders.\n",
    "train_loader = torch.utils.data.DataLoader(train, batch_size=64, shuffle=False)\n",
    "test_loader = torch.utils.data.DataLoader(test, batch_size=64, shuffle=False)"
   ]
  }
 ],
 "metadata": {
  "kernelspec": {
   "display_name": "Python 3.10.0 ('.venv': venv)",
   "language": "python",
   "name": "python3"
  },
  "language_info": {
   "codemirror_mode": {
    "name": "ipython",
    "version": 3
   },
   "file_extension": ".py",
   "mimetype": "text/x-python",
   "name": "python",
   "nbconvert_exporter": "python",
   "pygments_lexer": "ipython3",
   "version": "3.10.0 (default, Jun  8 2022, 08:49:18) [Clang 10.0.1 (clang-1001.0.46.4)]"
  },
  "orig_nbformat": 4,
  "vscode": {
   "interpreter": {
    "hash": "bb30887f202a295f03f14bdc6c33a4c2546440b9bc6792bc5945ccf510842fff"
   }
  }
 },
 "nbformat": 4,
 "nbformat_minor": 2
}
