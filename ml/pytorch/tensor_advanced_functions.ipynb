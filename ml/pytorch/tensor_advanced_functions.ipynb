{
 "cells": [
  {
   "cell_type": "code",
   "execution_count": null,
   "metadata": {},
   "outputs": [],
   "source": [
    "import torch"
   ]
  },
  {
   "cell_type": "markdown",
   "metadata": {},
   "source": [
    "The torch.stack function concatenates tensors along a dimension.\n",
    "According to the Pytorch online documentation the stack function \"concatenates a sequence of tensors along a new dimension\". This description can be a little jargon heavy if you are coming at this for the first time. Let's unpack it with a simple example.\n",
    "\n",
    "https://pytorch.org/docs/stable/generated/torch.stack.html"
   ]
  },
  {
   "cell_type": "code",
   "execution_count": null,
   "metadata": {},
   "outputs": [],
   "source": []
  }
 ],
 "metadata": {
  "language_info": {
   "name": "python"
  },
  "orig_nbformat": 4
 },
 "nbformat": 4,
 "nbformat_minor": 2
}
