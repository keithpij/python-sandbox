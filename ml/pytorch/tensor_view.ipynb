{
 "cells": [
  {
   "cell_type": "markdown",
   "metadata": {},
   "source": [
    "### Contents\n",
    "A Simple Shape Change<br>\n",
    "Shared Memory<br>\n",
    "A Simple Shape Change<br>\n",
    "Allowable Views<br>\n",
    "Changing Rank (or number of dimensions)<br>\n",
    "Shorthand Notation for Creating Vectors<br>"
   ]
  },
  {
   "cell_type": "code",
   "execution_count": 15,
   "metadata": {},
   "outputs": [],
   "source": [
    "import torch"
   ]
  },
  {
   "cell_type": "markdown",
   "metadata": {},
   "source": [
    "### A Simple Shape Change"
   ]
  },
  {
   "cell_type": "code",
   "execution_count": 34,
   "metadata": {},
   "outputs": [
    {
     "name": "stdout",
     "output_type": "stream",
     "text": [
      "tensor([[1, 2],\n",
      "        [3, 4],\n",
      "        [5, 6]])\n",
      "ndim 2\n",
      "Shape torch.Size([3, 2])\n",
      "\n",
      " tensor([[1, 2, 3],\n",
      "        [4, 5, 6]])\n",
      "ndim 2\n",
      "Shape torch.Size([2, 3])\n"
     ]
    }
   ],
   "source": [
    "data = [[1,2],[3,4],[5,6]]\n",
    "base_tensor = torch.tensor(data)\n",
    "\n",
    "print(base_tensor)\n",
    "print('ndim', base_tensor.ndim)\n",
    "print('Shape', base_tensor.shape)\n",
    "view_tensor = base_tensor.view(2, 3)\n",
    "\n",
    "print('\\n', view_tensor)\n",
    "print('ndim', view_tensor.ndim)\n",
    "print('Shape', view_tensor.shape)"
   ]
  },
  {
   "cell_type": "markdown",
   "metadata": {},
   "source": [
    "### Shared Memory"
   ]
  },
  {
   "cell_type": "code",
   "execution_count": 18,
   "metadata": {},
   "outputs": [
    {
     "name": "stdout",
     "output_type": "stream",
     "text": [
      "tensor([[9, 2, 3],\n",
      "        [4, 5, 6]])\n"
     ]
    }
   ],
   "source": [
    "base_tensor[0][0] = 9\n",
    "\n",
    "print(view_tensor)"
   ]
  },
  {
   "cell_type": "markdown",
   "metadata": {},
   "source": [
    "### Allowable Shapes"
   ]
  },
  {
   "cell_type": "code",
   "execution_count": 19,
   "metadata": {},
   "outputs": [
    {
     "ename": "RuntimeError",
     "evalue": "shape '[3, 3]' is invalid for input of size 6",
     "output_type": "error",
     "traceback": [
      "\u001b[0;31m---------------------------------------------------------------------------\u001b[0m",
      "\u001b[0;31mRuntimeError\u001b[0m                              Traceback (most recent call last)",
      "\u001b[1;32m/Users/keithpij/code/python-sandbox/ml/pytorch/tensor_view.ipynb Cell 9\u001b[0m in \u001b[0;36m<cell line: 1>\u001b[0;34m()\u001b[0m\n\u001b[0;32m----> <a href='vscode-notebook-cell:/Users/keithpij/code/python-sandbox/ml/pytorch/tensor_view.ipynb#ch0000008?line=0'>1</a>\u001b[0m bad_view \u001b[39m=\u001b[39m data_tensor\u001b[39m.\u001b[39;49mview(\u001b[39m3\u001b[39;49m, \u001b[39m3\u001b[39;49m)\n\u001b[1;32m      <a href='vscode-notebook-cell:/Users/keithpij/code/python-sandbox/ml/pytorch/tensor_view.ipynb#ch0000008?line=2'>3</a>\u001b[0m \u001b[39mprint\u001b[39m(bad_view)\n",
      "\u001b[0;31mRuntimeError\u001b[0m: shape '[3, 3]' is invalid for input of size 6"
     ]
    }
   ],
   "source": [
    "bad_view = base_tensor.view(3, 3)\n",
    "\n",
    "print(bad_view)"
   ]
  },
  {
   "cell_type": "markdown",
   "metadata": {},
   "source": [
    "### Another Example"
   ]
  },
  {
   "cell_type": "code",
   "execution_count": 22,
   "metadata": {},
   "outputs": [
    {
     "name": "stdout",
     "output_type": "stream",
     "text": [
      "tensor([[ 1,  2,  3,  3],\n",
      "        [ 5,  6,  7,  8],\n",
      "        [ 9, 10, 11, 12]])\n",
      "ndim 2\n",
      "Shape torch.Size([3, 4])\n",
      "\n",
      " tensor([[ 1,  2,  3,  3,  5,  6],\n",
      "        [ 7,  8,  9, 10, 11, 12]])\n",
      "ndim 2\n",
      "Shape torch.Size([2, 6])\n"
     ]
    }
   ],
   "source": [
    "data = [[1,2,3,3],[5,6,7,8],[9,10,11,12]]\n",
    "data_tensor = torch.tensor(data)\n",
    "\n",
    "print(data_tensor)\n",
    "print('ndim', data_tensor.ndim)\n",
    "print('Shape', data_tensor.shape)\n",
    "\n",
    "view_of_tensor = data_tensor.view(2, 6)\n",
    "print('\\n', view_of_tensor)\n",
    "print('ndim', view_of_tensor.ndim)\n",
    "print('Shape', view_of_tensor.shape)\n"
   ]
  },
  {
   "cell_type": "markdown",
   "metadata": {},
   "source": [
    "### Changing Rank (or number of dimensions)"
   ]
  },
  {
   "cell_type": "code",
   "execution_count": 28,
   "metadata": {},
   "outputs": [
    {
     "name": "stdout",
     "output_type": "stream",
     "text": [
      "tensor([[[1., 1., 1., 1.],\n",
      "         [1., 1., 1., 1.],\n",
      "         [1., 1., 1., 1.]],\n",
      "\n",
      "        [[1., 1., 1., 1.],\n",
      "         [1., 1., 1., 1.],\n",
      "         [1., 1., 1., 1.]]])\n",
      "ndim 3\n",
      "Shape torch.Size([2, 3, 4])\n",
      "\n",
      " tensor([[[[1., 1., 1.],\n",
      "          [1., 1., 1.]],\n",
      "\n",
      "         [[1., 1., 1.],\n",
      "          [1., 1., 1.]]],\n",
      "\n",
      "\n",
      "        [[[1., 1., 1.],\n",
      "          [1., 1., 1.]],\n",
      "\n",
      "         [[1., 1., 1.],\n",
      "          [1., 1., 1.]]]])\n",
      "ndim 4\n",
      "Shape torch.Size([2, 2, 2, 3])\n"
     ]
    }
   ],
   "source": [
    "cube_tensor = torch.ones(2, 3, 4)\n",
    "\n",
    "print(cube_tensor)\n",
    "print('ndim', cube_tensor.ndim)\n",
    "print('Shape', cube_tensor.shape)\n",
    "\n",
    "view_of_tensor = cube_tensor.view(2, 2, 2, 3)\n",
    "print('\\n', view_of_tensor)\n",
    "print('ndim', view_of_tensor.ndim)\n",
    "print('Shape', view_of_tensor.shape)\n",
    "\n"
   ]
  },
  {
   "cell_type": "markdown",
   "metadata": {},
   "source": [
    "### Shorthand Notation for Creating Vectors"
   ]
  },
  {
   "cell_type": "code",
   "execution_count": 32,
   "metadata": {},
   "outputs": [
    {
     "name": "stdout",
     "output_type": "stream",
     "text": [
      "tensor([[[1., 1., 1., 1.],\n",
      "         [1., 1., 1., 1.],\n",
      "         [1., 1., 1., 1.]],\n",
      "\n",
      "        [[1., 1., 1., 1.],\n",
      "         [1., 1., 1., 1.],\n",
      "         [1., 1., 1., 1.]]])\n",
      "ndim 3\n",
      "Shape torch.Size([2, 3, 4])\n",
      "\n",
      " tensor([1., 1., 1., 1., 1., 1., 1., 1., 1., 1., 1., 1., 1., 1., 1., 1., 1., 1.,\n",
      "        1., 1., 1., 1., 1., 1.])\n",
      "ndim 1\n",
      "Shape torch.Size([24])\n"
     ]
    }
   ],
   "source": [
    "cube_tensor = torch.ones(2, 3, 4)\n",
    "\n",
    "print(cube_tensor)\n",
    "print('ndim', cube_tensor.ndim)\n",
    "print('Shape', cube_tensor.shape)\n",
    "\n",
    "vector_view = cube_tensor.view(-1)\n",
    "print('\\n', vector_view)\n",
    "print('ndim', vector_view.ndim)\n",
    "print('Shape', vector_view.shape)\n"
   ]
  },
  {
   "cell_type": "markdown",
   "metadata": {},
   "source": [
    "### Another vector example"
   ]
  },
  {
   "cell_type": "code",
   "execution_count": 33,
   "metadata": {},
   "outputs": [
    {
     "name": "stdout",
     "output_type": "stream",
     "text": [
      "tensor([[[1., 1., 1., 1.],\n",
      "         [1., 1., 1., 1.],\n",
      "         [1., 1., 1., 1.]],\n",
      "\n",
      "        [[1., 1., 1., 1.],\n",
      "         [1., 1., 1., 1.],\n",
      "         [1., 1., 1., 1.]]])\n",
      "ndim 3\n",
      "Shape torch.Size([2, 3, 4])\n",
      "\n",
      " tensor([[1., 1., 1., 1., 1., 1., 1., 1., 1., 1., 1., 1.],\n",
      "        [1., 1., 1., 1., 1., 1., 1., 1., 1., 1., 1., 1.]])\n",
      "ndim 2\n",
      "Shape torch.Size([2, 12])\n"
     ]
    }
   ],
   "source": [
    "cube_tensor = torch.ones(2, 3, 4)\n",
    "\n",
    "print(cube_tensor)\n",
    "print('ndim', cube_tensor.ndim)\n",
    "print('Shape', cube_tensor.shape)\n",
    "\n",
    "vector_view = cube_tensor.view(2, -1)\n",
    "print('\\n', vector_view)\n",
    "print('ndim', vector_view.ndim)\n",
    "print('Shape', vector_view.shape)\n"
   ]
  }
 ],
 "metadata": {
  "kernelspec": {
   "display_name": "Python 3.8.5 64-bit ('3.8.5')",
   "language": "python",
   "name": "python3"
  },
  "language_info": {
   "codemirror_mode": {
    "name": "ipython",
    "version": 3
   },
   "file_extension": ".py",
   "mimetype": "text/x-python",
   "name": "python",
   "nbconvert_exporter": "python",
   "pygments_lexer": "ipython3",
   "version": "3.8.5"
  },
  "orig_nbformat": 4,
  "vscode": {
   "interpreter": {
    "hash": "e7daece63b4df11e24a8fc73a028c7ddfde90372f8f00fe3ec18a9b15b109424"
   }
  }
 },
 "nbformat": 4,
 "nbformat_minor": 2
}
