{
 "cells": [
  {
   "cell_type": "code",
   "execution_count": 1,
   "metadata": {},
   "outputs": [],
   "source": [
    "import numpy as np\n",
    "import pandas as pd\n",
    "from PIL import Image\n",
    "import torch\n",
    "from torch import tensor\n",
    "from torchvision.datasets import MNIST"
   ]
  },
  {
   "cell_type": "markdown",
   "metadata": {},
   "source": [
    "### Loading the Training and Test sets"
   ]
  },
  {
   "cell_type": "code",
   "execution_count": 34,
   "metadata": {},
   "outputs": [
    {
     "name": "stdout",
     "output_type": "stream",
     "text": [
      "<class 'torchvision.datasets.mnist.MNIST'>\n",
      "Number of samples in the training set 60000\n",
      "Number of samples in the test set 10000\n"
     ]
    }
   ],
   "source": [
    "# Download and load the training and test samples.\n",
    "train = MNIST('./mnist_data/', download=True, train=True)\n",
    "test = MNIST('./mnist_data/', download=True, train=False)\n",
    "\n",
    "print(type(train))\n",
    "print('Number of samples in the training set', len(train))\n",
    "print('Number of samples in the test set', len(test))"
   ]
  },
  {
   "cell_type": "code",
   "execution_count": 38,
   "metadata": {},
   "outputs": [],
   "source": [
    "def load_train_test():\n",
    "    # Download and load the training and test samples.\n",
    "    train = MNIST('./mnist_data/', download=True, train=True)\n",
    "    test = MNIST('./mnist_data/', download=True, train=False)\n",
    "    X_train, y_train, X_test, y_test = [], [], [], []\n",
    "    for sample in train:\n",
    "        X_train.append(torch.tensor(np.array(sample[0]), dtype=torch.float32))\n",
    "        y_train.append(torch.tensor(sample[1], dtype=torch.int8))\n",
    "    for sample in test:\n",
    "        X_test.append(torch.tensor(np.array(sample[0]), dtype=torch.float32))\n",
    "        y_test.append(torch.tensor(sample[1], dtype=torch.int8))\n",
    "\n",
    "    X_train = torch.stack(X_train)\n",
    "    y_train = torch.stack(y_train)\n",
    "    X_test = torch.stack(X_test)\n",
    "    y_test = torch.stack(y_test)\n",
    "\n",
    "    return X_train, y_train, X_test, y_test"
   ]
  },
  {
   "cell_type": "code",
   "execution_count": 39,
   "metadata": {},
   "outputs": [],
   "source": [
    "X_train, y_train, X_test, y_test = load_train_test()"
   ]
  },
  {
   "cell_type": "markdown",
   "metadata": {},
   "source": [
    "### Grouping the Training Set"
   ]
  },
  {
   "cell_type": "code",
   "execution_count": 35,
   "metadata": {},
   "outputs": [],
   "source": [
    "def group_samples_by_label(samples: MNIST) -> list:\n",
    "    '''\n",
    "    Group the MNIST dataset by label.\n",
    "    '''\n",
    "    #mnist_grouped = {label:[] for label in range(10)}\n",
    "    # Initialize the list which is a list of lists.\n",
    "    mnist_grouped = [[] for _ in range(10)]\n",
    "    for sample in samples:\n",
    "        mnist_grouped[sample[1]].append(torch.tensor(np.array(sample[0]), dtype=torch.float32))\n",
    "\n",
    "    for label in range(10):\n",
    "        mnist_grouped[label] = torch.stack(mnist_grouped[label])\n",
    "\n",
    "    return mnist_grouped"
   ]
  },
  {
   "cell_type": "code",
   "execution_count": 36,
   "metadata": {},
   "outputs": [
    {
     "name": "stdout",
     "output_type": "stream",
     "text": [
      "Mean tensor: <class 'torch.Tensor'>\n",
      "Type of mean tensor: torch.float32\n",
      "ndim (or Rank): 3\n",
      "Shape: torch.Size([5923, 28, 28])\n",
      "0 count: 5923\n",
      "1 count: 6742\n",
      "2 count: 5958\n",
      "3 count: 6131\n",
      "4 count: 5842\n",
      "5 count: 5421\n",
      "6 count: 5918\n",
      "7 count: 6265\n",
      "8 count: 5851\n",
      "9 count: 5949\n"
     ]
    }
   ],
   "source": [
    "train_grouped = group_samples_by_label(train)\n",
    "\n",
    "# Investigate the group for zero.\n",
    "print('Mean tensor:', type(train_grouped[0]))\n",
    "print('Type of mean tensor:', train_grouped[0].dtype)\n",
    "print('ndim (or Rank):', train_grouped[0].ndim)\n",
    "print('Shape:', train_grouped[0].shape)\n",
    "for label in range(10):\n",
    "    print(f'{label} count: {len(train_grouped[label])}')"
   ]
  },
  {
   "cell_type": "markdown",
   "metadata": {},
   "source": [
    "### Calculating a Per Pixel Average for each Label"
   ]
  },
  {
   "cell_type": "code",
   "execution_count": 37,
   "metadata": {},
   "outputs": [
    {
     "name": "stdout",
     "output_type": "stream",
     "text": [
      "Mean tensor: <class 'torch.Tensor'>\n",
      "Type of mean tensor: torch.float32\n",
      "ndim (or Rank): 2\n",
      "Shape: torch.Size([28, 28])\n"
     ]
    }
   ],
   "source": [
    "def calculate_mean_tensors(train_grouped: list) -> tensor:\n",
    "    # Initialize the list of mean (average) tensors.\n",
    "    train_mean = [None for label in range(10)]\n",
    "    for label in range(10):\n",
    "        train_mean[label] = train_grouped[label].mean(0)\n",
    "    return torch.stack(train_mean)\n",
    "\n",
    "train_mean = calculate_mean_tensors(train_grouped)\n",
    "    \n",
    "# Investigate the mean tensor for zero.\n",
    "print('Mean tensor:', type(train_mean[0]))\n",
    "print('Type of mean tensor:', train_mean[0].dtype)\n",
    "print('ndim (or Rank):', train_mean[0].ndim)\n",
    "print('Shape:', train_mean[0].shape)"
   ]
  },
  {
   "cell_type": "markdown",
   "metadata": {},
   "source": [
    "### Exploring the Images of Averages"
   ]
  },
  {
   "cell_type": "code",
   "execution_count": null,
   "metadata": {},
   "outputs": [],
   "source": [
    "train_mean_images = [[] for label in range(10)]\n",
    "for label in range(10):\n",
    "    train_mean_images[label] = Image.fromarray(torch.round(train_mean[label]).numpy())\n",
    "\n",
    "train_mean_images[1].show()"
   ]
  },
  {
   "cell_type": "code",
   "execution_count": null,
   "metadata": {},
   "outputs": [],
   "source": [
    "def create_banner_image(samples: list) -> Image.Image:\n",
    "    '''\n",
    "    Creates a banner image from a list of images.\n",
    "    '''\n",
    "    banner = None\n",
    "    for sample in samples:\n",
    "        \n",
    "        if banner is None:  # First sample.\n",
    "            banner = sample\n",
    "        else:\n",
    "            # Existing banner width plus the width of the new sample image.\n",
    "            new_width = banner.size[0] + sample.size[0]\n",
    "\n",
    "            # Height should always be equal.\n",
    "            new_height = max(banner.size[1], sample.size[1])\n",
    "\n",
    "            # Initialize the new banner.\n",
    "            new_banner = Image.new('RGBA', (new_width, new_height)) \n",
    "            \n",
    "            #Paste in the existing banner.\n",
    "            new_banner.paste(banner)\n",
    "\n",
    "            # Paste the current sample image to the end of the new banner.\n",
    "            new_banner.paste(sample, (banner.size[0], 0))  \n",
    "\n",
    "            banner = new_banner\n",
    "\n",
    "    return banner"
   ]
  },
  {
   "cell_type": "code",
   "execution_count": null,
   "metadata": {},
   "outputs": [],
   "source": [
    "banner_image = create_banner_image(train_mean_images)\n",
    "\n",
    "banner_image.show()"
   ]
  },
  {
   "cell_type": "markdown",
   "metadata": {},
   "source": [
    "### Calculating Deltas on the Training Set"
   ]
  },
  {
   "cell_type": "code",
   "execution_count": 49,
   "metadata": {},
   "outputs": [
    {
     "ename": "RuntimeError",
     "evalue": "The size of tensor a (2) must match the size of tensor b (10) at non-singleton dimension 0",
     "output_type": "error",
     "traceback": [
      "\u001b[0;31m---------------------------------------------------------------------------\u001b[0m",
      "\u001b[0;31mRuntimeError\u001b[0m                              Traceback (most recent call last)",
      "\u001b[1;32m/Users/keithpij/code/python-sandbox/ml/pytorch/mnist_rules_based_predictions.ipynb Cell 16'\u001b[0m in \u001b[0;36m<cell line: 4>\u001b[0;34m()\u001b[0m\n\u001b[1;32m      <a href='vscode-notebook-cell:/Users/keithpij/code/python-sandbox/ml/pytorch/mnist_rules_based_predictions.ipynb#ch0000017?line=0'>1</a>\u001b[0m \u001b[39mdef\u001b[39;00m \u001b[39mmnist_abs_mean\u001b[39m(sample: tensor, mean: tensor) \u001b[39m-\u001b[39m\u001b[39m>\u001b[39m tensor:\n\u001b[1;32m      <a href='vscode-notebook-cell:/Users/keithpij/code/python-sandbox/ml/pytorch/mnist_rules_based_predictions.ipynb#ch0000017?line=1'>2</a>\u001b[0m     \u001b[39mreturn\u001b[39;00m (sample \u001b[39m-\u001b[39m mean)\u001b[39m.\u001b[39mabs() \u001b[39m#.mean((-1, -2))\u001b[39;00m\n\u001b[0;32m----> <a href='vscode-notebook-cell:/Users/keithpij/code/python-sandbox/ml/pytorch/mnist_rules_based_predictions.ipynb#ch0000017?line=3'>4</a>\u001b[0m prediction \u001b[39m=\u001b[39m mnist_abs_mean(X_test[\u001b[39m0\u001b[39;49m:\u001b[39m2\u001b[39;49m], train_mean)\n\u001b[1;32m      <a href='vscode-notebook-cell:/Users/keithpij/code/python-sandbox/ml/pytorch/mnist_rules_based_predictions.ipynb#ch0000017?line=4'>5</a>\u001b[0m \u001b[39m#print('Prediction:', prediction.argmin())\u001b[39;00m\n\u001b[1;32m      <a href='vscode-notebook-cell:/Users/keithpij/code/python-sandbox/ml/pytorch/mnist_rules_based_predictions.ipynb#ch0000017?line=5'>6</a>\u001b[0m \u001b[39mprint\u001b[39m(\u001b[39m'\u001b[39m\u001b[39mPrediction:\u001b[39m\u001b[39m'\u001b[39m, prediction)\n",
      "\u001b[1;32m/Users/keithpij/code/python-sandbox/ml/pytorch/mnist_rules_based_predictions.ipynb Cell 16'\u001b[0m in \u001b[0;36mmnist_abs_mean\u001b[0;34m(sample, mean)\u001b[0m\n\u001b[1;32m      <a href='vscode-notebook-cell:/Users/keithpij/code/python-sandbox/ml/pytorch/mnist_rules_based_predictions.ipynb#ch0000017?line=0'>1</a>\u001b[0m \u001b[39mdef\u001b[39;00m \u001b[39mmnist_abs_mean\u001b[39m(sample: tensor, mean: tensor) \u001b[39m-\u001b[39m\u001b[39m>\u001b[39m tensor:\n\u001b[0;32m----> <a href='vscode-notebook-cell:/Users/keithpij/code/python-sandbox/ml/pytorch/mnist_rules_based_predictions.ipynb#ch0000017?line=1'>2</a>\u001b[0m     \u001b[39mreturn\u001b[39;00m (sample \u001b[39m-\u001b[39;49m mean)\u001b[39m.\u001b[39mabs()\n",
      "\u001b[0;31mRuntimeError\u001b[0m: The size of tensor a (2) must match the size of tensor b (10) at non-singleton dimension 0"
     ]
    }
   ],
   "source": [
    "def mnist_abs_mean(sample: tensor, mean: tensor) -> tensor:\n",
    "    return (sample - mean).abs().mean((-1, -2))\n",
    "\n",
    "prediction = mnist_abs_mean(X_test[0:2], train_mean)\n",
    "#print('Prediction:', prediction.argmin())\n",
    "print('Prediction:', prediction)\n",
    "print('Label:', y_test[0])\n",
    "\n",
    "print('Mean tensor:', type(prediction))\n",
    "print('Type of mean tensor:', prediction.dtype)\n",
    "print('ndim (or Rank):', prediction.ndim)\n",
    "print('Shape:', prediction.shape)"
   ]
  }
 ],
 "metadata": {
  "interpreter": {
   "hash": "bb30887f202a295f03f14bdc6c33a4c2546440b9bc6792bc5945ccf510842fff"
  },
  "kernelspec": {
   "display_name": "Python 3.8.5 ('.venv': venv)",
   "language": "python",
   "name": "python3"
  },
  "language_info": {
   "codemirror_mode": {
    "name": "ipython",
    "version": 3
   },
   "file_extension": ".py",
   "mimetype": "text/x-python",
   "name": "python",
   "nbconvert_exporter": "python",
   "pygments_lexer": "ipython3",
   "version": "3.8.5"
  },
  "orig_nbformat": 4
 },
 "nbformat": 4,
 "nbformat_minor": 2
}
