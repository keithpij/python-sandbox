{
 "cells": [
  {
   "cell_type": "code",
   "execution_count": 6,
   "metadata": {},
   "outputs": [],
   "source": [
    "import numpy as np\n",
    "import pandas as pd\n",
    "from PIL import Image\n",
    "import torch\n",
    "from torch import tensor\n",
    "from torchvision.datasets import MNIST"
   ]
  },
  {
   "cell_type": "markdown",
   "metadata": {},
   "source": [
    "### Loading the Training and Test sets"
   ]
  },
  {
   "cell_type": "code",
   "execution_count": 7,
   "metadata": {},
   "outputs": [
    {
     "name": "stdout",
     "output_type": "stream",
     "text": [
      "<class 'torchvision.datasets.mnist.MNIST'>\n",
      "Number of samples in the training set 60000\n",
      "Number of samples in the test set 10000\n"
     ]
    }
   ],
   "source": [
    "# Download and load the training and test samples.\n",
    "train = MNIST('./mnist_data/', download=True, train=True)\n",
    "test = MNIST('./mnist_data/', download=True, train=False)\n",
    "\n",
    "print(type(train))\n",
    "print('Number of samples in the training set', len(train))\n",
    "print('Number of samples in the test set', len(test))"
   ]
  },
  {
   "cell_type": "code",
   "execution_count": 8,
   "metadata": {},
   "outputs": [],
   "source": [
    "def load_train_test():\n",
    "    # Download and load the training and test samples.\n",
    "    train = MNIST('./mnist_data/', download=True, train=True)\n",
    "    test = MNIST('./mnist_data/', download=True, train=False)\n",
    "\n",
    "    X_train, y_train, X_test, y_test = [], [], [], []\n",
    "\n",
    "    for sample in train:\n",
    "        X_train.append(torch.tensor(np.array(sample[0]), dtype=torch.float32))\n",
    "        y_train.append(torch.tensor(sample[1], dtype=torch.int8))\n",
    "\n",
    "    for sample in test:\n",
    "        X_test.append(torch.tensor(np.array(sample[0]), dtype=torch.float32))\n",
    "        y_test.append(torch.tensor(sample[1], dtype=torch.int8))\n",
    "\n",
    "    X_train = torch.stack(X_train)\n",
    "    y_train = torch.stack(y_train)\n",
    "    X_test = torch.stack(X_test)\n",
    "    y_test = torch.stack(y_test)\n",
    "\n",
    "    return X_train, y_train, X_test, y_test\n",
    "\n",
    "X_train, y_train, X_test, y_test = load_train_test()"
   ]
  },
  {
   "cell_type": "markdown",
   "metadata": {},
   "source": [
    "### Grouping the Training Set"
   ]
  },
  {
   "cell_type": "code",
   "execution_count": 15,
   "metadata": {},
   "outputs": [],
   "source": [
    "def group_samples_by_label(X: tensor, y: tensor) -> list[int]:\n",
    "    '''\n",
    "    Group the MNIST dataset by label.\n",
    "    '''\n",
    "    #mnist_grouped = {label:[] for label in range(10)}\n",
    "    # Initialize the list which is a list of lists.\n",
    "    mnist_grouped = [[] for _ in range(10)]\n",
    "    for index in range(len(y)):\n",
    "        mnist_grouped[y[index].item()].append(X[index])\n",
    "\n",
    "    for label in range(10):\n",
    "        mnist_grouped[label] = torch.stack(mnist_grouped[label])\n",
    "\n",
    "    return mnist_grouped"
   ]
  },
  {
   "cell_type": "code",
   "execution_count": 16,
   "metadata": {},
   "outputs": [
    {
     "name": "stdout",
     "output_type": "stream",
     "text": [
      "Mean tensor: <class 'torch.Tensor'>\n",
      "Type of mean tensor: torch.float32\n",
      "ndim (or Rank): 3\n",
      "Shape: torch.Size([5923, 28, 28])\n",
      "0 count: 5923\n",
      "1 count: 6742\n",
      "2 count: 5958\n",
      "3 count: 6131\n",
      "4 count: 5842\n",
      "5 count: 5421\n",
      "6 count: 5918\n",
      "7 count: 6265\n",
      "8 count: 5851\n",
      "9 count: 5949\n"
     ]
    }
   ],
   "source": [
    "train_grouped = group_samples_by_label(X_train, y_train)\n",
    "\n",
    "# Investigate the group for zero.\n",
    "print('Mean tensor:', type(train_grouped[0]))\n",
    "print('Type of mean tensor:', train_grouped[0].dtype)\n",
    "print('ndim (or Rank):', train_grouped[0].ndim)\n",
    "print('Shape:', train_grouped[0].shape)\n",
    "for label in range(10):\n",
    "    print(f'{label} count: {len(train_grouped[label])}')"
   ]
  },
  {
   "cell_type": "markdown",
   "metadata": {},
   "source": [
    "### Calculating a Per Pixel Average for each Label"
   ]
  },
  {
   "cell_type": "code",
   "execution_count": 17,
   "metadata": {},
   "outputs": [
    {
     "name": "stdout",
     "output_type": "stream",
     "text": [
      "Mean tensor: <class 'torch.Tensor'>\n",
      "Type of mean tensor: torch.float32\n",
      "ndim (or Rank): 2\n",
      "Shape: torch.Size([28, 28])\n"
     ]
    }
   ],
   "source": [
    "def calculate_mean_tensors(train_grouped: list) -> tensor:\n",
    "    # Initialize the list of mean (average) tensors.\n",
    "    train_mean = [None for label in range(10)]\n",
    "    for label in range(10):\n",
    "        train_mean[label] = train_grouped[label].mean(0)\n",
    "    return torch.stack(train_mean)\n",
    "\n",
    "train_mean = calculate_mean_tensors(train_grouped)\n",
    "    \n",
    "# Investigate the mean tensor for zero.\n",
    "print('Mean tensor:', type(train_mean[0]))\n",
    "print('Type of mean tensor:', train_mean[0].dtype)\n",
    "print('ndim (or Rank):', train_mean[0].ndim)\n",
    "print('Shape:', train_mean[0].shape)"
   ]
  },
  {
   "cell_type": "markdown",
   "metadata": {},
   "source": [
    "### Exploring the Images of Averages"
   ]
  },
  {
   "cell_type": "code",
   "execution_count": 18,
   "metadata": {},
   "outputs": [],
   "source": [
    "train_mean_images = [[] for label in range(10)]\n",
    "for label in range(10):\n",
    "    train_mean_images[label] = Image.fromarray(torch.round(train_mean[label]).numpy())\n",
    "\n",
    "train_mean_images[1].show()"
   ]
  },
  {
   "cell_type": "code",
   "execution_count": 19,
   "metadata": {},
   "outputs": [],
   "source": [
    "def create_banner_image(samples: list) -> Image.Image:\n",
    "    '''\n",
    "    Creates a banner image from a list of images.\n",
    "    '''\n",
    "    banner = None\n",
    "    for sample in samples:\n",
    "        \n",
    "        if banner is None:  # First sample.\n",
    "            banner = sample\n",
    "        else:\n",
    "            # Existing banner width plus the width of the new sample image.\n",
    "            new_width = banner.size[0] + sample.size[0]\n",
    "\n",
    "            # Height should always be equal.\n",
    "            new_height = max(banner.size[1], sample.size[1])\n",
    "\n",
    "            # Initialize the new banner.\n",
    "            new_banner = Image.new('RGBA', (new_width, new_height)) \n",
    "            \n",
    "            #Paste in the existing banner.\n",
    "            new_banner.paste(banner)\n",
    "\n",
    "            # Paste the current sample image to the end of the new banner.\n",
    "            new_banner.paste(sample, (banner.size[0], 0))  \n",
    "\n",
    "            banner = new_banner\n",
    "\n",
    "    return banner"
   ]
  },
  {
   "cell_type": "code",
   "execution_count": 20,
   "metadata": {},
   "outputs": [],
   "source": [
    "banner_image = create_banner_image(train_mean_images)\n",
    "\n",
    "banner_image.show()"
   ]
  },
  {
   "cell_type": "markdown",
   "metadata": {},
   "source": [
    "### Calculating Deltas on the Training Set"
   ]
  },
  {
   "cell_type": "code",
   "execution_count": 21,
   "metadata": {},
   "outputs": [
    {
     "name": "stdout",
     "output_type": "stream",
     "text": [
      "Prediction of first sample: tensor(7)\n",
      "Label for first sample: tensor(7, dtype=torch.int8)\n",
      "Mean tensor: <class 'torch.Tensor'>\n",
      "Type of mean tensor: torch.int64\n",
      "ndim (or Rank): 1\n",
      "Shape: torch.Size([10000])\n"
     ]
    }
   ],
   "source": [
    "def mnist_abs_mean(samples: tensor, mean: tensor) -> tensor:\n",
    "    predictions = []\n",
    "    for i in range(len(samples)):\n",
    "        sample = samples[i]\n",
    "        delta_vector = (sample - mean).abs().mean((-1, -2))\n",
    "        prediction = delta_vector.argmin()\n",
    "        predictions.append(prediction)\n",
    "    return torch.stack(predictions)\n",
    "\n",
    "predictions = mnist_abs_mean(X_test, train_mean)\n",
    "comparisons = torch.eq(y_test, predictions)\n",
    "\n",
    "print('Prediction of first sample:', predictions[0])\n",
    "print('Label for first sample:', y_test[0])\n",
    "\n",
    "print('Mean tensor:', type(predictions))\n",
    "print('Type of mean tensor:', predictions.dtype)\n",
    "print('ndim (or Rank):', predictions.ndim)\n",
    "print('Shape:', predictions.shape)"
   ]
  },
  {
   "cell_type": "code",
   "execution_count": 22,
   "metadata": {},
   "outputs": [
    {
     "data": {
      "text/plain": [
       "tensor(0.6685)"
      ]
     },
     "execution_count": 22,
     "metadata": {},
     "output_type": "execute_result"
    }
   ],
   "source": [
    "torch.sum(torch.eq(y_test, predictions) == True)/len(y_test)"
   ]
  }
 ],
 "metadata": {
  "interpreter": {
   "hash": "bb30887f202a295f03f14bdc6c33a4c2546440b9bc6792bc5945ccf510842fff"
  },
  "kernelspec": {
   "display_name": "Python 3.8.5 ('.venv': venv)",
   "language": "python",
   "name": "python3"
  },
  "language_info": {
   "codemirror_mode": {
    "name": "ipython",
    "version": 3
   },
   "file_extension": ".py",
   "mimetype": "text/x-python",
   "name": "python",
   "nbconvert_exporter": "python",
   "pygments_lexer": "ipython3",
   "version": "3.10.0"
  },
  "orig_nbformat": 4
 },
 "nbformat": 4,
 "nbformat_minor": 2
}
