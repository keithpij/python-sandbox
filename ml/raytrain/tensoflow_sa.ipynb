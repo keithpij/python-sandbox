{
 "cells": [
  {
   "cell_type": "markdown",
   "metadata": {},
   "source": [
    "For the code in this noteook to run you will need to install the following packages:\n",
    "    pip istall tensorflow\n",
    "    pip install tensorflow_datasets"
   ]
  },
  {
   "cell_type": "code",
   "execution_count": 1,
   "metadata": {},
   "outputs": [],
   "source": [
    "import numpy as np\n",
    "\n",
    "import tensorflow_datasets as tfds\n",
    "import tensorflow as tf\n",
    "\n",
    "tfds.disable_progress_bar()"
   ]
  },
  {
   "cell_type": "code",
   "execution_count": 2,
   "metadata": {},
   "outputs": [],
   "source": [
    "import matplotlib.pyplot as plt\n",
    "\n",
    "\n",
    "def plot_graphs(history, metric):\n",
    "  plt.plot(history.history[metric])\n",
    "  plt.plot(history.history['val_'+metric], '')\n",
    "  plt.xlabel(\"Epochs\")\n",
    "  plt.ylabel(metric)\n",
    "  plt.legend([metric, 'val_'+metric])"
   ]
  },
  {
   "cell_type": "code",
   "execution_count": 3,
   "metadata": {},
   "outputs": [
    {
     "name": "stderr",
     "output_type": "stream",
     "text": [
      "2022-02-16 12:20:27.983500: W tensorflow/core/platform/cloud/google_auth_provider.cc:184] All attempts to get a Google authentication bearer token failed, returning an empty token. Retrieving token from files failed with \"NOT_FOUND: Could not locate the credentials file.\". Retrieving token from GCE failed with \"FAILED_PRECONDITION: Error executing an HTTP request: libcurl code 6 meaning 'Couldn't resolve host name', error details: Could not resolve host: metadata\".\n"
     ]
    },
    {
     "name": "stdout",
     "output_type": "stream",
     "text": [
      "\u001b[1mDownloading and preparing dataset 80.23 MiB (download: 80.23 MiB, generated: Unknown size, total: 80.23 MiB) to /Users/xbbncc8/tensorflow_datasets/imdb_reviews/plain_text/1.0.0...\u001b[0m\n",
      "\u001b[1mDataset imdb_reviews downloaded and prepared to /Users/xbbncc8/tensorflow_datasets/imdb_reviews/plain_text/1.0.0. Subsequent calls will reuse this data.\u001b[0m\n"
     ]
    },
    {
     "name": "stderr",
     "output_type": "stream",
     "text": [
      "2022-02-16 12:21:33.752508: I tensorflow/core/platform/cpu_feature_guard.cc:151] This TensorFlow binary is optimized with oneAPI Deep Neural Network Library (oneDNN) to use the following CPU instructions in performance-critical operations:  AVX2 FMA\n",
      "To enable them in other operations, rebuild TensorFlow with the appropriate compiler flags.\n"
     ]
    },
    {
     "data": {
      "text/plain": [
       "(TensorSpec(shape=(), dtype=tf.string, name=None),\n",
       " TensorSpec(shape=(), dtype=tf.int64, name=None))"
      ]
     },
     "execution_count": 3,
     "metadata": {},
     "output_type": "execute_result"
    }
   ],
   "source": [
    "dataset, info = tfds.load('imdb_reviews', with_info=True,\n",
    "                          as_supervised=True)\n",
    "train_dataset, test_dataset = dataset['train'], dataset['test']\n",
    "\n",
    "train_dataset.element_spec"
   ]
  },
  {
   "cell_type": "code",
   "execution_count": 4,
   "metadata": {},
   "outputs": [
    {
     "name": "stdout",
     "output_type": "stream",
     "text": [
      "text:  b\"This was an absolutely terrible movie. Don't be lured in by Christopher Walken or Michael Ironside. Both are great actors, but this must simply be their worst role in history. Even their great acting could not redeem this movie's ridiculous storyline. This movie is an early nineties US propaganda piece. The most pathetic scenes were those when the Columbian rebels were making their cases for revolutions. Maria Conchita Alonso appeared phony, and her pseudo-love affair with Walken was nothing but a pathetic emotional plug in a movie that was devoid of any real meaning. I am disappointed that there are movies like this, ruining actor's like Christopher Walken's good name. I could barely sit through it.\"\n",
      "label:  0\n"
     ]
    },
    {
     "name": "stderr",
     "output_type": "stream",
     "text": [
      "2022-02-16 12:24:44.309742: W tensorflow/core/kernels/data/cache_dataset_ops.cc:768] The calling iterator did not fully read the dataset being cached. In order to avoid unexpected truncation of the dataset, the partially cached contents of the dataset  will be discarded. This can happen if you have an input pipeline similar to `dataset.cache().take(k).repeat()`. You should use `dataset.take(k).cache().repeat()` instead.\n"
     ]
    }
   ],
   "source": [
    "for example, label in train_dataset.take(1):\n",
    "  print('text: ', example.numpy())\n",
    "  print('label: ', label.numpy())"
   ]
  },
  {
   "cell_type": "code",
   "execution_count": 5,
   "metadata": {},
   "outputs": [
    {
     "name": "stdout",
     "output_type": "stream",
     "text": [
      "texts:  [b'\"Most of us at least inhabit two worlds , the real world where we are at the mercy of circumstances and the world within ,the unconscious ,a safe place where we can escape ...\" With those words ,Mr .Gone introduces inside the world of \"The Maxx\" a fascinating world where the fantasy and the reality are combined . Inspired in the comic books of Sam Kieth, \"The Maxx \" is very faithful to the material in what it was inspired , not only in the story but also in the graphic style ,that look like the pages of the comic ,giving this show a surreal and unique appearance . But also ,the story it\\'s interesting and entertaining .At moments it could turn too weird ,but when you got inside it ,it\\'s hard to get out of it . The story and the characters are wonderfully developed . The music goes perfectly with the style of the show and give it the proper atmosphere . Unfortunately , like many good animated shows ,this one was short -lived . \"The Maxx\" is a must see . It \\'s one of my all -time favorites .'\n",
      " b'I saw this \"hot\" movie when it came out in 1986. It had a X rating for a brief scene involving oral sex but played in mainstream theatres (it was an \"art\" film). Supposedly it\\'s the first film to ever show a respected actress in an explicit sex scene.<br /><br />What I saw was a boring tale about a high school boy (Federico Pitzalis) in love (understandably) with an older woman (Maruschka Detmers). As has been mentioned before Detmers is very beautiful with a good body BUT she also gave a very good performance. Pitzalis was (to put it mildly) pretty poor. It\\'s no wonder he never made another movie. Still, despite the infamous sex scene (which is explicit but pretty brief), this a slow moving dull story which bored me silly. The good acting by Detmers only helped to a certain point. Mostly I was looking at my watch waiting patiently for it to end. If it didn\\'t have that sequence this movie would have been forgotten long ago. Dull and slow. You can skip this one.'\n",
      " b\"Although I didn't like Stanley & Iris tremendously as a film, I did admire the acting. Jane Fonda and Robert De Niro are great in this movie. I haven't always been a fan of Fonda's work but here she is delicate and strong at the same time. De Niro has the ability to make every role he portrays into acting gold. He gives a great performance in this film and there is a great scene where he has to take his father to a home for elderly people because he can't care for him anymore that will break your heart. I wouldn't really recommend this film as a great cinematic entertainment, but I will say you won't see much bette acting anywhere.\"]\n",
      "\n",
      "labels:  [1 0 1]\n"
     ]
    },
    {
     "name": "stderr",
     "output_type": "stream",
     "text": [
      "2022-02-16 13:37:21.084779: W tensorflow/core/kernels/data/cache_dataset_ops.cc:768] The calling iterator did not fully read the dataset being cached. In order to avoid unexpected truncation of the dataset, the partially cached contents of the dataset  will be discarded. This can happen if you have an input pipeline similar to `dataset.cache().take(k).repeat()`. You should use `dataset.take(k).cache().repeat()` instead.\n"
     ]
    }
   ],
   "source": [
    "BUFFER_SIZE = 10000\n",
    "BATCH_SIZE = 64\n",
    "\n",
    "train_dataset = train_dataset.shuffle(BUFFER_SIZE).batch(BATCH_SIZE).prefetch(tf.data.AUTOTUNE)\n",
    "test_dataset = test_dataset.batch(BATCH_SIZE).prefetch(tf.data.AUTOTUNE)\n",
    "\n",
    "for example, label in train_dataset.take(1):\n",
    "  print('texts: ', example.numpy()[:3])\n",
    "  print()\n",
    "  print('labels: ', label.numpy()[:3])"
   ]
  },
  {
   "cell_type": "code",
   "execution_count": 6,
   "metadata": {},
   "outputs": [
    {
     "data": {
      "text/plain": [
       "array(['', '[UNK]', 'the', 'and', 'a', 'of', 'to', 'is', 'in', 'it', 'i',\n",
       "       'this', 'that', 'br', 'was', 'as', 'for', 'with', 'movie', 'but'],\n",
       "      dtype='<U14')"
      ]
     },
     "execution_count": 6,
     "metadata": {},
     "output_type": "execute_result"
    }
   ],
   "source": [
    "VOCAB_SIZE = 1000\n",
    "encoder = tf.keras.layers.TextVectorization(\n",
    "    max_tokens=VOCAB_SIZE)\n",
    "encoder.adapt(train_dataset.map(lambda text, label: text))\n",
    "\n",
    "vocab = np.array(encoder.get_vocabulary())\n",
    "vocab[:20]"
   ]
  },
  {
   "cell_type": "code",
   "execution_count": 7,
   "metadata": {},
   "outputs": [
    {
     "data": {
      "text/plain": [
       "array([[ 88,   5, 170, ...,   0,   0,   0],\n",
       "       [ 10, 208,  11, ...,   0,   0,   0],\n",
       "       [255,  10, 153, ...,   0,   0,   0]])"
      ]
     },
     "execution_count": 7,
     "metadata": {},
     "output_type": "execute_result"
    }
   ],
   "source": [
    "encoded_example = encoder(example)[:3].numpy()\n",
    "encoded_example"
   ]
  },
  {
   "cell_type": "code",
   "execution_count": 8,
   "metadata": {},
   "outputs": [
    {
     "name": "stdout",
     "output_type": "stream",
     "text": [
      "Original:  b'\"Most of us at least inhabit two worlds , the real world where we are at the mercy of circumstances and the world within ,the unconscious ,a safe place where we can escape ...\" With those words ,Mr .Gone introduces inside the world of \"The Maxx\" a fascinating world where the fantasy and the reality are combined . Inspired in the comic books of Sam Kieth, \"The Maxx \" is very faithful to the material in what it was inspired , not only in the story but also in the graphic style ,that look like the pages of the comic ,giving this show a surreal and unique appearance . But also ,the story it\\'s interesting and entertaining .At moments it could turn too weird ,but when you got inside it ,it\\'s hard to get out of it . The story and the characters are wonderfully developed . The music goes perfectly with the style of the show and give it the proper atmosphere . Unfortunately , like many good animated shows ,this one was short -lived . \"The Maxx\" is a must see . It \\'s one of my all -time favorites .'\n",
      "Round-trip:  most of us at least [UNK] two [UNK] the real world where we are at the [UNK] of [UNK] and the world within the [UNK] a [UNK] place where we can [UNK] with those words mr gone [UNK] inside the world of the [UNK] a [UNK] world where the fantasy and the reality are [UNK] [UNK] in the comic [UNK] of [UNK] [UNK] the [UNK] is very [UNK] to the material in what it was [UNK] not only in the story but also in the [UNK] style that look like the [UNK] of the comic giving this show a [UNK] and unique [UNK] but also the story its interesting and entertaining at moments it could turn too weird but when you got inside it its hard to get out of it the story and the characters are [UNK] [UNK] the music goes perfectly with the style of the show and give it the [UNK] atmosphere unfortunately like many good [UNK] shows this one was short [UNK] the [UNK] is a must see it [UNK] one of my all time [UNK]                                                                                                                                                                                                                                                                                                                                                                                                                                                                                                                                                                                                                                                                                                                                                                                                                                                  \n",
      "\n",
      "Original:  b'I saw this \"hot\" movie when it came out in 1986. It had a X rating for a brief scene involving oral sex but played in mainstream theatres (it was an \"art\" film). Supposedly it\\'s the first film to ever show a respected actress in an explicit sex scene.<br /><br />What I saw was a boring tale about a high school boy (Federico Pitzalis) in love (understandably) with an older woman (Maruschka Detmers). As has been mentioned before Detmers is very beautiful with a good body BUT she also gave a very good performance. Pitzalis was (to put it mildly) pretty poor. It\\'s no wonder he never made another movie. Still, despite the infamous sex scene (which is explicit but pretty brief), this a slow moving dull story which bored me silly. The good acting by Detmers only helped to a certain point. Mostly I was looking at my watch waiting patiently for it to end. If it didn\\'t have that sequence this movie would have been forgotten long ago. Dull and slow. You can skip this one.'\n",
      "Round-trip:  i saw this hot movie when it came out in [UNK] it had a [UNK] rating for a [UNK] scene [UNK] [UNK] sex but played in [UNK] [UNK] it was an art film [UNK] its the first film to ever show a [UNK] actress in an [UNK] sex [UNK] br what i saw was a boring tale about a high school boy [UNK] [UNK] in love [UNK] with an older woman [UNK] [UNK] as has been [UNK] before [UNK] is very beautiful with a good body but she also gave a very good performance [UNK] was to put it [UNK] pretty poor its no wonder he never made another movie still despite the [UNK] sex scene which is [UNK] but pretty [UNK] this a slow moving dull story which [UNK] me silly the good acting by [UNK] only [UNK] to a certain point mostly i was looking at my watch [UNK] [UNK] for it to end if it didnt have that sequence this movie would have been [UNK] long ago dull and slow you can [UNK] this one                                                                                                                                                                                                                                                                                                                                                                                                                                                                                                                                                                                                                                                                                                                                                                                                                                                    \n",
      "\n",
      "Original:  b\"Although I didn't like Stanley & Iris tremendously as a film, I did admire the acting. Jane Fonda and Robert De Niro are great in this movie. I haven't always been a fan of Fonda's work but here she is delicate and strong at the same time. De Niro has the ability to make every role he portrays into acting gold. He gives a great performance in this film and there is a great scene where he has to take his father to a home for elderly people because he can't care for him anymore that will break your heart. I wouldn't really recommend this film as a great cinematic entertainment, but I will say you won't see much bette acting anywhere.\"\n",
      "Round-trip:  although i didnt like [UNK] [UNK] [UNK] as a film i did [UNK] the acting jane [UNK] and robert de [UNK] are great in this movie i havent always been a fan of [UNK] work but here she is [UNK] and strong at the same time de [UNK] has the [UNK] to make every role he [UNK] into acting [UNK] he gives a great performance in this film and there is a great scene where he has to take his father to a home for [UNK] people because he cant care for him [UNK] that will [UNK] your heart i wouldnt really recommend this film as a great [UNK] entertainment but i will say you wont see much [UNK] acting [UNK]                                                                                                                                                                                                                                                                                                                                                                                                                                                                                                                                                                                                                                                                                                                                                                                                                                                                                                             \n",
      "\n"
     ]
    }
   ],
   "source": [
    "for n in range(3):\n",
    "  print(\"Original: \", example[n].numpy())\n",
    "  print(\"Round-trip: \", \" \".join(vocab[encoded_example[n]]))\n",
    "  print()"
   ]
  }
 ],
 "metadata": {
  "interpreter": {
   "hash": "dc919a8c9f3b0b92e1d085faab71fe86a296093fb313f99140bffe2c1d0fe07d"
  },
  "kernelspec": {
   "display_name": "Python 3.7.4 ('.venv': venv)",
   "language": "python",
   "name": "python3"
  },
  "language_info": {
   "codemirror_mode": {
    "name": "ipython",
    "version": 3
   },
   "file_extension": ".py",
   "mimetype": "text/x-python",
   "name": "python",
   "nbconvert_exporter": "python",
   "pygments_lexer": "ipython3",
   "version": "3.7.4"
  },
  "orig_nbformat": 4
 },
 "nbformat": 4,
 "nbformat_minor": 2
}
