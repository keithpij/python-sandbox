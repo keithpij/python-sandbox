{
 "cells": [
  {
   "cell_type": "markdown",
   "metadata": {},
   "source": [
    "### Sentiment Analysis using TensofFlow"
   ]
  },
  {
   "cell_type": "code",
   "execution_count": null,
   "metadata": {},
   "outputs": [],
   "source": [
    "from datetime import datetime\n",
    "\n",
    "import matplotlib.pyplot as plt\n",
    "import numpy as np\n",
    "from sklearn.model_selection import train_test_split\n",
    "import tensorflow as tf\n",
    "import tensorflow_datasets as tfds\n",
    "\n",
    "import tensorflow_sa"
   ]
  },
  {
   "cell_type": "code",
   "execution_count": null,
   "metadata": {},
   "outputs": [],
   "source": [
    "# Configuration\n",
    "config = {\n",
    "    'smoke_test_size': 500,  # Length of training set. 0 for all reviews.\n",
    "    'epochs': 10,             # Total number of epochs\n",
    "    'batch_size': 100,        # Batch size for each epoch\n",
    "    'training_dim': 200,     # Number of tokens (words) to put into each review.\n",
    "    'vocab_size': 7000,      # Vocabulary size\n",
    "    'output_size': 1,\n",
    "    'embedding_dim': 400,\n",
    "    'hidden_dim': 256,\n",
    "    'n_layers': 2,\n",
    "    'lr': 0.001\n",
    "}"
   ]
  },
  {
   "cell_type": "code",
   "execution_count": null,
   "metadata": {},
   "outputs": [],
   "source": [
    "tfds.disable_progress_bar()\n",
    "\n",
    "dataset, info = tfds.load('imdb_reviews', with_info=True, as_supervised=True)\n",
    "train_dataset, test_dataset = dataset['train'], dataset['test']\n",
    "\n"
   ]
  },
  {
   "cell_type": "code",
   "execution_count": 3,
   "metadata": {},
   "outputs": [
    {
     "name": "stderr",
     "output_type": "stream",
     "text": [
      "2022-03-14 14:42:53.763586: I tensorflow/core/platform/cpu_feature_guard.cc:151] This TensorFlow binary is optimized with oneAPI Deep Neural Network Library (oneDNN) to use the following CPU instructions in performance-critical operations:  AVX2 FMA\n",
      "To enable them in other operations, rebuild TensorFlow with the appropriate compiler flags.\n"
     ]
    }
   ],
   "source": [
    "buffer_size = 10000\n",
    "batch_size = config['batch_size']\n",
    "\n",
    "train_dataset, valid_dataset = tensorflow_sa.get_train_valid_data(config)\n",
    "test_dataset = tensorflow_sa.get_test_data(config)\n",
    "\n",
    "#train_dataset = train_dataset.shuffle(buffer_size).batch(batch_size).prefetch(tf.data.AUTOTUNE)\n",
    "#valid_dataset = valid_dataset.batch(batch_size).prefetch(tf.data.AUTOTUNE)\n",
    "#test_dataset = test_dataset.batch(batch_size).prefetch(tf.data.AUTOTUNE)"
   ]
  },
  {
   "cell_type": "code",
   "execution_count": null,
   "metadata": {},
   "outputs": [],
   "source": [
    "#print(train_dataset.shape())\n",
    "#print(valid_dataset.shape())\n",
    "print(type(train_dataset))\n",
    "print(type(valid_dataset))\n",
    "\n",
    "#info\n",
    "#train_dataset.element_spec"
   ]
  },
  {
   "cell_type": "code",
   "execution_count": null,
   "metadata": {},
   "outputs": [],
   "source": [
    "for example, label in train_dataset.take(1):\n",
    "  print('text: ', example.numpy())\n",
    "  print('label: ', label.numpy())"
   ]
  },
  {
   "cell_type": "code",
   "execution_count": null,
   "metadata": {},
   "outputs": [],
   "source": [
    "\n",
    "for example, label in train_dataset.take(1):\n",
    "  print('texts: ', example.numpy()[:3])\n",
    "  print()\n",
    "  print('labels: ', label.numpy()[:3])"
   ]
  },
  {
   "cell_type": "code",
   "execution_count": null,
   "metadata": {},
   "outputs": [],
   "source": [
    "vocab_size = config['vocab_size']\n",
    "encoder = tf.keras.layers.TextVectorization(max_tokens=vocab_size)\n",
    "encoder.adapt(train_dataset.map(lambda text, label: text))\n",
    "\n",
    "vocab = np.array(encoder.get_vocabulary())\n",
    "vocab[:20]"
   ]
  },
  {
   "cell_type": "code",
   "execution_count": null,
   "metadata": {},
   "outputs": [],
   "source": [
    "encoded_example = encoder(example)[:3].numpy()\n",
    "encoded_example"
   ]
  },
  {
   "cell_type": "code",
   "execution_count": null,
   "metadata": {},
   "outputs": [],
   "source": [
    "for n in range(3):\n",
    "  print(\"Original: \", example[n].numpy())\n",
    "  print(\"Round-trip: \", \" \".join(vocab[encoded_example[n]]))\n",
    "  print()"
   ]
  },
  {
   "cell_type": "code",
   "execution_count": 4,
   "metadata": {},
   "outputs": [],
   "source": [
    "\n",
    "embedding_dim = config['embedding_dim']\n",
    "hidden_dim = config['hidden_dim']\n",
    "lr = config['lr']\n",
    "output_size = config['output_size']\n",
    "vocab_size = config['vocab_size']\n",
    "\n",
    "model = tf.keras.Sequential([\n",
    "    tf.keras.layers.Embedding(vocab_size, embedding_dim, mask_zero=True),\n",
    "    tf.keras.layers.Bidirectional(tf.keras.layers.LSTM(hidden_dim, return_sequences=True)),\n",
    "    tf.keras.layers.Bidirectional(tf.keras.layers.LSTM(hidden_dim)),\n",
    "    tf.keras.layers.Dense(hidden_dim, activation='relu'),\n",
    "    tf.keras.layers.Dropout(0.5),\n",
    "    tf.keras.layers.Dense(output_size)\n",
    "])\n",
    "\n",
    "model.compile(loss=tf.keras.losses.BinaryCrossentropy(from_logits=True),\n",
    "              optimizer=tf.keras.optimizers.Adam(lr),\n",
    "              metrics=['accuracy'])"
   ]
  },
  {
   "cell_type": "code",
   "execution_count": 6,
   "metadata": {},
   "outputs": [
    {
     "name": "stdout",
     "output_type": "stream",
     "text": [
      "Epoch 1/10\n",
      "4/4 [==============================] - ETA: 0s - loss: 0.6929 - accuracy: 0.5000WARNING:tensorflow:Your input ran out of data; interrupting training. Make sure that your dataset or generator can generate at least `steps_per_epoch * epochs` batches (in this case, 30 batches). You may need to use the repeat() function when building your dataset.\n",
      "4/4 [==============================] - 31s 5s/step - loss: 0.6929 - accuracy: 0.5000 - val_loss: 0.6918 - val_accuracy: 0.5000\n",
      "Epoch 2/10\n",
      "4/4 [==============================] - 13s 3s/step - loss: 0.6747 - accuracy: 0.5000\n",
      "Epoch 3/10\n",
      "4/4 [==============================] - 15s 4s/step - loss: 0.6412 - accuracy: 0.6600\n",
      "Epoch 4/10\n",
      "4/4 [==============================] - 24s 6s/step - loss: 0.3702 - accuracy: 0.8975\n",
      "Epoch 5/10\n",
      "4/4 [==============================] - 22s 5s/step - loss: 0.2848 - accuracy: 0.9850\n",
      "Epoch 6/10\n",
      "4/4 [==============================] - 16s 4s/step - loss: 0.1220 - accuracy: 0.9925\n",
      "Epoch 7/10\n",
      "4/4 [==============================] - 14s 4s/step - loss: 0.0587 - accuracy: 0.9750\n",
      "Epoch 8/10\n",
      "4/4 [==============================] - 15s 4s/step - loss: 0.0056 - accuracy: 1.0000\n",
      "Epoch 9/10\n",
      "4/4 [==============================] - 15s 4s/step - loss: 0.0167 - accuracy: 0.9975\n",
      "Epoch 10/10\n",
      "4/4 [==============================] - 16s 4s/step - loss: 0.0010 - accuracy: 1.0000\n"
     ]
    }
   ],
   "source": [
    "epochs = config['epochs']\n",
    "\n",
    "history = model.fit(train_dataset, epochs=epochs,\n",
    "                    validation_data=valid_dataset, validation_steps=30)"
   ]
  },
  {
   "cell_type": "code",
   "execution_count": null,
   "metadata": {},
   "outputs": [],
   "source": [
    "test_loss, test_acc = model.evaluate(test_dataset)\n",
    "\n",
    "print('Test Loss:', test_loss)\n",
    "print('Test Accuracy:', test_acc)"
   ]
  },
  {
   "cell_type": "markdown",
   "metadata": {},
   "source": [
    "Loss and accuracy with two layers and using my encoding:\n",
    "    Test Loss: 0.3576638996601105\n",
    "    Test Accuracy: 0.8377599716186523\n",
    "\n",
    "Loss and accuracy with two layers, using my parameters, my encoding, with better shuffling:\n",
    "    Test Loss: 0.3856273293495178\n",
    "    Test Accuracy: 0.834119975566864"
   ]
  },
  {
   "cell_type": "code",
   "execution_count": null,
   "metadata": {},
   "outputs": [],
   "source": [
    "today = datetime.now()\n",
    "model_path = f'sa_lstm_local_{today.year}_{today.month:02}_{today.day:02}.tf'\n",
    "tensorflow_sa.save_model(model, model_path)\n",
    "model_path"
   ]
  },
  {
   "cell_type": "code",
   "execution_count": null,
   "metadata": {},
   "outputs": [],
   "source": [
    "model = tensorflow_sa.load_model(model_path)"
   ]
  },
  {
   "cell_type": "code",
   "execution_count": null,
   "metadata": {},
   "outputs": [],
   "source": [
    "def plot_graphs(history, metric):\n",
    "  plt.plot(history.history[metric])\n",
    "  plt.plot(history.history['val_'+metric], '')\n",
    "  plt.xlabel(\"Epochs\")\n",
    "  plt.ylabel(metric)\n",
    "  plt.legend([metric, 'val_'+metric])\n",
    "\n",
    "\n",
    "plt.figure(figsize=(16, 8))\n",
    "plt.subplot(1, 2, 1)\n",
    "plot_graphs(history, 'accuracy')\n",
    "plt.ylim(None, 1)\n",
    "plt.subplot(1, 2, 2)\n",
    "plot_graphs(history, 'loss')\n",
    "plt.ylim(0, None)"
   ]
  },
  {
   "cell_type": "code",
   "execution_count": null,
   "metadata": {},
   "outputs": [],
   "source": [
    "sample_text = ('The movie was cool. The animation and the graphics '\n",
    "               'were out of this world. I would recommend this movie.')\n",
    "predictions = model.predict(np.array([sample_text]))\n",
    "\n",
    "predictions"
   ]
  }
 ],
 "metadata": {
  "interpreter": {
   "hash": "dc919a8c9f3b0b92e1d085faab71fe86a296093fb313f99140bffe2c1d0fe07d"
  },
  "kernelspec": {
   "display_name": "Python 3.7.4 ('.venv': venv)",
   "language": "python",
   "name": "python3"
  },
  "language_info": {
   "codemirror_mode": {
    "name": "ipython",
    "version": 3
   },
   "file_extension": ".py",
   "mimetype": "text/x-python",
   "name": "python",
   "nbconvert_exporter": "python",
   "pygments_lexer": "ipython3",
   "version": "3.7.4"
  },
  "orig_nbformat": 4
 },
 "nbformat": 4,
 "nbformat_minor": 2
}
