{
 "cells": [
  {
   "cell_type": "markdown",
   "metadata": {},
   "source": [
    "Writing files using the open built-in function."
   ]
  },
  {
   "cell_type": "code",
   "execution_count": null,
   "metadata": {},
   "outputs": [],
   "source": [
    "# Open a file for output.\n",
    "fout = open('portfolio.txt', 'w')\n",
    "\n",
    "# Create a list of tickers.\n",
    "tickers = 'AAPL\\nAMZN\\nGOOG\\nMSFT\\nORCL'\n",
    "\n",
    "# Write the tickers to the file that has been opened for output.\n",
    "fout.write(tickers)\n",
    "\n",
    "# Close the file.\n",
    "fout.close()"
   ]
  }
 ],
 "metadata": {
  "language_info": {
   "name": "python"
  },
  "orig_nbformat": 4
 },
 "nbformat": 4,
 "nbformat_minor": 2
}
