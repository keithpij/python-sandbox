{
 "cells": [
  {
   "cell_type": "markdown",
   "metadata": {},
   "source": [
    "The assert statement is a useful tool for defensive programming. The purpose of the assert statement is to make sure conditions you believe will always be true at certain points in a service are in fact true.\n",
    "\n",
    "It checks whether a condition is true. If a condition evaluates to True, a program will keep running. If a condition is false, the program will throw an AssertionError which can be trapped by a calling function or method. This is not the best way to communicate an error condition to a calling function. It is better to raise an exception that is relevant to the error condition that contains specifics as to what went wrong. This could also be a custom exception that is unique to the service.\n"
   ]
  },
  {
   "cell_type": "code",
   "execution_count": 1,
   "metadata": {},
   "outputs": [
    {
     "ename": "AssertionError",
     "evalue": "",
     "output_type": "error",
     "traceback": [
      "\u001b[0;31m---------------------------------------------------------------------------\u001b[0m",
      "\u001b[0;31mAssertionError\u001b[0m                            Traceback (most recent call last)",
      "\u001b[0;32m/var/folders/s8/g3m9yhtj5j59fb7hg06hd6p80000gn/T/ipykernel_65597/2760238208.py\u001b[0m in \u001b[0;36m<module>\u001b[0;34m\u001b[0m\n\u001b[1;32m      5\u001b[0m     \u001b[0mprint\u001b[0m\u001b[0;34m(\u001b[0m\u001b[0;34m'End of cell.'\u001b[0m\u001b[0;34m)\u001b[0m\u001b[0;34m\u001b[0m\u001b[0;34m\u001b[0m\u001b[0m\n\u001b[1;32m      6\u001b[0m \u001b[0;34m\u001b[0m\u001b[0m\n\u001b[0;32m----> 7\u001b[0;31m \u001b[0mfalse_assertion\u001b[0m\u001b[0;34m(\u001b[0m\u001b[0;34m)\u001b[0m\u001b[0;34m\u001b[0m\u001b[0;34m\u001b[0m\u001b[0m\n\u001b[0m",
      "\u001b[0;32m/var/folders/s8/g3m9yhtj5j59fb7hg06hd6p80000gn/T/ipykernel_65597/2760238208.py\u001b[0m in \u001b[0;36mfalse_assertion\u001b[0;34m()\u001b[0m\n\u001b[1;32m      2\u001b[0m     \u001b[0ma\u001b[0m \u001b[0;34m=\u001b[0m \u001b[0;36m1\u001b[0m\u001b[0;34m\u001b[0m\u001b[0;34m\u001b[0m\u001b[0m\n\u001b[1;32m      3\u001b[0m     \u001b[0mb\u001b[0m \u001b[0;34m=\u001b[0m \u001b[0;36m2\u001b[0m\u001b[0;34m\u001b[0m\u001b[0;34m\u001b[0m\u001b[0m\n\u001b[0;32m----> 4\u001b[0;31m     \u001b[0;32massert\u001b[0m \u001b[0ma\u001b[0m \u001b[0;34m==\u001b[0m \u001b[0mb\u001b[0m\u001b[0;34m\u001b[0m\u001b[0;34m\u001b[0m\u001b[0m\n\u001b[0m\u001b[1;32m      5\u001b[0m     \u001b[0mprint\u001b[0m\u001b[0;34m(\u001b[0m\u001b[0;34m'End of cell.'\u001b[0m\u001b[0;34m)\u001b[0m\u001b[0;34m\u001b[0m\u001b[0;34m\u001b[0m\u001b[0m\n\u001b[1;32m      6\u001b[0m \u001b[0;34m\u001b[0m\u001b[0m\n",
      "\u001b[0;31mAssertionError\u001b[0m: "
     ]
    }
   ],
   "source": [
    "def false_assertion():\n",
    "    a = 1\n",
    "    b = 2\n",
    "    assert a == b\n",
    "    print('End of cell.')\n",
    "\n",
    "false_assertion()"
   ]
  },
  {
   "cell_type": "code",
   "execution_count": 2,
   "metadata": {},
   "outputs": [
    {
     "name": "stdout",
     "output_type": "stream",
     "text": [
      "End of cell.\n"
     ]
    }
   ],
   "source": [
    "def true_assertion():\n",
    "    a = 1\n",
    "    b = 2\n",
    "    assert a != b\n",
    "    print('End of cell.')\n",
    "\n",
    "true_assertion()"
   ]
  },
  {
   "cell_type": "code",
   "execution_count": 3,
   "metadata": {},
   "outputs": [
    {
     "name": "stdout",
     "output_type": "stream",
     "text": [
      "Assertion Error thrown.\n"
     ]
    }
   ],
   "source": [
    "try:\n",
    "    false_assertion()\n",
    "except AssertionError:\n",
    "    print('Assertion Error thrown.')"
   ]
  }
 ],
 "metadata": {
  "interpreter": {
   "hash": "ad11e77835714d43d7af2e7f9bb0b3ff2a01371876a74fe28121773a702715cf"
  },
  "kernelspec": {
   "display_name": "Python 3.8.5 64-bit ('ray': pyenv)",
   "name": "python3"
  },
  "language_info": {
   "codemirror_mode": {
    "name": "ipython",
    "version": 3
   },
   "file_extension": ".py",
   "mimetype": "text/x-python",
   "name": "python",
   "nbconvert_exporter": "python",
   "pygments_lexer": "ipython3",
   "version": "3.8.5"
  },
  "orig_nbformat": 4
 },
 "nbformat": 4,
 "nbformat_minor": 2
}
