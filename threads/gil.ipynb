{
 "cells": [
  {
   "cell_type": "code",
   "execution_count": 3,
   "metadata": {},
   "outputs": [],
   "source": [
    "from collections import namedtuple\n",
    "import csv\n",
    "import tarfile\n",
    "from threading import Thread\n",
    "import time"
   ]
  },
  {
   "cell_type": "code",
   "execution_count": null,
   "metadata": {},
   "outputs": [],
   "source": [
    "def linear_equation(x_start, x_end):\n",
    "    m = 5\n",
    "    b = 7\n",
    "    x_values = []\n",
    "    y_values = []\n",
    "    for x in range(x_start, x_end):\n",
    "        x_values.append(x)\n",
    "        y_values.append(m*x+b)\n",
    "    return x_values, y_values\n"
   ]
  },
  {
   "cell_type": "code",
   "execution_count": null,
   "metadata": {},
   "outputs": [],
   "source": [
    "start_time = time.time()\n",
    "x, y = linear_equation(0, 1000)\n",
    "duration = time.time() - start_time\n",
    "\n",
    "duration"
   ]
  },
  {
   "cell_type": "code",
   "execution_count": null,
   "metadata": {},
   "outputs": [],
   "source": [
    "t1 = Thread(target = linear_equation, args = (0, 499))\n",
    "t2 = Thread(target = linear_equation, args = (500, 1000))\n",
    "\n",
    "start_time = time.time()\n",
    "t1.start()\n",
    "t2.start()\n",
    "t1.join()\n",
    "t2.join()\n",
    "duration = time.time() - start_time\n",
    "\n",
    "duration"
   ]
  },
  {
   "cell_type": "code",
   "execution_count": null,
   "metadata": {},
   "outputs": [],
   "source": [
    "def nap(sleep_interval):\n",
    "    time.sleep(sleep_interval)"
   ]
  },
  {
   "cell_type": "code",
   "execution_count": null,
   "metadata": {},
   "outputs": [],
   "source": [
    "t_io_1 = Thread(target = nap, args = (5, ))\n",
    "t_io_2 = Thread(target = nap, args = (5, ))\n",
    "\n",
    "start_time = time.time()\n",
    "t_io_1.start()\n",
    "t_io_2.start()\n",
    "t_io_1.join()\n",
    "t_io_2.join()\n",
    "duration = time.time() - start_time\n",
    "\n",
    "duration"
   ]
  },
  {
   "cell_type": "code",
   "execution_count": 4,
   "metadata": {},
   "outputs": [],
   "source": [
    "def load_data(year):\n",
    "    year = str(year)\n",
    "    file_name = year + '.tar.gz'\n",
    "    Row = namedtuple('Row', ('STATION', 'DATE', 'LATITUDE', 'LONGITUDE', 'ELEVATION', 'NAME', 'TEMP', 'TEMP_ATTRIBUTES', 'DEWP',\n",
    "                            'DEWP_ATTRIBUTES', 'SLP', 'SLP_ATTRIBUTES', 'STP', 'STP_ATTRIBUTES', 'VISIB', 'VISIB_ATTRIBUTES',\n",
    "                            'WDSP', 'WDSP_ATTRIBUTES', 'MXSPD', 'GUST', 'MAX', 'MAX_ATTRIBUTES', 'MIN', 'MIN_ATTRIBUTES', 'PRCP',\n",
    "                            'PRCP_ATTRIBUTES', 'SNDP', 'FRSHTT'))\n",
    "\n",
    "    rows = []\n",
    "    tar = tarfile.open(file_name, 'r:gz')\n",
    "    for member in tar.getmembers():\n",
    "        member_handle = tar.extractfile(member)\n",
    "        byte_data = member_handle.read()\n",
    "        decoded_string = byte_data.decode()\n",
    "        lines = decoded_string.splitlines()\n",
    "        reader = csv.reader(lines, delimiter=',')\n",
    "\n",
    "        # Get all the rows in the member. Skip the header.\n",
    "        _ = next(reader)\n",
    "        file_rows = [Row(*l) for l in reader]\n",
    "        rows += file_rows\n",
    "\n",
    "    stations = {l.STATION for l in rows}\n",
    "    return stations, rows"
   ]
  },
  {
   "cell_type": "code",
   "execution_count": 5,
   "metadata": {},
   "outputs": [
    {
     "ename": "TypeError",
     "evalue": "unsupported operand type(s) for +: 'int' and 'str'",
     "output_type": "error",
     "traceback": [
      "\u001b[0;31m---------------------------------------------------------------------------\u001b[0m",
      "\u001b[0;31mTypeError\u001b[0m                                 Traceback (most recent call last)",
      "\u001b[0;32m/tmp/ipykernel_12459/892334782.py\u001b[0m in \u001b[0;36m<module>\u001b[0;34m\u001b[0m\n\u001b[1;32m      1\u001b[0m \u001b[0mstart_time\u001b[0m \u001b[0;34m=\u001b[0m \u001b[0mtime\u001b[0m\u001b[0;34m.\u001b[0m\u001b[0mtime\u001b[0m\u001b[0;34m(\u001b[0m\u001b[0;34m)\u001b[0m\u001b[0;34m\u001b[0m\u001b[0;34m\u001b[0m\u001b[0m\n\u001b[0;32m----> 2\u001b[0;31m \u001b[0mstations\u001b[0m\u001b[0;34m,\u001b[0m \u001b[0mrows\u001b[0m \u001b[0;34m=\u001b[0m \u001b[0mload_data\u001b[0m\u001b[0;34m(\u001b[0m\u001b[0;36m2020\u001b[0m\u001b[0;34m)\u001b[0m\u001b[0;34m\u001b[0m\u001b[0;34m\u001b[0m\u001b[0m\n\u001b[0m\u001b[1;32m      3\u001b[0m \u001b[0mlen\u001b[0m\u001b[0;34m(\u001b[0m\u001b[0mrows\u001b[0m\u001b[0;34m)\u001b[0m\u001b[0;34m\u001b[0m\u001b[0;34m\u001b[0m\u001b[0m\n\u001b[1;32m      4\u001b[0m \u001b[0mstations\u001b[0m\u001b[0;34m,\u001b[0m \u001b[0mrows\u001b[0m \u001b[0;34m=\u001b[0m \u001b[0mload_data\u001b[0m\u001b[0;34m(\u001b[0m\u001b[0;36m2021\u001b[0m\u001b[0;34m)\u001b[0m\u001b[0;34m\u001b[0m\u001b[0;34m\u001b[0m\u001b[0m\n\u001b[1;32m      5\u001b[0m \u001b[0mlen\u001b[0m\u001b[0;34m(\u001b[0m\u001b[0mrows\u001b[0m\u001b[0;34m)\u001b[0m\u001b[0;34m\u001b[0m\u001b[0;34m\u001b[0m\u001b[0m\n",
      "\u001b[0;32m/tmp/ipykernel_12459/1265648444.py\u001b[0m in \u001b[0;36mload_data\u001b[0;34m(year)\u001b[0m\n\u001b[1;32m      1\u001b[0m \u001b[0;32mdef\u001b[0m \u001b[0mload_data\u001b[0m\u001b[0;34m(\u001b[0m\u001b[0myear\u001b[0m\u001b[0;34m)\u001b[0m\u001b[0;34m:\u001b[0m\u001b[0;34m\u001b[0m\u001b[0;34m\u001b[0m\u001b[0m\n\u001b[0;32m----> 2\u001b[0;31m     \u001b[0mfile_name\u001b[0m \u001b[0;34m=\u001b[0m \u001b[0myear\u001b[0m \u001b[0;34m+\u001b[0m \u001b[0;34m'.tar.gz'\u001b[0m\u001b[0;34m\u001b[0m\u001b[0;34m\u001b[0m\u001b[0m\n\u001b[0m\u001b[1;32m      3\u001b[0m     Row = namedtuple('Row', ('STATION', 'DATE', 'LATITUDE', 'LONGITUDE', 'ELEVATION', 'NAME', 'TEMP', 'TEMP_ATTRIBUTES', 'DEWP',\n\u001b[1;32m      4\u001b[0m                             \u001b[0;34m'DEWP_ATTRIBUTES'\u001b[0m\u001b[0;34m,\u001b[0m \u001b[0;34m'SLP'\u001b[0m\u001b[0;34m,\u001b[0m \u001b[0;34m'SLP_ATTRIBUTES'\u001b[0m\u001b[0;34m,\u001b[0m \u001b[0;34m'STP'\u001b[0m\u001b[0;34m,\u001b[0m \u001b[0;34m'STP_ATTRIBUTES'\u001b[0m\u001b[0;34m,\u001b[0m \u001b[0;34m'VISIB'\u001b[0m\u001b[0;34m,\u001b[0m \u001b[0;34m'VISIB_ATTRIBUTES'\u001b[0m\u001b[0;34m,\u001b[0m\u001b[0;34m\u001b[0m\u001b[0;34m\u001b[0m\u001b[0m\n\u001b[1;32m      5\u001b[0m                             \u001b[0;34m'WDSP'\u001b[0m\u001b[0;34m,\u001b[0m \u001b[0;34m'WDSP_ATTRIBUTES'\u001b[0m\u001b[0;34m,\u001b[0m \u001b[0;34m'MXSPD'\u001b[0m\u001b[0;34m,\u001b[0m \u001b[0;34m'GUST'\u001b[0m\u001b[0;34m,\u001b[0m \u001b[0;34m'MAX'\u001b[0m\u001b[0;34m,\u001b[0m \u001b[0;34m'MAX_ATTRIBUTES'\u001b[0m\u001b[0;34m,\u001b[0m \u001b[0;34m'MIN'\u001b[0m\u001b[0;34m,\u001b[0m \u001b[0;34m'MIN_ATTRIBUTES'\u001b[0m\u001b[0;34m,\u001b[0m \u001b[0;34m'PRCP'\u001b[0m\u001b[0;34m,\u001b[0m\u001b[0;34m\u001b[0m\u001b[0;34m\u001b[0m\u001b[0m\n",
      "\u001b[0;31mTypeError\u001b[0m: unsupported operand type(s) for +: 'int' and 'str'"
     ]
    }
   ],
   "source": [
    "start_time = time.time()\n",
    "stations, rows = load_data(2020)\n",
    "len(rows)\n",
    "stations, rows = load_data(2021)\n",
    "len(rows)\n",
    "duration = time.time() - start_time\n",
    "\n",
    "duration"
   ]
  }
 ],
 "metadata": {
  "interpreter": {
   "hash": "7a2f003ac76c82e84ce68327618d0b631f04a538b628a154436d2ad0241481d9"
  },
  "kernelspec": {
   "display_name": "Python 3.8.10 64-bit ('.venv': venv)",
   "name": "python3"
  },
  "language_info": {
   "codemirror_mode": {
    "name": "ipython",
    "version": 3
   },
   "file_extension": ".py",
   "mimetype": "text/x-python",
   "name": "python",
   "nbconvert_exporter": "python",
   "pygments_lexer": "ipython3",
   "version": "3.8.10"
  },
  "orig_nbformat": 4
 },
 "nbformat": 4,
 "nbformat_minor": 2
}
