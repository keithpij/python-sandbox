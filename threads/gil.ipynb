{
 "cells": [
  {
   "cell_type": "code",
   "execution_count": 9,
   "source": [
    "from threading import Thread\n",
    "import time\n"
   ],
   "outputs": [],
   "metadata": {}
  },
  {
   "cell_type": "code",
   "execution_count": 7,
   "source": [
    "def linear_equation(x_start, x_end):\n",
    "    m = 5\n",
    "    b = 7\n",
    "    x_values = []\n",
    "    y_values = []\n",
    "    for x in range(x_start, x_end):\n",
    "        x_values.append(x)\n",
    "        y_values.append(m*x+b)\n",
    "    return x_values, y_values\n"
   ],
   "outputs": [],
   "metadata": {}
  },
  {
   "cell_type": "code",
   "execution_count": 12,
   "source": [
    "start_time = time.time()\n",
    "x, y = linear_equation(0, 1000)\n",
    "duration = time.time() - start_time\n",
    "\n",
    "duration"
   ],
   "outputs": [
    {
     "output_type": "execute_result",
     "data": {
      "text/plain": [
       "0.00042128562927246094"
      ]
     },
     "metadata": {},
     "execution_count": 12
    }
   ],
   "metadata": {}
  },
  {
   "cell_type": "code",
   "execution_count": 13,
   "source": [
    "t1 = Thread(target = linear_equation, args = (0, 499))\n",
    "t2 = Thread(target = linear_equation, args = (500, 1000))\n",
    "\n",
    "start_time = time.time()\n",
    "t1.start()\n",
    "t2.start()\n",
    "t1.join()\n",
    "t2.join()\n",
    "duration = time.time() - start_time\n",
    "\n",
    "duration"
   ],
   "outputs": [
    {
     "output_type": "execute_result",
     "data": {
      "text/plain": [
       "0.005053281784057617"
      ]
     },
     "metadata": {},
     "execution_count": 13
    }
   ],
   "metadata": {}
  },
  {
   "cell_type": "code",
   "execution_count": 14,
   "source": [
    "def nap(sleep_interval):\n",
    "    time.sleep(sleep_interval)"
   ],
   "outputs": [],
   "metadata": {}
  },
  {
   "cell_type": "code",
   "execution_count": 15,
   "source": [
    "t_io_1 = Thread(target = nap, args = (5, ))\n",
    "t_io_2 = Thread(target = nap, args = (5, ))\n",
    "\n",
    "start_time = time.time()\n",
    "t_io_1.start()\n",
    "t_io_2.start()\n",
    "t_io_1.join()\n",
    "t_io_2.join()\n",
    "duration = time.time() - start_time\n",
    "\n",
    "duration"
   ],
   "outputs": [
    {
     "output_type": "execute_result",
     "data": {
      "text/plain": [
       "5.002717018127441"
      ]
     },
     "metadata": {},
     "execution_count": 15
    }
   ],
   "metadata": {}
  }
 ],
 "metadata": {
  "orig_nbformat": 4,
  "language_info": {
   "name": "python",
   "version": "3.8.5",
   "mimetype": "text/x-python",
   "codemirror_mode": {
    "name": "ipython",
    "version": 3
   },
   "pygments_lexer": "ipython3",
   "nbconvert_exporter": "python",
   "file_extension": ".py"
  },
  "kernelspec": {
   "name": "python3",
   "display_name": "Python 3.8.5 64-bit ('ray': pyenv)"
  },
  "interpreter": {
   "hash": "613dc593a773ecfda01c681965c9c53ce790578aead38a9ac04dd6b6ce2368b7"
  }
 },
 "nbformat": 4,
 "nbformat_minor": 2
}