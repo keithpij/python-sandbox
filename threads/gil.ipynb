{
 "cells": [
  {
   "cell_type": "code",
   "execution_count": 4,
   "metadata": {},
   "outputs": [],
   "source": [
    "from collections import namedtuple\n",
    "import csv\n",
    "import tarfile\n",
    "from threading import Thread\n",
    "import time"
   ]
  },
  {
   "cell_type": "code",
   "execution_count": 34,
   "metadata": {},
   "outputs": [],
   "source": [
    "def linear_equation(x_start, x_end, results):\n",
    "    m = 5\n",
    "    b = 7\n",
    "    x_values = []\n",
    "    y_values = []\n",
    "    for x in range(x_start, x_end):\n",
    "        x_values.append(x)\n",
    "        y_values.append(m*x+b)\n",
    "\n",
    "    results[x_start] = x_values, y_values\n"
   ]
  },
  {
   "cell_type": "code",
   "execution_count": 35,
   "metadata": {},
   "outputs": [
    {
     "data": {
      "text/plain": [
       "0.1830453872680664"
      ]
     },
     "execution_count": 35,
     "metadata": {},
     "output_type": "execute_result"
    }
   ],
   "source": [
    "results = {}\n",
    "\n",
    "start_time = time.time()\n",
    "linear_equation(0, 1000000, results)\n",
    "duration = time.time() - start_time\n",
    "\n",
    "duration"
   ]
  },
  {
   "cell_type": "code",
   "execution_count": 36,
   "metadata": {},
   "outputs": [
    {
     "data": {
      "text/plain": [
       "0.20624852180480957"
      ]
     },
     "execution_count": 36,
     "metadata": {},
     "output_type": "execute_result"
    }
   ],
   "source": [
    "results = {}\n",
    "t1 = Thread(target = linear_equation, args = (0, 499999, results))\n",
    "t2 = Thread(target = linear_equation, args = (500000, 1000000, results))\n",
    "\n",
    "start_time = time.time()\n",
    "t1.start()\n",
    "t2.start()\n",
    "t1.join()\n",
    "t2.join()\n",
    "duration = time.time() - start_time\n",
    "\n",
    "duration"
   ]
  },
  {
   "cell_type": "code",
   "execution_count": 5,
   "metadata": {},
   "outputs": [],
   "source": [
    "def nap(sleep_interval):\n",
    "    time.sleep(sleep_interval)"
   ]
  },
  {
   "cell_type": "code",
   "execution_count": 7,
   "metadata": {},
   "outputs": [
    {
     "data": {
      "text/plain": [
       "10.003144025802612"
      ]
     },
     "execution_count": 7,
     "metadata": {},
     "output_type": "execute_result"
    }
   ],
   "source": [
    "start_time = time.time()\n",
    "nap(5)\n",
    "nap(5)\n",
    "duration = time.time() - start_time\n",
    "\n",
    "duration"
   ]
  },
  {
   "cell_type": "code",
   "execution_count": 6,
   "metadata": {},
   "outputs": [
    {
     "data": {
      "text/plain": [
       "5.005756139755249"
      ]
     },
     "execution_count": 6,
     "metadata": {},
     "output_type": "execute_result"
    }
   ],
   "source": [
    "t_io_1 = Thread(target = nap, args = (5, ))\n",
    "t_io_2 = Thread(target = nap, args = (5, ))\n",
    "\n",
    "start_time = time.time()\n",
    "t_io_1.start()\n",
    "t_io_2.start()\n",
    "t_io_1.join()\n",
    "t_io_2.join()\n",
    "duration = time.time() - start_time\n",
    "\n",
    "duration"
   ]
  },
  {
   "cell_type": "code",
   "execution_count": 2,
   "metadata": {},
   "outputs": [],
   "source": [
    "def load_data(year, results):\n",
    "    year = str(year)\n",
    "    file_name = year + '.tar.gz'\n",
    "    Row = namedtuple('Row', ('STATION', 'DATE', 'LATITUDE', 'LONGITUDE', 'ELEVATION', 'NAME', 'TEMP', 'TEMP_ATTRIBUTES', 'DEWP',\n",
    "                            'DEWP_ATTRIBUTES', 'SLP', 'SLP_ATTRIBUTES', 'STP', 'STP_ATTRIBUTES', 'VISIB', 'VISIB_ATTRIBUTES',\n",
    "                            'WDSP', 'WDSP_ATTRIBUTES', 'MXSPD', 'GUST', 'MAX', 'MAX_ATTRIBUTES', 'MIN', 'MIN_ATTRIBUTES', 'PRCP',\n",
    "                            'PRCP_ATTRIBUTES', 'SNDP', 'FRSHTT'))\n",
    "\n",
    "    rows = []\n",
    "    tar = tarfile.open(file_name, 'r:gz')\n",
    "    for member in tar.getmembers():\n",
    "        member_handle = tar.extractfile(member)\n",
    "        byte_data = member_handle.read()\n",
    "        decoded_string = byte_data.decode()\n",
    "        lines = decoded_string.splitlines()\n",
    "        reader = csv.reader(lines, delimiter=',')\n",
    "\n",
    "        # Get all the rows in the member. Skip the header.\n",
    "        _ = next(reader)\n",
    "        file_rows = [Row(*l) for l in reader]\n",
    "        rows += file_rows\n",
    "\n",
    "    results[year] = rows"
   ]
  },
  {
   "cell_type": "code",
   "execution_count": 5,
   "metadata": {},
   "outputs": [
    {
     "data": {
      "text/plain": [
       "79.21126914024353"
      ]
     },
     "execution_count": 5,
     "metadata": {},
     "output_type": "execute_result"
    }
   ],
   "source": [
    "results = {}\n",
    "\n",
    "start_time = time.time()\n",
    "load_data(2020, results)\n",
    "load_data(2021, results)\n",
    "duration = time.time() - start_time\n",
    "\n",
    "duration"
   ]
  },
  {
   "cell_type": "code",
   "execution_count": null,
   "metadata": {},
   "outputs": [],
   "source": []
  },
  {
   "cell_type": "code",
   "execution_count": 6,
   "metadata": {},
   "outputs": [
    {
     "data": {
      "text/plain": [
       "80.28494453430176"
      ]
     },
     "execution_count": 6,
     "metadata": {},
     "output_type": "execute_result"
    }
   ],
   "source": [
    "results = {}\n",
    "\n",
    "t_io_1 = Thread(target = load_data, args = (2020, results))\n",
    "t_io_2 = Thread(target = load_data, args = (2021, results))\n",
    "\n",
    "start_time = time.time()\n",
    "t_io_1.start()\n",
    "t_io_2.start()\n",
    "t_io_1.join()\n",
    "t_io_2.join()\n",
    "duration = time.time() - start_time\n",
    "\n",
    "duration"
   ]
  },
  {
   "cell_type": "code",
   "execution_count": 10,
   "metadata": {},
   "outputs": [
    {
     "data": {
      "text/plain": [
       "3"
      ]
     },
     "execution_count": 10,
     "metadata": {},
     "output_type": "execute_result"
    }
   ],
   "source": [
    "import numpy as np\n",
    "import pandas as pd\n",
    "import sys\n",
    "\n",
    "df1 = pd.DataFrame(np.array([[1, 2, 3], [4, 5, 6], [7, 8, 9]]),\n",
    "                   columns=['a', 'b', 'c'])\n",
    "df2 = df1\n",
    "sys.getrefcount(df1)"
   ]
  }
 ],
 "metadata": {
  "interpreter": {
   "hash": "893bf3d0490d99b64014da45c2aa34b1a8674e33aee51ad4d5a2072d5b6c1269"
  },
  "kernelspec": {
   "display_name": "Python 3.8.10 64-bit ('.venv': venv)",
   "name": "python3"
  },
  "language_info": {
   "codemirror_mode": {
    "name": "ipython",
    "version": 3
   },
   "file_extension": ".py",
   "mimetype": "text/x-python",
   "name": "python",
   "nbconvert_exporter": "python",
   "pygments_lexer": "ipython3",
   "version": "3.8.10"
  },
  "orig_nbformat": 4
 },
 "nbformat": 4,
 "nbformat_minor": 2
}
